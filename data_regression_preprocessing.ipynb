{
 "cells": [
  {
   "cell_type": "code",
   "execution_count": 1,
   "id": "f5d6e0f5",
   "metadata": {
    "execution": {
     "iopub.execute_input": "2024-02-27T20:36:15.035466Z",
     "iopub.status.busy": "2024-02-27T20:36:15.035466Z",
     "iopub.status.idle": "2024-02-27T20:36:23.581271Z",
     "shell.execute_reply": "2024-02-27T20:36:23.580147Z"
    },
    "papermill": {
     "duration": 8.554346,
     "end_time": "2024-02-27T20:36:23.583279",
     "exception": false,
     "start_time": "2024-02-27T20:36:15.028933",
     "status": "completed"
    },
    "tags": []
   },
   "outputs": [],
   "source": [
    "!pip3 install -q pandas==2.1.0\n",
    "!pip3 install -q numpy==1.22.4"
   ]
  },
  {
   "cell_type": "code",
   "execution_count": 2,
   "id": "ddeb6e05",
   "metadata": {
    "execution": {
     "iopub.execute_input": "2024-02-27T20:36:23.591031Z",
     "iopub.status.busy": "2024-02-27T20:36:23.591031Z",
     "iopub.status.idle": "2024-02-27T20:36:24.096787Z",
     "shell.execute_reply": "2024-02-27T20:36:24.095782Z"
    },
    "papermill": {
     "duration": 0.512,
     "end_time": "2024-02-27T20:36:24.098786",
     "exception": false,
     "start_time": "2024-02-27T20:36:23.586786",
     "status": "completed"
    },
    "tags": []
   },
   "outputs": [],
   "source": [
    "import pandas as pd\n",
    "import numpy as np\n",
    "\n",
    "import os"
   ]
  },
  {
   "cell_type": "markdown",
   "id": "5a8d2ad5",
   "metadata": {
    "papermill": {
     "duration": 0.003507,
     "end_time": "2024-02-27T20:36:24.105576",
     "exception": false,
     "start_time": "2024-02-27T20:36:24.102069",
     "status": "completed"
    },
    "tags": []
   },
   "source": [
    "# Чтение данных"
   ]
  },
  {
   "cell_type": "code",
   "execution_count": 3,
   "id": "d0146691",
   "metadata": {
    "execution": {
     "iopub.execute_input": "2024-02-27T20:36:24.113960Z",
     "iopub.status.busy": "2024-02-27T20:36:24.112955Z",
     "iopub.status.idle": "2024-02-27T20:36:24.158763Z",
     "shell.execute_reply": "2024-02-27T20:36:24.157759Z"
    },
    "papermill": {
     "duration": 0.052237,
     "end_time": "2024-02-27T20:36:24.160814",
     "exception": false,
     "start_time": "2024-02-27T20:36:24.108577",
     "status": "completed"
    },
    "tags": []
   },
   "outputs": [],
   "source": [
    "path1 = '/datasets/train_cleaned.csv'\n",
    "path2 = '/datasets/test_cleaned.csv'\n",
    "\n",
    "def read_file(path):\n",
    "    df = pd.DataFrame()\n",
    "    if os.path.exists(path):\n",
    "        df = pd.read_csv(path, sep=',')\n",
    "    elif os.path.exists(path[1:]):\n",
    "        df = pd.read_csv(path[1:], sep=',')\n",
    "    else:\n",
    "        print('No such file or directory') \n",
    "        raise FileNotFoundError('No such file or directory')\n",
    "    return df\n",
    "\n",
    "df_train_cl = read_file(path1)\n",
    "df_test_cl = read_file(path2)"
   ]
  },
  {
   "cell_type": "markdown",
   "id": "a97073a9",
   "metadata": {
    "papermill": {
     "duration": 0.003001,
     "end_time": "2024-02-27T20:36:24.167822",
     "exception": false,
     "start_time": "2024-02-27T20:36:24.164821",
     "status": "completed"
    },
    "tags": []
   },
   "source": [
    "# Препроцессинг данных"
   ]
  },
  {
   "cell_type": "code",
   "execution_count": 4,
   "id": "e788eb7e",
   "metadata": {
    "execution": {
     "iopub.execute_input": "2024-02-27T20:36:24.176615Z",
     "iopub.status.busy": "2024-02-27T20:36:24.176112Z",
     "iopub.status.idle": "2024-02-27T20:36:24.204524Z",
     "shell.execute_reply": "2024-02-27T20:36:24.203516Z"
    },
    "papermill": {
     "duration": 0.035414,
     "end_time": "2024-02-27T20:36:24.206525",
     "exception": false,
     "start_time": "2024-02-27T20:36:24.171111",
     "status": "completed"
    },
    "tags": []
   },
   "outputs": [
    {
     "name": "stdout",
     "output_type": "stream",
     "text": [
      "<class 'pandas.core.frame.DataFrame'>\n",
      "RangeIndex: 8673 entries, 0 to 8672\n",
      "Data columns (total 13 columns):\n",
      " #   Column        Non-Null Count  Dtype  \n",
      "---  ------        --------------  -----  \n",
      " 0   HomePlanet    8673 non-null   object \n",
      " 1   CryoSleep     8673 non-null   bool   \n",
      " 2   Cabin         8673 non-null   object \n",
      " 3   Destination   8673 non-null   object \n",
      " 4   Age           8673 non-null   float64\n",
      " 5   VIP           8673 non-null   bool   \n",
      " 6   RoomService   8673 non-null   float64\n",
      " 7   FoodCourt     8673 non-null   float64\n",
      " 8   ShoppingMall  8673 non-null   float64\n",
      " 9   Spa           8673 non-null   float64\n",
      " 10  VRDeck        8673 non-null   float64\n",
      " 11  Transported   8673 non-null   bool   \n",
      " 12  has_services  8673 non-null   bool   \n",
      "dtypes: bool(4), float64(6), object(3)\n",
      "memory usage: 643.8+ KB\n"
     ]
    }
   ],
   "source": [
    "df_train_cl.info()"
   ]
  },
  {
   "cell_type": "code",
   "execution_count": 5,
   "id": "2da11e1c",
   "metadata": {
    "execution": {
     "iopub.execute_input": "2024-02-27T20:36:24.216036Z",
     "iopub.status.busy": "2024-02-27T20:36:24.215036Z",
     "iopub.status.idle": "2024-02-27T20:36:24.235069Z",
     "shell.execute_reply": "2024-02-27T20:36:24.233957Z"
    },
    "papermill": {
     "duration": 0.026041,
     "end_time": "2024-02-27T20:36:24.237079",
     "exception": false,
     "start_time": "2024-02-27T20:36:24.211038",
     "status": "completed"
    },
    "tags": []
   },
   "outputs": [
    {
     "name": "stdout",
     "output_type": "stream",
     "text": [
      "<class 'pandas.core.frame.DataFrame'>\n",
      "RangeIndex: 3355 entries, 0 to 3354\n",
      "Data columns (total 12 columns):\n",
      " #   Column        Non-Null Count  Dtype  \n",
      "---  ------        --------------  -----  \n",
      " 0   HomePlanet    3355 non-null   object \n",
      " 1   CryoSleep     3355 non-null   int32  \n",
      " 2   Cabin         3355 non-null   object \n",
      " 3   Destination   3355 non-null   object \n",
      " 4   Age           3355 non-null   float64\n",
      " 5   VIP           3355 non-null   int32  \n",
      " 6   RoomService   3355 non-null   float64\n",
      " 7   FoodCourt     3355 non-null   float64\n",
      " 8   ShoppingMall  3355 non-null   float64\n",
      " 9   Spa           3355 non-null   float64\n",
      " 10  VRDeck        3355 non-null   float64\n",
      " 11  has_services  3355 non-null   int32  \n",
      "dtypes: float64(6), int32(3), object(3)\n",
      "memory usage: 275.3+ KB\n"
     ]
    }
   ],
   "source": [
    "df_test_cl['CryoSleep'] = df_test_cl['CryoSleep'].astype(int)\n",
    "df_test_cl['VIP'] = df_test_cl['VIP'].astype(int)\n",
    "df_test_cl['has_services'] = df_test_cl['has_services'].astype(int)\n",
    "df_test_cl.info()"
   ]
  },
  {
   "cell_type": "code",
   "execution_count": 6,
   "id": "6b58850e",
   "metadata": {
    "execution": {
     "iopub.execute_input": "2024-02-27T20:36:24.246443Z",
     "iopub.status.busy": "2024-02-27T20:36:24.246443Z",
     "iopub.status.idle": "2024-02-27T20:36:24.266411Z",
     "shell.execute_reply": "2024-02-27T20:36:24.265326Z"
    },
    "papermill": {
     "duration": 0.027318,
     "end_time": "2024-02-27T20:36:24.268426",
     "exception": false,
     "start_time": "2024-02-27T20:36:24.241108",
     "status": "completed"
    },
    "tags": []
   },
   "outputs": [
    {
     "data": {
      "text/plain": [
       "['HomePlanet', 'Cabin', 'Destination']"
      ]
     },
     "execution_count": 6,
     "metadata": {},
     "output_type": "execute_result"
    }
   ],
   "source": [
    "categorical_features = df_train_cl.select_dtypes(include=['object']).columns.tolist()\n",
    "categorical_features"
   ]
  },
  {
   "cell_type": "code",
   "execution_count": 7,
   "id": "0bb4a351",
   "metadata": {
    "execution": {
     "iopub.execute_input": "2024-02-27T20:36:24.278508Z",
     "iopub.status.busy": "2024-02-27T20:36:24.277443Z",
     "iopub.status.idle": "2024-02-27T20:36:24.313037Z",
     "shell.execute_reply": "2024-02-27T20:36:24.313037Z"
    },
    "papermill": {
     "duration": 0.042378,
     "end_time": "2024-02-27T20:36:24.315311",
     "exception": false,
     "start_time": "2024-02-27T20:36:24.272933",
     "status": "completed"
    },
    "tags": []
   },
   "outputs": [
    {
     "data": {
      "text/html": [
       "<div>\n",
       "<style scoped>\n",
       "    .dataframe tbody tr th:only-of-type {\n",
       "        vertical-align: middle;\n",
       "    }\n",
       "\n",
       "    .dataframe tbody tr th {\n",
       "        vertical-align: top;\n",
       "    }\n",
       "\n",
       "    .dataframe thead th {\n",
       "        text-align: right;\n",
       "    }\n",
       "</style>\n",
       "<table border=\"1\" class=\"dataframe\">\n",
       "  <thead>\n",
       "    <tr style=\"text-align: right;\">\n",
       "      <th></th>\n",
       "      <th>CryoSleep</th>\n",
       "      <th>Age</th>\n",
       "      <th>VIP</th>\n",
       "      <th>RoomService</th>\n",
       "      <th>FoodCourt</th>\n",
       "      <th>ShoppingMall</th>\n",
       "      <th>Spa</th>\n",
       "      <th>VRDeck</th>\n",
       "      <th>Transported</th>\n",
       "      <th>has_services</th>\n",
       "      <th>HomePlanet_Europa</th>\n",
       "      <th>HomePlanet_Mars</th>\n",
       "      <th>Cabin_S</th>\n",
       "      <th>Destination_PSO J318.5-22</th>\n",
       "      <th>Destination_TRAPPIST-1e</th>\n",
       "    </tr>\n",
       "  </thead>\n",
       "  <tbody>\n",
       "    <tr>\n",
       "      <th>0</th>\n",
       "      <td>False</td>\n",
       "      <td>39.0</td>\n",
       "      <td>False</td>\n",
       "      <td>0.0</td>\n",
       "      <td>0.0</td>\n",
       "      <td>0.0</td>\n",
       "      <td>0.0</td>\n",
       "      <td>0.0</td>\n",
       "      <td>False</td>\n",
       "      <td>False</td>\n",
       "      <td>True</td>\n",
       "      <td>False</td>\n",
       "      <td>False</td>\n",
       "      <td>False</td>\n",
       "      <td>True</td>\n",
       "    </tr>\n",
       "    <tr>\n",
       "      <th>1</th>\n",
       "      <td>False</td>\n",
       "      <td>24.0</td>\n",
       "      <td>False</td>\n",
       "      <td>109.0</td>\n",
       "      <td>9.0</td>\n",
       "      <td>25.0</td>\n",
       "      <td>549.0</td>\n",
       "      <td>44.0</td>\n",
       "      <td>True</td>\n",
       "      <td>True</td>\n",
       "      <td>False</td>\n",
       "      <td>False</td>\n",
       "      <td>True</td>\n",
       "      <td>False</td>\n",
       "      <td>True</td>\n",
       "    </tr>\n",
       "    <tr>\n",
       "      <th>2</th>\n",
       "      <td>False</td>\n",
       "      <td>58.0</td>\n",
       "      <td>True</td>\n",
       "      <td>43.0</td>\n",
       "      <td>3576.0</td>\n",
       "      <td>0.0</td>\n",
       "      <td>6715.0</td>\n",
       "      <td>49.0</td>\n",
       "      <td>False</td>\n",
       "      <td>True</td>\n",
       "      <td>True</td>\n",
       "      <td>False</td>\n",
       "      <td>True</td>\n",
       "      <td>False</td>\n",
       "      <td>True</td>\n",
       "    </tr>\n",
       "    <tr>\n",
       "      <th>3</th>\n",
       "      <td>False</td>\n",
       "      <td>33.0</td>\n",
       "      <td>False</td>\n",
       "      <td>0.0</td>\n",
       "      <td>1283.0</td>\n",
       "      <td>371.0</td>\n",
       "      <td>3329.0</td>\n",
       "      <td>193.0</td>\n",
       "      <td>False</td>\n",
       "      <td>True</td>\n",
       "      <td>True</td>\n",
       "      <td>False</td>\n",
       "      <td>True</td>\n",
       "      <td>False</td>\n",
       "      <td>True</td>\n",
       "    </tr>\n",
       "    <tr>\n",
       "      <th>4</th>\n",
       "      <td>False</td>\n",
       "      <td>16.0</td>\n",
       "      <td>False</td>\n",
       "      <td>303.0</td>\n",
       "      <td>70.0</td>\n",
       "      <td>151.0</td>\n",
       "      <td>565.0</td>\n",
       "      <td>2.0</td>\n",
       "      <td>True</td>\n",
       "      <td>True</td>\n",
       "      <td>False</td>\n",
       "      <td>False</td>\n",
       "      <td>True</td>\n",
       "      <td>False</td>\n",
       "      <td>True</td>\n",
       "    </tr>\n",
       "  </tbody>\n",
       "</table>\n",
       "</div>"
      ],
      "text/plain": [
       "   CryoSleep   Age    VIP  RoomService  FoodCourt  ShoppingMall     Spa  \\\n",
       "0      False  39.0  False          0.0        0.0           0.0     0.0   \n",
       "1      False  24.0  False        109.0        9.0          25.0   549.0   \n",
       "2      False  58.0   True         43.0     3576.0           0.0  6715.0   \n",
       "3      False  33.0  False          0.0     1283.0         371.0  3329.0   \n",
       "4      False  16.0  False        303.0       70.0         151.0   565.0   \n",
       "\n",
       "   VRDeck  Transported  has_services  HomePlanet_Europa  HomePlanet_Mars  \\\n",
       "0     0.0        False         False               True            False   \n",
       "1    44.0         True          True              False            False   \n",
       "2    49.0        False          True               True            False   \n",
       "3   193.0        False          True               True            False   \n",
       "4     2.0         True          True              False            False   \n",
       "\n",
       "   Cabin_S  Destination_PSO J318.5-22  Destination_TRAPPIST-1e  \n",
       "0    False                      False                     True  \n",
       "1     True                      False                     True  \n",
       "2     True                      False                     True  \n",
       "3     True                      False                     True  \n",
       "4     True                      False                     True  "
      ]
     },
     "execution_count": 7,
     "metadata": {},
     "output_type": "execute_result"
    }
   ],
   "source": [
    "df_train_cl = pd.get_dummies(df_train_cl, columns=categorical_features, drop_first=True).reset_index(drop=True)\n",
    "df_train_cl.reset_index(drop=True, inplace=True)\n",
    "\n",
    "df_train_cl.head()"
   ]
  },
  {
   "cell_type": "code",
   "execution_count": 8,
   "id": "65ed2a5f",
   "metadata": {
    "execution": {
     "iopub.execute_input": "2024-02-27T20:36:24.324144Z",
     "iopub.status.busy": "2024-02-27T20:36:24.324144Z",
     "iopub.status.idle": "2024-02-27T20:36:24.361513Z",
     "shell.execute_reply": "2024-02-27T20:36:24.360082Z"
    },
    "papermill": {
     "duration": 0.043712,
     "end_time": "2024-02-27T20:36:24.363526",
     "exception": false,
     "start_time": "2024-02-27T20:36:24.319814",
     "status": "completed"
    },
    "tags": []
   },
   "outputs": [
    {
     "data": {
      "text/html": [
       "<div>\n",
       "<style scoped>\n",
       "    .dataframe tbody tr th:only-of-type {\n",
       "        vertical-align: middle;\n",
       "    }\n",
       "\n",
       "    .dataframe tbody tr th {\n",
       "        vertical-align: top;\n",
       "    }\n",
       "\n",
       "    .dataframe thead th {\n",
       "        text-align: right;\n",
       "    }\n",
       "</style>\n",
       "<table border=\"1\" class=\"dataframe\">\n",
       "  <thead>\n",
       "    <tr style=\"text-align: right;\">\n",
       "      <th></th>\n",
       "      <th>CryoSleep</th>\n",
       "      <th>Age</th>\n",
       "      <th>VIP</th>\n",
       "      <th>RoomService</th>\n",
       "      <th>FoodCourt</th>\n",
       "      <th>ShoppingMall</th>\n",
       "      <th>Spa</th>\n",
       "      <th>VRDeck</th>\n",
       "      <th>has_services</th>\n",
       "      <th>HomePlanet_Europa</th>\n",
       "      <th>HomePlanet_Mars</th>\n",
       "      <th>Cabin_S</th>\n",
       "      <th>Destination_PSO J318.5-22</th>\n",
       "      <th>Destination_TRAPPIST-1e</th>\n",
       "    </tr>\n",
       "  </thead>\n",
       "  <tbody>\n",
       "    <tr>\n",
       "      <th>0</th>\n",
       "      <td>1</td>\n",
       "      <td>27.0</td>\n",
       "      <td>0</td>\n",
       "      <td>0.0</td>\n",
       "      <td>0.0</td>\n",
       "      <td>0.0</td>\n",
       "      <td>0.0</td>\n",
       "      <td>0.0</td>\n",
       "      <td>0</td>\n",
       "      <td>False</td>\n",
       "      <td>False</td>\n",
       "      <td>True</td>\n",
       "      <td>False</td>\n",
       "      <td>True</td>\n",
       "    </tr>\n",
       "    <tr>\n",
       "      <th>1</th>\n",
       "      <td>0</td>\n",
       "      <td>19.0</td>\n",
       "      <td>0</td>\n",
       "      <td>0.0</td>\n",
       "      <td>9.0</td>\n",
       "      <td>0.0</td>\n",
       "      <td>2823.0</td>\n",
       "      <td>0.0</td>\n",
       "      <td>1</td>\n",
       "      <td>False</td>\n",
       "      <td>False</td>\n",
       "      <td>True</td>\n",
       "      <td>False</td>\n",
       "      <td>True</td>\n",
       "    </tr>\n",
       "    <tr>\n",
       "      <th>2</th>\n",
       "      <td>1</td>\n",
       "      <td>31.0</td>\n",
       "      <td>0</td>\n",
       "      <td>0.0</td>\n",
       "      <td>0.0</td>\n",
       "      <td>0.0</td>\n",
       "      <td>0.0</td>\n",
       "      <td>0.0</td>\n",
       "      <td>0</td>\n",
       "      <td>True</td>\n",
       "      <td>False</td>\n",
       "      <td>True</td>\n",
       "      <td>False</td>\n",
       "      <td>False</td>\n",
       "    </tr>\n",
       "    <tr>\n",
       "      <th>3</th>\n",
       "      <td>0</td>\n",
       "      <td>38.0</td>\n",
       "      <td>0</td>\n",
       "      <td>0.0</td>\n",
       "      <td>6652.0</td>\n",
       "      <td>0.0</td>\n",
       "      <td>181.0</td>\n",
       "      <td>585.0</td>\n",
       "      <td>1</td>\n",
       "      <td>True</td>\n",
       "      <td>False</td>\n",
       "      <td>True</td>\n",
       "      <td>False</td>\n",
       "      <td>True</td>\n",
       "    </tr>\n",
       "    <tr>\n",
       "      <th>4</th>\n",
       "      <td>0</td>\n",
       "      <td>20.0</td>\n",
       "      <td>0</td>\n",
       "      <td>10.0</td>\n",
       "      <td>0.0</td>\n",
       "      <td>635.0</td>\n",
       "      <td>0.0</td>\n",
       "      <td>0.0</td>\n",
       "      <td>1</td>\n",
       "      <td>False</td>\n",
       "      <td>False</td>\n",
       "      <td>True</td>\n",
       "      <td>False</td>\n",
       "      <td>True</td>\n",
       "    </tr>\n",
       "  </tbody>\n",
       "</table>\n",
       "</div>"
      ],
      "text/plain": [
       "   CryoSleep   Age  VIP  RoomService  FoodCourt  ShoppingMall     Spa  VRDeck  \\\n",
       "0          1  27.0    0          0.0        0.0           0.0     0.0     0.0   \n",
       "1          0  19.0    0          0.0        9.0           0.0  2823.0     0.0   \n",
       "2          1  31.0    0          0.0        0.0           0.0     0.0     0.0   \n",
       "3          0  38.0    0          0.0     6652.0           0.0   181.0   585.0   \n",
       "4          0  20.0    0         10.0        0.0         635.0     0.0     0.0   \n",
       "\n",
       "   has_services  HomePlanet_Europa  HomePlanet_Mars  Cabin_S  \\\n",
       "0             0              False            False     True   \n",
       "1             1              False            False     True   \n",
       "2             0               True            False     True   \n",
       "3             1               True            False     True   \n",
       "4             1              False            False     True   \n",
       "\n",
       "   Destination_PSO J318.5-22  Destination_TRAPPIST-1e  \n",
       "0                      False                     True  \n",
       "1                      False                     True  \n",
       "2                      False                    False  \n",
       "3                      False                     True  \n",
       "4                      False                     True  "
      ]
     },
     "execution_count": 8,
     "metadata": {},
     "output_type": "execute_result"
    }
   ],
   "source": [
    "df_test_cl = pd.get_dummies(df_test_cl, columns=categorical_features, drop_first=True).reset_index(drop=True)\n",
    "df_test_cl.reset_index(drop=True, inplace=True)\n",
    "\n",
    "df_test_cl.head()"
   ]
  },
  {
   "cell_type": "markdown",
   "id": "ac9eda32",
   "metadata": {
    "papermill": {
     "duration": 0.004015,
     "end_time": "2024-02-27T20:36:24.372107",
     "exception": false,
     "start_time": "2024-02-27T20:36:24.368092",
     "status": "completed"
    },
    "tags": []
   },
   "source": [
    "---"
   ]
  },
  {
   "cell_type": "code",
   "execution_count": 9,
   "id": "95b2c114",
   "metadata": {
    "execution": {
     "iopub.execute_input": "2024-02-27T20:36:24.381152Z",
     "iopub.status.busy": "2024-02-27T20:36:24.381152Z",
     "iopub.status.idle": "2024-02-27T20:36:24.392163Z",
     "shell.execute_reply": "2024-02-27T20:36:24.391163Z"
    },
    "papermill": {
     "duration": 0.01844,
     "end_time": "2024-02-27T20:36:24.393675",
     "exception": false,
     "start_time": "2024-02-27T20:36:24.375235",
     "status": "completed"
    },
    "tags": []
   },
   "outputs": [],
   "source": [
    "new_directory = 'datasets/regression'\n",
    "\n",
    "os.makedirs(new_directory, exist_ok=True)"
   ]
  },
  {
   "cell_type": "code",
   "execution_count": 10,
   "id": "0c5cb7b8",
   "metadata": {
    "execution": {
     "iopub.execute_input": "2024-02-27T20:36:24.404450Z",
     "iopub.status.busy": "2024-02-27T20:36:24.404450Z",
     "iopub.status.idle": "2024-02-27T20:36:24.485298Z",
     "shell.execute_reply": "2024-02-27T20:36:24.484175Z"
    },
    "papermill": {
     "duration": 0.088479,
     "end_time": "2024-02-27T20:36:24.487407",
     "exception": false,
     "start_time": "2024-02-27T20:36:24.398928",
     "status": "completed"
    },
    "tags": []
   },
   "outputs": [],
   "source": [
    "path1 = 'datasets/regression/train_log.csv'\n",
    "path2 = 'datasets/regression/test_log.csv'\n",
    "\n",
    "df_train_cl.to_csv(path1, index=False)\n",
    "df_test_cl.to_csv(path2, index=False)"
   ]
  },
  {
   "cell_type": "code",
   "execution_count": null,
   "id": "81de4829",
   "metadata": {
    "papermill": {
     "duration": 0.004026,
     "end_time": "2024-02-27T20:36:24.497064",
     "exception": false,
     "start_time": "2024-02-27T20:36:24.493038",
     "status": "completed"
    },
    "tags": []
   },
   "outputs": [],
   "source": []
  }
 ],
 "metadata": {
  "kernelspec": {
   "display_name": "yandex",
   "language": "python",
   "name": "yandex"
  },
  "language_info": {
   "codemirror_mode": {
    "name": "ipython",
    "version": 3
   },
   "file_extension": ".py",
   "mimetype": "text/x-python",
   "name": "python",
   "nbconvert_exporter": "python",
   "pygments_lexer": "ipython3",
   "version": "3.10.13"
  },
  "papermill": {
   "default_parameters": {},
   "duration": 11.612954,
   "end_time": "2024-02-27T20:36:24.857472",
   "environment_variables": {},
   "exception": null,
   "input_path": "D:\\Practicum\\Projects\\Data_Science\\data_regression_preprocessing.ipynb",
   "output_path": "D:\\Practicum\\Projects\\Data_Science\\data_regression_preprocessing.ipynb",
   "parameters": {},
   "start_time": "2024-02-27T20:36:13.244518",
   "version": "2.4.0"
  }
 },
 "nbformat": 4,
 "nbformat_minor": 5
}