{
 "cells": [
  {
   "cell_type": "code",
   "execution_count": null,
   "id": "f5d6e0f5",
   "metadata": {
    "execution": {
     "iopub.execute_input": "2023-12-14T22:16:29.893928Z",
     "iopub.status.busy": "2023-12-14T22:16:29.893928Z",
     "iopub.status.idle": "2023-12-14T22:16:34.249917Z",
     "shell.execute_reply": "2023-12-14T22:16:34.249917Z"
    },
    "papermill": {
     "duration": 4.361308,
     "end_time": "2023-12-14T22:16:34.251269",
     "exception": false,
     "start_time": "2023-12-14T22:16:29.889961",
     "status": "completed"
    },
    "tags": []
   },
   "outputs": [],
   "source": [
    "!pip3 install -q pandas==2.1.0\n",
    "!pip3 install -q numpy==1.22.4"
   ]
  },
  {
   "cell_type": "code",
   "execution_count": null,
   "id": "ddeb6e05",
   "metadata": {
    "execution": {
     "iopub.execute_input": "2023-12-14T22:16:34.254305Z",
     "iopub.status.busy": "2023-12-14T22:16:34.254305Z",
     "iopub.status.idle": "2023-12-14T22:16:34.676355Z",
     "shell.execute_reply": "2023-12-14T22:16:34.676355Z"
    },
    "papermill": {
     "duration": 0.4237,
     "end_time": "2023-12-14T22:16:34.678005",
     "exception": false,
     "start_time": "2023-12-14T22:16:34.254305",
     "status": "completed"
    },
    "tags": []
   },
   "outputs": [],
   "source": [
    "import pandas as pd\n",
    "import numpy as np\n",
    "\n",
    "import os"
   ]
  },
  {
   "cell_type": "markdown",
   "id": "5a8d2ad5",
   "metadata": {
    "papermill": {
     "duration": 0.004028,
     "end_time": "2023-12-14T22:16:34.682033",
     "exception": false,
     "start_time": "2023-12-14T22:16:34.678005",
     "status": "completed"
    },
    "tags": []
   },
   "source": [
    "# Чтение данных"
   ]
  },
  {
   "cell_type": "code",
   "execution_count": null,
   "id": "d0146691",
   "metadata": {
    "execution": {
     "iopub.execute_input": "2023-12-14T22:16:34.682033Z",
     "iopub.status.busy": "2023-12-14T22:16:34.682033Z",
     "iopub.status.idle": "2023-12-14T22:16:34.722292Z",
     "shell.execute_reply": "2023-12-14T22:16:34.722292Z"
    },
    "papermill": {
     "duration": 0.040259,
     "end_time": "2023-12-14T22:16:34.722292",
     "exception": false,
     "start_time": "2023-12-14T22:16:34.682033",
     "status": "completed"
    },
    "tags": []
   },
   "outputs": [],
   "source": [
    "path1 = '/datasets/train_cleaned.csv'\n",
    "path2 = '/datasets/test_cleaned.csv'\n",
    "\n",
    "def read_file(path):\n",
    "    df = pd.DataFrame()\n",
    "    if os.path.exists(path):\n",
    "        df = pd.read_csv(path, sep=',')\n",
    "    elif os.path.exists(path[1:]):\n",
    "        df = pd.read_csv(path[1:], sep=',')\n",
    "    else:\n",
    "        print('No such file or directory') \n",
    "        raise FileNotFoundError('No such file or directory')\n",
    "    return df\n",
    "\n",
    "df_train_cl = read_file(path1)\n",
    "df_test_cl = read_file(path2)"
   ]
  },
  {
   "cell_type": "markdown",
   "id": "a97073a9",
   "metadata": {
    "papermill": {
     "duration": 0,
     "end_time": "2023-12-14T22:16:34.727306",
     "exception": false,
     "start_time": "2023-12-14T22:16:34.727306",
     "status": "completed"
    },
    "tags": []
   },
   "source": [
    "# Препроцессинг данных"
   ]
  },
  {
   "cell_type": "code",
   "execution_count": null,
   "id": "e788eb7e",
   "metadata": {
    "execution": {
     "iopub.execute_input": "2023-12-14T22:16:34.731820Z",
     "iopub.status.busy": "2023-12-14T22:16:34.731820Z",
     "iopub.status.idle": "2023-12-14T22:16:34.755013Z",
     "shell.execute_reply": "2023-12-14T22:16:34.753785Z"
    },
    "papermill": {
     "duration": 0.025076,
     "end_time": "2023-12-14T22:16:34.756896",
     "exception": false,
     "start_time": "2023-12-14T22:16:34.731820",
     "status": "completed"
    },
    "tags": []
   },
   "outputs": [],
   "source": [
    "df_train_cl.info()"
   ]
  },
  {
   "cell_type": "code",
   "execution_count": null,
   "id": "2da11e1c",
   "metadata": {
    "execution": {
     "iopub.execute_input": "2023-12-14T22:16:34.761914Z",
     "iopub.status.busy": "2023-12-14T22:16:34.761914Z",
     "iopub.status.idle": "2023-12-14T22:16:34.786318Z",
     "shell.execute_reply": "2023-12-14T22:16:34.785318Z"
    },
    "papermill": {
     "duration": 0.030422,
     "end_time": "2023-12-14T22:16:34.787318",
     "exception": false,
     "start_time": "2023-12-14T22:16:34.756896",
     "status": "completed"
    },
    "tags": []
   },
   "outputs": [],
   "source": [
    "df_test_cl['CryoSleep'] = df_test_cl['CryoSleep'].astype(int)\n",
    "df_test_cl['VIP'] = df_test_cl['VIP'].astype(int)\n",
    "df_test_cl['has_services'] = df_test_cl['has_services'].astype(int)\n",
    "df_test_cl.info()"
   ]
  },
  {
   "cell_type": "code",
   "execution_count": null,
   "id": "6b58850e",
   "metadata": {
    "execution": {
     "iopub.execute_input": "2023-12-14T22:16:34.793920Z",
     "iopub.status.busy": "2023-12-14T22:16:34.792845Z",
     "iopub.status.idle": "2023-12-14T22:16:34.802022Z",
     "shell.execute_reply": "2023-12-14T22:16:34.802022Z"
    },
    "papermill": {
     "duration": 0.011705,
     "end_time": "2023-12-14T22:16:34.802022",
     "exception": false,
     "start_time": "2023-12-14T22:16:34.790317",
     "status": "completed"
    },
    "tags": []
   },
   "outputs": [],
   "source": [
    "categorical_features = df_train_cl.select_dtypes(include=['object']).columns.tolist()\n",
    "categorical_features"
   ]
  },
  {
   "cell_type": "code",
   "execution_count": null,
   "id": "0bb4a351",
   "metadata": {
    "execution": {
     "iopub.execute_input": "2023-12-14T22:16:34.811947Z",
     "iopub.status.busy": "2023-12-14T22:16:34.809935Z",
     "iopub.status.idle": "2023-12-14T22:16:34.841849Z",
     "shell.execute_reply": "2023-12-14T22:16:34.841341Z"
    },
    "papermill": {
     "duration": 0.039827,
     "end_time": "2023-12-14T22:16:34.841849",
     "exception": false,
     "start_time": "2023-12-14T22:16:34.802022",
     "status": "completed"
    },
    "tags": []
   },
   "outputs": [],
   "source": [
    "df_train_cl = pd.get_dummies(df_train_cl, columns=categorical_features, drop_first=True).reset_index(drop=True)\n",
    "df_train_cl.reset_index(drop=True, inplace=True)\n",
    "\n",
    "df_train_cl.head()"
   ]
  },
  {
   "cell_type": "code",
   "execution_count": null,
   "id": "65ed2a5f",
   "metadata": {
    "execution": {
     "iopub.execute_input": "2023-12-14T22:16:34.841849Z",
     "iopub.status.busy": "2023-12-14T22:16:34.841849Z",
     "iopub.status.idle": "2023-12-14T22:16:34.873189Z",
     "shell.execute_reply": "2023-12-14T22:16:34.873189Z"
    },
    "papermill": {
     "duration": 0.03134,
     "end_time": "2023-12-14T22:16:34.873189",
     "exception": false,
     "start_time": "2023-12-14T22:16:34.841849",
     "status": "completed"
    },
    "tags": []
   },
   "outputs": [],
   "source": [
    "df_test_cl = pd.get_dummies(df_test_cl, columns=categorical_features, drop_first=True).reset_index(drop=True)\n",
    "df_test_cl.reset_index(drop=True, inplace=True)\n",
    "\n",
    "df_test_cl.head()"
   ]
  },
  {
   "cell_type": "markdown",
   "id": "ac9eda32",
   "metadata": {
    "papermill": {
     "duration": 0.009023,
     "end_time": "2023-12-14T22:16:34.882212",
     "exception": false,
     "start_time": "2023-12-14T22:16:34.873189",
     "status": "completed"
    },
    "tags": []
   },
   "source": [
    "---"
   ]
  },
  {
   "cell_type": "code",
   "execution_count": null,
   "id": "95b2c114",
   "metadata": {
    "execution": {
     "iopub.execute_input": "2023-12-14T22:16:34.891967Z",
     "iopub.status.busy": "2023-12-14T22:16:34.891967Z",
     "iopub.status.idle": "2023-12-14T22:16:34.904954Z",
     "shell.execute_reply": "2023-12-14T22:16:34.904954Z"
    },
    "papermill": {
     "duration": 0.015998,
     "end_time": "2023-12-14T22:16:34.904954",
     "exception": false,
     "start_time": "2023-12-14T22:16:34.888956",
     "status": "completed"
    },
    "tags": []
   },
   "outputs": [],
   "source": [
    "new_directory = 'datasets/regression'\n",
    "\n",
    "os.makedirs(new_directory, exist_ok=True)"
   ]
  },
  {
   "cell_type": "code",
   "execution_count": null,
   "id": "0c5cb7b8",
   "metadata": {
    "execution": {
     "iopub.execute_input": "2023-12-14T22:16:34.920709Z",
     "iopub.status.busy": "2023-12-14T22:16:34.920709Z",
     "iopub.status.idle": "2023-12-14T22:16:34.983279Z",
     "shell.execute_reply": "2023-12-14T22:16:34.983279Z"
    },
    "papermill": {
     "duration": 0.07359,
     "end_time": "2023-12-14T22:16:34.985559",
     "exception": false,
     "start_time": "2023-12-14T22:16:34.911969",
     "status": "completed"
    },
    "tags": []
   },
   "outputs": [],
   "source": [
    "path1 = 'datasets/regression/train_log.csv'\n",
    "path2 = 'datasets/regression/test_log.csv'\n",
    "\n",
    "df_train_cl.to_csv(path1, index=False)\n",
    "df_test_cl.to_csv(path2, index=False)"
   ]
  },
  {
   "cell_type": "code",
   "execution_count": null,
   "id": "81de4829",
   "metadata": {
    "papermill": {
     "duration": 0.004029,
     "end_time": "2023-12-14T22:16:34.991219",
     "exception": false,
     "start_time": "2023-12-14T22:16:34.987190",
     "status": "completed"
    },
    "tags": []
   },
   "outputs": [],
   "source": []
  }
 ],
 "metadata": {
  "kernelspec": {
   "display_name": "yandex",
   "language": "python",
   "name": "yandex"
  },
  "language_info": {
   "codemirror_mode": {
    "name": "ipython",
    "version": 3
   },
   "file_extension": ".py",
   "mimetype": "text/x-python",
   "name": "python",
   "nbconvert_exporter": "python",
   "pygments_lexer": "ipython3",
   "version": "3.10.13"
  },
  "papermill": {
   "default_parameters": {},
   "duration": 6.830904,
   "end_time": "2023-12-14T22:16:35.459774",
   "environment_variables": {},
   "exception": null,
   "input_path": "D:\\Yandex_practicum\\Projects\\Data_Science\\data_regression_preprocessing.ipynb",
   "output_path": "D:\\Yandex_practicum\\Projects\\Data_Science\\data_regression_preprocessing.ipynb",
   "parameters": {},
   "start_time": "2023-12-14T22:16:28.628870",
   "version": "2.4.0"
  }
 },
 "nbformat": 4,
 "nbformat_minor": 5
}
