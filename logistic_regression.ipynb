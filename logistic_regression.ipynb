{
 "cells": [
  {
   "cell_type": "code",
   "execution_count": 1,
   "id": "4019a6b7",
   "metadata": {
    "execution": {
     "iopub.execute_input": "2023-12-14T23:12:10.669862Z",
     "iopub.status.busy": "2023-12-14T23:12:10.669862Z",
     "iopub.status.idle": "2023-12-14T23:12:19.038332Z",
     "shell.execute_reply": "2023-12-14T23:12:19.037808Z"
    },
    "papermill": {
     "duration": 8.376526,
     "end_time": "2023-12-14T23:12:19.039882",
     "exception": false,
     "start_time": "2023-12-14T23:12:10.663356",
     "status": "completed"
    },
    "tags": []
   },
   "outputs": [
    {
     "name": "stdout",
     "output_type": "stream",
     "text": [
      "Requirement already satisfied: joblib in d:\\anaconda\\envs\\yandex\\lib\\site-packages (1.2.0)\n"
     ]
    }
   ],
   "source": [
    "!pip3 install -q numpy==1.22.4\n",
    "!pip3 install -q pandas==1.5.3\n",
    "!pip3 install -q scikit-learn\n",
    "!pip3 install joblib"
   ]
  },
  {
   "cell_type": "code",
   "execution_count": 2,
   "id": "43a0a75e",
   "metadata": {
    "execution": {
     "iopub.execute_input": "2023-12-14T23:12:19.050316Z",
     "iopub.status.busy": "2023-12-14T23:12:19.050316Z",
     "iopub.status.idle": "2023-12-14T23:12:20.217094Z",
     "shell.execute_reply": "2023-12-14T23:12:20.217094Z"
    },
    "papermill": {
     "duration": 1.173163,
     "end_time": "2023-12-14T23:12:20.218410",
     "exception": false,
     "start_time": "2023-12-14T23:12:19.045247",
     "status": "completed"
    },
    "tags": []
   },
   "outputs": [],
   "source": [
    "import pandas as pd\n",
    "import numpy as np\n",
    "from sklearn.linear_model import LogisticRegression\n",
    "from sklearn.model_selection import GridSearchCV, StratifiedShuffleSplit, train_test_split\n",
    "from sklearn.metrics import f1_score, roc_auc_score\n",
    "from sklearn.preprocessing import StandardScaler\n",
    "import joblib \n",
    "\n",
    "import time\n",
    "import os"
   ]
  },
  {
   "cell_type": "markdown",
   "id": "f6704502",
   "metadata": {
    "papermill": {
     "duration": 0.005588,
     "end_time": "2023-12-14T23:12:20.229196",
     "exception": false,
     "start_time": "2023-12-14T23:12:20.223608",
     "status": "completed"
    },
    "tags": []
   },
   "source": [
    "---"
   ]
  },
  {
   "cell_type": "markdown",
   "id": "3ebf0840",
   "metadata": {
    "papermill": {
     "duration": 0.004518,
     "end_time": "2023-12-14T23:12:20.235004",
     "exception": false,
     "start_time": "2023-12-14T23:12:20.230486",
     "status": "completed"
    },
    "tags": []
   },
   "source": [
    "Чтение данных"
   ]
  },
  {
   "cell_type": "code",
   "execution_count": 3,
   "id": "d680dc74",
   "metadata": {
    "execution": {
     "iopub.execute_input": "2023-12-14T23:12:20.248346Z",
     "iopub.status.busy": "2023-12-14T23:12:20.248127Z",
     "iopub.status.idle": "2023-12-14T23:12:20.284768Z",
     "shell.execute_reply": "2023-12-14T23:12:20.284768Z"
    },
    "papermill": {
     "duration": 0.044079,
     "end_time": "2023-12-14T23:12:20.285854",
     "exception": false,
     "start_time": "2023-12-14T23:12:20.241775",
     "status": "completed"
    },
    "tags": []
   },
   "outputs": [],
   "source": [
    "path1 = 'datasets/regression/train_log.csv'\n",
    "path2 = 'datasets/regression/test_log.csv'\n",
    "\n",
    "def read_file(path):\n",
    "    df = pd.DataFrame()\n",
    "    if os.path.exists(path):\n",
    "        df = pd.read_csv(path, sep=',')\n",
    "    elif os.path.exists(path[1:]):\n",
    "        df = pd.read_csv(path[1:], sep=',')\n",
    "    else:\n",
    "        print('No such file or directory') \n",
    "        raise FileNotFoundError('No such file or directory')\n",
    "    return df\n",
    "\n",
    "df_train = read_file(path1)\n",
    "df_test  = read_file(path2)"
   ]
  },
  {
   "cell_type": "markdown",
   "id": "7f456c51",
   "metadata": {
    "papermill": {
     "duration": 0.005925,
     "end_time": "2023-12-14T23:12:20.296907",
     "exception": false,
     "start_time": "2023-12-14T23:12:20.290982",
     "status": "completed"
    },
    "tags": []
   },
   "source": [
    "---"
   ]
  },
  {
   "cell_type": "markdown",
   "id": "c11e8619",
   "metadata": {
    "papermill": {
     "duration": 0.011225,
     "end_time": "2023-12-14T23:12:20.312992",
     "exception": false,
     "start_time": "2023-12-14T23:12:20.301767",
     "status": "completed"
    },
    "tags": []
   },
   "source": [
    "## Разбиение тренировочной выборки на тренировочную и владиационную"
   ]
  },
  {
   "cell_type": "code",
   "execution_count": 4,
   "id": "5118ee92",
   "metadata": {
    "execution": {
     "iopub.execute_input": "2023-12-14T23:12:20.326054Z",
     "iopub.status.busy": "2023-12-14T23:12:20.325043Z",
     "iopub.status.idle": "2023-12-14T23:12:20.333374Z",
     "shell.execute_reply": "2023-12-14T23:12:20.333374Z"
    },
    "papermill": {
     "duration": 0.014427,
     "end_time": "2023-12-14T23:12:20.333374",
     "exception": false,
     "start_time": "2023-12-14T23:12:20.318947",
     "status": "completed"
    },
    "tags": []
   },
   "outputs": [
    {
     "name": "stdout",
     "output_type": "stream",
     "text": [
      "8673\n"
     ]
    }
   ],
   "source": [
    "X_log = df_train.drop(columns=['Transported'], axis=1)\n",
    "y_log = df_train.Transported\n",
    "\n",
    "print(y_log.shape[0])"
   ]
  },
  {
   "cell_type": "code",
   "execution_count": 5,
   "id": "c0bf5248",
   "metadata": {
    "execution": {
     "iopub.execute_input": "2023-12-14T23:12:20.347210Z",
     "iopub.status.busy": "2023-12-14T23:12:20.347210Z",
     "iopub.status.idle": "2023-12-14T23:12:20.357547Z",
     "shell.execute_reply": "2023-12-14T23:12:20.357547Z"
    },
    "papermill": {
     "duration": 0.018983,
     "end_time": "2023-12-14T23:12:20.358872",
     "exception": false,
     "start_time": "2023-12-14T23:12:20.339889",
     "status": "completed"
    },
    "tags": []
   },
   "outputs": [
    {
     "name": "stdout",
     "output_type": "stream",
     "text": [
      "(6071,) (2602,)\n"
     ]
    }
   ],
   "source": [
    "X_train_log, X_val_log, y_train_log, y_val_log = \\\n",
    "        train_test_split(X_log, y_log, test_size = 0.3, shuffle=True, random_state = 42)\n",
    "\n",
    "print(y_train_log.shape, y_val_log.shape)"
   ]
  },
  {
   "cell_type": "markdown",
   "id": "cfd4f081",
   "metadata": {
    "papermill": {
     "duration": 0.006017,
     "end_time": "2023-12-14T23:12:20.369969",
     "exception": false,
     "start_time": "2023-12-14T23:12:20.363952",
     "status": "completed"
    },
    "tags": []
   },
   "source": [
    "---"
   ]
  },
  {
   "cell_type": "code",
   "execution_count": 6,
   "id": "e98881c5",
   "metadata": {
    "execution": {
     "iopub.execute_input": "2023-12-14T23:12:20.381670Z",
     "iopub.status.busy": "2023-12-14T23:12:20.380659Z",
     "iopub.status.idle": "2023-12-14T23:12:20.399985Z",
     "shell.execute_reply": "2023-12-14T23:12:20.399985Z"
    },
    "papermill": {
     "duration": 0.025752,
     "end_time": "2023-12-14T23:12:20.401308",
     "exception": false,
     "start_time": "2023-12-14T23:12:20.375556",
     "status": "completed"
    },
    "tags": []
   },
   "outputs": [
    {
     "data": {
      "text/html": [
       "<div>\n",
       "<style scoped>\n",
       "    .dataframe tbody tr th:only-of-type {\n",
       "        vertical-align: middle;\n",
       "    }\n",
       "\n",
       "    .dataframe tbody tr th {\n",
       "        vertical-align: top;\n",
       "    }\n",
       "\n",
       "    .dataframe thead th {\n",
       "        text-align: right;\n",
       "    }\n",
       "</style>\n",
       "<table border=\"1\" class=\"dataframe\">\n",
       "  <thead>\n",
       "    <tr style=\"text-align: right;\">\n",
       "      <th></th>\n",
       "      <th>CryoSleep</th>\n",
       "      <th>Age</th>\n",
       "      <th>VIP</th>\n",
       "      <th>RoomService</th>\n",
       "      <th>FoodCourt</th>\n",
       "      <th>ShoppingMall</th>\n",
       "      <th>Spa</th>\n",
       "      <th>VRDeck</th>\n",
       "      <th>has_services</th>\n",
       "      <th>HomePlanet_Europa</th>\n",
       "      <th>HomePlanet_Mars</th>\n",
       "      <th>Cabin_S</th>\n",
       "      <th>Destination_PSO J318.5-22</th>\n",
       "      <th>Destination_TRAPPIST-1e</th>\n",
       "    </tr>\n",
       "  </thead>\n",
       "  <tbody>\n",
       "    <tr>\n",
       "      <th>0</th>\n",
       "      <td>1</td>\n",
       "      <td>27.0</td>\n",
       "      <td>0</td>\n",
       "      <td>0.0</td>\n",
       "      <td>0.0</td>\n",
       "      <td>0.0</td>\n",
       "      <td>0.0</td>\n",
       "      <td>0.0</td>\n",
       "      <td>0</td>\n",
       "      <td>False</td>\n",
       "      <td>False</td>\n",
       "      <td>True</td>\n",
       "      <td>False</td>\n",
       "      <td>True</td>\n",
       "    </tr>\n",
       "    <tr>\n",
       "      <th>1</th>\n",
       "      <td>0</td>\n",
       "      <td>19.0</td>\n",
       "      <td>0</td>\n",
       "      <td>0.0</td>\n",
       "      <td>9.0</td>\n",
       "      <td>0.0</td>\n",
       "      <td>2823.0</td>\n",
       "      <td>0.0</td>\n",
       "      <td>1</td>\n",
       "      <td>False</td>\n",
       "      <td>False</td>\n",
       "      <td>True</td>\n",
       "      <td>False</td>\n",
       "      <td>True</td>\n",
       "    </tr>\n",
       "    <tr>\n",
       "      <th>2</th>\n",
       "      <td>1</td>\n",
       "      <td>31.0</td>\n",
       "      <td>0</td>\n",
       "      <td>0.0</td>\n",
       "      <td>0.0</td>\n",
       "      <td>0.0</td>\n",
       "      <td>0.0</td>\n",
       "      <td>0.0</td>\n",
       "      <td>0</td>\n",
       "      <td>True</td>\n",
       "      <td>False</td>\n",
       "      <td>True</td>\n",
       "      <td>False</td>\n",
       "      <td>False</td>\n",
       "    </tr>\n",
       "    <tr>\n",
       "      <th>3</th>\n",
       "      <td>0</td>\n",
       "      <td>38.0</td>\n",
       "      <td>0</td>\n",
       "      <td>0.0</td>\n",
       "      <td>6652.0</td>\n",
       "      <td>0.0</td>\n",
       "      <td>181.0</td>\n",
       "      <td>585.0</td>\n",
       "      <td>1</td>\n",
       "      <td>True</td>\n",
       "      <td>False</td>\n",
       "      <td>True</td>\n",
       "      <td>False</td>\n",
       "      <td>True</td>\n",
       "    </tr>\n",
       "    <tr>\n",
       "      <th>4</th>\n",
       "      <td>0</td>\n",
       "      <td>20.0</td>\n",
       "      <td>0</td>\n",
       "      <td>10.0</td>\n",
       "      <td>0.0</td>\n",
       "      <td>635.0</td>\n",
       "      <td>0.0</td>\n",
       "      <td>0.0</td>\n",
       "      <td>1</td>\n",
       "      <td>False</td>\n",
       "      <td>False</td>\n",
       "      <td>True</td>\n",
       "      <td>False</td>\n",
       "      <td>True</td>\n",
       "    </tr>\n",
       "  </tbody>\n",
       "</table>\n",
       "</div>"
      ],
      "text/plain": [
       "   CryoSleep   Age  VIP  RoomService  FoodCourt  ShoppingMall     Spa  VRDeck  \\\n",
       "0          1  27.0    0          0.0        0.0           0.0     0.0     0.0   \n",
       "1          0  19.0    0          0.0        9.0           0.0  2823.0     0.0   \n",
       "2          1  31.0    0          0.0        0.0           0.0     0.0     0.0   \n",
       "3          0  38.0    0          0.0     6652.0           0.0   181.0   585.0   \n",
       "4          0  20.0    0         10.0        0.0         635.0     0.0     0.0   \n",
       "\n",
       "   has_services  HomePlanet_Europa  HomePlanet_Mars  Cabin_S  \\\n",
       "0             0              False            False     True   \n",
       "1             1              False            False     True   \n",
       "2             0               True            False     True   \n",
       "3             1               True            False     True   \n",
       "4             1              False            False     True   \n",
       "\n",
       "   Destination_PSO J318.5-22  Destination_TRAPPIST-1e  \n",
       "0                      False                     True  \n",
       "1                      False                     True  \n",
       "2                      False                    False  \n",
       "3                      False                     True  \n",
       "4                      False                     True  "
      ]
     },
     "execution_count": 6,
     "metadata": {},
     "output_type": "execute_result"
    }
   ],
   "source": [
    "df_test.head()"
   ]
  },
  {
   "cell_type": "markdown",
   "id": "f7f44892",
   "metadata": {
    "papermill": {
     "duration": 0.005744,
     "end_time": "2023-12-14T23:12:20.413294",
     "exception": false,
     "start_time": "2023-12-14T23:12:20.407550",
     "status": "completed"
    },
    "tags": []
   },
   "source": [
    "Скалирование"
   ]
  },
  {
   "cell_type": "code",
   "execution_count": 7,
   "id": "5009a8a3",
   "metadata": {
    "execution": {
     "iopub.execute_input": "2023-12-14T23:12:20.424805Z",
     "iopub.status.busy": "2023-12-14T23:12:20.424634Z",
     "iopub.status.idle": "2023-12-14T23:12:20.442893Z",
     "shell.execute_reply": "2023-12-14T23:12:20.442893Z"
    },
    "papermill": {
     "duration": 0.025899,
     "end_time": "2023-12-14T23:12:20.444217",
     "exception": false,
     "start_time": "2023-12-14T23:12:20.418318",
     "status": "completed"
    },
    "tags": []
   },
   "outputs": [],
   "source": [
    "scaler = StandardScaler()\n",
    "scaler.fit(X_train_log)\n",
    "\n",
    "X_train_log = scaler.transform(X_train_log)\n",
    "X_val_log   = scaler.transform(X_val_log)\n",
    "X_test_log  = scaler.transform(df_test)"
   ]
  },
  {
   "cell_type": "markdown",
   "id": "fcfb3c98",
   "metadata": {
    "papermill": {
     "duration": 0.004932,
     "end_time": "2023-12-14T23:12:20.455226",
     "exception": false,
     "start_time": "2023-12-14T23:12:20.450294",
     "status": "completed"
    },
    "tags": []
   },
   "source": [
    "Сразу сохраняем скалированную тестовую выборку для следующего шага выбора лучшей модели."
   ]
  },
  {
   "cell_type": "code",
   "execution_count": 8,
   "id": "8cbf8072",
   "metadata": {
    "execution": {
     "iopub.execute_input": "2023-12-14T23:12:20.467332Z",
     "iopub.status.busy": "2023-12-14T23:12:20.466656Z",
     "iopub.status.idle": "2023-12-14T23:12:20.473298Z",
     "shell.execute_reply": "2023-12-14T23:12:20.473298Z"
    },
    "papermill": {
     "duration": 0.012301,
     "end_time": "2023-12-14T23:12:20.473298",
     "exception": false,
     "start_time": "2023-12-14T23:12:20.460997",
     "status": "completed"
    },
    "tags": []
   },
   "outputs": [],
   "source": [
    "new_directory = 'datasets/for_comparison'\n",
    "\n",
    "os.makedirs(new_directory, exist_ok=True)"
   ]
  },
  {
   "cell_type": "code",
   "execution_count": 9,
   "id": "9ae6b51a",
   "metadata": {
    "execution": {
     "iopub.execute_input": "2023-12-14T23:12:20.486576Z",
     "iopub.status.busy": "2023-12-14T23:12:20.486576Z",
     "iopub.status.idle": "2023-12-14T23:12:20.497380Z",
     "shell.execute_reply": "2023-12-14T23:12:20.497380Z"
    },
    "papermill": {
     "duration": 0.01926,
     "end_time": "2023-12-14T23:12:20.498730",
     "exception": false,
     "start_time": "2023-12-14T23:12:20.479470",
     "status": "completed"
    },
    "tags": []
   },
   "outputs": [],
   "source": [
    "np.save('datasets/for_comparison/X_test_log.npy', X_test_log)\n",
    "np.save('datasets/for_comparison/X_val_log.npy', X_val_log)\n",
    "y_val_log.to_csv('datasets/for_comparison/y_val_log.csv', index=False)\n",
    "\n",
    "del df_test"
   ]
  },
  {
   "cell_type": "markdown",
   "id": "fc6a02d7",
   "metadata": {
    "papermill": {
     "duration": 0.005991,
     "end_time": "2023-12-14T23:12:20.510113",
     "exception": false,
     "start_time": "2023-12-14T23:12:20.504122",
     "status": "completed"
    },
    "tags": []
   },
   "source": [
    "---"
   ]
  },
  {
   "cell_type": "markdown",
   "id": "20686bb1",
   "metadata": {
    "papermill": {
     "duration": 0.005722,
     "end_time": "2023-12-14T23:12:20.521192",
     "exception": false,
     "start_time": "2023-12-14T23:12:20.515470",
     "status": "completed"
    },
    "tags": []
   },
   "source": [
    "# Вспомогательные функции"
   ]
  },
  {
   "cell_type": "code",
   "execution_count": 10,
   "id": "6989c8f8",
   "metadata": {
    "execution": {
     "iopub.execute_input": "2023-12-14T23:12:20.534515Z",
     "iopub.status.busy": "2023-12-14T23:12:20.533389Z",
     "iopub.status.idle": "2023-12-14T23:12:20.539490Z",
     "shell.execute_reply": "2023-12-14T23:12:20.539490Z"
    },
    "papermill": {
     "duration": 0.014299,
     "end_time": "2023-12-14T23:12:20.540568",
     "exception": false,
     "start_time": "2023-12-14T23:12:20.526269",
     "status": "completed"
    },
    "tags": []
   },
   "outputs": [],
   "source": [
    "def grid_search_cv(model, cv, param_grid, X_train_set, y_train_set, scores, refit=True):\n",
    "    grid_search = GridSearchCV(estimator=model, param_grid=param_grid, scoring=scores, cv=cv, refit=refit)\n",
    "\n",
    "    start_time = time.time()\n",
    "\n",
    "    grid_search.fit(X_train_set, y_train_set)\n",
    "\n",
    "    total_time = time.time() - start_time\n",
    "    print(f\"Total time spent on grid search (wall-clock): {total_time:.2f} seconds or \\\n",
    "            {(total_time // 60):.0f} minutes {(total_time % 60):.2f} seconds\")\n",
    "    \n",
    "    return grid_search"
   ]
  },
  {
   "cell_type": "code",
   "execution_count": 11,
   "id": "43e7c84b",
   "metadata": {
    "execution": {
     "iopub.execute_input": "2023-12-14T23:12:20.552211Z",
     "iopub.status.busy": "2023-12-14T23:12:20.552211Z",
     "iopub.status.idle": "2023-12-14T23:12:20.558134Z",
     "shell.execute_reply": "2023-12-14T23:12:20.558134Z"
    },
    "papermill": {
     "duration": 0.012442,
     "end_time": "2023-12-14T23:12:20.558134",
     "exception": false,
     "start_time": "2023-12-14T23:12:20.545692",
     "status": "completed"
    },
    "tags": []
   },
   "outputs": [],
   "source": [
    "def custom_refit(cv_results):\n",
    "    sorted_indices = np.lexsort((-cv_results[\"mean_test_roc_auc\"], -cv_results[\"mean_test_f1\"]))\n",
    "    return sorted_indices[0]"
   ]
  },
  {
   "cell_type": "code",
   "execution_count": 12,
   "id": "fe96bec4",
   "metadata": {
    "execution": {
     "iopub.execute_input": "2023-12-14T23:12:20.571738Z",
     "iopub.status.busy": "2023-12-14T23:12:20.571738Z",
     "iopub.status.idle": "2023-12-14T23:12:20.582311Z",
     "shell.execute_reply": "2023-12-14T23:12:20.582311Z"
    },
    "papermill": {
     "duration": 0.017893,
     "end_time": "2023-12-14T23:12:20.583415",
     "exception": false,
     "start_time": "2023-12-14T23:12:20.565522",
     "status": "completed"
    },
    "tags": []
   },
   "outputs": [],
   "source": [
    "def print_top_low(grid_search, show_columns, sort_by = ['rank_test_score', 'index'], n_rows = 10):\n",
    "    df_results = pd.DataFrame(grid_search.cv_results_)\n",
    "    df_results.index.name = 'index'\n",
    "    df_results = df_results.sort_values(by=sort_by).reset_index(drop=True)\n",
    "\n",
    "    print('Top ' + str(n_rows))\n",
    "    display(df_results[:n_rows][show_columns])\n",
    "\n",
    "    print('Low ' + str(n_rows))\n",
    "    display(df_results[-n_rows:][show_columns])\n",
    "    \n",
    "    return df_results"
   ]
  },
  {
   "cell_type": "code",
   "execution_count": 13,
   "id": "df16ee62",
   "metadata": {
    "execution": {
     "iopub.execute_input": "2023-12-14T23:12:20.595448Z",
     "iopub.status.busy": "2023-12-14T23:12:20.595448Z",
     "iopub.status.idle": "2023-12-14T23:12:20.600337Z",
     "shell.execute_reply": "2023-12-14T23:12:20.600337Z"
    },
    "papermill": {
     "duration": 0.012177,
     "end_time": "2023-12-14T23:12:20.600337",
     "exception": false,
     "start_time": "2023-12-14T23:12:20.588160",
     "status": "completed"
    },
    "tags": []
   },
   "outputs": [],
   "source": [
    "def custom_threshold_scorer(estimator, X, y, threshold=0.5, scorer=f1_score):\n",
    "    probabilities = estimator.predict_proba(X)\n",
    "\n",
    "    predictions = (probabilities[:, 1] >= threshold).astype(int)\n",
    "    score = scorer(y, predictions)\n",
    "\n",
    "    return score"
   ]
  },
  {
   "cell_type": "code",
   "execution_count": 14,
   "id": "40e3e52f",
   "metadata": {
    "execution": {
     "iopub.execute_input": "2023-12-14T23:12:20.614455Z",
     "iopub.status.busy": "2023-12-14T23:12:20.612260Z",
     "iopub.status.idle": "2023-12-14T23:12:20.618476Z",
     "shell.execute_reply": "2023-12-14T23:12:20.618476Z"
    },
    "papermill": {
     "duration": 0.013029,
     "end_time": "2023-12-14T23:12:20.619616",
     "exception": false,
     "start_time": "2023-12-14T23:12:20.606587",
     "status": "completed"
    },
    "tags": []
   },
   "outputs": [],
   "source": [
    "def findBestThreshold(model, features, target):\n",
    "    best_result = {'f1': 0, 'roc_auc': 0}\n",
    "    best_threshold = 0\n",
    "\n",
    "    for threshold in np.arange(0, 1.05, 0.05):\n",
    "        print(f'threshold: {threshold:.2f}')\n",
    "        \n",
    "        f1      = custom_threshold_scorer(model, features, target, threshold, f1_score)\n",
    "        roc_auc = roc_auc_score(target, model.predict_proba(features)[:, 1])\n",
    "        print(f\"f1 score: {f1:.6f}\")\n",
    "\n",
    "        if f1 > best_result['f1']:\n",
    "            best_result['f1'] = f1\n",
    "            best_result['roc_auc'] = roc_auc\n",
    "            best_threshold = threshold\n",
    "\n",
    "    return best_threshold, best_result"
   ]
  },
  {
   "cell_type": "code",
   "execution_count": 15,
   "id": "a6e67a0a",
   "metadata": {
    "execution": {
     "iopub.execute_input": "2023-12-14T23:12:20.632173Z",
     "iopub.status.busy": "2023-12-14T23:12:20.632173Z",
     "iopub.status.idle": "2023-12-14T23:12:20.637041Z",
     "shell.execute_reply": "2023-12-14T23:12:20.637041Z"
    },
    "papermill": {
     "duration": 0.013027,
     "end_time": "2023-12-14T23:12:20.638108",
     "exception": false,
     "start_time": "2023-12-14T23:12:20.625081",
     "status": "completed"
    },
    "tags": []
   },
   "outputs": [],
   "source": [
    "from sklearn.exceptions import NotFittedError\n",
    "\n",
    "def is_fitted(estimator, X):\n",
    "    try:\n",
    "        estimator.predict(X)\n",
    "        return True\n",
    "    except NotFittedError as e:\n",
    "        print(repr(e))\n",
    "        return False"
   ]
  },
  {
   "cell_type": "markdown",
   "id": "2f8f8360",
   "metadata": {
    "papermill": {
     "duration": 0.006203,
     "end_time": "2023-12-14T23:12:20.649476",
     "exception": false,
     "start_time": "2023-12-14T23:12:20.643273",
     "status": "completed"
    },
    "tags": []
   },
   "source": [
    "# Обучение модели"
   ]
  },
  {
   "cell_type": "code",
   "execution_count": 16,
   "id": "f17ed665",
   "metadata": {
    "execution": {
     "iopub.execute_input": "2023-12-14T23:12:20.661588Z",
     "iopub.status.busy": "2023-12-14T23:12:20.661588Z",
     "iopub.status.idle": "2023-12-14T23:12:20.667181Z",
     "shell.execute_reply": "2023-12-14T23:12:20.667181Z"
    },
    "papermill": {
     "duration": 0.013516,
     "end_time": "2023-12-14T23:12:20.668286",
     "exception": false,
     "start_time": "2023-12-14T23:12:20.654770",
     "status": "completed"
    },
    "tags": []
   },
   "outputs": [],
   "source": [
    "param_grid = [\n",
    "    {\n",
    "        \"n_jobs\": [4],\n",
    "        \"penalty\": ['l2'],\n",
    "        \"C\": np.logspace(-5, 5, 20),\n",
    "        \"max_iter\": [100, 1000, 10000]\n",
    "    }\n",
    "]\n",
    "\n",
    "sss = StratifiedShuffleSplit(n_splits=5, test_size=0.2, random_state=42)\n",
    "\n",
    "scores = ['f1', 'roc_auc']\n",
    "\n",
    "columns = ['mean_fit_time', 'param_max_iter', 'param_penalty', 'param_C',\\\n",
    "                'mean_test_f1', 'mean_test_roc_auc', 'rank_test_f1', 'rank_test_roc_auc']\n",
    "\n",
    "log_r = LogisticRegression(random_state=42, multi_class='ovr', solver='lbfgs')"
   ]
  },
  {
   "cell_type": "code",
   "execution_count": 17,
   "id": "87f238e8",
   "metadata": {
    "execution": {
     "iopub.execute_input": "2023-12-14T23:12:20.680758Z",
     "iopub.status.busy": "2023-12-14T23:12:20.680758Z",
     "iopub.status.idle": "2023-12-14T23:12:28.437937Z",
     "shell.execute_reply": "2023-12-14T23:12:28.437937Z"
    },
    "papermill": {
     "duration": 7.766531,
     "end_time": "2023-12-14T23:12:28.440065",
     "exception": false,
     "start_time": "2023-12-14T23:12:20.673534",
     "status": "completed"
    },
    "tags": []
   },
   "outputs": [
    {
     "name": "stdout",
     "output_type": "stream",
     "text": [
      "Total time spent on grid search (wall-clock): 7.74 seconds or             0 minutes 7.74 seconds\n"
     ]
    }
   ],
   "source": [
    "grid_search = grid_search_cv(log_r, sss, param_grid, X_train_log, y_train_log, scores, custom_refit)"
   ]
  },
  {
   "cell_type": "code",
   "execution_count": 18,
   "id": "51ea146a",
   "metadata": {
    "execution": {
     "iopub.execute_input": "2023-12-14T23:12:28.452545Z",
     "iopub.status.busy": "2023-12-14T23:12:28.451547Z",
     "iopub.status.idle": "2023-12-14T23:12:28.485273Z",
     "shell.execute_reply": "2023-12-14T23:12:28.484265Z"
    },
    "papermill": {
     "duration": 0.041088,
     "end_time": "2023-12-14T23:12:28.486272",
     "exception": false,
     "start_time": "2023-12-14T23:12:28.445184",
     "status": "completed"
    },
    "tags": []
   },
   "outputs": [
    {
     "name": "stdout",
     "output_type": "stream",
     "text": [
      "Top 10\n"
     ]
    },
    {
     "data": {
      "text/html": [
       "<div>\n",
       "<style scoped>\n",
       "    .dataframe tbody tr th:only-of-type {\n",
       "        vertical-align: middle;\n",
       "    }\n",
       "\n",
       "    .dataframe tbody tr th {\n",
       "        vertical-align: top;\n",
       "    }\n",
       "\n",
       "    .dataframe thead th {\n",
       "        text-align: right;\n",
       "    }\n",
       "</style>\n",
       "<table border=\"1\" class=\"dataframe\">\n",
       "  <thead>\n",
       "    <tr style=\"text-align: right;\">\n",
       "      <th></th>\n",
       "      <th>mean_fit_time</th>\n",
       "      <th>param_max_iter</th>\n",
       "      <th>param_penalty</th>\n",
       "      <th>param_C</th>\n",
       "      <th>mean_test_f1</th>\n",
       "      <th>mean_test_roc_auc</th>\n",
       "      <th>rank_test_f1</th>\n",
       "      <th>rank_test_roc_auc</th>\n",
       "    </tr>\n",
       "  </thead>\n",
       "  <tbody>\n",
       "    <tr>\n",
       "      <th>0</th>\n",
       "      <td>0.014202</td>\n",
       "      <td>100</td>\n",
       "      <td>l2</td>\n",
       "      <td>69.51928</td>\n",
       "      <td>0.798911</td>\n",
       "      <td>0.875774</td>\n",
       "      <td>1</td>\n",
       "      <td>13</td>\n",
       "    </tr>\n",
       "    <tr>\n",
       "      <th>1</th>\n",
       "      <td>0.013427</td>\n",
       "      <td>1000</td>\n",
       "      <td>l2</td>\n",
       "      <td>69.51928</td>\n",
       "      <td>0.798911</td>\n",
       "      <td>0.875774</td>\n",
       "      <td>1</td>\n",
       "      <td>13</td>\n",
       "    </tr>\n",
       "    <tr>\n",
       "      <th>2</th>\n",
       "      <td>0.013716</td>\n",
       "      <td>10000</td>\n",
       "      <td>l2</td>\n",
       "      <td>69.51928</td>\n",
       "      <td>0.798911</td>\n",
       "      <td>0.875774</td>\n",
       "      <td>1</td>\n",
       "      <td>13</td>\n",
       "    </tr>\n",
       "    <tr>\n",
       "      <th>3</th>\n",
       "      <td>0.012842</td>\n",
       "      <td>100</td>\n",
       "      <td>l2</td>\n",
       "      <td>233.572147</td>\n",
       "      <td>0.798911</td>\n",
       "      <td>0.875776</td>\n",
       "      <td>1</td>\n",
       "      <td>1</td>\n",
       "    </tr>\n",
       "    <tr>\n",
       "      <th>4</th>\n",
       "      <td>0.016740</td>\n",
       "      <td>1000</td>\n",
       "      <td>l2</td>\n",
       "      <td>233.572147</td>\n",
       "      <td>0.798911</td>\n",
       "      <td>0.875776</td>\n",
       "      <td>1</td>\n",
       "      <td>1</td>\n",
       "    </tr>\n",
       "    <tr>\n",
       "      <th>5</th>\n",
       "      <td>0.014456</td>\n",
       "      <td>10000</td>\n",
       "      <td>l2</td>\n",
       "      <td>233.572147</td>\n",
       "      <td>0.798911</td>\n",
       "      <td>0.875776</td>\n",
       "      <td>1</td>\n",
       "      <td>1</td>\n",
       "    </tr>\n",
       "    <tr>\n",
       "      <th>6</th>\n",
       "      <td>0.014430</td>\n",
       "      <td>100</td>\n",
       "      <td>l2</td>\n",
       "      <td>784.75997</td>\n",
       "      <td>0.798911</td>\n",
       "      <td>0.875776</td>\n",
       "      <td>1</td>\n",
       "      <td>1</td>\n",
       "    </tr>\n",
       "    <tr>\n",
       "      <th>7</th>\n",
       "      <td>0.014352</td>\n",
       "      <td>1000</td>\n",
       "      <td>l2</td>\n",
       "      <td>784.75997</td>\n",
       "      <td>0.798911</td>\n",
       "      <td>0.875776</td>\n",
       "      <td>1</td>\n",
       "      <td>1</td>\n",
       "    </tr>\n",
       "    <tr>\n",
       "      <th>8</th>\n",
       "      <td>0.016658</td>\n",
       "      <td>10000</td>\n",
       "      <td>l2</td>\n",
       "      <td>784.75997</td>\n",
       "      <td>0.798911</td>\n",
       "      <td>0.875776</td>\n",
       "      <td>1</td>\n",
       "      <td>1</td>\n",
       "    </tr>\n",
       "    <tr>\n",
       "      <th>9</th>\n",
       "      <td>0.015166</td>\n",
       "      <td>100</td>\n",
       "      <td>l2</td>\n",
       "      <td>2636.650899</td>\n",
       "      <td>0.798911</td>\n",
       "      <td>0.875775</td>\n",
       "      <td>1</td>\n",
       "      <td>7</td>\n",
       "    </tr>\n",
       "  </tbody>\n",
       "</table>\n",
       "</div>"
      ],
      "text/plain": [
       "   mean_fit_time param_max_iter param_penalty      param_C  mean_test_f1  \\\n",
       "0       0.014202            100            l2     69.51928      0.798911   \n",
       "1       0.013427           1000            l2     69.51928      0.798911   \n",
       "2       0.013716          10000            l2     69.51928      0.798911   \n",
       "3       0.012842            100            l2   233.572147      0.798911   \n",
       "4       0.016740           1000            l2   233.572147      0.798911   \n",
       "5       0.014456          10000            l2   233.572147      0.798911   \n",
       "6       0.014430            100            l2    784.75997      0.798911   \n",
       "7       0.014352           1000            l2    784.75997      0.798911   \n",
       "8       0.016658          10000            l2    784.75997      0.798911   \n",
       "9       0.015166            100            l2  2636.650899      0.798911   \n",
       "\n",
       "   mean_test_roc_auc  rank_test_f1  rank_test_roc_auc  \n",
       "0           0.875774             1                 13  \n",
       "1           0.875774             1                 13  \n",
       "2           0.875774             1                 13  \n",
       "3           0.875776             1                  1  \n",
       "4           0.875776             1                  1  \n",
       "5           0.875776             1                  1  \n",
       "6           0.875776             1                  1  \n",
       "7           0.875776             1                  1  \n",
       "8           0.875776             1                  1  \n",
       "9           0.875775             1                  7  "
      ]
     },
     "metadata": {},
     "output_type": "display_data"
    },
    {
     "name": "stdout",
     "output_type": "stream",
     "text": [
      "Low 10\n"
     ]
    },
    {
     "data": {
      "text/html": [
       "<div>\n",
       "<style scoped>\n",
       "    .dataframe tbody tr th:only-of-type {\n",
       "        vertical-align: middle;\n",
       "    }\n",
       "\n",
       "    .dataframe tbody tr th {\n",
       "        vertical-align: top;\n",
       "    }\n",
       "\n",
       "    .dataframe thead th {\n",
       "        text-align: right;\n",
       "    }\n",
       "</style>\n",
       "<table border=\"1\" class=\"dataframe\">\n",
       "  <thead>\n",
       "    <tr style=\"text-align: right;\">\n",
       "      <th></th>\n",
       "      <th>mean_fit_time</th>\n",
       "      <th>param_max_iter</th>\n",
       "      <th>param_penalty</th>\n",
       "      <th>param_C</th>\n",
       "      <th>mean_test_f1</th>\n",
       "      <th>mean_test_roc_auc</th>\n",
       "      <th>rank_test_f1</th>\n",
       "      <th>rank_test_roc_auc</th>\n",
       "    </tr>\n",
       "  </thead>\n",
       "  <tbody>\n",
       "    <tr>\n",
       "      <th>50</th>\n",
       "      <td>0.008296</td>\n",
       "      <td>10000</td>\n",
       "      <td>l2</td>\n",
       "      <td>0.001274</td>\n",
       "      <td>0.760851</td>\n",
       "      <td>0.855660</td>\n",
       "      <td>49</td>\n",
       "      <td>46</td>\n",
       "    </tr>\n",
       "    <tr>\n",
       "      <th>51</th>\n",
       "      <td>0.009016</td>\n",
       "      <td>100</td>\n",
       "      <td>l2</td>\n",
       "      <td>0.000379</td>\n",
       "      <td>0.750685</td>\n",
       "      <td>0.848637</td>\n",
       "      <td>52</td>\n",
       "      <td>49</td>\n",
       "    </tr>\n",
       "    <tr>\n",
       "      <th>52</th>\n",
       "      <td>0.007299</td>\n",
       "      <td>1000</td>\n",
       "      <td>l2</td>\n",
       "      <td>0.000379</td>\n",
       "      <td>0.750685</td>\n",
       "      <td>0.848637</td>\n",
       "      <td>52</td>\n",
       "      <td>49</td>\n",
       "    </tr>\n",
       "    <tr>\n",
       "      <th>53</th>\n",
       "      <td>0.007839</td>\n",
       "      <td>10000</td>\n",
       "      <td>l2</td>\n",
       "      <td>0.000379</td>\n",
       "      <td>0.750685</td>\n",
       "      <td>0.848637</td>\n",
       "      <td>52</td>\n",
       "      <td>49</td>\n",
       "    </tr>\n",
       "    <tr>\n",
       "      <th>54</th>\n",
       "      <td>0.009127</td>\n",
       "      <td>100</td>\n",
       "      <td>l2</td>\n",
       "      <td>0.000113</td>\n",
       "      <td>0.743187</td>\n",
       "      <td>0.841567</td>\n",
       "      <td>55</td>\n",
       "      <td>52</td>\n",
       "    </tr>\n",
       "    <tr>\n",
       "      <th>55</th>\n",
       "      <td>0.009219</td>\n",
       "      <td>1000</td>\n",
       "      <td>l2</td>\n",
       "      <td>0.000113</td>\n",
       "      <td>0.743187</td>\n",
       "      <td>0.841567</td>\n",
       "      <td>55</td>\n",
       "      <td>52</td>\n",
       "    </tr>\n",
       "    <tr>\n",
       "      <th>56</th>\n",
       "      <td>0.008612</td>\n",
       "      <td>10000</td>\n",
       "      <td>l2</td>\n",
       "      <td>0.000113</td>\n",
       "      <td>0.743187</td>\n",
       "      <td>0.841567</td>\n",
       "      <td>55</td>\n",
       "      <td>52</td>\n",
       "    </tr>\n",
       "    <tr>\n",
       "      <th>57</th>\n",
       "      <td>0.542423</td>\n",
       "      <td>100</td>\n",
       "      <td>l2</td>\n",
       "      <td>0.00001</td>\n",
       "      <td>0.688155</td>\n",
       "      <td>0.834999</td>\n",
       "      <td>58</td>\n",
       "      <td>58</td>\n",
       "    </tr>\n",
       "    <tr>\n",
       "      <th>58</th>\n",
       "      <td>0.006415</td>\n",
       "      <td>1000</td>\n",
       "      <td>l2</td>\n",
       "      <td>0.00001</td>\n",
       "      <td>0.688155</td>\n",
       "      <td>0.834999</td>\n",
       "      <td>58</td>\n",
       "      <td>58</td>\n",
       "    </tr>\n",
       "    <tr>\n",
       "      <th>59</th>\n",
       "      <td>0.007897</td>\n",
       "      <td>10000</td>\n",
       "      <td>l2</td>\n",
       "      <td>0.00001</td>\n",
       "      <td>0.688155</td>\n",
       "      <td>0.834999</td>\n",
       "      <td>58</td>\n",
       "      <td>58</td>\n",
       "    </tr>\n",
       "  </tbody>\n",
       "</table>\n",
       "</div>"
      ],
      "text/plain": [
       "    mean_fit_time param_max_iter param_penalty   param_C  mean_test_f1  \\\n",
       "50       0.008296          10000            l2  0.001274      0.760851   \n",
       "51       0.009016            100            l2  0.000379      0.750685   \n",
       "52       0.007299           1000            l2  0.000379      0.750685   \n",
       "53       0.007839          10000            l2  0.000379      0.750685   \n",
       "54       0.009127            100            l2  0.000113      0.743187   \n",
       "55       0.009219           1000            l2  0.000113      0.743187   \n",
       "56       0.008612          10000            l2  0.000113      0.743187   \n",
       "57       0.542423            100            l2   0.00001      0.688155   \n",
       "58       0.006415           1000            l2   0.00001      0.688155   \n",
       "59       0.007897          10000            l2   0.00001      0.688155   \n",
       "\n",
       "    mean_test_roc_auc  rank_test_f1  rank_test_roc_auc  \n",
       "50           0.855660            49                 46  \n",
       "51           0.848637            52                 49  \n",
       "52           0.848637            52                 49  \n",
       "53           0.848637            52                 49  \n",
       "54           0.841567            55                 52  \n",
       "55           0.841567            55                 52  \n",
       "56           0.841567            55                 52  \n",
       "57           0.834999            58                 58  \n",
       "58           0.834999            58                 58  \n",
       "59           0.834999            58                 58  "
      ]
     },
     "metadata": {},
     "output_type": "display_data"
    }
   ],
   "source": [
    "df_results = print_top_low(grid_search, columns, ['rank_test_f1', 'index'])"
   ]
  },
  {
   "cell_type": "code",
   "execution_count": 19,
   "id": "d9f9ae88",
   "metadata": {
    "execution": {
     "iopub.execute_input": "2023-12-14T23:12:28.495034Z",
     "iopub.status.busy": "2023-12-14T23:12:28.495034Z",
     "iopub.status.idle": "2023-12-14T23:12:28.511511Z",
     "shell.execute_reply": "2023-12-14T23:12:28.510509Z"
    },
    "papermill": {
     "duration": 0.020296,
     "end_time": "2023-12-14T23:12:28.512509",
     "exception": false,
     "start_time": "2023-12-14T23:12:28.492213",
     "status": "completed"
    },
    "tags": []
   },
   "outputs": [
    {
     "data": {
      "text/plain": [
       "True"
      ]
     },
     "execution_count": 19,
     "metadata": {},
     "output_type": "execute_result"
    }
   ],
   "source": [
    "is_fitted(grid_search.best_estimator_, X_train_log)"
   ]
  },
  {
   "cell_type": "code",
   "execution_count": 20,
   "id": "e44f02c0",
   "metadata": {
    "execution": {
     "iopub.execute_input": "2023-12-14T23:12:28.516447Z",
     "iopub.status.busy": "2023-12-14T23:12:28.516447Z",
     "iopub.status.idle": "2023-12-14T23:12:28.726234Z",
     "shell.execute_reply": "2023-12-14T23:12:28.725166Z"
    },
    "papermill": {
     "duration": 0.212725,
     "end_time": "2023-12-14T23:12:28.729172",
     "exception": false,
     "start_time": "2023-12-14T23:12:28.516447",
     "status": "completed"
    },
    "tags": []
   },
   "outputs": [
    {
     "name": "stdout",
     "output_type": "stream",
     "text": [
      "threshold: 0.00\n",
      "f1 score: 0.675466\n",
      "threshold: 0.05\n",
      "f1 score: 0.716067\n",
      "threshold: 0.10\n",
      "f1 score: 0.734388\n",
      "threshold: 0.15\n",
      "f1 score: 0.758446\n",
      "threshold: 0.20\n",
      "f1 score: 0.778515\n",
      "threshold: 0.25\n",
      "f1 score: 0.793790\n",
      "threshold: 0.30\n",
      "f1 score: 0.802998\n",
      "threshold: 0.35\n",
      "f1 score: 0.810372\n",
      "threshold: 0.40\n",
      "f1 score: 0.811437\n",
      "threshold: 0.45\n",
      "f1 score: 0.810260\n",
      "threshold: 0.50\n",
      "f1 score: 0.805433\n",
      "threshold: 0.55\n",
      "f1 score: 0.791763\n",
      "threshold: 0.60\n",
      "f1 score: 0.776732\n",
      "threshold: 0.65\n",
      "f1 score: 0.765372\n",
      "threshold: 0.70\n"
     ]
    },
    {
     "name": "stdout",
     "output_type": "stream",
     "text": [
      "f1 score: 0.724967\n",
      "threshold: 0.75\n",
      "f1 score: 0.717032\n",
      "threshold: 0.80\n"
     ]
    },
    {
     "name": "stdout",
     "output_type": "stream",
     "text": [
      "f1 score: 0.612601\n",
      "threshold: 0.85\n",
      "f1 score: 0.560256\n",
      "threshold: 0.90\n",
      "f1 score: 0.437798\n",
      "threshold: 0.95\n",
      "f1 score: 0.336464\n",
      "threshold: 1.00\n",
      "f1 score: 0.000000\n"
     ]
    }
   ],
   "source": [
    "%%parameters\n",
    "best_threshold_log = findBestThreshold(grid_search.best_estimator_, X_train_log, y_train_log)"
   ]
  },
  {
   "cell_type": "code",
   "execution_count": 21,
   "id": "21f3fd08",
   "metadata": {
    "execution": {
     "iopub.execute_input": "2023-12-14T23:12:28.752501Z",
     "iopub.status.busy": "2023-12-14T23:12:28.752501Z",
     "iopub.status.idle": "2023-12-14T23:12:28.761069Z",
     "shell.execute_reply": "2023-12-14T23:12:28.760014Z"
    },
    "papermill": {
     "duration": 0.02493,
     "end_time": "2023-12-14T23:12:28.764375",
     "exception": false,
     "start_time": "2023-12-14T23:12:28.739445",
     "status": "completed"
    },
    "tags": []
   },
   "outputs": [],
   "source": [
    "new_directory = 'models/'\n",
    "\n",
    "os.makedirs(new_directory, exist_ok=True)"
   ]
  },
  {
   "cell_type": "code",
   "execution_count": 22,
   "id": "4076e73e",
   "metadata": {
    "execution": {
     "iopub.execute_input": "2023-12-14T23:12:28.787021Z",
     "iopub.status.busy": "2023-12-14T23:12:28.787021Z",
     "iopub.status.idle": "2023-12-14T23:12:28.795673Z",
     "shell.execute_reply": "2023-12-14T23:12:28.795673Z"
    },
    "papermill": {
     "duration": 0.022728,
     "end_time": "2023-12-14T23:12:28.798622",
     "exception": false,
     "start_time": "2023-12-14T23:12:28.775894",
     "status": "completed"
    },
    "tags": []
   },
   "outputs": [
    {
     "data": {
      "text/plain": [
       "['models/logistic_regression.pkl']"
      ]
     },
     "execution_count": 22,
     "metadata": {},
     "output_type": "execute_result"
    }
   ],
   "source": [
    "joblib_logr = 'models/logistic_regression.pkl'\n",
    "joblib.dump(grid_search.best_estimator_, joblib_logr)"
   ]
  },
  {
   "cell_type": "code",
   "execution_count": null,
   "id": "7e181419",
   "metadata": {
    "papermill": {
     "duration": 0.009396,
     "end_time": "2023-12-14T23:12:28.814584",
     "exception": false,
     "start_time": "2023-12-14T23:12:28.805188",
     "status": "completed"
    },
    "tags": []
   },
   "outputs": [],
   "source": []
  }
 ],
 "metadata": {
  "kernelspec": {
   "display_name": "yandex",
   "language": "python",
   "name": "yandex"
  },
  "language_info": {
   "codemirror_mode": {
    "name": "ipython",
    "version": 3
   },
   "file_extension": ".py",
   "mimetype": "text/x-python",
   "name": "python",
   "nbconvert_exporter": "python",
   "pygments_lexer": "ipython3",
   "version": "3.10.13"
  },
  "papermill": {
   "default_parameters": {},
   "duration": 20.719804,
   "end_time": "2023-12-14T23:12:29.605704",
   "environment_variables": {},
   "exception": null,
   "input_path": "D:\\Yandex_practicum\\Projects\\Data_Science\\logistic_regression.ipynb",
   "output_path": "D:\\Yandex_practicum\\Projects\\Data_Science\\logistic_regression.ipynb",
   "parameters": {},
   "start_time": "2023-12-14T23:12:08.885900",
   "version": "2.4.0"
  }
 },
 "nbformat": 4,
 "nbformat_minor": 5
}
