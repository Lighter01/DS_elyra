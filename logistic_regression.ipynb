{
 "cells": [
  {
   "cell_type": "code",
   "execution_count": null,
   "id": "4019a6b7",
   "metadata": {
    "execution": {
     "iopub.execute_input": "2023-12-14T23:12:10.669862Z",
     "iopub.status.busy": "2023-12-14T23:12:10.669862Z",
     "iopub.status.idle": "2023-12-14T23:12:19.038332Z",
     "shell.execute_reply": "2023-12-14T23:12:19.037808Z"
    },
    "papermill": {
     "duration": 8.376526,
     "end_time": "2023-12-14T23:12:19.039882",
     "exception": false,
     "start_time": "2023-12-14T23:12:10.663356",
     "status": "completed"
    },
    "tags": []
   },
   "outputs": [],
   "source": [
    "!pip3 install -q numpy==1.22.4\n",
    "!pip3 install -q pandas==1.5.3\n",
    "!pip3 install -q scikit-learn\n",
    "!pip3 install joblib"
   ]
  },
  {
   "cell_type": "code",
   "execution_count": null,
   "id": "43a0a75e",
   "metadata": {
    "execution": {
     "iopub.execute_input": "2023-12-14T23:12:19.050316Z",
     "iopub.status.busy": "2023-12-14T23:12:19.050316Z",
     "iopub.status.idle": "2023-12-14T23:12:20.217094Z",
     "shell.execute_reply": "2023-12-14T23:12:20.217094Z"
    },
    "papermill": {
     "duration": 1.173163,
     "end_time": "2023-12-14T23:12:20.218410",
     "exception": false,
     "start_time": "2023-12-14T23:12:19.045247",
     "status": "completed"
    },
    "tags": []
   },
   "outputs": [],
   "source": [
    "import pandas as pd\n",
    "import numpy as np\n",
    "from sklearn.linear_model import LogisticRegression\n",
    "from sklearn.model_selection import GridSearchCV, StratifiedShuffleSplit, train_test_split\n",
    "from sklearn.metrics import f1_score, roc_auc_score\n",
    "from sklearn.preprocessing import StandardScaler\n",
    "import joblib \n",
    "\n",
    "import time\n",
    "import os"
   ]
  },
  {
   "cell_type": "markdown",
   "id": "f6704502",
   "metadata": {
    "papermill": {
     "duration": 0.005588,
     "end_time": "2023-12-14T23:12:20.229196",
     "exception": false,
     "start_time": "2023-12-14T23:12:20.223608",
     "status": "completed"
    },
    "tags": []
   },
   "source": [
    "---"
   ]
  },
  {
   "cell_type": "markdown",
   "id": "3ebf0840",
   "metadata": {
    "papermill": {
     "duration": 0.004518,
     "end_time": "2023-12-14T23:12:20.235004",
     "exception": false,
     "start_time": "2023-12-14T23:12:20.230486",
     "status": "completed"
    },
    "tags": []
   },
   "source": [
    "Чтение данных"
   ]
  },
  {
   "cell_type": "code",
   "execution_count": null,
   "id": "d680dc74",
   "metadata": {
    "execution": {
     "iopub.execute_input": "2023-12-14T23:12:20.248346Z",
     "iopub.status.busy": "2023-12-14T23:12:20.248127Z",
     "iopub.status.idle": "2023-12-14T23:12:20.284768Z",
     "shell.execute_reply": "2023-12-14T23:12:20.284768Z"
    },
    "papermill": {
     "duration": 0.044079,
     "end_time": "2023-12-14T23:12:20.285854",
     "exception": false,
     "start_time": "2023-12-14T23:12:20.241775",
     "status": "completed"
    },
    "tags": []
   },
   "outputs": [],
   "source": [
    "path1 = 'datasets/regression/train_log.csv'\n",
    "path2 = 'datasets/regression/test_log.csv'\n",
    "\n",
    "def read_file(path):\n",
    "    df = pd.DataFrame()\n",
    "    if os.path.exists(path):\n",
    "        df = pd.read_csv(path, sep=',')\n",
    "    elif os.path.exists(path[1:]):\n",
    "        df = pd.read_csv(path[1:], sep=',')\n",
    "    else:\n",
    "        print('No such file or directory') \n",
    "        raise FileNotFoundError('No such file or directory')\n",
    "    return df\n",
    "\n",
    "df_train = read_file(path1)\n",
    "df_test  = read_file(path2)"
   ]
  },
  {
   "cell_type": "markdown",
   "id": "7f456c51",
   "metadata": {
    "papermill": {
     "duration": 0.005925,
     "end_time": "2023-12-14T23:12:20.296907",
     "exception": false,
     "start_time": "2023-12-14T23:12:20.290982",
     "status": "completed"
    },
    "tags": []
   },
   "source": [
    "---"
   ]
  },
  {
   "cell_type": "markdown",
   "id": "c11e8619",
   "metadata": {
    "papermill": {
     "duration": 0.011225,
     "end_time": "2023-12-14T23:12:20.312992",
     "exception": false,
     "start_time": "2023-12-14T23:12:20.301767",
     "status": "completed"
    },
    "tags": []
   },
   "source": [
    "## Разбиение тренировочной выборки на тренировочную и владиационную"
   ]
  },
  {
   "cell_type": "code",
   "execution_count": null,
   "id": "5118ee92",
   "metadata": {
    "execution": {
     "iopub.execute_input": "2023-12-14T23:12:20.326054Z",
     "iopub.status.busy": "2023-12-14T23:12:20.325043Z",
     "iopub.status.idle": "2023-12-14T23:12:20.333374Z",
     "shell.execute_reply": "2023-12-14T23:12:20.333374Z"
    },
    "papermill": {
     "duration": 0.014427,
     "end_time": "2023-12-14T23:12:20.333374",
     "exception": false,
     "start_time": "2023-12-14T23:12:20.318947",
     "status": "completed"
    },
    "tags": []
   },
   "outputs": [],
   "source": [
    "X_log = df_train.drop(columns=['Transported'], axis=1)\n",
    "y_log = df_train.Transported\n",
    "\n",
    "print(y_log.shape[0])"
   ]
  },
  {
   "cell_type": "code",
   "execution_count": null,
   "id": "c0bf5248",
   "metadata": {
    "execution": {
     "iopub.execute_input": "2023-12-14T23:12:20.347210Z",
     "iopub.status.busy": "2023-12-14T23:12:20.347210Z",
     "iopub.status.idle": "2023-12-14T23:12:20.357547Z",
     "shell.execute_reply": "2023-12-14T23:12:20.357547Z"
    },
    "papermill": {
     "duration": 0.018983,
     "end_time": "2023-12-14T23:12:20.358872",
     "exception": false,
     "start_time": "2023-12-14T23:12:20.339889",
     "status": "completed"
    },
    "tags": []
   },
   "outputs": [],
   "source": [
    "X_train_log, X_val_log, y_train_log, y_val_log = \\\n",
    "        train_test_split(X_log, y_log, test_size = 0.3, shuffle=True, random_state = 42)\n",
    "\n",
    "print(y_train_log.shape, y_val_log.shape)"
   ]
  },
  {
   "cell_type": "markdown",
   "id": "cfd4f081",
   "metadata": {
    "papermill": {
     "duration": 0.006017,
     "end_time": "2023-12-14T23:12:20.369969",
     "exception": false,
     "start_time": "2023-12-14T23:12:20.363952",
     "status": "completed"
    },
    "tags": []
   },
   "source": [
    "---"
   ]
  },
  {
   "cell_type": "code",
   "execution_count": null,
   "id": "e98881c5",
   "metadata": {
    "execution": {
     "iopub.execute_input": "2023-12-14T23:12:20.381670Z",
     "iopub.status.busy": "2023-12-14T23:12:20.380659Z",
     "iopub.status.idle": "2023-12-14T23:12:20.399985Z",
     "shell.execute_reply": "2023-12-14T23:12:20.399985Z"
    },
    "papermill": {
     "duration": 0.025752,
     "end_time": "2023-12-14T23:12:20.401308",
     "exception": false,
     "start_time": "2023-12-14T23:12:20.375556",
     "status": "completed"
    },
    "tags": []
   },
   "outputs": [],
   "source": [
    "df_test.head()"
   ]
  },
  {
   "cell_type": "markdown",
   "id": "f7f44892",
   "metadata": {
    "papermill": {
     "duration": 0.005744,
     "end_time": "2023-12-14T23:12:20.413294",
     "exception": false,
     "start_time": "2023-12-14T23:12:20.407550",
     "status": "completed"
    },
    "tags": []
   },
   "source": [
    "Скалирование"
   ]
  },
  {
   "cell_type": "code",
   "execution_count": null,
   "id": "5009a8a3",
   "metadata": {
    "execution": {
     "iopub.execute_input": "2023-12-14T23:12:20.424805Z",
     "iopub.status.busy": "2023-12-14T23:12:20.424634Z",
     "iopub.status.idle": "2023-12-14T23:12:20.442893Z",
     "shell.execute_reply": "2023-12-14T23:12:20.442893Z"
    },
    "papermill": {
     "duration": 0.025899,
     "end_time": "2023-12-14T23:12:20.444217",
     "exception": false,
     "start_time": "2023-12-14T23:12:20.418318",
     "status": "completed"
    },
    "tags": []
   },
   "outputs": [],
   "source": [
    "scaler = StandardScaler()\n",
    "scaler.fit(X_train_log)\n",
    "\n",
    "X_train_log = scaler.transform(X_train_log)\n",
    "X_val_log   = scaler.transform(X_val_log)\n",
    "X_test_log  = scaler.transform(df_test)"
   ]
  },
  {
   "cell_type": "markdown",
   "id": "fcfb3c98",
   "metadata": {
    "papermill": {
     "duration": 0.004932,
     "end_time": "2023-12-14T23:12:20.455226",
     "exception": false,
     "start_time": "2023-12-14T23:12:20.450294",
     "status": "completed"
    },
    "tags": []
   },
   "source": [
    "Сразу сохраняем скалированную тестовую выборку для следующего шага выбора лучшей модели."
   ]
  },
  {
   "cell_type": "code",
   "execution_count": null,
   "id": "8cbf8072",
   "metadata": {
    "execution": {
     "iopub.execute_input": "2023-12-14T23:12:20.467332Z",
     "iopub.status.busy": "2023-12-14T23:12:20.466656Z",
     "iopub.status.idle": "2023-12-14T23:12:20.473298Z",
     "shell.execute_reply": "2023-12-14T23:12:20.473298Z"
    },
    "papermill": {
     "duration": 0.012301,
     "end_time": "2023-12-14T23:12:20.473298",
     "exception": false,
     "start_time": "2023-12-14T23:12:20.460997",
     "status": "completed"
    },
    "tags": []
   },
   "outputs": [],
   "source": [
    "new_directory = 'datasets/for_comparison'\n",
    "\n",
    "os.makedirs(new_directory, exist_ok=True)"
   ]
  },
  {
   "cell_type": "code",
   "execution_count": null,
   "id": "9ae6b51a",
   "metadata": {
    "execution": {
     "iopub.execute_input": "2023-12-14T23:12:20.486576Z",
     "iopub.status.busy": "2023-12-14T23:12:20.486576Z",
     "iopub.status.idle": "2023-12-14T23:12:20.497380Z",
     "shell.execute_reply": "2023-12-14T23:12:20.497380Z"
    },
    "papermill": {
     "duration": 0.01926,
     "end_time": "2023-12-14T23:12:20.498730",
     "exception": false,
     "start_time": "2023-12-14T23:12:20.479470",
     "status": "completed"
    },
    "tags": []
   },
   "outputs": [],
   "source": [
    "np.save('datasets/for_comparison/X_test_log.npy', X_test_log)\n",
    "np.save('datasets/for_comparison/X_val_log.npy', X_val_log)\n",
    "y_val_log.to_csv('datasets/for_comparison/y_val_log.csv', index=False)\n",
    "\n",
    "del df_test"
   ]
  },
  {
   "cell_type": "markdown",
   "id": "fc6a02d7",
   "metadata": {
    "papermill": {
     "duration": 0.005991,
     "end_time": "2023-12-14T23:12:20.510113",
     "exception": false,
     "start_time": "2023-12-14T23:12:20.504122",
     "status": "completed"
    },
    "tags": []
   },
   "source": [
    "---"
   ]
  },
  {
   "cell_type": "markdown",
   "id": "20686bb1",
   "metadata": {
    "papermill": {
     "duration": 0.005722,
     "end_time": "2023-12-14T23:12:20.521192",
     "exception": false,
     "start_time": "2023-12-14T23:12:20.515470",
     "status": "completed"
    },
    "tags": []
   },
   "source": [
    "# Вспомогательные функции"
   ]
  },
  {
   "cell_type": "code",
   "execution_count": null,
   "id": "6989c8f8",
   "metadata": {
    "execution": {
     "iopub.execute_input": "2023-12-14T23:12:20.534515Z",
     "iopub.status.busy": "2023-12-14T23:12:20.533389Z",
     "iopub.status.idle": "2023-12-14T23:12:20.539490Z",
     "shell.execute_reply": "2023-12-14T23:12:20.539490Z"
    },
    "papermill": {
     "duration": 0.014299,
     "end_time": "2023-12-14T23:12:20.540568",
     "exception": false,
     "start_time": "2023-12-14T23:12:20.526269",
     "status": "completed"
    },
    "tags": []
   },
   "outputs": [],
   "source": [
    "def grid_search_cv(model, cv, param_grid, X_train_set, y_train_set, scores, refit=True):\n",
    "    grid_search = GridSearchCV(estimator=model, param_grid=param_grid, scoring=scores, cv=cv, refit=refit)\n",
    "\n",
    "    start_time = time.time()\n",
    "\n",
    "    grid_search.fit(X_train_set, y_train_set)\n",
    "\n",
    "    total_time = time.time() - start_time\n",
    "    print(f\"Total time spent on grid search (wall-clock): {total_time:.2f} seconds or \\\n",
    "            {(total_time // 60):.0f} minutes {(total_time % 60):.2f} seconds\")\n",
    "    \n",
    "    return grid_search"
   ]
  },
  {
   "cell_type": "code",
   "execution_count": null,
   "id": "43e7c84b",
   "metadata": {
    "execution": {
     "iopub.execute_input": "2023-12-14T23:12:20.552211Z",
     "iopub.status.busy": "2023-12-14T23:12:20.552211Z",
     "iopub.status.idle": "2023-12-14T23:12:20.558134Z",
     "shell.execute_reply": "2023-12-14T23:12:20.558134Z"
    },
    "papermill": {
     "duration": 0.012442,
     "end_time": "2023-12-14T23:12:20.558134",
     "exception": false,
     "start_time": "2023-12-14T23:12:20.545692",
     "status": "completed"
    },
    "tags": []
   },
   "outputs": [],
   "source": [
    "def custom_refit(cv_results):\n",
    "    sorted_indices = np.lexsort((-cv_results[\"mean_test_roc_auc\"], -cv_results[\"mean_test_f1\"]))\n",
    "    return sorted_indices[0]"
   ]
  },
  {
   "cell_type": "code",
   "execution_count": null,
   "id": "fe96bec4",
   "metadata": {
    "execution": {
     "iopub.execute_input": "2023-12-14T23:12:20.571738Z",
     "iopub.status.busy": "2023-12-14T23:12:20.571738Z",
     "iopub.status.idle": "2023-12-14T23:12:20.582311Z",
     "shell.execute_reply": "2023-12-14T23:12:20.582311Z"
    },
    "papermill": {
     "duration": 0.017893,
     "end_time": "2023-12-14T23:12:20.583415",
     "exception": false,
     "start_time": "2023-12-14T23:12:20.565522",
     "status": "completed"
    },
    "tags": []
   },
   "outputs": [],
   "source": [
    "def print_top_low(grid_search, show_columns, sort_by = ['rank_test_score', 'index'], n_rows = 10):\n",
    "    df_results = pd.DataFrame(grid_search.cv_results_)\n",
    "    df_results.index.name = 'index'\n",
    "    df_results = df_results.sort_values(by=sort_by).reset_index(drop=True)\n",
    "\n",
    "    print('Top ' + str(n_rows))\n",
    "    display(df_results[:n_rows][show_columns])\n",
    "\n",
    "    print('Low ' + str(n_rows))\n",
    "    display(df_results[-n_rows:][show_columns])\n",
    "    \n",
    "    return df_results"
   ]
  },
  {
   "cell_type": "code",
   "execution_count": null,
   "id": "df16ee62",
   "metadata": {
    "execution": {
     "iopub.execute_input": "2023-12-14T23:12:20.595448Z",
     "iopub.status.busy": "2023-12-14T23:12:20.595448Z",
     "iopub.status.idle": "2023-12-14T23:12:20.600337Z",
     "shell.execute_reply": "2023-12-14T23:12:20.600337Z"
    },
    "papermill": {
     "duration": 0.012177,
     "end_time": "2023-12-14T23:12:20.600337",
     "exception": false,
     "start_time": "2023-12-14T23:12:20.588160",
     "status": "completed"
    },
    "tags": []
   },
   "outputs": [],
   "source": [
    "def custom_threshold_scorer(estimator, X, y, threshold=0.5, scorer=f1_score):\n",
    "    probabilities = estimator.predict_proba(X)\n",
    "\n",
    "    predictions = (probabilities[:, 1] >= threshold).astype(int)\n",
    "    score = scorer(y, predictions)\n",
    "\n",
    "    return score"
   ]
  },
  {
   "cell_type": "code",
   "execution_count": null,
   "id": "40e3e52f",
   "metadata": {
    "execution": {
     "iopub.execute_input": "2023-12-14T23:12:20.614455Z",
     "iopub.status.busy": "2023-12-14T23:12:20.612260Z",
     "iopub.status.idle": "2023-12-14T23:12:20.618476Z",
     "shell.execute_reply": "2023-12-14T23:12:20.618476Z"
    },
    "papermill": {
     "duration": 0.013029,
     "end_time": "2023-12-14T23:12:20.619616",
     "exception": false,
     "start_time": "2023-12-14T23:12:20.606587",
     "status": "completed"
    },
    "tags": []
   },
   "outputs": [],
   "source": [
    "def findBestThreshold(model, features, target):\n",
    "    best_result = {'f1': 0, 'roc_auc': 0}\n",
    "    best_threshold = 0\n",
    "\n",
    "    for threshold in np.arange(0, 1.05, 0.05):\n",
    "        print(f'threshold: {threshold:.2f}')\n",
    "        \n",
    "        f1      = custom_threshold_scorer(model, features, target, threshold, f1_score)\n",
    "        roc_auc = roc_auc_score(target, model.predict_proba(features)[:, 1])\n",
    "        print(f\"f1 score: {f1:.6f}\")\n",
    "\n",
    "        if f1 > best_result['f1']:\n",
    "            best_result['f1'] = f1\n",
    "            best_result['roc_auc'] = roc_auc\n",
    "            best_threshold = threshold\n",
    "\n",
    "    return best_threshold, best_result"
   ]
  },
  {
   "cell_type": "code",
   "execution_count": null,
   "id": "a6e67a0a",
   "metadata": {
    "execution": {
     "iopub.execute_input": "2023-12-14T23:12:20.632173Z",
     "iopub.status.busy": "2023-12-14T23:12:20.632173Z",
     "iopub.status.idle": "2023-12-14T23:12:20.637041Z",
     "shell.execute_reply": "2023-12-14T23:12:20.637041Z"
    },
    "papermill": {
     "duration": 0.013027,
     "end_time": "2023-12-14T23:12:20.638108",
     "exception": false,
     "start_time": "2023-12-14T23:12:20.625081",
     "status": "completed"
    },
    "tags": []
   },
   "outputs": [],
   "source": [
    "from sklearn.exceptions import NotFittedError\n",
    "\n",
    "def is_fitted(estimator, X):\n",
    "    try:\n",
    "        estimator.predict(X)\n",
    "        return True\n",
    "    except NotFittedError as e:\n",
    "        print(repr(e))\n",
    "        return False"
   ]
  },
  {
   "cell_type": "markdown",
   "id": "2f8f8360",
   "metadata": {
    "papermill": {
     "duration": 0.006203,
     "end_time": "2023-12-14T23:12:20.649476",
     "exception": false,
     "start_time": "2023-12-14T23:12:20.643273",
     "status": "completed"
    },
    "tags": []
   },
   "source": [
    "# Обучение модели"
   ]
  },
  {
   "cell_type": "code",
   "execution_count": null,
   "id": "f17ed665",
   "metadata": {
    "execution": {
     "iopub.execute_input": "2023-12-14T23:12:20.661588Z",
     "iopub.status.busy": "2023-12-14T23:12:20.661588Z",
     "iopub.status.idle": "2023-12-14T23:12:20.667181Z",
     "shell.execute_reply": "2023-12-14T23:12:20.667181Z"
    },
    "papermill": {
     "duration": 0.013516,
     "end_time": "2023-12-14T23:12:20.668286",
     "exception": false,
     "start_time": "2023-12-14T23:12:20.654770",
     "status": "completed"
    },
    "tags": []
   },
   "outputs": [],
   "source": [
    "param_grid = [\n",
    "    {\n",
    "        \"n_jobs\": [4],\n",
    "        \"penalty\": ['l2'],\n",
    "        \"C\": np.logspace(-5, 5, 20),\n",
    "        \"max_iter\": [100, 1000, 10000]\n",
    "    }\n",
    "]\n",
    "\n",
    "sss = StratifiedShuffleSplit(n_splits=5, test_size=0.2, random_state=42)\n",
    "\n",
    "scores = ['f1', 'roc_auc']\n",
    "\n",
    "columns = ['mean_fit_time', 'param_max_iter', 'param_penalty', 'param_C',\\\n",
    "                'mean_test_f1', 'mean_test_roc_auc', 'rank_test_f1', 'rank_test_roc_auc']\n",
    "\n",
    "log_r = LogisticRegression(random_state=42, multi_class='ovr', solver='lbfgs')"
   ]
  },
  {
   "cell_type": "code",
   "execution_count": null,
   "id": "87f238e8",
   "metadata": {
    "execution": {
     "iopub.execute_input": "2023-12-14T23:12:20.680758Z",
     "iopub.status.busy": "2023-12-14T23:12:20.680758Z",
     "iopub.status.idle": "2023-12-14T23:12:28.437937Z",
     "shell.execute_reply": "2023-12-14T23:12:28.437937Z"
    },
    "papermill": {
     "duration": 7.766531,
     "end_time": "2023-12-14T23:12:28.440065",
     "exception": false,
     "start_time": "2023-12-14T23:12:20.673534",
     "status": "completed"
    },
    "tags": []
   },
   "outputs": [],
   "source": [
    "grid_search = grid_search_cv(log_r, sss, param_grid, X_train_log, y_train_log, scores, custom_refit)"
   ]
  },
  {
   "cell_type": "code",
   "execution_count": null,
   "id": "51ea146a",
   "metadata": {
    "execution": {
     "iopub.execute_input": "2023-12-14T23:12:28.452545Z",
     "iopub.status.busy": "2023-12-14T23:12:28.451547Z",
     "iopub.status.idle": "2023-12-14T23:12:28.485273Z",
     "shell.execute_reply": "2023-12-14T23:12:28.484265Z"
    },
    "papermill": {
     "duration": 0.041088,
     "end_time": "2023-12-14T23:12:28.486272",
     "exception": false,
     "start_time": "2023-12-14T23:12:28.445184",
     "status": "completed"
    },
    "tags": []
   },
   "outputs": [],
   "source": [
    "df_results = print_top_low(grid_search, columns, ['rank_test_f1', 'index'])"
   ]
  },
  {
   "cell_type": "code",
   "execution_count": null,
   "id": "d9f9ae88",
   "metadata": {
    "execution": {
     "iopub.execute_input": "2023-12-14T23:12:28.495034Z",
     "iopub.status.busy": "2023-12-14T23:12:28.495034Z",
     "iopub.status.idle": "2023-12-14T23:12:28.511511Z",
     "shell.execute_reply": "2023-12-14T23:12:28.510509Z"
    },
    "papermill": {
     "duration": 0.020296,
     "end_time": "2023-12-14T23:12:28.512509",
     "exception": false,
     "start_time": "2023-12-14T23:12:28.492213",
     "status": "completed"
    },
    "tags": []
   },
   "outputs": [],
   "source": [
    "is_fitted(grid_search.best_estimator_, X_train_log)"
   ]
  },
  {
   "cell_type": "code",
   "execution_count": null,
   "id": "e44f02c0",
   "metadata": {
    "execution": {
     "iopub.execute_input": "2023-12-14T23:12:28.516447Z",
     "iopub.status.busy": "2023-12-14T23:12:28.516447Z",
     "iopub.status.idle": "2023-12-14T23:12:28.726234Z",
     "shell.execute_reply": "2023-12-14T23:12:28.725166Z"
    },
    "papermill": {
     "duration": 0.212725,
     "end_time": "2023-12-14T23:12:28.729172",
     "exception": false,
     "start_time": "2023-12-14T23:12:28.516447",
     "status": "completed"
    },
    "tags": []
   },
   "outputs": [],
   "source": [
    "%%parameters\n",
    "best_threshold_log = findBestThreshold(grid_search.best_estimator_, X_train_log, y_train_log)"
   ]
  },
  {
   "cell_type": "code",
   "execution_count": null,
   "id": "21f3fd08",
   "metadata": {
    "execution": {
     "iopub.execute_input": "2023-12-14T23:12:28.752501Z",
     "iopub.status.busy": "2023-12-14T23:12:28.752501Z",
     "iopub.status.idle": "2023-12-14T23:12:28.761069Z",
     "shell.execute_reply": "2023-12-14T23:12:28.760014Z"
    },
    "papermill": {
     "duration": 0.02493,
     "end_time": "2023-12-14T23:12:28.764375",
     "exception": false,
     "start_time": "2023-12-14T23:12:28.739445",
     "status": "completed"
    },
    "tags": []
   },
   "outputs": [],
   "source": [
    "new_directory = 'models/'\n",
    "\n",
    "os.makedirs(new_directory, exist_ok=True)"
   ]
  },
  {
   "cell_type": "code",
   "execution_count": null,
   "id": "4076e73e",
   "metadata": {
    "execution": {
     "iopub.execute_input": "2023-12-14T23:12:28.787021Z",
     "iopub.status.busy": "2023-12-14T23:12:28.787021Z",
     "iopub.status.idle": "2023-12-14T23:12:28.795673Z",
     "shell.execute_reply": "2023-12-14T23:12:28.795673Z"
    },
    "papermill": {
     "duration": 0.022728,
     "end_time": "2023-12-14T23:12:28.798622",
     "exception": false,
     "start_time": "2023-12-14T23:12:28.775894",
     "status": "completed"
    },
    "tags": []
   },
   "outputs": [],
   "source": [
    "joblib_logr = 'models/logistic_regression.pkl'\n",
    "joblib.dump(grid_search.best_estimator_, joblib_logr)"
   ]
  },
  {
   "cell_type": "code",
   "execution_count": null,
   "id": "7e181419",
   "metadata": {
    "papermill": {
     "duration": 0.009396,
     "end_time": "2023-12-14T23:12:28.814584",
     "exception": false,
     "start_time": "2023-12-14T23:12:28.805188",
     "status": "completed"
    },
    "tags": []
   },
   "outputs": [],
   "source": []
  }
 ],
 "metadata": {
  "kernelspec": {
   "display_name": "yandex",
   "language": "python",
   "name": "yandex"
  },
  "language_info": {
   "codemirror_mode": {
    "name": "ipython",
    "version": 3
   },
   "file_extension": ".py",
   "mimetype": "text/x-python",
   "name": "python",
   "nbconvert_exporter": "python",
   "pygments_lexer": "ipython3",
   "version": "3.10.13"
  },
  "papermill": {
   "default_parameters": {},
   "duration": 20.719804,
   "end_time": "2023-12-14T23:12:29.605704",
   "environment_variables": {},
   "exception": null,
   "input_path": "D:\\Yandex_practicum\\Projects\\Data_Science\\logistic_regression.ipynb",
   "output_path": "D:\\Yandex_practicum\\Projects\\Data_Science\\logistic_regression.ipynb",
   "parameters": {},
   "start_time": "2023-12-14T23:12:08.885900",
   "version": "2.4.0"
  }
 },
 "nbformat": 4,
 "nbformat_minor": 5
}
