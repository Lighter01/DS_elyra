{
 "cells": [
  {
   "cell_type": "code",
   "execution_count": 1,
   "id": "4019a6b7",
   "metadata": {
    "execution": {
     "iopub.execute_input": "2023-12-14T23:02:45.678280Z",
     "iopub.status.busy": "2023-12-14T23:02:45.678280Z",
     "iopub.status.idle": "2023-12-14T23:02:53.935581Z",
     "shell.execute_reply": "2023-12-14T23:02:53.935581Z"
    },
    "papermill": {
     "duration": 8.264157,
     "end_time": "2023-12-14T23:02:53.937774",
     "exception": false,
     "start_time": "2023-12-14T23:02:45.673617",
     "status": "completed"
    },
    "tags": []
   },
   "outputs": [
    {
     "name": "stdout",
     "output_type": "stream",
     "text": [
      "Requirement already satisfied: joblib in d:\\anaconda\\envs\\yandex\\lib\\site-packages (1.2.0)\n"
     ]
    }
   ],
   "source": [
    "!pip3 install -q numpy==1.22.4\n",
    "!pip3 install -q pandas==1.5.3\n",
    "!pip3 install -q scikit-learn\n",
    "!pip3 install joblib"
   ]
  },
  {
   "cell_type": "code",
   "execution_count": 2,
   "id": "43a0a75e",
   "metadata": {
    "execution": {
     "iopub.execute_input": "2023-12-14T23:02:53.941753Z",
     "iopub.status.busy": "2023-12-14T23:02:53.941753Z",
     "iopub.status.idle": "2023-12-14T23:02:55.219346Z",
     "shell.execute_reply": "2023-12-14T23:02:55.219346Z"
    },
    "papermill": {
     "duration": 1.284092,
     "end_time": "2023-12-14T23:02:55.225845",
     "exception": false,
     "start_time": "2023-12-14T23:02:53.941753",
     "status": "completed"
    },
    "tags": []
   },
   "outputs": [],
   "source": [
    "import pandas as pd\n",
    "import numpy as np\n",
    "from sklearn.linear_model import LogisticRegression\n",
    "from sklearn.model_selection import GridSearchCV, StratifiedShuffleSplit, train_test_split\n",
    "from sklearn.metrics import f1_score, roc_auc_score\n",
    "from sklearn.preprocessing import StandardScaler\n",
    "import joblib \n",
    "\n",
    "import time\n",
    "import os"
   ]
  },
  {
   "cell_type": "markdown",
   "id": "f6704502",
   "metadata": {
    "papermill": {
     "duration": 0.005321,
     "end_time": "2023-12-14T23:02:55.236678",
     "exception": false,
     "start_time": "2023-12-14T23:02:55.231357",
     "status": "completed"
    },
    "tags": []
   },
   "source": [
    "---"
   ]
  },
  {
   "cell_type": "markdown",
   "id": "3ebf0840",
   "metadata": {
    "papermill": {
     "duration": 0.005356,
     "end_time": "2023-12-14T23:02:55.246908",
     "exception": false,
     "start_time": "2023-12-14T23:02:55.241552",
     "status": "completed"
    },
    "tags": []
   },
   "source": [
    "Чтение данных"
   ]
  },
  {
   "cell_type": "code",
   "execution_count": 3,
   "id": "d680dc74",
   "metadata": {
    "execution": {
     "iopub.execute_input": "2023-12-14T23:02:55.256680Z",
     "iopub.status.busy": "2023-12-14T23:02:55.256680Z",
     "iopub.status.idle": "2023-12-14T23:02:55.292138Z",
     "shell.execute_reply": "2023-12-14T23:02:55.292138Z"
    },
    "papermill": {
     "duration": 0.042528,
     "end_time": "2023-12-14T23:02:55.293174",
     "exception": false,
     "start_time": "2023-12-14T23:02:55.250646",
     "status": "completed"
    },
    "tags": []
   },
   "outputs": [],
   "source": [
    "path1 = 'datasets/regression/train_log.csv'\n",
    "path2 = 'datasets/regression/test_log.csv'\n",
    "\n",
    "def read_file(path):\n",
    "    df = pd.DataFrame()\n",
    "    if os.path.exists(path):\n",
    "        df = pd.read_csv(path, sep=',')\n",
    "    elif os.path.exists(path[1:]):\n",
    "        df = pd.read_csv(path[1:], sep=',')\n",
    "    else:\n",
    "        print('No such file or directory') \n",
    "        raise FileNotFoundError('No such file or directory')\n",
    "    return df\n",
    "\n",
    "df_train = read_file(path1)\n",
    "df_test  = read_file(path2)"
   ]
  },
  {
   "cell_type": "markdown",
   "id": "7f456c51",
   "metadata": {
    "papermill": {
     "duration": 0.004884,
     "end_time": "2023-12-14T23:02:55.304104",
     "exception": false,
     "start_time": "2023-12-14T23:02:55.299220",
     "status": "completed"
    },
    "tags": []
   },
   "source": [
    "---"
   ]
  },
  {
   "cell_type": "markdown",
   "id": "c11e8619",
   "metadata": {
    "papermill": {
     "duration": 0.011579,
     "end_time": "2023-12-14T23:02:55.316735",
     "exception": false,
     "start_time": "2023-12-14T23:02:55.305156",
     "status": "completed"
    },
    "tags": []
   },
   "source": [
    "## Разбиение тренировочной выборки на тренировочную и владиационную"
   ]
  },
  {
   "cell_type": "code",
   "execution_count": 4,
   "id": "5118ee92",
   "metadata": {
    "execution": {
     "iopub.execute_input": "2023-12-14T23:02:55.329245Z",
     "iopub.status.busy": "2023-12-14T23:02:55.328245Z",
     "iopub.status.idle": "2023-12-14T23:02:55.341990Z",
     "shell.execute_reply": "2023-12-14T23:02:55.341990Z"
    },
    "papermill": {
     "duration": 0.022324,
     "end_time": "2023-12-14T23:02:55.344468",
     "exception": false,
     "start_time": "2023-12-14T23:02:55.322144",
     "status": "completed"
    },
    "tags": []
   },
   "outputs": [
    {
     "name": "stdout",
     "output_type": "stream",
     "text": [
      "8673\n"
     ]
    }
   ],
   "source": [
    "X_log = df_train.drop(columns=['Transported'], axis=1)\n",
    "y_log = df_train.Transported\n",
    "\n",
    "print(y_log.shape[0])"
   ]
  },
  {
   "cell_type": "code",
   "execution_count": 5,
   "id": "c0bf5248",
   "metadata": {
    "execution": {
     "iopub.execute_input": "2023-12-14T23:02:55.357216Z",
     "iopub.status.busy": "2023-12-14T23:02:55.356101Z",
     "iopub.status.idle": "2023-12-14T23:02:55.372737Z",
     "shell.execute_reply": "2023-12-14T23:02:55.372737Z"
    },
    "papermill": {
     "duration": 0.023692,
     "end_time": "2023-12-14T23:02:55.374060",
     "exception": false,
     "start_time": "2023-12-14T23:02:55.350368",
     "status": "completed"
    },
    "tags": []
   },
   "outputs": [
    {
     "name": "stdout",
     "output_type": "stream",
     "text": [
      "(6071,) (2602,)\n"
     ]
    }
   ],
   "source": [
    "X_train_log, X_val_log, y_train_log, y_val_log = \\\n",
    "        train_test_split(X_log, y_log, test_size = 0.3, shuffle=True, random_state = 42)\n",
    "\n",
    "print(y_train_log.shape, y_val_log.shape)"
   ]
  },
  {
   "cell_type": "markdown",
   "id": "cfd4f081",
   "metadata": {
    "papermill": {
     "duration": 0.004677,
     "end_time": "2023-12-14T23:02:55.385084",
     "exception": false,
     "start_time": "2023-12-14T23:02:55.380407",
     "status": "completed"
    },
    "tags": []
   },
   "source": [
    "---"
   ]
  },
  {
   "cell_type": "code",
   "execution_count": 6,
   "id": "e98881c5",
   "metadata": {
    "execution": {
     "iopub.execute_input": "2023-12-14T23:02:55.396648Z",
     "iopub.status.busy": "2023-12-14T23:02:55.396648Z",
     "iopub.status.idle": "2023-12-14T23:02:55.431577Z",
     "shell.execute_reply": "2023-12-14T23:02:55.431577Z"
    },
    "papermill": {
     "duration": 0.041096,
     "end_time": "2023-12-14T23:02:55.431577",
     "exception": false,
     "start_time": "2023-12-14T23:02:55.390481",
     "status": "completed"
    },
    "tags": []
   },
   "outputs": [
    {
     "data": {
      "text/html": [
       "<div>\n",
       "<style scoped>\n",
       "    .dataframe tbody tr th:only-of-type {\n",
       "        vertical-align: middle;\n",
       "    }\n",
       "\n",
       "    .dataframe tbody tr th {\n",
       "        vertical-align: top;\n",
       "    }\n",
       "\n",
       "    .dataframe thead th {\n",
       "        text-align: right;\n",
       "    }\n",
       "</style>\n",
       "<table border=\"1\" class=\"dataframe\">\n",
       "  <thead>\n",
       "    <tr style=\"text-align: right;\">\n",
       "      <th></th>\n",
       "      <th>CryoSleep</th>\n",
       "      <th>Age</th>\n",
       "      <th>VIP</th>\n",
       "      <th>RoomService</th>\n",
       "      <th>FoodCourt</th>\n",
       "      <th>ShoppingMall</th>\n",
       "      <th>Spa</th>\n",
       "      <th>VRDeck</th>\n",
       "      <th>has_services</th>\n",
       "      <th>HomePlanet_Europa</th>\n",
       "      <th>HomePlanet_Mars</th>\n",
       "      <th>Cabin_S</th>\n",
       "      <th>Destination_PSO J318.5-22</th>\n",
       "      <th>Destination_TRAPPIST-1e</th>\n",
       "    </tr>\n",
       "  </thead>\n",
       "  <tbody>\n",
       "    <tr>\n",
       "      <th>0</th>\n",
       "      <td>1</td>\n",
       "      <td>27.0</td>\n",
       "      <td>0</td>\n",
       "      <td>0.0</td>\n",
       "      <td>0.0</td>\n",
       "      <td>0.0</td>\n",
       "      <td>0.0</td>\n",
       "      <td>0.0</td>\n",
       "      <td>0</td>\n",
       "      <td>False</td>\n",
       "      <td>False</td>\n",
       "      <td>True</td>\n",
       "      <td>False</td>\n",
       "      <td>True</td>\n",
       "    </tr>\n",
       "    <tr>\n",
       "      <th>1</th>\n",
       "      <td>0</td>\n",
       "      <td>19.0</td>\n",
       "      <td>0</td>\n",
       "      <td>0.0</td>\n",
       "      <td>9.0</td>\n",
       "      <td>0.0</td>\n",
       "      <td>2823.0</td>\n",
       "      <td>0.0</td>\n",
       "      <td>1</td>\n",
       "      <td>False</td>\n",
       "      <td>False</td>\n",
       "      <td>True</td>\n",
       "      <td>False</td>\n",
       "      <td>True</td>\n",
       "    </tr>\n",
       "    <tr>\n",
       "      <th>2</th>\n",
       "      <td>1</td>\n",
       "      <td>31.0</td>\n",
       "      <td>0</td>\n",
       "      <td>0.0</td>\n",
       "      <td>0.0</td>\n",
       "      <td>0.0</td>\n",
       "      <td>0.0</td>\n",
       "      <td>0.0</td>\n",
       "      <td>0</td>\n",
       "      <td>True</td>\n",
       "      <td>False</td>\n",
       "      <td>True</td>\n",
       "      <td>False</td>\n",
       "      <td>False</td>\n",
       "    </tr>\n",
       "    <tr>\n",
       "      <th>3</th>\n",
       "      <td>0</td>\n",
       "      <td>38.0</td>\n",
       "      <td>0</td>\n",
       "      <td>0.0</td>\n",
       "      <td>6652.0</td>\n",
       "      <td>0.0</td>\n",
       "      <td>181.0</td>\n",
       "      <td>585.0</td>\n",
       "      <td>1</td>\n",
       "      <td>True</td>\n",
       "      <td>False</td>\n",
       "      <td>True</td>\n",
       "      <td>False</td>\n",
       "      <td>True</td>\n",
       "    </tr>\n",
       "    <tr>\n",
       "      <th>4</th>\n",
       "      <td>0</td>\n",
       "      <td>20.0</td>\n",
       "      <td>0</td>\n",
       "      <td>10.0</td>\n",
       "      <td>0.0</td>\n",
       "      <td>635.0</td>\n",
       "      <td>0.0</td>\n",
       "      <td>0.0</td>\n",
       "      <td>1</td>\n",
       "      <td>False</td>\n",
       "      <td>False</td>\n",
       "      <td>True</td>\n",
       "      <td>False</td>\n",
       "      <td>True</td>\n",
       "    </tr>\n",
       "  </tbody>\n",
       "</table>\n",
       "</div>"
      ],
      "text/plain": [
       "   CryoSleep   Age  VIP  RoomService  FoodCourt  ShoppingMall     Spa  VRDeck  \\\n",
       "0          1  27.0    0          0.0        0.0           0.0     0.0     0.0   \n",
       "1          0  19.0    0          0.0        9.0           0.0  2823.0     0.0   \n",
       "2          1  31.0    0          0.0        0.0           0.0     0.0     0.0   \n",
       "3          0  38.0    0          0.0     6652.0           0.0   181.0   585.0   \n",
       "4          0  20.0    0         10.0        0.0         635.0     0.0     0.0   \n",
       "\n",
       "   has_services  HomePlanet_Europa  HomePlanet_Mars  Cabin_S  \\\n",
       "0             0              False            False     True   \n",
       "1             1              False            False     True   \n",
       "2             0               True            False     True   \n",
       "3             1               True            False     True   \n",
       "4             1              False            False     True   \n",
       "\n",
       "   Destination_PSO J318.5-22  Destination_TRAPPIST-1e  \n",
       "0                      False                     True  \n",
       "1                      False                     True  \n",
       "2                      False                    False  \n",
       "3                      False                     True  \n",
       "4                      False                     True  "
      ]
     },
     "execution_count": 6,
     "metadata": {},
     "output_type": "execute_result"
    }
   ],
   "source": [
    "df_test.head()"
   ]
  },
  {
   "cell_type": "markdown",
   "id": "f7f44892",
   "metadata": {
    "papermill": {
     "duration": 0.004002,
     "end_time": "2023-12-14T23:02:55.443163",
     "exception": false,
     "start_time": "2023-12-14T23:02:55.439161",
     "status": "completed"
    },
    "tags": []
   },
   "source": [
    "Скалирование"
   ]
  },
  {
   "cell_type": "code",
   "execution_count": 7,
   "id": "5009a8a3",
   "metadata": {
    "execution": {
     "iopub.execute_input": "2023-12-14T23:02:55.447790Z",
     "iopub.status.busy": "2023-12-14T23:02:55.447790Z",
     "iopub.status.idle": "2023-12-14T23:02:55.475305Z",
     "shell.execute_reply": "2023-12-14T23:02:55.475305Z"
    },
    "papermill": {
     "duration": 0.029985,
     "end_time": "2023-12-14T23:02:55.477775",
     "exception": false,
     "start_time": "2023-12-14T23:02:55.447790",
     "status": "completed"
    },
    "tags": []
   },
   "outputs": [],
   "source": [
    "scaler = StandardScaler()\n",
    "scaler.fit(X_train_log)\n",
    "\n",
    "X_train_log = scaler.transform(X_train_log)\n",
    "X_val_log   = scaler.transform(X_val_log)\n",
    "X_test_log  = scaler.transform(df_test)"
   ]
  },
  {
   "cell_type": "markdown",
   "id": "fcfb3c98",
   "metadata": {
    "papermill": {
     "duration": 0.006516,
     "end_time": "2023-12-14T23:02:55.484819",
     "exception": false,
     "start_time": "2023-12-14T23:02:55.478303",
     "status": "completed"
    },
    "tags": []
   },
   "source": [
    "Сразу сохраняем скалированную тестовую выборку для следующего шага выбора лучшей модели."
   ]
  },
  {
   "cell_type": "code",
   "execution_count": 8,
   "id": "8cbf8072",
   "metadata": {
    "execution": {
     "iopub.execute_input": "2023-12-14T23:02:55.492261Z",
     "iopub.status.busy": "2023-12-14T23:02:55.492261Z",
     "iopub.status.idle": "2023-12-14T23:02:55.506745Z",
     "shell.execute_reply": "2023-12-14T23:02:55.506745Z"
    },
    "papermill": {
     "duration": 0.014484,
     "end_time": "2023-12-14T23:02:55.506745",
     "exception": false,
     "start_time": "2023-12-14T23:02:55.492261",
     "status": "completed"
    },
    "tags": []
   },
   "outputs": [],
   "source": [
    "new_directory = 'datasets/for_comparison'\n",
    "\n",
    "os.makedirs(new_directory, exist_ok=True)"
   ]
  },
  {
   "cell_type": "code",
   "execution_count": 9,
   "id": "9ae6b51a",
   "metadata": {
    "execution": {
     "iopub.execute_input": "2023-12-14T23:02:55.506745Z",
     "iopub.status.busy": "2023-12-14T23:02:55.506745Z",
     "iopub.status.idle": "2023-12-14T23:02:55.537799Z",
     "shell.execute_reply": "2023-12-14T23:02:55.537799Z"
    },
    "papermill": {
     "duration": 0.033596,
     "end_time": "2023-12-14T23:02:55.540341",
     "exception": false,
     "start_time": "2023-12-14T23:02:55.506745",
     "status": "completed"
    },
    "tags": []
   },
   "outputs": [],
   "source": [
    "np.save('datasets/for_comparison/X_test_log.npy', X_test_log)\n",
    "np.save('datasets/for_comparison/X_val_log.npy', X_val_log)\n",
    "y_val_log.to_csv('datasets/for_comparison/y_val_log.csv', index=False)\n",
    "\n",
    "del df_test"
   ]
  },
  {
   "cell_type": "markdown",
   "id": "fc6a02d7",
   "metadata": {
    "papermill": {
     "duration": 0.005533,
     "end_time": "2023-12-14T23:02:55.550168",
     "exception": false,
     "start_time": "2023-12-14T23:02:55.544635",
     "status": "completed"
    },
    "tags": []
   },
   "source": [
    "---"
   ]
  },
  {
   "cell_type": "markdown",
   "id": "20686bb1",
   "metadata": {
    "papermill": {
     "duration": 0.0,
     "end_time": "2023-12-14T23:02:55.552440",
     "exception": false,
     "start_time": "2023-12-14T23:02:55.552440",
     "status": "completed"
    },
    "tags": []
   },
   "source": [
    "# Вспомогательные функции"
   ]
  },
  {
   "cell_type": "code",
   "execution_count": 10,
   "id": "6989c8f8",
   "metadata": {
    "execution": {
     "iopub.execute_input": "2023-12-14T23:02:55.568090Z",
     "iopub.status.busy": "2023-12-14T23:02:55.568090Z",
     "iopub.status.idle": "2023-12-14T23:02:55.584235Z",
     "shell.execute_reply": "2023-12-14T23:02:55.584235Z"
    },
    "papermill": {
     "duration": 0.031795,
     "end_time": "2023-12-14T23:02:55.584235",
     "exception": false,
     "start_time": "2023-12-14T23:02:55.552440",
     "status": "completed"
    },
    "tags": []
   },
   "outputs": [],
   "source": [
    "def grid_search_cv(model, cv, param_grid, X_train_set, y_train_set, scores, refit=True):\n",
    "    grid_search = GridSearchCV(estimator=model, param_grid=param_grid, scoring=scores, cv=cv, refit=refit)\n",
    "\n",
    "    start_time = time.time()\n",
    "\n",
    "    grid_search.fit(X_train_set, y_train_set)\n",
    "\n",
    "    total_time = time.time() - start_time\n",
    "    print(f\"Total time spent on grid search (wall-clock): {total_time:.2f} seconds or \\\n",
    "            {(total_time // 60):.0f} minutes {(total_time % 60):.2f} seconds\")\n",
    "    \n",
    "    return grid_search"
   ]
  },
  {
   "cell_type": "code",
   "execution_count": 11,
   "id": "43e7c84b",
   "metadata": {
    "execution": {
     "iopub.execute_input": "2023-12-14T23:02:55.597481Z",
     "iopub.status.busy": "2023-12-14T23:02:55.597481Z",
     "iopub.status.idle": "2023-12-14T23:02:55.616105Z",
     "shell.execute_reply": "2023-12-14T23:02:55.616105Z"
    },
    "papermill": {
     "duration": 0.03187,
     "end_time": "2023-12-14T23:02:55.616105",
     "exception": false,
     "start_time": "2023-12-14T23:02:55.584235",
     "status": "completed"
    },
    "tags": []
   },
   "outputs": [],
   "source": [
    "def custom_refit(cv_results):\n",
    "    sorted_indices = np.lexsort((-cv_results[\"mean_test_roc_auc\"], -cv_results[\"mean_test_f1\"]))\n",
    "    return sorted_indices[0]"
   ]
  },
  {
   "cell_type": "code",
   "execution_count": 12,
   "id": "fe96bec4",
   "metadata": {
    "execution": {
     "iopub.execute_input": "2023-12-14T23:02:55.630728Z",
     "iopub.status.busy": "2023-12-14T23:02:55.630728Z",
     "iopub.status.idle": "2023-12-14T23:02:55.648218Z",
     "shell.execute_reply": "2023-12-14T23:02:55.648218Z"
    },
    "papermill": {
     "duration": 0.034556,
     "end_time": "2023-12-14T23:02:55.650661",
     "exception": false,
     "start_time": "2023-12-14T23:02:55.616105",
     "status": "completed"
    },
    "tags": []
   },
   "outputs": [],
   "source": [
    "def print_top_low(grid_search, show_columns, sort_by = ['rank_test_score', 'index'], n_rows = 10):\n",
    "    df_results = pd.DataFrame(grid_search.cv_results_)\n",
    "    df_results.index.name = 'index'\n",
    "    df_results = df_results.sort_values(by=sort_by).reset_index(drop=True)\n",
    "\n",
    "    print('Top ' + str(n_rows))\n",
    "    display(df_results[:n_rows][show_columns])\n",
    "\n",
    "    print('Low ' + str(n_rows))\n",
    "    display(df_results[-n_rows:][show_columns])\n",
    "    \n",
    "    return df_results"
   ]
  },
  {
   "cell_type": "code",
   "execution_count": 13,
   "id": "df16ee62",
   "metadata": {
    "execution": {
     "iopub.execute_input": "2023-12-14T23:02:55.662530Z",
     "iopub.status.busy": "2023-12-14T23:02:55.662530Z",
     "iopub.status.idle": "2023-12-14T23:02:55.683618Z",
     "shell.execute_reply": "2023-12-14T23:02:55.682617Z"
    },
    "papermill": {
     "duration": 0.030081,
     "end_time": "2023-12-14T23:02:55.685618",
     "exception": false,
     "start_time": "2023-12-14T23:02:55.655537",
     "status": "completed"
    },
    "tags": []
   },
   "outputs": [],
   "source": [
    "def custom_threshold_scorer(estimator, X, y, threshold=0.5, scorer=f1_score):\n",
    "    probabilities = estimator.predict_proba(X)\n",
    "\n",
    "    predictions = (probabilities[:, 1] >= threshold).astype(int)\n",
    "    score = scorer(y, predictions)\n",
    "\n",
    "    return score"
   ]
  },
  {
   "cell_type": "code",
   "execution_count": 14,
   "id": "40e3e52f",
   "metadata": {
    "execution": {
     "iopub.execute_input": "2023-12-14T23:02:55.696066Z",
     "iopub.status.busy": "2023-12-14T23:02:55.696066Z",
     "iopub.status.idle": "2023-12-14T23:02:55.701578Z",
     "shell.execute_reply": "2023-12-14T23:02:55.701578Z"
    },
    "papermill": {
     "duration": 0.01556,
     "end_time": "2023-12-14T23:02:55.702908",
     "exception": false,
     "start_time": "2023-12-14T23:02:55.687348",
     "status": "completed"
    },
    "tags": []
   },
   "outputs": [],
   "source": [
    "def findBestThreshold(model, features, target):\n",
    "    best_result = {'f1': 0, 'roc_auc': 0}\n",
    "    best_threshold = 0\n",
    "\n",
    "    for threshold in np.arange(0, 1.05, 0.05):\n",
    "        print(f'threshold: {threshold:.2f}')\n",
    "        \n",
    "        f1      = custom_threshold_scorer(model, features, target, threshold, f1_score)\n",
    "        roc_auc = roc_auc_score(target, model.predict_proba(features)[:, 1])\n",
    "        print(f\"f1 score: {f1:.6f}\")\n",
    "\n",
    "        if f1 > best_result['f1']:\n",
    "            best_result['f1'] = f1\n",
    "            best_result['roc_auc'] = roc_auc\n",
    "            best_threshold = threshold\n",
    "\n",
    "    return best_threshold, best_result"
   ]
  },
  {
   "cell_type": "code",
   "execution_count": 15,
   "id": "a6e67a0a",
   "metadata": {
    "execution": {
     "iopub.execute_input": "2023-12-14T23:02:55.714509Z",
     "iopub.status.busy": "2023-12-14T23:02:55.714509Z",
     "iopub.status.idle": "2023-12-14T23:02:55.733379Z",
     "shell.execute_reply": "2023-12-14T23:02:55.733379Z"
    },
    "papermill": {
     "duration": 0.028776,
     "end_time": "2023-12-14T23:02:55.733379",
     "exception": false,
     "start_time": "2023-12-14T23:02:55.704603",
     "status": "completed"
    },
    "tags": []
   },
   "outputs": [],
   "source": [
    "from sklearn.exceptions import NotFittedError\n",
    "\n",
    "def is_fitted(estimator, X):\n",
    "    try:\n",
    "        estimator.predict(X)\n",
    "        return True\n",
    "    except NotFittedError as e:\n",
    "        print(repr(e))\n",
    "        return False"
   ]
  },
  {
   "cell_type": "markdown",
   "id": "2f8f8360",
   "metadata": {
    "papermill": {
     "duration": 0.009624,
     "end_time": "2023-12-14T23:02:55.743003",
     "exception": false,
     "start_time": "2023-12-14T23:02:55.733379",
     "status": "completed"
    },
    "tags": []
   },
   "source": [
    "# Обучение модели"
   ]
  },
  {
   "cell_type": "code",
   "execution_count": 16,
   "id": "f17ed665",
   "metadata": {
    "execution": {
     "iopub.execute_input": "2023-12-14T23:02:55.758409Z",
     "iopub.status.busy": "2023-12-14T23:02:55.758409Z",
     "iopub.status.idle": "2023-12-14T23:02:55.764311Z",
     "shell.execute_reply": "2023-12-14T23:02:55.764311Z"
    },
    "papermill": {
     "duration": 0.018608,
     "end_time": "2023-12-14T23:02:55.767217",
     "exception": false,
     "start_time": "2023-12-14T23:02:55.748609",
     "status": "completed"
    },
    "tags": []
   },
   "outputs": [],
   "source": [
    "param_grid = [\n",
    "    {\n",
    "        \"n_jobs\": [4],\n",
    "        \"penalty\": ['l2'],\n",
    "        \"C\": np.logspace(-5, 5, 20),\n",
    "        \"max_iter\": [100, 1000, 10000]\n",
    "    }\n",
    "]\n",
    "\n",
    "sss = StratifiedShuffleSplit(n_splits=5, test_size=0.2, random_state=42)\n",
    "\n",
    "scores = ['f1', 'roc_auc']\n",
    "\n",
    "columns = ['mean_fit_time', 'param_max_iter', 'param_penalty', 'param_C',\\\n",
    "                'mean_test_f1', 'mean_test_roc_auc', 'rank_test_f1', 'rank_test_roc_auc']\n",
    "\n",
    "log_r = LogisticRegression(random_state=42, multi_class='ovr', solver='lbfgs')"
   ]
  },
  {
   "cell_type": "code",
   "execution_count": 17,
   "id": "87f238e8",
   "metadata": {
    "execution": {
     "iopub.execute_input": "2023-12-14T23:02:55.783961Z",
     "iopub.status.busy": "2023-12-14T23:02:55.783961Z",
     "iopub.status.idle": "2023-12-14T23:03:03.710234Z",
     "shell.execute_reply": "2023-12-14T23:03:03.709138Z"
    },
    "papermill": {
     "duration": 7.936245,
     "end_time": "2023-12-14T23:03:03.712124",
     "exception": false,
     "start_time": "2023-12-14T23:02:55.775879",
     "status": "completed"
    },
    "tags": []
   },
   "outputs": [
    {
     "name": "stdout",
     "output_type": "stream",
     "text": [
      "Total time spent on grid search (wall-clock): 7.91 seconds or             0 minutes 7.91 seconds\n"
     ]
    }
   ],
   "source": [
    "grid_search = grid_search_cv(log_r, sss, param_grid, X_train_log, y_train_log, scores, custom_refit)"
   ]
  },
  {
   "cell_type": "code",
   "execution_count": 18,
   "id": "51ea146a",
   "metadata": {
    "execution": {
     "iopub.execute_input": "2023-12-14T23:03:03.728356Z",
     "iopub.status.busy": "2023-12-14T23:03:03.727376Z",
     "iopub.status.idle": "2023-12-14T23:03:03.755032Z",
     "shell.execute_reply": "2023-12-14T23:03:03.755032Z"
    },
    "papermill": {
     "duration": 0.040636,
     "end_time": "2023-12-14T23:03:03.757763",
     "exception": false,
     "start_time": "2023-12-14T23:03:03.717127",
     "status": "completed"
    },
    "tags": []
   },
   "outputs": [
    {
     "name": "stdout",
     "output_type": "stream",
     "text": [
      "Top 10\n"
     ]
    },
    {
     "data": {
      "text/html": [
       "<div>\n",
       "<style scoped>\n",
       "    .dataframe tbody tr th:only-of-type {\n",
       "        vertical-align: middle;\n",
       "    }\n",
       "\n",
       "    .dataframe tbody tr th {\n",
       "        vertical-align: top;\n",
       "    }\n",
       "\n",
       "    .dataframe thead th {\n",
       "        text-align: right;\n",
       "    }\n",
       "</style>\n",
       "<table border=\"1\" class=\"dataframe\">\n",
       "  <thead>\n",
       "    <tr style=\"text-align: right;\">\n",
       "      <th></th>\n",
       "      <th>mean_fit_time</th>\n",
       "      <th>param_max_iter</th>\n",
       "      <th>param_penalty</th>\n",
       "      <th>param_C</th>\n",
       "      <th>mean_test_f1</th>\n",
       "      <th>mean_test_roc_auc</th>\n",
       "      <th>rank_test_f1</th>\n",
       "      <th>rank_test_roc_auc</th>\n",
       "    </tr>\n",
       "  </thead>\n",
       "  <tbody>\n",
       "    <tr>\n",
       "      <th>0</th>\n",
       "      <td>0.013677</td>\n",
       "      <td>100</td>\n",
       "      <td>l2</td>\n",
       "      <td>69.51928</td>\n",
       "      <td>0.798911</td>\n",
       "      <td>0.875774</td>\n",
       "      <td>1</td>\n",
       "      <td>13</td>\n",
       "    </tr>\n",
       "    <tr>\n",
       "      <th>1</th>\n",
       "      <td>0.014192</td>\n",
       "      <td>1000</td>\n",
       "      <td>l2</td>\n",
       "      <td>69.51928</td>\n",
       "      <td>0.798911</td>\n",
       "      <td>0.875774</td>\n",
       "      <td>1</td>\n",
       "      <td>13</td>\n",
       "    </tr>\n",
       "    <tr>\n",
       "      <th>2</th>\n",
       "      <td>0.013232</td>\n",
       "      <td>10000</td>\n",
       "      <td>l2</td>\n",
       "      <td>69.51928</td>\n",
       "      <td>0.798911</td>\n",
       "      <td>0.875774</td>\n",
       "      <td>1</td>\n",
       "      <td>13</td>\n",
       "    </tr>\n",
       "    <tr>\n",
       "      <th>3</th>\n",
       "      <td>0.014075</td>\n",
       "      <td>100</td>\n",
       "      <td>l2</td>\n",
       "      <td>233.572147</td>\n",
       "      <td>0.798911</td>\n",
       "      <td>0.875776</td>\n",
       "      <td>1</td>\n",
       "      <td>1</td>\n",
       "    </tr>\n",
       "    <tr>\n",
       "      <th>4</th>\n",
       "      <td>0.013116</td>\n",
       "      <td>1000</td>\n",
       "      <td>l2</td>\n",
       "      <td>233.572147</td>\n",
       "      <td>0.798911</td>\n",
       "      <td>0.875776</td>\n",
       "      <td>1</td>\n",
       "      <td>1</td>\n",
       "    </tr>\n",
       "    <tr>\n",
       "      <th>5</th>\n",
       "      <td>0.013574</td>\n",
       "      <td>10000</td>\n",
       "      <td>l2</td>\n",
       "      <td>233.572147</td>\n",
       "      <td>0.798911</td>\n",
       "      <td>0.875776</td>\n",
       "      <td>1</td>\n",
       "      <td>1</td>\n",
       "    </tr>\n",
       "    <tr>\n",
       "      <th>6</th>\n",
       "      <td>0.014580</td>\n",
       "      <td>100</td>\n",
       "      <td>l2</td>\n",
       "      <td>784.75997</td>\n",
       "      <td>0.798911</td>\n",
       "      <td>0.875776</td>\n",
       "      <td>1</td>\n",
       "      <td>1</td>\n",
       "    </tr>\n",
       "    <tr>\n",
       "      <th>7</th>\n",
       "      <td>0.014226</td>\n",
       "      <td>1000</td>\n",
       "      <td>l2</td>\n",
       "      <td>784.75997</td>\n",
       "      <td>0.798911</td>\n",
       "      <td>0.875776</td>\n",
       "      <td>1</td>\n",
       "      <td>1</td>\n",
       "    </tr>\n",
       "    <tr>\n",
       "      <th>8</th>\n",
       "      <td>0.014199</td>\n",
       "      <td>10000</td>\n",
       "      <td>l2</td>\n",
       "      <td>784.75997</td>\n",
       "      <td>0.798911</td>\n",
       "      <td>0.875776</td>\n",
       "      <td>1</td>\n",
       "      <td>1</td>\n",
       "    </tr>\n",
       "    <tr>\n",
       "      <th>9</th>\n",
       "      <td>0.013006</td>\n",
       "      <td>100</td>\n",
       "      <td>l2</td>\n",
       "      <td>2636.650899</td>\n",
       "      <td>0.798911</td>\n",
       "      <td>0.875775</td>\n",
       "      <td>1</td>\n",
       "      <td>7</td>\n",
       "    </tr>\n",
       "  </tbody>\n",
       "</table>\n",
       "</div>"
      ],
      "text/plain": [
       "   mean_fit_time param_max_iter param_penalty      param_C  mean_test_f1  \\\n",
       "0       0.013677            100            l2     69.51928      0.798911   \n",
       "1       0.014192           1000            l2     69.51928      0.798911   \n",
       "2       0.013232          10000            l2     69.51928      0.798911   \n",
       "3       0.014075            100            l2   233.572147      0.798911   \n",
       "4       0.013116           1000            l2   233.572147      0.798911   \n",
       "5       0.013574          10000            l2   233.572147      0.798911   \n",
       "6       0.014580            100            l2    784.75997      0.798911   \n",
       "7       0.014226           1000            l2    784.75997      0.798911   \n",
       "8       0.014199          10000            l2    784.75997      0.798911   \n",
       "9       0.013006            100            l2  2636.650899      0.798911   \n",
       "\n",
       "   mean_test_roc_auc  rank_test_f1  rank_test_roc_auc  \n",
       "0           0.875774             1                 13  \n",
       "1           0.875774             1                 13  \n",
       "2           0.875774             1                 13  \n",
       "3           0.875776             1                  1  \n",
       "4           0.875776             1                  1  \n",
       "5           0.875776             1                  1  \n",
       "6           0.875776             1                  1  \n",
       "7           0.875776             1                  1  \n",
       "8           0.875776             1                  1  \n",
       "9           0.875775             1                  7  "
      ]
     },
     "metadata": {},
     "output_type": "display_data"
    },
    {
     "name": "stdout",
     "output_type": "stream",
     "text": [
      "Low 10\n"
     ]
    },
    {
     "data": {
      "text/html": [
       "<div>\n",
       "<style scoped>\n",
       "    .dataframe tbody tr th:only-of-type {\n",
       "        vertical-align: middle;\n",
       "    }\n",
       "\n",
       "    .dataframe tbody tr th {\n",
       "        vertical-align: top;\n",
       "    }\n",
       "\n",
       "    .dataframe thead th {\n",
       "        text-align: right;\n",
       "    }\n",
       "</style>\n",
       "<table border=\"1\" class=\"dataframe\">\n",
       "  <thead>\n",
       "    <tr style=\"text-align: right;\">\n",
       "      <th></th>\n",
       "      <th>mean_fit_time</th>\n",
       "      <th>param_max_iter</th>\n",
       "      <th>param_penalty</th>\n",
       "      <th>param_C</th>\n",
       "      <th>mean_test_f1</th>\n",
       "      <th>mean_test_roc_auc</th>\n",
       "      <th>rank_test_f1</th>\n",
       "      <th>rank_test_roc_auc</th>\n",
       "    </tr>\n",
       "  </thead>\n",
       "  <tbody>\n",
       "    <tr>\n",
       "      <th>50</th>\n",
       "      <td>0.007245</td>\n",
       "      <td>10000</td>\n",
       "      <td>l2</td>\n",
       "      <td>0.001274</td>\n",
       "      <td>0.760851</td>\n",
       "      <td>0.855660</td>\n",
       "      <td>49</td>\n",
       "      <td>46</td>\n",
       "    </tr>\n",
       "    <tr>\n",
       "      <th>51</th>\n",
       "      <td>0.008029</td>\n",
       "      <td>100</td>\n",
       "      <td>l2</td>\n",
       "      <td>0.000379</td>\n",
       "      <td>0.750685</td>\n",
       "      <td>0.848637</td>\n",
       "      <td>52</td>\n",
       "      <td>49</td>\n",
       "    </tr>\n",
       "    <tr>\n",
       "      <th>52</th>\n",
       "      <td>0.008658</td>\n",
       "      <td>1000</td>\n",
       "      <td>l2</td>\n",
       "      <td>0.000379</td>\n",
       "      <td>0.750685</td>\n",
       "      <td>0.848637</td>\n",
       "      <td>52</td>\n",
       "      <td>49</td>\n",
       "    </tr>\n",
       "    <tr>\n",
       "      <th>53</th>\n",
       "      <td>0.008202</td>\n",
       "      <td>10000</td>\n",
       "      <td>l2</td>\n",
       "      <td>0.000379</td>\n",
       "      <td>0.750685</td>\n",
       "      <td>0.848637</td>\n",
       "      <td>52</td>\n",
       "      <td>49</td>\n",
       "    </tr>\n",
       "    <tr>\n",
       "      <th>54</th>\n",
       "      <td>0.007681</td>\n",
       "      <td>100</td>\n",
       "      <td>l2</td>\n",
       "      <td>0.000113</td>\n",
       "      <td>0.743187</td>\n",
       "      <td>0.841567</td>\n",
       "      <td>55</td>\n",
       "      <td>52</td>\n",
       "    </tr>\n",
       "    <tr>\n",
       "      <th>55</th>\n",
       "      <td>0.009271</td>\n",
       "      <td>1000</td>\n",
       "      <td>l2</td>\n",
       "      <td>0.000113</td>\n",
       "      <td>0.743187</td>\n",
       "      <td>0.841567</td>\n",
       "      <td>55</td>\n",
       "      <td>52</td>\n",
       "    </tr>\n",
       "    <tr>\n",
       "      <th>56</th>\n",
       "      <td>0.008644</td>\n",
       "      <td>10000</td>\n",
       "      <td>l2</td>\n",
       "      <td>0.000113</td>\n",
       "      <td>0.743187</td>\n",
       "      <td>0.841567</td>\n",
       "      <td>55</td>\n",
       "      <td>52</td>\n",
       "    </tr>\n",
       "    <tr>\n",
       "      <th>57</th>\n",
       "      <td>0.588259</td>\n",
       "      <td>100</td>\n",
       "      <td>l2</td>\n",
       "      <td>0.00001</td>\n",
       "      <td>0.688155</td>\n",
       "      <td>0.834999</td>\n",
       "      <td>58</td>\n",
       "      <td>58</td>\n",
       "    </tr>\n",
       "    <tr>\n",
       "      <th>58</th>\n",
       "      <td>0.012493</td>\n",
       "      <td>1000</td>\n",
       "      <td>l2</td>\n",
       "      <td>0.00001</td>\n",
       "      <td>0.688155</td>\n",
       "      <td>0.834999</td>\n",
       "      <td>58</td>\n",
       "      <td>58</td>\n",
       "    </tr>\n",
       "    <tr>\n",
       "      <th>59</th>\n",
       "      <td>0.009153</td>\n",
       "      <td>10000</td>\n",
       "      <td>l2</td>\n",
       "      <td>0.00001</td>\n",
       "      <td>0.688155</td>\n",
       "      <td>0.834999</td>\n",
       "      <td>58</td>\n",
       "      <td>58</td>\n",
       "    </tr>\n",
       "  </tbody>\n",
       "</table>\n",
       "</div>"
      ],
      "text/plain": [
       "    mean_fit_time param_max_iter param_penalty   param_C  mean_test_f1  \\\n",
       "50       0.007245          10000            l2  0.001274      0.760851   \n",
       "51       0.008029            100            l2  0.000379      0.750685   \n",
       "52       0.008658           1000            l2  0.000379      0.750685   \n",
       "53       0.008202          10000            l2  0.000379      0.750685   \n",
       "54       0.007681            100            l2  0.000113      0.743187   \n",
       "55       0.009271           1000            l2  0.000113      0.743187   \n",
       "56       0.008644          10000            l2  0.000113      0.743187   \n",
       "57       0.588259            100            l2   0.00001      0.688155   \n",
       "58       0.012493           1000            l2   0.00001      0.688155   \n",
       "59       0.009153          10000            l2   0.00001      0.688155   \n",
       "\n",
       "    mean_test_roc_auc  rank_test_f1  rank_test_roc_auc  \n",
       "50           0.855660            49                 46  \n",
       "51           0.848637            52                 49  \n",
       "52           0.848637            52                 49  \n",
       "53           0.848637            52                 49  \n",
       "54           0.841567            55                 52  \n",
       "55           0.841567            55                 52  \n",
       "56           0.841567            55                 52  \n",
       "57           0.834999            58                 58  \n",
       "58           0.834999            58                 58  \n",
       "59           0.834999            58                 58  "
      ]
     },
     "metadata": {},
     "output_type": "display_data"
    }
   ],
   "source": [
    "df_results = print_top_low(grid_search, columns, ['rank_test_f1', 'index'])"
   ]
  },
  {
   "cell_type": "code",
   "execution_count": 19,
   "id": "d9f9ae88",
   "metadata": {
    "execution": {
     "iopub.execute_input": "2023-12-14T23:03:03.770846Z",
     "iopub.status.busy": "2023-12-14T23:03:03.770846Z",
     "iopub.status.idle": "2023-12-14T23:03:03.779218Z",
     "shell.execute_reply": "2023-12-14T23:03:03.779218Z"
    },
    "papermill": {
     "duration": 0.017777,
     "end_time": "2023-12-14T23:03:03.780298",
     "exception": false,
     "start_time": "2023-12-14T23:03:03.762521",
     "status": "completed"
    },
    "tags": []
   },
   "outputs": [
    {
     "data": {
      "text/plain": [
       "True"
      ]
     },
     "execution_count": 19,
     "metadata": {},
     "output_type": "execute_result"
    }
   ],
   "source": [
    "is_fitted(grid_search.best_estimator_, X_train_log)"
   ]
  },
  {
   "cell_type": "code",
   "execution_count": 20,
   "id": "e44f02c0",
   "metadata": {
    "execution": {
     "iopub.execute_input": "2023-12-14T23:03:03.796150Z",
     "iopub.status.busy": "2023-12-14T23:03:03.796150Z",
     "iopub.status.idle": "2023-12-14T23:03:03.979929Z",
     "shell.execute_reply": "2023-12-14T23:03:03.979929Z"
    },
    "papermill": {
     "duration": 0.192145,
     "end_time": "2023-12-14T23:03:03.979929",
     "exception": false,
     "start_time": "2023-12-14T23:03:03.787784",
     "status": "completed"
    },
    "tags": []
   },
   "outputs": [
    {
     "name": "stdout",
     "output_type": "stream",
     "text": [
      "threshold: 0.00\n",
      "f1 score: 0.675466\n",
      "threshold: 0.05\n",
      "f1 score: 0.716067\n",
      "threshold: 0.10\n",
      "f1 score: 0.734388\n",
      "threshold: 0.15\n",
      "f1 score: 0.758446\n",
      "threshold: 0.20\n",
      "f1 score: 0.778515\n",
      "threshold: 0.25\n",
      "f1 score: 0.793790\n",
      "threshold: 0.30\n",
      "f1 score: 0.802998\n",
      "threshold: 0.35\n",
      "f1 score: 0.810372\n",
      "threshold: 0.40\n",
      "f1 score: 0.811437\n",
      "threshold: 0.45\n",
      "f1 score: 0.810260\n",
      "threshold: 0.50\n",
      "f1 score: 0.805433\n",
      "threshold: 0.55\n",
      "f1 score: 0.791763\n",
      "threshold: 0.60\n",
      "f1 score: 0.776732\n",
      "threshold: 0.65\n",
      "f1 score: 0.765372\n",
      "threshold: 0.70\n"
     ]
    },
    {
     "name": "stdout",
     "output_type": "stream",
     "text": [
      "f1 score: 0.724967\n",
      "threshold: 0.75\n",
      "f1 score: 0.717032\n",
      "threshold: 0.80\n",
      "f1 score: 0.612601\n",
      "threshold: 0.85\n",
      "f1 score: 0.560256\n",
      "threshold: 0.90\n"
     ]
    },
    {
     "name": "stdout",
     "output_type": "stream",
     "text": [
      "f1 score: 0.437798\n",
      "threshold: 0.95\n",
      "f1 score: 0.336464\n",
      "threshold: 1.00\n",
      "f1 score: 0.000000\n"
     ]
    }
   ],
   "source": [
    "# %%parameters\n",
    "best_threshold = findBestThreshold(grid_search.best_estimator_, X_train_log, y_train_log)"
   ]
  },
  {
   "cell_type": "code",
   "execution_count": 21,
   "id": "21f3fd08",
   "metadata": {
    "execution": {
     "iopub.execute_input": "2023-12-14T23:03:04.004938Z",
     "iopub.status.busy": "2023-12-14T23:03:04.004262Z",
     "iopub.status.idle": "2023-12-14T23:03:04.022806Z",
     "shell.execute_reply": "2023-12-14T23:03:04.020791Z"
    },
    "papermill": {
     "duration": 0.033188,
     "end_time": "2023-12-14T23:03:04.025233",
     "exception": false,
     "start_time": "2023-12-14T23:03:03.992045",
     "status": "completed"
    },
    "tags": []
   },
   "outputs": [],
   "source": [
    "new_directory = 'models/'\n",
    "\n",
    "os.makedirs(new_directory, exist_ok=True)"
   ]
  },
  {
   "cell_type": "code",
   "execution_count": 22,
   "id": "4076e73e",
   "metadata": {
    "execution": {
     "iopub.execute_input": "2023-12-14T23:03:04.043995Z",
     "iopub.status.busy": "2023-12-14T23:03:04.043995Z",
     "iopub.status.idle": "2023-12-14T23:03:04.051213Z",
     "shell.execute_reply": "2023-12-14T23:03:04.051213Z"
    },
    "papermill": {
     "duration": 0.02133,
     "end_time": "2023-12-14T23:03:04.054225",
     "exception": false,
     "start_time": "2023-12-14T23:03:04.032895",
     "status": "completed"
    },
    "tags": []
   },
   "outputs": [
    {
     "data": {
      "text/plain": [
       "['models/logistic_regression.pkl']"
      ]
     },
     "execution_count": 22,
     "metadata": {},
     "output_type": "execute_result"
    }
   ],
   "source": [
    "joblib_logr = 'models/logistic_regression.pkl'\n",
    "joblib.dump(grid_search.best_estimator_, joblib_logr)"
   ]
  },
  {
   "cell_type": "code",
   "execution_count": null,
   "id": "7e181419",
   "metadata": {
    "papermill": {
     "duration": 0.007353,
     "end_time": "2023-12-14T23:03:04.066212",
     "exception": false,
     "start_time": "2023-12-14T23:03:04.058859",
     "status": "completed"
    },
    "tags": []
   },
   "outputs": [],
   "source": []
  }
 ],
 "metadata": {
  "kernelspec": {
   "display_name": "yandex",
   "language": "python",
   "name": "yandex"
  },
  "language_info": {
   "codemirror_mode": {
    "name": "ipython",
    "version": 3
   },
   "file_extension": ".py",
   "mimetype": "text/x-python",
   "name": "python",
   "nbconvert_exporter": "python",
   "pygments_lexer": "ipython3",
   "version": "3.10.13"
  },
  "papermill": {
   "default_parameters": {},
   "duration": 21.042774,
   "end_time": "2023-12-14T23:03:04.737714",
   "environment_variables": {},
   "exception": null,
   "input_path": "D:\\Yandex_practicum\\Projects\\Data_Science\\logistic_regression.ipynb",
   "output_path": "D:\\Yandex_practicum\\Projects\\Data_Science\\logistic_regression.ipynb",
   "parameters": {},
   "start_time": "2023-12-14T23:02:43.694940",
   "version": "2.4.0"
  }
 },
 "nbformat": 4,
 "nbformat_minor": 5
}