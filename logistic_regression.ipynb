{
 "cells": [
  {
   "cell_type": "code",
   "execution_count": 1,
   "id": "4019a6b7",
   "metadata": {
    "execution": {
     "iopub.execute_input": "2023-12-14T22:33:10.760917Z",
     "iopub.status.busy": "2023-12-14T22:33:10.760917Z",
     "iopub.status.idle": "2023-12-14T22:33:19.522609Z",
     "shell.execute_reply": "2023-12-14T22:33:19.522609Z"
    },
    "papermill": {
     "duration": 8.771692,
     "end_time": "2023-12-14T22:33:19.525438",
     "exception": false,
     "start_time": "2023-12-14T22:33:10.753746",
     "status": "completed"
    },
    "tags": []
   },
   "outputs": [
    {
     "name": "stdout",
     "output_type": "stream",
     "text": [
      "Requirement already satisfied: joblib in d:\\anaconda\\envs\\yandex\\lib\\site-packages (1.2.0)\n"
     ]
    }
   ],
   "source": [
    "!pip3 install -q numpy==1.22.4\n",
    "!pip3 install -q pandas==1.5.3\n",
    "!pip3 install -q scikit-learn\n",
    "!pip3 install joblib"
   ]
  },
  {
   "cell_type": "code",
   "execution_count": 2,
   "id": "43a0a75e",
   "metadata": {
    "execution": {
     "iopub.execute_input": "2023-12-14T22:33:19.531213Z",
     "iopub.status.busy": "2023-12-14T22:33:19.531213Z",
     "iopub.status.idle": "2023-12-14T22:33:20.693908Z",
     "shell.execute_reply": "2023-12-14T22:33:20.693908Z"
    },
    "papermill": {
     "duration": 1.167586,
     "end_time": "2023-12-14T22:33:20.696029",
     "exception": false,
     "start_time": "2023-12-14T22:33:19.528443",
     "status": "completed"
    },
    "tags": []
   },
   "outputs": [],
   "source": [
    "import pandas as pd\n",
    "import numpy as np\n",
    "from sklearn.linear_model import LogisticRegression\n",
    "from sklearn.model_selection import GridSearchCV, StratifiedShuffleSplit, train_test_split\n",
    "from sklearn.metrics import f1_score, roc_auc_score\n",
    "from sklearn.preprocessing import StandardScaler\n",
    "import joblib \n",
    "\n",
    "import time\n",
    "import os"
   ]
  },
  {
   "cell_type": "markdown",
   "id": "f6704502",
   "metadata": {
    "papermill": {
     "duration": 0.003754,
     "end_time": "2023-12-14T22:33:20.704857",
     "exception": false,
     "start_time": "2023-12-14T22:33:20.701103",
     "status": "completed"
    },
    "tags": []
   },
   "source": [
    "---"
   ]
  },
  {
   "cell_type": "markdown",
   "id": "3ebf0840",
   "metadata": {
    "papermill": {
     "duration": 0.004276,
     "end_time": "2023-12-14T22:33:20.714027",
     "exception": false,
     "start_time": "2023-12-14T22:33:20.709751",
     "status": "completed"
    },
    "tags": []
   },
   "source": [
    "Чтение данных"
   ]
  },
  {
   "cell_type": "code",
   "execution_count": 3,
   "id": "d680dc74",
   "metadata": {
    "execution": {
     "iopub.execute_input": "2023-12-14T22:33:20.724274Z",
     "iopub.status.busy": "2023-12-14T22:33:20.724274Z",
     "iopub.status.idle": "2023-12-14T22:33:20.758458Z",
     "shell.execute_reply": "2023-12-14T22:33:20.758392Z"
    },
    "papermill": {
     "duration": 0.042551,
     "end_time": "2023-12-14T22:33:20.760694",
     "exception": false,
     "start_time": "2023-12-14T22:33:20.718143",
     "status": "completed"
    },
    "tags": []
   },
   "outputs": [],
   "source": [
    "path1 = 'datasets/regression/train_log.csv'\n",
    "path2 = 'datasets/regression/test_log.csv'\n",
    "\n",
    "def read_file(path):\n",
    "    df = pd.DataFrame()\n",
    "    if os.path.exists(path):\n",
    "        df = pd.read_csv(path, sep=',')\n",
    "    elif os.path.exists(path[1:]):\n",
    "        df = pd.read_csv(path[1:], sep=',')\n",
    "    else:\n",
    "        print('No such file or directory') \n",
    "        raise FileNotFoundError('No such file or directory')\n",
    "    return df\n",
    "\n",
    "df_train = read_file(path1)\n",
    "df_test  = read_file(path2)"
   ]
  },
  {
   "cell_type": "markdown",
   "id": "7f456c51",
   "metadata": {
    "papermill": {
     "duration": 0.005254,
     "end_time": "2023-12-14T22:33:20.770629",
     "exception": false,
     "start_time": "2023-12-14T22:33:20.765375",
     "status": "completed"
    },
    "tags": []
   },
   "source": [
    "---"
   ]
  },
  {
   "cell_type": "markdown",
   "id": "c11e8619",
   "metadata": {
    "papermill": {
     "duration": 0.0047,
     "end_time": "2023-12-14T22:33:20.778892",
     "exception": false,
     "start_time": "2023-12-14T22:33:20.774192",
     "status": "completed"
    },
    "tags": []
   },
   "source": [
    "## Разбиение тренировочной выборки на тренировочную и владиационную"
   ]
  },
  {
   "cell_type": "code",
   "execution_count": 4,
   "id": "5118ee92",
   "metadata": {
    "execution": {
     "iopub.execute_input": "2023-12-14T22:33:20.794546Z",
     "iopub.status.busy": "2023-12-14T22:33:20.794546Z",
     "iopub.status.idle": "2023-12-14T22:33:20.799861Z",
     "shell.execute_reply": "2023-12-14T22:33:20.799799Z"
    },
    "papermill": {
     "duration": 0.012931,
     "end_time": "2023-12-14T22:33:20.801597",
     "exception": false,
     "start_time": "2023-12-14T22:33:20.788666",
     "status": "completed"
    },
    "tags": []
   },
   "outputs": [
    {
     "name": "stdout",
     "output_type": "stream",
     "text": [
      "8673\n"
     ]
    }
   ],
   "source": [
    "X_log = df_train.drop(columns=['Transported'], axis=1)\n",
    "y_log = df_train.Transported\n",
    "\n",
    "print(y_log.shape[0])"
   ]
  },
  {
   "cell_type": "code",
   "execution_count": 5,
   "id": "c0bf5248",
   "metadata": {
    "execution": {
     "iopub.execute_input": "2023-12-14T22:33:20.813854Z",
     "iopub.status.busy": "2023-12-14T22:33:20.813776Z",
     "iopub.status.idle": "2023-12-14T22:33:20.822141Z",
     "shell.execute_reply": "2023-12-14T22:33:20.821666Z"
    },
    "papermill": {
     "duration": 0.016314,
     "end_time": "2023-12-14T22:33:20.823533",
     "exception": false,
     "start_time": "2023-12-14T22:33:20.807219",
     "status": "completed"
    },
    "tags": []
   },
   "outputs": [
    {
     "name": "stdout",
     "output_type": "stream",
     "text": [
      "(6071,) (2602,)\n"
     ]
    }
   ],
   "source": [
    "X_train_log, X_val_log, y_train_log, y_val_log = \\\n",
    "        train_test_split(X_log, y_log, test_size = 0.3, shuffle=True, random_state = 42)\n",
    "\n",
    "print(y_train_log.shape, y_val_log.shape)"
   ]
  },
  {
   "cell_type": "markdown",
   "id": "cfd4f081",
   "metadata": {
    "papermill": {
     "duration": 0.006298,
     "end_time": "2023-12-14T22:33:20.834975",
     "exception": false,
     "start_time": "2023-12-14T22:33:20.828677",
     "status": "completed"
    },
    "tags": []
   },
   "source": [
    "---"
   ]
  },
  {
   "cell_type": "code",
   "execution_count": 6,
   "id": "e98881c5",
   "metadata": {
    "execution": {
     "iopub.execute_input": "2023-12-14T22:33:20.847840Z",
     "iopub.status.busy": "2023-12-14T22:33:20.847840Z",
     "iopub.status.idle": "2023-12-14T22:33:20.886699Z",
     "shell.execute_reply": "2023-12-14T22:33:20.886699Z"
    },
    "papermill": {
     "duration": 0.047973,
     "end_time": "2023-12-14T22:33:20.888883",
     "exception": false,
     "start_time": "2023-12-14T22:33:20.840910",
     "status": "completed"
    },
    "tags": []
   },
   "outputs": [
    {
     "data": {
      "text/html": [
       "<div>\n",
       "<style scoped>\n",
       "    .dataframe tbody tr th:only-of-type {\n",
       "        vertical-align: middle;\n",
       "    }\n",
       "\n",
       "    .dataframe tbody tr th {\n",
       "        vertical-align: top;\n",
       "    }\n",
       "\n",
       "    .dataframe thead th {\n",
       "        text-align: right;\n",
       "    }\n",
       "</style>\n",
       "<table border=\"1\" class=\"dataframe\">\n",
       "  <thead>\n",
       "    <tr style=\"text-align: right;\">\n",
       "      <th></th>\n",
       "      <th>CryoSleep</th>\n",
       "      <th>Age</th>\n",
       "      <th>VIP</th>\n",
       "      <th>RoomService</th>\n",
       "      <th>FoodCourt</th>\n",
       "      <th>ShoppingMall</th>\n",
       "      <th>Spa</th>\n",
       "      <th>VRDeck</th>\n",
       "      <th>has_services</th>\n",
       "      <th>HomePlanet_Europa</th>\n",
       "      <th>HomePlanet_Mars</th>\n",
       "      <th>Cabin_S</th>\n",
       "      <th>Destination_PSO J318.5-22</th>\n",
       "      <th>Destination_TRAPPIST-1e</th>\n",
       "    </tr>\n",
       "  </thead>\n",
       "  <tbody>\n",
       "    <tr>\n",
       "      <th>0</th>\n",
       "      <td>1</td>\n",
       "      <td>27.0</td>\n",
       "      <td>0</td>\n",
       "      <td>0.0</td>\n",
       "      <td>0.0</td>\n",
       "      <td>0.0</td>\n",
       "      <td>0.0</td>\n",
       "      <td>0.0</td>\n",
       "      <td>0</td>\n",
       "      <td>False</td>\n",
       "      <td>False</td>\n",
       "      <td>True</td>\n",
       "      <td>False</td>\n",
       "      <td>True</td>\n",
       "    </tr>\n",
       "    <tr>\n",
       "      <th>1</th>\n",
       "      <td>0</td>\n",
       "      <td>19.0</td>\n",
       "      <td>0</td>\n",
       "      <td>0.0</td>\n",
       "      <td>9.0</td>\n",
       "      <td>0.0</td>\n",
       "      <td>2823.0</td>\n",
       "      <td>0.0</td>\n",
       "      <td>1</td>\n",
       "      <td>False</td>\n",
       "      <td>False</td>\n",
       "      <td>True</td>\n",
       "      <td>False</td>\n",
       "      <td>True</td>\n",
       "    </tr>\n",
       "    <tr>\n",
       "      <th>2</th>\n",
       "      <td>1</td>\n",
       "      <td>31.0</td>\n",
       "      <td>0</td>\n",
       "      <td>0.0</td>\n",
       "      <td>0.0</td>\n",
       "      <td>0.0</td>\n",
       "      <td>0.0</td>\n",
       "      <td>0.0</td>\n",
       "      <td>0</td>\n",
       "      <td>True</td>\n",
       "      <td>False</td>\n",
       "      <td>True</td>\n",
       "      <td>False</td>\n",
       "      <td>False</td>\n",
       "    </tr>\n",
       "    <tr>\n",
       "      <th>3</th>\n",
       "      <td>0</td>\n",
       "      <td>38.0</td>\n",
       "      <td>0</td>\n",
       "      <td>0.0</td>\n",
       "      <td>6652.0</td>\n",
       "      <td>0.0</td>\n",
       "      <td>181.0</td>\n",
       "      <td>585.0</td>\n",
       "      <td>1</td>\n",
       "      <td>True</td>\n",
       "      <td>False</td>\n",
       "      <td>True</td>\n",
       "      <td>False</td>\n",
       "      <td>True</td>\n",
       "    </tr>\n",
       "    <tr>\n",
       "      <th>4</th>\n",
       "      <td>0</td>\n",
       "      <td>20.0</td>\n",
       "      <td>0</td>\n",
       "      <td>10.0</td>\n",
       "      <td>0.0</td>\n",
       "      <td>635.0</td>\n",
       "      <td>0.0</td>\n",
       "      <td>0.0</td>\n",
       "      <td>1</td>\n",
       "      <td>False</td>\n",
       "      <td>False</td>\n",
       "      <td>True</td>\n",
       "      <td>False</td>\n",
       "      <td>True</td>\n",
       "    </tr>\n",
       "  </tbody>\n",
       "</table>\n",
       "</div>"
      ],
      "text/plain": [
       "   CryoSleep   Age  VIP  RoomService  FoodCourt  ShoppingMall     Spa  VRDeck  \\\n",
       "0          1  27.0    0          0.0        0.0           0.0     0.0     0.0   \n",
       "1          0  19.0    0          0.0        9.0           0.0  2823.0     0.0   \n",
       "2          1  31.0    0          0.0        0.0           0.0     0.0     0.0   \n",
       "3          0  38.0    0          0.0     6652.0           0.0   181.0   585.0   \n",
       "4          0  20.0    0         10.0        0.0         635.0     0.0     0.0   \n",
       "\n",
       "   has_services  HomePlanet_Europa  HomePlanet_Mars  Cabin_S  \\\n",
       "0             0              False            False     True   \n",
       "1             1              False            False     True   \n",
       "2             0               True            False     True   \n",
       "3             1               True            False     True   \n",
       "4             1              False            False     True   \n",
       "\n",
       "   Destination_PSO J318.5-22  Destination_TRAPPIST-1e  \n",
       "0                      False                     True  \n",
       "1                      False                     True  \n",
       "2                      False                    False  \n",
       "3                      False                     True  \n",
       "4                      False                     True  "
      ]
     },
     "execution_count": 6,
     "metadata": {},
     "output_type": "execute_result"
    }
   ],
   "source": [
    "df_test.head()"
   ]
  },
  {
   "cell_type": "markdown",
   "id": "f7f44892",
   "metadata": {
    "papermill": {
     "duration": 0.005985,
     "end_time": "2023-12-14T22:33:20.897796",
     "exception": false,
     "start_time": "2023-12-14T22:33:20.891811",
     "status": "completed"
    },
    "tags": []
   },
   "source": [
    "Скалирование"
   ]
  },
  {
   "cell_type": "code",
   "execution_count": 7,
   "id": "5009a8a3",
   "metadata": {
    "execution": {
     "iopub.execute_input": "2023-12-14T22:33:20.912179Z",
     "iopub.status.busy": "2023-12-14T22:33:20.902800Z",
     "iopub.status.idle": "2023-12-14T22:33:20.935936Z",
     "shell.execute_reply": "2023-12-14T22:33:20.934735Z"
    },
    "papermill": {
     "duration": 0.033136,
     "end_time": "2023-12-14T22:33:20.935936",
     "exception": false,
     "start_time": "2023-12-14T22:33:20.902800",
     "status": "completed"
    },
    "tags": []
   },
   "outputs": [],
   "source": [
    "scaler = StandardScaler()\n",
    "scaler.fit(X_train_log)\n",
    "\n",
    "X_train_log = scaler.transform(X_train_log)\n",
    "X_val_log   = scaler.transform(X_val_log)\n",
    "X_test_log  = scaler.transform(df_test)"
   ]
  },
  {
   "cell_type": "markdown",
   "id": "fcfb3c98",
   "metadata": {
    "papermill": {
     "duration": 0.004011,
     "end_time": "2023-12-14T22:33:20.950744",
     "exception": false,
     "start_time": "2023-12-14T22:33:20.946733",
     "status": "completed"
    },
    "tags": []
   },
   "source": [
    "Сразу сохраняем скалированную тестовую выборку для следующего шага выбора лучшей модели."
   ]
  },
  {
   "cell_type": "code",
   "execution_count": 8,
   "id": "8cbf8072",
   "metadata": {
    "execution": {
     "iopub.execute_input": "2023-12-14T22:33:20.963102Z",
     "iopub.status.busy": "2023-12-14T22:33:20.963102Z",
     "iopub.status.idle": "2023-12-14T22:33:20.982389Z",
     "shell.execute_reply": "2023-12-14T22:33:20.982389Z"
    },
    "papermill": {
     "duration": 0.02411,
     "end_time": "2023-12-14T22:33:20.982389",
     "exception": false,
     "start_time": "2023-12-14T22:33:20.958279",
     "status": "completed"
    },
    "tags": []
   },
   "outputs": [],
   "source": [
    "new_directory = 'datasets/for_comparison'\n",
    "\n",
    "os.makedirs(new_directory, exist_ok=True)"
   ]
  },
  {
   "cell_type": "code",
   "execution_count": 9,
   "id": "9ae6b51a",
   "metadata": {
    "execution": {
     "iopub.execute_input": "2023-12-14T22:33:20.994665Z",
     "iopub.status.busy": "2023-12-14T22:33:20.994665Z",
     "iopub.status.idle": "2023-12-14T22:33:21.014305Z",
     "shell.execute_reply": "2023-12-14T22:33:21.014305Z"
    },
    "papermill": {
     "duration": 0.033248,
     "end_time": "2023-12-14T22:33:21.015637",
     "exception": false,
     "start_time": "2023-12-14T22:33:20.982389",
     "status": "completed"
    },
    "tags": []
   },
   "outputs": [],
   "source": [
    "np.save('datasets/for_comparison/X_test_log.npy', X_test_log)\n",
    "np.save('datasets/for_comparison/X_val_log.npy', X_val_log)\n",
    "y_val_log.to_csv('datasets/for_comparison/y_val_log.csv', index=False)\n",
    "\n",
    "del df_test"
   ]
  },
  {
   "cell_type": "markdown",
   "id": "fc6a02d7",
   "metadata": {
    "papermill": {
     "duration": 0.004908,
     "end_time": "2023-12-14T22:33:21.026761",
     "exception": false,
     "start_time": "2023-12-14T22:33:21.021853",
     "status": "completed"
    },
    "tags": []
   },
   "source": [
    "---"
   ]
  },
  {
   "cell_type": "markdown",
   "id": "20686bb1",
   "metadata": {
    "papermill": {
     "duration": 0.006289,
     "end_time": "2023-12-14T22:33:21.036704",
     "exception": false,
     "start_time": "2023-12-14T22:33:21.030415",
     "status": "completed"
    },
    "tags": []
   },
   "source": [
    "# Вспомогательные функции"
   ]
  },
  {
   "cell_type": "code",
   "execution_count": 10,
   "id": "6989c8f8",
   "metadata": {
    "execution": {
     "iopub.execute_input": "2023-12-14T22:33:21.047764Z",
     "iopub.status.busy": "2023-12-14T22:33:21.047764Z",
     "iopub.status.idle": "2023-12-14T22:33:21.063680Z",
     "shell.execute_reply": "2023-12-14T22:33:21.062505Z"
    },
    "papermill": {
     "duration": 0.027031,
     "end_time": "2023-12-14T22:33:21.064956",
     "exception": false,
     "start_time": "2023-12-14T22:33:21.037925",
     "status": "completed"
    },
    "tags": []
   },
   "outputs": [],
   "source": [
    "def grid_search_cv(model, cv, param_grid, X_train_set, y_train_set, scores, refit=True):\n",
    "    grid_search = GridSearchCV(estimator=model, param_grid=param_grid, scoring=scores, cv=cv, refit=refit)\n",
    "\n",
    "    start_time = time.time()\n",
    "\n",
    "    grid_search.fit(X_train_set, y_train_set)\n",
    "\n",
    "    total_time = time.time() - start_time\n",
    "    print(f\"Total time spent on grid search (wall-clock): {total_time:.2f} seconds or \\\n",
    "            {(total_time // 60):.0f} minutes {(total_time % 60):.2f} seconds\")\n",
    "    \n",
    "    return grid_search"
   ]
  },
  {
   "cell_type": "code",
   "execution_count": 11,
   "id": "43e7c84b",
   "metadata": {
    "execution": {
     "iopub.execute_input": "2023-12-14T22:33:21.078247Z",
     "iopub.status.busy": "2023-12-14T22:33:21.066738Z",
     "iopub.status.idle": "2023-12-14T22:33:21.094397Z",
     "shell.execute_reply": "2023-12-14T22:33:21.094397Z"
    },
    "papermill": {
     "duration": 0.027659,
     "end_time": "2023-12-14T22:33:21.094397",
     "exception": false,
     "start_time": "2023-12-14T22:33:21.066738",
     "status": "completed"
    },
    "tags": []
   },
   "outputs": [],
   "source": [
    "def custom_refit(cv_results):\n",
    "    sorted_indices = np.lexsort((-cv_results[\"mean_test_roc_auc\"], -cv_results[\"mean_test_f1\"]))\n",
    "    return sorted_indices[0]"
   ]
  },
  {
   "cell_type": "code",
   "execution_count": 12,
   "id": "fe96bec4",
   "metadata": {
    "execution": {
     "iopub.execute_input": "2023-12-14T22:33:21.094397Z",
     "iopub.status.busy": "2023-12-14T22:33:21.094397Z",
     "iopub.status.idle": "2023-12-14T22:33:21.126342Z",
     "shell.execute_reply": "2023-12-14T22:33:21.126342Z"
    },
    "papermill": {
     "duration": 0.034633,
     "end_time": "2023-12-14T22:33:21.129030",
     "exception": false,
     "start_time": "2023-12-14T22:33:21.094397",
     "status": "completed"
    },
    "tags": []
   },
   "outputs": [],
   "source": [
    "def print_top_low(grid_search, show_columns, sort_by = ['rank_test_score', 'index'], n_rows = 10):\n",
    "    df_results = pd.DataFrame(grid_search.cv_results_)\n",
    "    df_results.index.name = 'index'\n",
    "    df_results = df_results.sort_values(by=sort_by).reset_index(drop=True)\n",
    "\n",
    "    print('Top ' + str(n_rows))\n",
    "    display(df_results[:n_rows][show_columns])\n",
    "\n",
    "    print('Low ' + str(n_rows))\n",
    "    display(df_results[-n_rows:][show_columns])\n",
    "    \n",
    "    return df_results"
   ]
  },
  {
   "cell_type": "code",
   "execution_count": 13,
   "id": "df16ee62",
   "metadata": {
    "execution": {
     "iopub.execute_input": "2023-12-14T22:33:21.129030Z",
     "iopub.status.busy": "2023-12-14T22:33:21.129030Z",
     "iopub.status.idle": "2023-12-14T22:33:21.158266Z",
     "shell.execute_reply": "2023-12-14T22:33:21.158266Z"
    },
    "papermill": {
     "duration": 0.031554,
     "end_time": "2023-12-14T22:33:21.160584",
     "exception": false,
     "start_time": "2023-12-14T22:33:21.129030",
     "status": "completed"
    },
    "tags": []
   },
   "outputs": [],
   "source": [
    "def custom_threshold_scorer(estimator, X, y, threshold=0.5, scorer=f1_score):\n",
    "    probabilities = estimator.predict_proba(X)\n",
    "\n",
    "    predictions = (probabilities[:, 1] >= threshold).astype(int)\n",
    "    score = scorer(y, predictions)\n",
    "\n",
    "    return score"
   ]
  },
  {
   "cell_type": "code",
   "execution_count": 14,
   "id": "40e3e52f",
   "metadata": {
    "execution": {
     "iopub.execute_input": "2023-12-14T22:33:21.172442Z",
     "iopub.status.busy": "2023-12-14T22:33:21.171280Z",
     "iopub.status.idle": "2023-12-14T22:33:21.191856Z",
     "shell.execute_reply": "2023-12-14T22:33:21.189986Z"
    },
    "papermill": {
     "duration": 0.030062,
     "end_time": "2023-12-14T22:33:21.191856",
     "exception": false,
     "start_time": "2023-12-14T22:33:21.161794",
     "status": "completed"
    },
    "tags": []
   },
   "outputs": [],
   "source": [
    "def findBestThreshold(model, features, target):\n",
    "    best_result = {'f1': 0, 'roc_auc': 0}\n",
    "    best_threshold = 0\n",
    "\n",
    "    for threshold in np.arange(0, 1.05, 0.05):\n",
    "        print(f'threshold: {threshold:.2f}')\n",
    "        \n",
    "        f1      = custom_threshold_scorer(model, features, target, threshold, f1_score)\n",
    "        roc_auc = roc_auc_score(target, model.predict_proba(features)[:, 1])\n",
    "        print(f\"f1 score: {f1:.6f}\")\n",
    "\n",
    "        if f1 > best_result['f1']:\n",
    "            best_result['f1'] = f1\n",
    "            best_result['roc_auc'] = roc_auc\n",
    "            best_threshold = threshold\n",
    "\n",
    "    return best_threshold, best_result"
   ]
  },
  {
   "cell_type": "code",
   "execution_count": 15,
   "id": "a6e67a0a",
   "metadata": {
    "execution": {
     "iopub.execute_input": "2023-12-14T22:33:21.205901Z",
     "iopub.status.busy": "2023-12-14T22:33:21.200834Z",
     "iopub.status.idle": "2023-12-14T22:33:21.222918Z",
     "shell.execute_reply": "2023-12-14T22:33:21.221796Z"
    },
    "papermill": {
     "duration": 0.030042,
     "end_time": "2023-12-14T22:33:21.224058",
     "exception": false,
     "start_time": "2023-12-14T22:33:21.194016",
     "status": "completed"
    },
    "tags": []
   },
   "outputs": [],
   "source": [
    "from sklearn.exceptions import NotFittedError\n",
    "\n",
    "def is_fitted(estimator, X):\n",
    "    try:\n",
    "        estimator.predict(X)\n",
    "        return True\n",
    "    except NotFittedError as e:\n",
    "        print(repr(e))\n",
    "        return False"
   ]
  },
  {
   "cell_type": "markdown",
   "id": "2f8f8360",
   "metadata": {
    "papermill": {
     "duration": 0.006689,
     "end_time": "2023-12-14T22:33:21.235024",
     "exception": false,
     "start_time": "2023-12-14T22:33:21.228335",
     "status": "completed"
    },
    "tags": []
   },
   "source": [
    "# Обучение модели"
   ]
  },
  {
   "cell_type": "code",
   "execution_count": 16,
   "id": "f17ed665",
   "metadata": {
    "execution": {
     "iopub.execute_input": "2023-12-14T22:33:21.246764Z",
     "iopub.status.busy": "2023-12-14T22:33:21.246764Z",
     "iopub.status.idle": "2023-12-14T22:33:21.253475Z",
     "shell.execute_reply": "2023-12-14T22:33:21.253475Z"
    },
    "papermill": {
     "duration": 0.016504,
     "end_time": "2023-12-14T22:33:21.255383",
     "exception": false,
     "start_time": "2023-12-14T22:33:21.238879",
     "status": "completed"
    },
    "tags": []
   },
   "outputs": [],
   "source": [
    "param_grid = [\n",
    "    {\n",
    "        \"n_jobs\": [4],\n",
    "        \"penalty\": ['l2'],\n",
    "        \"C\": np.logspace(-5, 5, 20),\n",
    "        \"max_iter\": [100, 1000, 10000]\n",
    "    }\n",
    "]\n",
    "\n",
    "sss = StratifiedShuffleSplit(n_splits=5, test_size=0.2, random_state=42)\n",
    "\n",
    "scores = ['f1', 'roc_auc']\n",
    "\n",
    "columns = ['mean_fit_time', 'param_max_iter', 'param_penalty', 'param_C',\\\n",
    "                'mean_test_f1', 'mean_test_roc_auc', 'rank_test_f1', 'rank_test_roc_auc']\n",
    "\n",
    "log_r = LogisticRegression(random_state=42, multi_class='ovr', solver='lbfgs')"
   ]
  },
  {
   "cell_type": "code",
   "execution_count": 17,
   "id": "87f238e8",
   "metadata": {
    "execution": {
     "iopub.execute_input": "2023-12-14T22:33:21.267782Z",
     "iopub.status.busy": "2023-12-14T22:33:21.266610Z",
     "iopub.status.idle": "2023-12-14T22:33:29.086152Z",
     "shell.execute_reply": "2023-12-14T22:33:29.086152Z"
    },
    "papermill": {
     "duration": 7.82765,
     "end_time": "2023-12-14T22:33:29.086152",
     "exception": false,
     "start_time": "2023-12-14T22:33:21.258502",
     "status": "completed"
    },
    "tags": []
   },
   "outputs": [
    {
     "name": "stdout",
     "output_type": "stream",
     "text": [
      "Total time spent on grid search (wall-clock): 7.80 seconds or             0 minutes 7.80 seconds\n"
     ]
    }
   ],
   "source": [
    "grid_search = grid_search_cv(log_r, sss, param_grid, X_train_log, y_train_log, scores, custom_refit)"
   ]
  },
  {
   "cell_type": "code",
   "execution_count": 18,
   "id": "51ea146a",
   "metadata": {
    "execution": {
     "iopub.execute_input": "2023-12-14T22:33:29.109136Z",
     "iopub.status.busy": "2023-12-14T22:33:29.108134Z",
     "iopub.status.idle": "2023-12-14T22:33:29.142649Z",
     "shell.execute_reply": "2023-12-14T22:33:29.142649Z"
    },
    "papermill": {
     "duration": 0.04989,
     "end_time": "2023-12-14T22:33:29.144660",
     "exception": false,
     "start_time": "2023-12-14T22:33:29.094770",
     "status": "completed"
    },
    "tags": []
   },
   "outputs": [
    {
     "name": "stdout",
     "output_type": "stream",
     "text": [
      "Top 10\n"
     ]
    },
    {
     "data": {
      "text/html": [
       "<div>\n",
       "<style scoped>\n",
       "    .dataframe tbody tr th:only-of-type {\n",
       "        vertical-align: middle;\n",
       "    }\n",
       "\n",
       "    .dataframe tbody tr th {\n",
       "        vertical-align: top;\n",
       "    }\n",
       "\n",
       "    .dataframe thead th {\n",
       "        text-align: right;\n",
       "    }\n",
       "</style>\n",
       "<table border=\"1\" class=\"dataframe\">\n",
       "  <thead>\n",
       "    <tr style=\"text-align: right;\">\n",
       "      <th></th>\n",
       "      <th>mean_fit_time</th>\n",
       "      <th>param_max_iter</th>\n",
       "      <th>param_penalty</th>\n",
       "      <th>param_C</th>\n",
       "      <th>mean_test_f1</th>\n",
       "      <th>mean_test_roc_auc</th>\n",
       "      <th>rank_test_f1</th>\n",
       "      <th>rank_test_roc_auc</th>\n",
       "    </tr>\n",
       "  </thead>\n",
       "  <tbody>\n",
       "    <tr>\n",
       "      <th>0</th>\n",
       "      <td>0.013691</td>\n",
       "      <td>100</td>\n",
       "      <td>l2</td>\n",
       "      <td>69.51928</td>\n",
       "      <td>0.798911</td>\n",
       "      <td>0.875774</td>\n",
       "      <td>1</td>\n",
       "      <td>13</td>\n",
       "    </tr>\n",
       "    <tr>\n",
       "      <th>1</th>\n",
       "      <td>0.014649</td>\n",
       "      <td>1000</td>\n",
       "      <td>l2</td>\n",
       "      <td>69.51928</td>\n",
       "      <td>0.798911</td>\n",
       "      <td>0.875774</td>\n",
       "      <td>1</td>\n",
       "      <td>13</td>\n",
       "    </tr>\n",
       "    <tr>\n",
       "      <th>2</th>\n",
       "      <td>0.018439</td>\n",
       "      <td>10000</td>\n",
       "      <td>l2</td>\n",
       "      <td>69.51928</td>\n",
       "      <td>0.798911</td>\n",
       "      <td>0.875774</td>\n",
       "      <td>1</td>\n",
       "      <td>13</td>\n",
       "    </tr>\n",
       "    <tr>\n",
       "      <th>3</th>\n",
       "      <td>0.011298</td>\n",
       "      <td>100</td>\n",
       "      <td>l2</td>\n",
       "      <td>233.572147</td>\n",
       "      <td>0.798911</td>\n",
       "      <td>0.875776</td>\n",
       "      <td>1</td>\n",
       "      <td>1</td>\n",
       "    </tr>\n",
       "    <tr>\n",
       "      <th>4</th>\n",
       "      <td>0.012924</td>\n",
       "      <td>1000</td>\n",
       "      <td>l2</td>\n",
       "      <td>233.572147</td>\n",
       "      <td>0.798911</td>\n",
       "      <td>0.875776</td>\n",
       "      <td>1</td>\n",
       "      <td>1</td>\n",
       "    </tr>\n",
       "    <tr>\n",
       "      <th>5</th>\n",
       "      <td>0.012681</td>\n",
       "      <td>10000</td>\n",
       "      <td>l2</td>\n",
       "      <td>233.572147</td>\n",
       "      <td>0.798911</td>\n",
       "      <td>0.875776</td>\n",
       "      <td>1</td>\n",
       "      <td>1</td>\n",
       "    </tr>\n",
       "    <tr>\n",
       "      <th>6</th>\n",
       "      <td>0.011155</td>\n",
       "      <td>100</td>\n",
       "      <td>l2</td>\n",
       "      <td>784.75997</td>\n",
       "      <td>0.798911</td>\n",
       "      <td>0.875776</td>\n",
       "      <td>1</td>\n",
       "      <td>1</td>\n",
       "    </tr>\n",
       "    <tr>\n",
       "      <th>7</th>\n",
       "      <td>0.015044</td>\n",
       "      <td>1000</td>\n",
       "      <td>l2</td>\n",
       "      <td>784.75997</td>\n",
       "      <td>0.798911</td>\n",
       "      <td>0.875776</td>\n",
       "      <td>1</td>\n",
       "      <td>1</td>\n",
       "    </tr>\n",
       "    <tr>\n",
       "      <th>8</th>\n",
       "      <td>0.011925</td>\n",
       "      <td>10000</td>\n",
       "      <td>l2</td>\n",
       "      <td>784.75997</td>\n",
       "      <td>0.798911</td>\n",
       "      <td>0.875776</td>\n",
       "      <td>1</td>\n",
       "      <td>1</td>\n",
       "    </tr>\n",
       "    <tr>\n",
       "      <th>9</th>\n",
       "      <td>0.013188</td>\n",
       "      <td>100</td>\n",
       "      <td>l2</td>\n",
       "      <td>2636.650899</td>\n",
       "      <td>0.798911</td>\n",
       "      <td>0.875775</td>\n",
       "      <td>1</td>\n",
       "      <td>7</td>\n",
       "    </tr>\n",
       "  </tbody>\n",
       "</table>\n",
       "</div>"
      ],
      "text/plain": [
       "   mean_fit_time param_max_iter param_penalty      param_C  mean_test_f1  \\\n",
       "0       0.013691            100            l2     69.51928      0.798911   \n",
       "1       0.014649           1000            l2     69.51928      0.798911   \n",
       "2       0.018439          10000            l2     69.51928      0.798911   \n",
       "3       0.011298            100            l2   233.572147      0.798911   \n",
       "4       0.012924           1000            l2   233.572147      0.798911   \n",
       "5       0.012681          10000            l2   233.572147      0.798911   \n",
       "6       0.011155            100            l2    784.75997      0.798911   \n",
       "7       0.015044           1000            l2    784.75997      0.798911   \n",
       "8       0.011925          10000            l2    784.75997      0.798911   \n",
       "9       0.013188            100            l2  2636.650899      0.798911   \n",
       "\n",
       "   mean_test_roc_auc  rank_test_f1  rank_test_roc_auc  \n",
       "0           0.875774             1                 13  \n",
       "1           0.875774             1                 13  \n",
       "2           0.875774             1                 13  \n",
       "3           0.875776             1                  1  \n",
       "4           0.875776             1                  1  \n",
       "5           0.875776             1                  1  \n",
       "6           0.875776             1                  1  \n",
       "7           0.875776             1                  1  \n",
       "8           0.875776             1                  1  \n",
       "9           0.875775             1                  7  "
      ]
     },
     "metadata": {},
     "output_type": "display_data"
    },
    {
     "name": "stdout",
     "output_type": "stream",
     "text": [
      "Low 10\n"
     ]
    },
    {
     "data": {
      "text/html": [
       "<div>\n",
       "<style scoped>\n",
       "    .dataframe tbody tr th:only-of-type {\n",
       "        vertical-align: middle;\n",
       "    }\n",
       "\n",
       "    .dataframe tbody tr th {\n",
       "        vertical-align: top;\n",
       "    }\n",
       "\n",
       "    .dataframe thead th {\n",
       "        text-align: right;\n",
       "    }\n",
       "</style>\n",
       "<table border=\"1\" class=\"dataframe\">\n",
       "  <thead>\n",
       "    <tr style=\"text-align: right;\">\n",
       "      <th></th>\n",
       "      <th>mean_fit_time</th>\n",
       "      <th>param_max_iter</th>\n",
       "      <th>param_penalty</th>\n",
       "      <th>param_C</th>\n",
       "      <th>mean_test_f1</th>\n",
       "      <th>mean_test_roc_auc</th>\n",
       "      <th>rank_test_f1</th>\n",
       "      <th>rank_test_roc_auc</th>\n",
       "    </tr>\n",
       "  </thead>\n",
       "  <tbody>\n",
       "    <tr>\n",
       "      <th>50</th>\n",
       "      <td>0.008344</td>\n",
       "      <td>10000</td>\n",
       "      <td>l2</td>\n",
       "      <td>0.001274</td>\n",
       "      <td>0.760851</td>\n",
       "      <td>0.855660</td>\n",
       "      <td>49</td>\n",
       "      <td>46</td>\n",
       "    </tr>\n",
       "    <tr>\n",
       "      <th>51</th>\n",
       "      <td>0.009033</td>\n",
       "      <td>100</td>\n",
       "      <td>l2</td>\n",
       "      <td>0.000379</td>\n",
       "      <td>0.750685</td>\n",
       "      <td>0.848637</td>\n",
       "      <td>52</td>\n",
       "      <td>49</td>\n",
       "    </tr>\n",
       "    <tr>\n",
       "      <th>52</th>\n",
       "      <td>0.008878</td>\n",
       "      <td>1000</td>\n",
       "      <td>l2</td>\n",
       "      <td>0.000379</td>\n",
       "      <td>0.750685</td>\n",
       "      <td>0.848637</td>\n",
       "      <td>52</td>\n",
       "      <td>49</td>\n",
       "    </tr>\n",
       "    <tr>\n",
       "      <th>53</th>\n",
       "      <td>0.010683</td>\n",
       "      <td>10000</td>\n",
       "      <td>l2</td>\n",
       "      <td>0.000379</td>\n",
       "      <td>0.750685</td>\n",
       "      <td>0.848637</td>\n",
       "      <td>52</td>\n",
       "      <td>49</td>\n",
       "    </tr>\n",
       "    <tr>\n",
       "      <th>54</th>\n",
       "      <td>0.006468</td>\n",
       "      <td>100</td>\n",
       "      <td>l2</td>\n",
       "      <td>0.000113</td>\n",
       "      <td>0.743187</td>\n",
       "      <td>0.841567</td>\n",
       "      <td>55</td>\n",
       "      <td>52</td>\n",
       "    </tr>\n",
       "    <tr>\n",
       "      <th>55</th>\n",
       "      <td>0.008671</td>\n",
       "      <td>1000</td>\n",
       "      <td>l2</td>\n",
       "      <td>0.000113</td>\n",
       "      <td>0.743187</td>\n",
       "      <td>0.841567</td>\n",
       "      <td>55</td>\n",
       "      <td>52</td>\n",
       "    </tr>\n",
       "    <tr>\n",
       "      <th>56</th>\n",
       "      <td>0.006281</td>\n",
       "      <td>10000</td>\n",
       "      <td>l2</td>\n",
       "      <td>0.000113</td>\n",
       "      <td>0.743187</td>\n",
       "      <td>0.841567</td>\n",
       "      <td>55</td>\n",
       "      <td>52</td>\n",
       "    </tr>\n",
       "    <tr>\n",
       "      <th>57</th>\n",
       "      <td>0.558028</td>\n",
       "      <td>100</td>\n",
       "      <td>l2</td>\n",
       "      <td>0.00001</td>\n",
       "      <td>0.688155</td>\n",
       "      <td>0.834999</td>\n",
       "      <td>58</td>\n",
       "      <td>58</td>\n",
       "    </tr>\n",
       "    <tr>\n",
       "      <th>58</th>\n",
       "      <td>0.009860</td>\n",
       "      <td>1000</td>\n",
       "      <td>l2</td>\n",
       "      <td>0.00001</td>\n",
       "      <td>0.688155</td>\n",
       "      <td>0.834999</td>\n",
       "      <td>58</td>\n",
       "      <td>58</td>\n",
       "    </tr>\n",
       "    <tr>\n",
       "      <th>59</th>\n",
       "      <td>0.006326</td>\n",
       "      <td>10000</td>\n",
       "      <td>l2</td>\n",
       "      <td>0.00001</td>\n",
       "      <td>0.688155</td>\n",
       "      <td>0.834999</td>\n",
       "      <td>58</td>\n",
       "      <td>58</td>\n",
       "    </tr>\n",
       "  </tbody>\n",
       "</table>\n",
       "</div>"
      ],
      "text/plain": [
       "    mean_fit_time param_max_iter param_penalty   param_C  mean_test_f1  \\\n",
       "50       0.008344          10000            l2  0.001274      0.760851   \n",
       "51       0.009033            100            l2  0.000379      0.750685   \n",
       "52       0.008878           1000            l2  0.000379      0.750685   \n",
       "53       0.010683          10000            l2  0.000379      0.750685   \n",
       "54       0.006468            100            l2  0.000113      0.743187   \n",
       "55       0.008671           1000            l2  0.000113      0.743187   \n",
       "56       0.006281          10000            l2  0.000113      0.743187   \n",
       "57       0.558028            100            l2   0.00001      0.688155   \n",
       "58       0.009860           1000            l2   0.00001      0.688155   \n",
       "59       0.006326          10000            l2   0.00001      0.688155   \n",
       "\n",
       "    mean_test_roc_auc  rank_test_f1  rank_test_roc_auc  \n",
       "50           0.855660            49                 46  \n",
       "51           0.848637            52                 49  \n",
       "52           0.848637            52                 49  \n",
       "53           0.848637            52                 49  \n",
       "54           0.841567            55                 52  \n",
       "55           0.841567            55                 52  \n",
       "56           0.841567            55                 52  \n",
       "57           0.834999            58                 58  \n",
       "58           0.834999            58                 58  \n",
       "59           0.834999            58                 58  "
      ]
     },
     "metadata": {},
     "output_type": "display_data"
    }
   ],
   "source": [
    "df_results = print_top_low(grid_search, columns, ['rank_test_f1', 'index'])"
   ]
  },
  {
   "cell_type": "code",
   "execution_count": 19,
   "id": "d9f9ae88",
   "metadata": {
    "execution": {
     "iopub.execute_input": "2023-12-14T22:33:29.158770Z",
     "iopub.status.busy": "2023-12-14T22:33:29.158770Z",
     "iopub.status.idle": "2023-12-14T22:33:29.175104Z",
     "shell.execute_reply": "2023-12-14T22:33:29.175104Z"
    },
    "papermill": {
     "duration": 0.027412,
     "end_time": "2023-12-14T22:33:29.175104",
     "exception": false,
     "start_time": "2023-12-14T22:33:29.147692",
     "status": "completed"
    },
    "tags": []
   },
   "outputs": [
    {
     "data": {
      "text/plain": [
       "True"
      ]
     },
     "execution_count": 19,
     "metadata": {},
     "output_type": "execute_result"
    }
   ],
   "source": [
    "is_fitted(grid_search.best_estimator_, X_train_log)"
   ]
  },
  {
   "cell_type": "code",
   "execution_count": 20,
   "id": "e44f02c0",
   "metadata": {
    "execution": {
     "iopub.execute_input": "2023-12-14T22:33:29.195127Z",
     "iopub.status.busy": "2023-12-14T22:33:29.195127Z",
     "iopub.status.idle": "2023-12-14T22:33:29.206630Z",
     "shell.execute_reply": "2023-12-14T22:33:29.206630Z"
    },
    "papermill": {
     "duration": 0.015857,
     "end_time": "2023-12-14T22:33:29.206630",
     "exception": true,
     "start_time": "2023-12-14T22:33:29.190773",
     "status": "failed"
    },
    "tags": []
   },
   "outputs": [
    {
     "name": "stderr",
     "output_type": "stream",
     "text": [
      "UsageError: Cell magic `%%pipeline` not found.\n"
     ]
    }
   ],
   "source": [
    "# %%pipeline\n",
    "best_threshold = findBestThreshold(grid_search.best_estimator_, X_train_log, y_train_log)"
   ]
  },
  {
   "cell_type": "code",
   "execution_count": null,
   "id": "21f3fd08",
   "metadata": {
    "papermill": {
     "duration": null,
     "end_time": null,
     "exception": null,
     "start_time": null,
     "status": "pending"
    },
    "tags": []
   },
   "outputs": [],
   "source": [
    "new_directory = 'models/'\n",
    "\n",
    "os.makedirs(new_directory, exist_ok=True)"
   ]
  },
  {
   "cell_type": "code",
   "execution_count": null,
   "id": "4076e73e",
   "metadata": {
    "papermill": {
     "duration": null,
     "end_time": null,
     "exception": null,
     "start_time": null,
     "status": "pending"
    },
    "tags": []
   },
   "outputs": [],
   "source": [
    "joblib_logr = 'models/logistic_regression.pkl'\n",
    "joblib.dump(grid_search.best_estimator_, joblib_logr)"
   ]
  },
  {
   "cell_type": "code",
   "execution_count": null,
   "id": "7e181419",
   "metadata": {
    "papermill": {
     "duration": null,
     "end_time": null,
     "exception": null,
     "start_time": null,
     "status": "pending"
    },
    "tags": []
   },
   "outputs": [],
   "source": []
  }
 ],
 "metadata": {
  "kernelspec": {
   "display_name": "yandex",
   "language": "python",
   "name": "yandex"
  },
  "language_info": {
   "codemirror_mode": {
    "name": "ipython",
    "version": 3
   },
   "file_extension": ".py",
   "mimetype": "text/x-python",
   "name": "python",
   "nbconvert_exporter": "python",
   "pygments_lexer": "ipython3",
   "version": "3.10.13"
  },
  "papermill": {
   "default_parameters": {},
   "duration": 20.903514,
   "end_time": "2023-12-14T22:33:29.891765",
   "environment_variables": {},
   "exception": true,
   "input_path": "D:\\Yandex_practicum\\Projects\\Data_Science\\logistic_regression.ipynb",
   "output_path": "D:\\Yandex_practicum\\Projects\\Data_Science\\logistic_regression.ipynb",
   "parameters": {},
   "start_time": "2023-12-14T22:33:08.988251",
   "version": "2.4.0"
  }
 },
 "nbformat": 4,
 "nbformat_minor": 5
}
