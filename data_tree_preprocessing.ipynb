{
 "cells": [
  {
   "cell_type": "code",
   "execution_count": null,
   "id": "5b8faeb4",
   "metadata": {
    "execution": {
     "iopub.execute_input": "2023-12-14T22:16:20.747103Z",
     "iopub.status.busy": "2023-12-14T22:16:20.747103Z",
     "iopub.status.idle": "2023-12-14T22:16:26.979958Z",
     "shell.execute_reply": "2023-12-14T22:16:26.979022Z"
    },
    "papermill": {
     "duration": 6.236052,
     "end_time": "2023-12-14T22:16:26.981567",
     "exception": false,
     "start_time": "2023-12-14T22:16:20.745515",
     "status": "completed"
    },
    "tags": []
   },
   "outputs": [],
   "source": [
    "!pip3 install -q pandas==2.1.0\n",
    "!pip3 install -q numpy==1.22.4\n",
    "!pip3 install -q scikit-learn"
   ]
  },
  {
   "cell_type": "code",
   "execution_count": null,
   "id": "2edc8c2d",
   "metadata": {
    "execution": {
     "iopub.execute_input": "2023-12-14T22:16:26.987238Z",
     "iopub.status.busy": "2023-12-14T22:16:26.986206Z",
     "iopub.status.idle": "2023-12-14T22:16:28.007790Z",
     "shell.execute_reply": "2023-12-14T22:16:28.007790Z"
    },
    "papermill": {
     "duration": 1.026775,
     "end_time": "2023-12-14T22:16:28.010460",
     "exception": false,
     "start_time": "2023-12-14T22:16:26.983685",
     "status": "completed"
    },
    "tags": []
   },
   "outputs": [],
   "source": [
    "import pandas as pd\n",
    "import numpy as np\n",
    "\n",
    "from sklearn.preprocessing import OrdinalEncoder\n",
    "\n",
    "import os"
   ]
  },
  {
   "cell_type": "markdown",
   "id": "574ed0ab",
   "metadata": {
    "papermill": {
     "duration": 0.001566,
     "end_time": "2023-12-14T22:16:28.014032",
     "exception": false,
     "start_time": "2023-12-14T22:16:28.012466",
     "status": "completed"
    },
    "tags": []
   },
   "source": [
    "# Чтение данных"
   ]
  },
  {
   "cell_type": "code",
   "execution_count": null,
   "id": "ec253404",
   "metadata": {
    "execution": {
     "iopub.execute_input": "2023-12-14T22:16:28.019559Z",
     "iopub.status.busy": "2023-12-14T22:16:28.019559Z",
     "iopub.status.idle": "2023-12-14T22:16:28.042162Z",
     "shell.execute_reply": "2023-12-14T22:16:28.041354Z"
    },
    "papermill": {
     "duration": 0.025294,
     "end_time": "2023-12-14T22:16:28.042162",
     "exception": false,
     "start_time": "2023-12-14T22:16:28.016868",
     "status": "completed"
    },
    "tags": []
   },
   "outputs": [],
   "source": [
    "path1 = '/datasets/train_cleaned.csv'\n",
    "path2 = '/datasets/test_cleaned.csv'\n",
    "\n",
    "def read_file(path):\n",
    "    df = pd.DataFrame()\n",
    "    if os.path.exists(path):\n",
    "        df = pd.read_csv(path, sep=',')\n",
    "    elif os.path.exists(path[1:]):\n",
    "        df = pd.read_csv(path[1:], sep=',')\n",
    "    else:\n",
    "        print('No such file or directory') \n",
    "        raise FileNotFoundError('No such file or directory')\n",
    "    return df\n",
    "\n",
    "df_train_cl = read_file(path1)\n",
    "df_test_cl = read_file(path2)"
   ]
  },
  {
   "cell_type": "markdown",
   "id": "b9177c1a",
   "metadata": {
    "papermill": {
     "duration": 0.002877,
     "end_time": "2023-12-14T22:16:28.048589",
     "exception": false,
     "start_time": "2023-12-14T22:16:28.045712",
     "status": "completed"
    },
    "tags": []
   },
   "source": [
    "# Препроцессинг данных"
   ]
  },
  {
   "cell_type": "code",
   "execution_count": null,
   "id": "aa9c58a4",
   "metadata": {
    "execution": {
     "iopub.execute_input": "2023-12-14T22:16:28.054016Z",
     "iopub.status.busy": "2023-12-14T22:16:28.054016Z",
     "iopub.status.idle": "2023-12-14T22:16:28.065580Z",
     "shell.execute_reply": "2023-12-14T22:16:28.065580Z"
    },
    "papermill": {
     "duration": 0.017344,
     "end_time": "2023-12-14T22:16:28.067966",
     "exception": false,
     "start_time": "2023-12-14T22:16:28.050622",
     "status": "completed"
    },
    "tags": []
   },
   "outputs": [],
   "source": [
    "df_train_cl.info()"
   ]
  },
  {
   "cell_type": "code",
   "execution_count": null,
   "id": "df99c1ee",
   "metadata": {
    "execution": {
     "iopub.execute_input": "2023-12-14T22:16:28.073597Z",
     "iopub.status.busy": "2023-12-14T22:16:28.072597Z",
     "iopub.status.idle": "2023-12-14T22:16:28.094063Z",
     "shell.execute_reply": "2023-12-14T22:16:28.093003Z"
    },
    "papermill": {
     "duration": 0.025546,
     "end_time": "2023-12-14T22:16:28.095875",
     "exception": false,
     "start_time": "2023-12-14T22:16:28.070329",
     "status": "completed"
    },
    "tags": []
   },
   "outputs": [],
   "source": [
    "df_test_cl['CryoSleep'] = df_test_cl['CryoSleep'].astype(int)\n",
    "df_test_cl['VIP'] = df_test_cl['VIP'].astype(int)\n",
    "df_test_cl['has_services'] = df_test_cl['has_services'].astype(int)\n",
    "df_test_cl.info()"
   ]
  },
  {
   "cell_type": "code",
   "execution_count": null,
   "id": "b66e2397",
   "metadata": {
    "execution": {
     "iopub.execute_input": "2023-12-14T22:16:28.095875Z",
     "iopub.status.busy": "2023-12-14T22:16:28.095875Z",
     "iopub.status.idle": "2023-12-14T22:16:28.109071Z",
     "shell.execute_reply": "2023-12-14T22:16:28.109071Z"
    },
    "papermill": {
     "duration": 0.014295,
     "end_time": "2023-12-14T22:16:28.110170",
     "exception": false,
     "start_time": "2023-12-14T22:16:28.095875",
     "status": "completed"
    },
    "tags": []
   },
   "outputs": [],
   "source": [
    "categorical_features = df_train_cl.select_dtypes(include=['object']).columns.tolist()\n",
    "categorical_features"
   ]
  },
  {
   "cell_type": "code",
   "execution_count": null,
   "id": "8dcaec1e",
   "metadata": {
    "execution": {
     "iopub.execute_input": "2023-12-14T22:16:28.115880Z",
     "iopub.status.busy": "2023-12-14T22:16:28.115880Z",
     "iopub.status.idle": "2023-12-14T22:16:28.140880Z",
     "shell.execute_reply": "2023-12-14T22:16:28.140880Z"
    },
    "papermill": {
     "duration": 0.030825,
     "end_time": "2023-12-14T22:16:28.143888",
     "exception": false,
     "start_time": "2023-12-14T22:16:28.113063",
     "status": "completed"
    },
    "tags": []
   },
   "outputs": [],
   "source": [
    "encoder = OrdinalEncoder(categories='auto', dtype=int, handle_unknown='use_encoded_value', unknown_value=-1)\n",
    "encoder.fit(df_train_cl[categorical_features])\n",
    "\n",
    "df_train_cl[categorical_features] = encoder.fit_transform(df_train_cl[categorical_features])\n",
    "df_train_cl.reset_index(drop=True, inplace=True)\n",
    "\n",
    "df_train_cl.head()"
   ]
  },
  {
   "cell_type": "code",
   "execution_count": null,
   "id": "8f299a78",
   "metadata": {
    "execution": {
     "iopub.execute_input": "2023-12-14T22:16:28.146323Z",
     "iopub.status.busy": "2023-12-14T22:16:28.146323Z",
     "iopub.status.idle": "2023-12-14T22:16:28.173870Z",
     "shell.execute_reply": "2023-12-14T22:16:28.172862Z"
    },
    "papermill": {
     "duration": 0.027547,
     "end_time": "2023-12-14T22:16:28.173870",
     "exception": false,
     "start_time": "2023-12-14T22:16:28.146323",
     "status": "completed"
    },
    "tags": []
   },
   "outputs": [],
   "source": [
    "df_test_cl[categorical_features] = encoder.fit_transform(df_test_cl[categorical_features])\n",
    "df_test_cl.reset_index(drop=True, inplace=True)\n",
    "\n",
    "df_test_cl.head()"
   ]
  },
  {
   "cell_type": "markdown",
   "id": "08391b60",
   "metadata": {
    "papermill": {
     "duration": 0,
     "end_time": "2023-12-14T22:16:28.178898",
     "exception": false,
     "start_time": "2023-12-14T22:16:28.178898",
     "status": "completed"
    },
    "tags": []
   },
   "source": [
    "---"
   ]
  },
  {
   "cell_type": "code",
   "execution_count": null,
   "id": "73dff99d",
   "metadata": {
    "execution": {
     "iopub.execute_input": "2023-12-14T22:16:28.183927Z",
     "iopub.status.busy": "2023-12-14T22:16:28.183927Z",
     "iopub.status.idle": "2023-12-14T22:16:28.205621Z",
     "shell.execute_reply": "2023-12-14T22:16:28.204510Z"
    },
    "papermill": {
     "duration": 0.033461,
     "end_time": "2023-12-14T22:16:28.217388",
     "exception": false,
     "start_time": "2023-12-14T22:16:28.183927",
     "status": "completed"
    },
    "tags": []
   },
   "outputs": [],
   "source": [
    "new_directory = 'datasets/tree'\n",
    "\n",
    "os.makedirs(new_directory, exist_ok=True)"
   ]
  },
  {
   "cell_type": "code",
   "execution_count": null,
   "id": "cf869e92",
   "metadata": {
    "execution": {
     "iopub.execute_input": "2023-12-14T22:16:28.225409Z",
     "iopub.status.busy": "2023-12-14T22:16:28.224400Z",
     "iopub.status.idle": "2023-12-14T22:16:28.272652Z",
     "shell.execute_reply": "2023-12-14T22:16:28.272221Z"
    },
    "papermill": {
     "duration": 0.054218,
     "end_time": "2023-12-14T22:16:28.274704",
     "exception": false,
     "start_time": "2023-12-14T22:16:28.220486",
     "status": "completed"
    },
    "tags": []
   },
   "outputs": [],
   "source": [
    "path1 = 'datasets/tree/train_tree.csv'\n",
    "path2 = 'datasets/tree/test_tree.csv'\n",
    "\n",
    "df_train_cl.to_csv(path1, index=False)\n",
    "df_test_cl.to_csv(path2, index=False)"
   ]
  },
  {
   "cell_type": "code",
   "execution_count": null,
   "id": "bfac633b",
   "metadata": {
    "papermill": {
     "duration": 0.004025,
     "end_time": "2023-12-14T22:16:28.281978",
     "exception": false,
     "start_time": "2023-12-14T22:16:28.277953",
     "status": "completed"
    },
    "tags": []
   },
   "outputs": [],
   "source": []
  }
 ],
 "metadata": {
  "kernelspec": {
   "display_name": "yandex",
   "language": "python",
   "name": "yandex"
  },
  "language_info": {
   "codemirror_mode": {
    "name": "ipython",
    "version": 3
   },
   "file_extension": ".py",
   "mimetype": "text/x-python",
   "name": "python",
   "nbconvert_exporter": "python",
   "pygments_lexer": "ipython3",
   "version": "3.10.13"
  },
  "papermill": {
   "default_parameters": {},
   "duration": 9.638979,
   "end_time": "2023-12-14T22:16:28.620302",
   "environment_variables": {},
   "exception": null,
   "input_path": "D:\\Yandex_practicum\\Projects\\Data_Science\\data_tree_preprocessing.ipynb",
   "output_path": "D:\\Yandex_practicum\\Projects\\Data_Science\\data_tree_preprocessing.ipynb",
   "parameters": {},
   "start_time": "2023-12-14T22:16:18.981323",
   "version": "2.4.0"
  }
 },
 "nbformat": 4,
 "nbformat_minor": 5
}
