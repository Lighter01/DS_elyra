{
 "cells": [
  {
   "cell_type": "code",
   "execution_count": 1,
   "id": "5b8faeb4",
   "metadata": {
    "execution": {
     "iopub.execute_input": "2023-12-14T22:31:39.675139Z",
     "iopub.status.busy": "2023-12-14T22:31:39.675139Z",
     "iopub.status.idle": "2023-12-14T22:31:46.217862Z",
     "shell.execute_reply": "2023-12-14T22:31:46.216968Z"
    },
    "papermill": {
     "duration": 6.545011,
     "end_time": "2023-12-14T22:31:46.220150",
     "exception": false,
     "start_time": "2023-12-14T22:31:39.675139",
     "status": "completed"
    },
    "tags": []
   },
   "outputs": [],
   "source": [
    "!pip3 install -q pandas==2.1.0\n",
    "!pip3 install -q numpy==1.22.4\n",
    "!pip3 install -q scikit-learn"
   ]
  },
  {
   "cell_type": "code",
   "execution_count": 2,
   "id": "2edc8c2d",
   "metadata": {
    "execution": {
     "iopub.execute_input": "2023-12-14T22:31:46.227733Z",
     "iopub.status.busy": "2023-12-14T22:31:46.227733Z",
     "iopub.status.idle": "2023-12-14T22:31:47.223870Z",
     "shell.execute_reply": "2023-12-14T22:31:47.222869Z"
    },
    "papermill": {
     "duration": 1.001809,
     "end_time": "2023-12-14T22:31:47.224928",
     "exception": false,
     "start_time": "2023-12-14T22:31:46.223119",
     "status": "completed"
    },
    "tags": []
   },
   "outputs": [],
   "source": [
    "import pandas as pd\n",
    "import numpy as np\n",
    "\n",
    "from sklearn.preprocessing import OrdinalEncoder\n",
    "\n",
    "import os"
   ]
  },
  {
   "cell_type": "markdown",
   "id": "574ed0ab",
   "metadata": {
    "papermill": {
     "duration": 0.0,
     "end_time": "2023-12-14T22:31:47.227455",
     "exception": false,
     "start_time": "2023-12-14T22:31:47.227455",
     "status": "completed"
    },
    "tags": []
   },
   "source": [
    "# Чтение данных"
   ]
  },
  {
   "cell_type": "code",
   "execution_count": 3,
   "id": "ec253404",
   "metadata": {
    "execution": {
     "iopub.execute_input": "2023-12-14T22:31:47.227455Z",
     "iopub.status.busy": "2023-12-14T22:31:47.227455Z",
     "iopub.status.idle": "2023-12-14T22:31:47.266832Z",
     "shell.execute_reply": "2023-12-14T22:31:47.266832Z"
    },
    "papermill": {
     "duration": 0.041353,
     "end_time": "2023-12-14T22:31:47.268808",
     "exception": false,
     "start_time": "2023-12-14T22:31:47.227455",
     "status": "completed"
    },
    "tags": []
   },
   "outputs": [],
   "source": [
    "path1 = '/datasets/train_cleaned.csv'\n",
    "path2 = '/datasets/test_cleaned.csv'\n",
    "\n",
    "def read_file(path):\n",
    "    df = pd.DataFrame()\n",
    "    if os.path.exists(path):\n",
    "        df = pd.read_csv(path, sep=',')\n",
    "    elif os.path.exists(path[1:]):\n",
    "        df = pd.read_csv(path[1:], sep=',')\n",
    "    else:\n",
    "        print('No such file or directory') \n",
    "        raise FileNotFoundError('No such file or directory')\n",
    "    return df\n",
    "\n",
    "df_train_cl = read_file(path1)\n",
    "df_test_cl = read_file(path2)"
   ]
  },
  {
   "cell_type": "markdown",
   "id": "b9177c1a",
   "metadata": {
    "papermill": {
     "duration": 0.00364,
     "end_time": "2023-12-14T22:31:47.274981",
     "exception": false,
     "start_time": "2023-12-14T22:31:47.271341",
     "status": "completed"
    },
    "tags": []
   },
   "source": [
    "# Препроцессинг данных"
   ]
  },
  {
   "cell_type": "code",
   "execution_count": 4,
   "id": "aa9c58a4",
   "metadata": {
    "execution": {
     "iopub.execute_input": "2023-12-14T22:31:47.281322Z",
     "iopub.status.busy": "2023-12-14T22:31:47.280324Z",
     "iopub.status.idle": "2023-12-14T22:31:47.308018Z",
     "shell.execute_reply": "2023-12-14T22:31:47.306572Z"
    },
    "papermill": {
     "duration": 0.033086,
     "end_time": "2023-12-14T22:31:47.309578",
     "exception": false,
     "start_time": "2023-12-14T22:31:47.276492",
     "status": "completed"
    },
    "tags": []
   },
   "outputs": [
    {
     "name": "stdout",
     "output_type": "stream",
     "text": [
      "<class 'pandas.core.frame.DataFrame'>\n",
      "RangeIndex: 8673 entries, 0 to 8672\n",
      "Data columns (total 13 columns):\n",
      " #   Column        Non-Null Count  Dtype  \n",
      "---  ------        --------------  -----  \n",
      " 0   HomePlanet    8673 non-null   object \n",
      " 1   CryoSleep     8673 non-null   bool   \n",
      " 2   Cabin         8673 non-null   object \n",
      " 3   Destination   8673 non-null   object \n",
      " 4   Age           8673 non-null   float64\n",
      " 5   VIP           8673 non-null   bool   \n",
      " 6   RoomService   8673 non-null   float64\n",
      " 7   FoodCourt     8673 non-null   float64\n",
      " 8   ShoppingMall  8673 non-null   float64\n",
      " 9   Spa           8673 non-null   float64\n",
      " 10  VRDeck        8673 non-null   float64\n",
      " 11  Transported   8673 non-null   bool   \n",
      " 12  has_services  8673 non-null   bool   \n",
      "dtypes: bool(4), float64(6), object(3)\n",
      "memory usage: 643.8+ KB\n"
     ]
    }
   ],
   "source": [
    "df_train_cl.info()"
   ]
  },
  {
   "cell_type": "code",
   "execution_count": 5,
   "id": "df99c1ee",
   "metadata": {
    "execution": {
     "iopub.execute_input": "2023-12-14T22:31:47.316288Z",
     "iopub.status.busy": "2023-12-14T22:31:47.316288Z",
     "iopub.status.idle": "2023-12-14T22:31:47.337809Z",
     "shell.execute_reply": "2023-12-14T22:31:47.336821Z"
    },
    "papermill": {
     "duration": 0.027829,
     "end_time": "2023-12-14T22:31:47.339929",
     "exception": false,
     "start_time": "2023-12-14T22:31:47.312100",
     "status": "completed"
    },
    "tags": []
   },
   "outputs": [
    {
     "name": "stdout",
     "output_type": "stream",
     "text": [
      "<class 'pandas.core.frame.DataFrame'>\n",
      "RangeIndex: 3355 entries, 0 to 3354\n",
      "Data columns (total 12 columns):\n",
      " #   Column        Non-Null Count  Dtype  \n",
      "---  ------        --------------  -----  \n",
      " 0   HomePlanet    3355 non-null   object \n",
      " 1   CryoSleep     3355 non-null   int32  \n",
      " 2   Cabin         3355 non-null   object \n",
      " 3   Destination   3355 non-null   object \n",
      " 4   Age           3355 non-null   float64\n",
      " 5   VIP           3355 non-null   int32  \n",
      " 6   RoomService   3355 non-null   float64\n",
      " 7   FoodCourt     3355 non-null   float64\n",
      " 8   ShoppingMall  3355 non-null   float64\n",
      " 9   Spa           3355 non-null   float64\n",
      " 10  VRDeck        3355 non-null   float64\n",
      " 11  has_services  3355 non-null   int32  \n",
      "dtypes: float64(6), int32(3), object(3)\n",
      "memory usage: 275.3+ KB\n"
     ]
    }
   ],
   "source": [
    "df_test_cl['CryoSleep'] = df_test_cl['CryoSleep'].astype(int)\n",
    "df_test_cl['VIP'] = df_test_cl['VIP'].astype(int)\n",
    "df_test_cl['has_services'] = df_test_cl['has_services'].astype(int)\n",
    "df_test_cl.info()"
   ]
  },
  {
   "cell_type": "code",
   "execution_count": 6,
   "id": "b66e2397",
   "metadata": {
    "execution": {
     "iopub.execute_input": "2023-12-14T22:31:47.347396Z",
     "iopub.status.busy": "2023-12-14T22:31:47.346382Z",
     "iopub.status.idle": "2023-12-14T22:31:47.356077Z",
     "shell.execute_reply": "2023-12-14T22:31:47.355570Z"
    },
    "papermill": {
     "duration": 0.015184,
     "end_time": "2023-12-14T22:31:47.358118",
     "exception": false,
     "start_time": "2023-12-14T22:31:47.342934",
     "status": "completed"
    },
    "tags": []
   },
   "outputs": [
    {
     "data": {
      "text/plain": [
       "['HomePlanet', 'Cabin', 'Destination']"
      ]
     },
     "execution_count": 6,
     "metadata": {},
     "output_type": "execute_result"
    }
   ],
   "source": [
    "categorical_features = df_train_cl.select_dtypes(include=['object']).columns.tolist()\n",
    "categorical_features"
   ]
  },
  {
   "cell_type": "code",
   "execution_count": 7,
   "id": "8dcaec1e",
   "metadata": {
    "execution": {
     "iopub.execute_input": "2023-12-14T22:31:47.364538Z",
     "iopub.status.busy": "2023-12-14T22:31:47.363642Z",
     "iopub.status.idle": "2023-12-14T22:31:47.385956Z",
     "shell.execute_reply": "2023-12-14T22:31:47.385450Z"
    },
    "papermill": {
     "duration": 0.025617,
     "end_time": "2023-12-14T22:31:47.386258",
     "exception": false,
     "start_time": "2023-12-14T22:31:47.360641",
     "status": "completed"
    },
    "tags": []
   },
   "outputs": [
    {
     "data": {
      "text/html": [
       "<div>\n",
       "<style scoped>\n",
       "    .dataframe tbody tr th:only-of-type {\n",
       "        vertical-align: middle;\n",
       "    }\n",
       "\n",
       "    .dataframe tbody tr th {\n",
       "        vertical-align: top;\n",
       "    }\n",
       "\n",
       "    .dataframe thead th {\n",
       "        text-align: right;\n",
       "    }\n",
       "</style>\n",
       "<table border=\"1\" class=\"dataframe\">\n",
       "  <thead>\n",
       "    <tr style=\"text-align: right;\">\n",
       "      <th></th>\n",
       "      <th>HomePlanet</th>\n",
       "      <th>CryoSleep</th>\n",
       "      <th>Cabin</th>\n",
       "      <th>Destination</th>\n",
       "      <th>Age</th>\n",
       "      <th>VIP</th>\n",
       "      <th>RoomService</th>\n",
       "      <th>FoodCourt</th>\n",
       "      <th>ShoppingMall</th>\n",
       "      <th>Spa</th>\n",
       "      <th>VRDeck</th>\n",
       "      <th>Transported</th>\n",
       "      <th>has_services</th>\n",
       "    </tr>\n",
       "  </thead>\n",
       "  <tbody>\n",
       "    <tr>\n",
       "      <th>0</th>\n",
       "      <td>1</td>\n",
       "      <td>False</td>\n",
       "      <td>0</td>\n",
       "      <td>2</td>\n",
       "      <td>39.0</td>\n",
       "      <td>False</td>\n",
       "      <td>0.0</td>\n",
       "      <td>0.0</td>\n",
       "      <td>0.0</td>\n",
       "      <td>0.0</td>\n",
       "      <td>0.0</td>\n",
       "      <td>False</td>\n",
       "      <td>False</td>\n",
       "    </tr>\n",
       "    <tr>\n",
       "      <th>1</th>\n",
       "      <td>0</td>\n",
       "      <td>False</td>\n",
       "      <td>1</td>\n",
       "      <td>2</td>\n",
       "      <td>24.0</td>\n",
       "      <td>False</td>\n",
       "      <td>109.0</td>\n",
       "      <td>9.0</td>\n",
       "      <td>25.0</td>\n",
       "      <td>549.0</td>\n",
       "      <td>44.0</td>\n",
       "      <td>True</td>\n",
       "      <td>True</td>\n",
       "    </tr>\n",
       "    <tr>\n",
       "      <th>2</th>\n",
       "      <td>1</td>\n",
       "      <td>False</td>\n",
       "      <td>1</td>\n",
       "      <td>2</td>\n",
       "      <td>58.0</td>\n",
       "      <td>True</td>\n",
       "      <td>43.0</td>\n",
       "      <td>3576.0</td>\n",
       "      <td>0.0</td>\n",
       "      <td>6715.0</td>\n",
       "      <td>49.0</td>\n",
       "      <td>False</td>\n",
       "      <td>True</td>\n",
       "    </tr>\n",
       "    <tr>\n",
       "      <th>3</th>\n",
       "      <td>1</td>\n",
       "      <td>False</td>\n",
       "      <td>1</td>\n",
       "      <td>2</td>\n",
       "      <td>33.0</td>\n",
       "      <td>False</td>\n",
       "      <td>0.0</td>\n",
       "      <td>1283.0</td>\n",
       "      <td>371.0</td>\n",
       "      <td>3329.0</td>\n",
       "      <td>193.0</td>\n",
       "      <td>False</td>\n",
       "      <td>True</td>\n",
       "    </tr>\n",
       "    <tr>\n",
       "      <th>4</th>\n",
       "      <td>0</td>\n",
       "      <td>False</td>\n",
       "      <td>1</td>\n",
       "      <td>2</td>\n",
       "      <td>16.0</td>\n",
       "      <td>False</td>\n",
       "      <td>303.0</td>\n",
       "      <td>70.0</td>\n",
       "      <td>151.0</td>\n",
       "      <td>565.0</td>\n",
       "      <td>2.0</td>\n",
       "      <td>True</td>\n",
       "      <td>True</td>\n",
       "    </tr>\n",
       "  </tbody>\n",
       "</table>\n",
       "</div>"
      ],
      "text/plain": [
       "   HomePlanet  CryoSleep  Cabin  Destination   Age    VIP  RoomService  \\\n",
       "0           1      False      0            2  39.0  False          0.0   \n",
       "1           0      False      1            2  24.0  False        109.0   \n",
       "2           1      False      1            2  58.0   True         43.0   \n",
       "3           1      False      1            2  33.0  False          0.0   \n",
       "4           0      False      1            2  16.0  False        303.0   \n",
       "\n",
       "   FoodCourt  ShoppingMall     Spa  VRDeck  Transported  has_services  \n",
       "0        0.0           0.0     0.0     0.0        False         False  \n",
       "1        9.0          25.0   549.0    44.0         True          True  \n",
       "2     3576.0           0.0  6715.0    49.0        False          True  \n",
       "3     1283.0         371.0  3329.0   193.0        False          True  \n",
       "4       70.0         151.0   565.0     2.0         True          True  "
      ]
     },
     "execution_count": 7,
     "metadata": {},
     "output_type": "execute_result"
    }
   ],
   "source": [
    "encoder = OrdinalEncoder(categories='auto', dtype=int, handle_unknown='use_encoded_value', unknown_value=-1)\n",
    "encoder.fit(df_train_cl[categorical_features])\n",
    "\n",
    "df_train_cl[categorical_features] = encoder.fit_transform(df_train_cl[categorical_features])\n",
    "df_train_cl.reset_index(drop=True, inplace=True)\n",
    "\n",
    "df_train_cl.head()"
   ]
  },
  {
   "cell_type": "code",
   "execution_count": 8,
   "id": "8f299a78",
   "metadata": {
    "execution": {
     "iopub.execute_input": "2023-12-14T22:31:47.394918Z",
     "iopub.status.busy": "2023-12-14T22:31:47.393980Z",
     "iopub.status.idle": "2023-12-14T22:31:47.412744Z",
     "shell.execute_reply": "2023-12-14T22:31:47.412145Z"
    },
    "papermill": {
     "duration": 0.023782,
     "end_time": "2023-12-14T22:31:47.413756",
     "exception": false,
     "start_time": "2023-12-14T22:31:47.389974",
     "status": "completed"
    },
    "tags": []
   },
   "outputs": [
    {
     "data": {
      "text/html": [
       "<div>\n",
       "<style scoped>\n",
       "    .dataframe tbody tr th:only-of-type {\n",
       "        vertical-align: middle;\n",
       "    }\n",
       "\n",
       "    .dataframe tbody tr th {\n",
       "        vertical-align: top;\n",
       "    }\n",
       "\n",
       "    .dataframe thead th {\n",
       "        text-align: right;\n",
       "    }\n",
       "</style>\n",
       "<table border=\"1\" class=\"dataframe\">\n",
       "  <thead>\n",
       "    <tr style=\"text-align: right;\">\n",
       "      <th></th>\n",
       "      <th>HomePlanet</th>\n",
       "      <th>CryoSleep</th>\n",
       "      <th>Cabin</th>\n",
       "      <th>Destination</th>\n",
       "      <th>Age</th>\n",
       "      <th>VIP</th>\n",
       "      <th>RoomService</th>\n",
       "      <th>FoodCourt</th>\n",
       "      <th>ShoppingMall</th>\n",
       "      <th>Spa</th>\n",
       "      <th>VRDeck</th>\n",
       "      <th>has_services</th>\n",
       "    </tr>\n",
       "  </thead>\n",
       "  <tbody>\n",
       "    <tr>\n",
       "      <th>0</th>\n",
       "      <td>0</td>\n",
       "      <td>1</td>\n",
       "      <td>1</td>\n",
       "      <td>2</td>\n",
       "      <td>27.0</td>\n",
       "      <td>0</td>\n",
       "      <td>0.0</td>\n",
       "      <td>0.0</td>\n",
       "      <td>0.0</td>\n",
       "      <td>0.0</td>\n",
       "      <td>0.0</td>\n",
       "      <td>0</td>\n",
       "    </tr>\n",
       "    <tr>\n",
       "      <th>1</th>\n",
       "      <td>0</td>\n",
       "      <td>0</td>\n",
       "      <td>1</td>\n",
       "      <td>2</td>\n",
       "      <td>19.0</td>\n",
       "      <td>0</td>\n",
       "      <td>0.0</td>\n",
       "      <td>9.0</td>\n",
       "      <td>0.0</td>\n",
       "      <td>2823.0</td>\n",
       "      <td>0.0</td>\n",
       "      <td>1</td>\n",
       "    </tr>\n",
       "    <tr>\n",
       "      <th>2</th>\n",
       "      <td>1</td>\n",
       "      <td>1</td>\n",
       "      <td>1</td>\n",
       "      <td>0</td>\n",
       "      <td>31.0</td>\n",
       "      <td>0</td>\n",
       "      <td>0.0</td>\n",
       "      <td>0.0</td>\n",
       "      <td>0.0</td>\n",
       "      <td>0.0</td>\n",
       "      <td>0.0</td>\n",
       "      <td>0</td>\n",
       "    </tr>\n",
       "    <tr>\n",
       "      <th>3</th>\n",
       "      <td>1</td>\n",
       "      <td>0</td>\n",
       "      <td>1</td>\n",
       "      <td>2</td>\n",
       "      <td>38.0</td>\n",
       "      <td>0</td>\n",
       "      <td>0.0</td>\n",
       "      <td>6652.0</td>\n",
       "      <td>0.0</td>\n",
       "      <td>181.0</td>\n",
       "      <td>585.0</td>\n",
       "      <td>1</td>\n",
       "    </tr>\n",
       "    <tr>\n",
       "      <th>4</th>\n",
       "      <td>0</td>\n",
       "      <td>0</td>\n",
       "      <td>1</td>\n",
       "      <td>2</td>\n",
       "      <td>20.0</td>\n",
       "      <td>0</td>\n",
       "      <td>10.0</td>\n",
       "      <td>0.0</td>\n",
       "      <td>635.0</td>\n",
       "      <td>0.0</td>\n",
       "      <td>0.0</td>\n",
       "      <td>1</td>\n",
       "    </tr>\n",
       "  </tbody>\n",
       "</table>\n",
       "</div>"
      ],
      "text/plain": [
       "   HomePlanet  CryoSleep  Cabin  Destination   Age  VIP  RoomService  \\\n",
       "0           0          1      1            2  27.0    0          0.0   \n",
       "1           0          0      1            2  19.0    0          0.0   \n",
       "2           1          1      1            0  31.0    0          0.0   \n",
       "3           1          0      1            2  38.0    0          0.0   \n",
       "4           0          0      1            2  20.0    0         10.0   \n",
       "\n",
       "   FoodCourt  ShoppingMall     Spa  VRDeck  has_services  \n",
       "0        0.0           0.0     0.0     0.0             0  \n",
       "1        9.0           0.0  2823.0     0.0             1  \n",
       "2        0.0           0.0     0.0     0.0             0  \n",
       "3     6652.0           0.0   181.0   585.0             1  \n",
       "4        0.0         635.0     0.0     0.0             1  "
      ]
     },
     "execution_count": 8,
     "metadata": {},
     "output_type": "execute_result"
    }
   ],
   "source": [
    "df_test_cl[categorical_features] = encoder.fit_transform(df_test_cl[categorical_features])\n",
    "df_test_cl.reset_index(drop=True, inplace=True)\n",
    "\n",
    "df_test_cl.head()"
   ]
  },
  {
   "cell_type": "markdown",
   "id": "08391b60",
   "metadata": {
    "papermill": {
     "duration": 0.003,
     "end_time": "2023-12-14T22:31:47.420274",
     "exception": false,
     "start_time": "2023-12-14T22:31:47.417274",
     "status": "completed"
    },
    "tags": []
   },
   "source": [
    "---"
   ]
  },
  {
   "cell_type": "code",
   "execution_count": 9,
   "id": "73dff99d",
   "metadata": {
    "execution": {
     "iopub.execute_input": "2023-12-14T22:31:47.427447Z",
     "iopub.status.busy": "2023-12-14T22:31:47.426439Z",
     "iopub.status.idle": "2023-12-14T22:31:47.431066Z",
     "shell.execute_reply": "2023-12-14T22:31:47.431066Z"
    },
    "papermill": {
     "duration": 0.011772,
     "end_time": "2023-12-14T22:31:47.433124",
     "exception": false,
     "start_time": "2023-12-14T22:31:47.421352",
     "status": "completed"
    },
    "tags": []
   },
   "outputs": [],
   "source": [
    "new_directory = 'datasets/tree'\n",
    "\n",
    "os.makedirs(new_directory, exist_ok=True)"
   ]
  },
  {
   "cell_type": "code",
   "execution_count": 10,
   "id": "cf869e92",
   "metadata": {
    "execution": {
     "iopub.execute_input": "2023-12-14T22:31:47.439143Z",
     "iopub.status.busy": "2023-12-14T22:31:47.439143Z",
     "iopub.status.idle": "2023-12-14T22:31:47.486547Z",
     "shell.execute_reply": "2023-12-14T22:31:47.486016Z"
    },
    "papermill": {
     "duration": 0.052509,
     "end_time": "2023-12-14T22:31:47.488633",
     "exception": false,
     "start_time": "2023-12-14T22:31:47.436124",
     "status": "completed"
    },
    "tags": []
   },
   "outputs": [],
   "source": [
    "path1 = 'datasets/tree/train_tree.csv'\n",
    "path2 = 'datasets/tree/test_tree.csv'\n",
    "\n",
    "df_train_cl.to_csv(path1, index=False)\n",
    "df_test_cl.to_csv(path2, index=False)"
   ]
  },
  {
   "cell_type": "code",
   "execution_count": null,
   "id": "bfac633b",
   "metadata": {
    "papermill": {
     "duration": 0.002508,
     "end_time": "2023-12-14T22:31:47.495341",
     "exception": false,
     "start_time": "2023-12-14T22:31:47.492833",
     "status": "completed"
    },
    "tags": []
   },
   "outputs": [],
   "source": []
  }
 ],
 "metadata": {
  "kernelspec": {
   "display_name": "yandex",
   "language": "python",
   "name": "yandex"
  },
  "language_info": {
   "codemirror_mode": {
    "name": "ipython",
    "version": 3
   },
   "file_extension": ".py",
   "mimetype": "text/x-python",
   "name": "python",
   "nbconvert_exporter": "python",
   "pygments_lexer": "ipython3",
   "version": "3.10.13"
  },
  "papermill": {
   "default_parameters": {},
   "duration": 9.953185,
   "end_time": "2023-12-14T22:31:47.846406",
   "environment_variables": {},
   "exception": null,
   "input_path": "D:\\Yandex_practicum\\Projects\\Data_Science\\data_tree_preprocessing.ipynb",
   "output_path": "D:\\Yandex_practicum\\Projects\\Data_Science\\data_tree_preprocessing.ipynb",
   "parameters": {},
   "start_time": "2023-12-14T22:31:37.893221",
   "version": "2.4.0"
  }
 },
 "nbformat": 4,
 "nbformat_minor": 5
}