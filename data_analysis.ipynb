{
 "cells": [
  {
   "cell_type": "code",
   "execution_count": 1,
   "id": "290ba51a",
   "metadata": {
    "execution": {
     "iopub.execute_input": "2023-12-14T22:31:23.238505Z",
     "iopub.status.busy": "2023-12-14T22:31:23.237477Z",
     "iopub.status.idle": "2023-12-14T22:31:27.608104Z",
     "shell.execute_reply": "2023-12-14T22:31:27.607224Z"
    },
    "papermill": {
     "duration": 4.377949,
     "end_time": "2023-12-14T22:31:27.609115",
     "exception": false,
     "start_time": "2023-12-14T22:31:23.231166",
     "status": "completed"
    },
    "tags": []
   },
   "outputs": [
    {
     "name": "stdout",
     "output_type": "stream",
     "text": [
      "Requirement already satisfied: sweetviz in d:\\anaconda\\envs\\yandex\\lib\\site-packages (2.3.0)\n",
      "Requirement already satisfied: pandas!=1.0.0,!=1.0.1,!=1.0.2,>=0.25.3 in d:\\anaconda\\envs\\yandex\\lib\\site-packages (from sweetviz) (2.1.0)\n",
      "Requirement already satisfied: numpy>=1.16.0 in d:\\anaconda\\envs\\yandex\\lib\\site-packages (from sweetviz) (1.22.4)\n",
      "Requirement already satisfied: matplotlib>=3.1.3 in d:\\anaconda\\envs\\yandex\\lib\\site-packages (from sweetviz) (3.7.2)\n",
      "Requirement already satisfied: tqdm>=4.43.0 in d:\\anaconda\\envs\\yandex\\lib\\site-packages (from sweetviz) (4.65.0)\n",
      "Requirement already satisfied: scipy>=1.3.2 in d:\\anaconda\\envs\\yandex\\lib\\site-packages (from sweetviz) (1.11.1)\n",
      "Requirement already satisfied: jinja2>=2.11.1 in d:\\anaconda\\envs\\yandex\\lib\\site-packages (from sweetviz) (3.1.2)\n",
      "Requirement already satisfied: importlib-resources>=1.2.0 in d:\\anaconda\\envs\\yandex\\lib\\site-packages (from sweetviz) (6.1.1)\n",
      "Requirement already satisfied: MarkupSafe>=2.0 in d:\\anaconda\\envs\\yandex\\lib\\site-packages (from jinja2>=2.11.1->sweetviz) (2.1.1)\n",
      "Requirement already satisfied: contourpy>=1.0.1 in d:\\anaconda\\envs\\yandex\\lib\\site-packages (from matplotlib>=3.1.3->sweetviz) (1.0.5)\n",
      "Requirement already satisfied: cycler>=0.10 in d:\\anaconda\\envs\\yandex\\lib\\site-packages (from matplotlib>=3.1.3->sweetviz) (0.11.0)\n",
      "Requirement already satisfied: fonttools>=4.22.0 in d:\\anaconda\\envs\\yandex\\lib\\site-packages (from matplotlib>=3.1.3->sweetviz) (4.25.0)\n",
      "Requirement already satisfied: kiwisolver>=1.0.1 in d:\\anaconda\\envs\\yandex\\lib\\site-packages (from matplotlib>=3.1.3->sweetviz) (1.4.4)\n",
      "Requirement already satisfied: packaging>=20.0 in d:\\anaconda\\envs\\yandex\\lib\\site-packages (from matplotlib>=3.1.3->sweetviz) (23.1)\n",
      "Requirement already satisfied: pillow>=6.2.0 in d:\\anaconda\\envs\\yandex\\lib\\site-packages (from matplotlib>=3.1.3->sweetviz) (10.0.1)\n",
      "Requirement already satisfied: pyparsing<3.1,>=2.3.1 in d:\\anaconda\\envs\\yandex\\lib\\site-packages (from matplotlib>=3.1.3->sweetviz) (3.0.9)\n",
      "Requirement already satisfied: python-dateutil>=2.7 in d:\\anaconda\\envs\\yandex\\lib\\site-packages (from matplotlib>=3.1.3->sweetviz) (2.8.2)\n",
      "Requirement already satisfied: pytz>=2020.1 in d:\\anaconda\\envs\\yandex\\lib\\site-packages (from pandas!=1.0.0,!=1.0.1,!=1.0.2,>=0.25.3->sweetviz) (2023.3.post1)\n",
      "Requirement already satisfied: tzdata>=2022.1 in d:\\anaconda\\envs\\yandex\\lib\\site-packages (from pandas!=1.0.0,!=1.0.1,!=1.0.2,>=0.25.3->sweetviz) (2023.3)\n",
      "Requirement already satisfied: colorama in d:\\anaconda\\envs\\yandex\\lib\\site-packages (from tqdm>=4.43.0->sweetviz) (0.4.6)\n",
      "Requirement already satisfied: six>=1.5 in d:\\anaconda\\envs\\yandex\\lib\\site-packages (from python-dateutil>=2.7->matplotlib>=3.1.3->sweetviz) (1.16.0)\n"
     ]
    }
   ],
   "source": [
    "!pip3 install sweetviz\n",
    "!pip3 install -q pandas==2.1.0"
   ]
  },
  {
   "cell_type": "code",
   "execution_count": 2,
   "id": "1c2eec71",
   "metadata": {
    "execution": {
     "iopub.execute_input": "2023-12-14T22:31:27.619841Z",
     "iopub.status.busy": "2023-12-14T22:31:27.619841Z",
     "iopub.status.idle": "2023-12-14T22:31:29.101886Z",
     "shell.execute_reply": "2023-12-14T22:31:29.101583Z"
    },
    "papermill": {
     "duration": 1.488452,
     "end_time": "2023-12-14T22:31:29.103195",
     "exception": false,
     "start_time": "2023-12-14T22:31:27.614743",
     "status": "completed"
    },
    "tags": []
   },
   "outputs": [],
   "source": [
    "import sweetviz as sv\n",
    "import pandas as pd\n",
    "import os"
   ]
  },
  {
   "cell_type": "markdown",
   "id": "567e5e68",
   "metadata": {
    "papermill": {
     "duration": 0.004286,
     "end_time": "2023-12-14T22:31:29.113613",
     "exception": false,
     "start_time": "2023-12-14T22:31:29.109327",
     "status": "completed"
    },
    "tags": []
   },
   "source": [
    "# Чтение данных"
   ]
  },
  {
   "cell_type": "code",
   "execution_count": 3,
   "id": "93a28a40",
   "metadata": {
    "execution": {
     "iopub.execute_input": "2023-12-14T22:31:29.125927Z",
     "iopub.status.busy": "2023-12-14T22:31:29.124919Z",
     "iopub.status.idle": "2023-12-14T22:31:29.234525Z",
     "shell.execute_reply": "2023-12-14T22:31:29.234193Z"
    },
    "papermill": {
     "duration": 0.117071,
     "end_time": "2023-12-14T22:31:29.235579",
     "exception": false,
     "start_time": "2023-12-14T22:31:29.118508",
     "status": "completed"
    },
    "tags": []
   },
   "outputs": [],
   "source": [
    "path1 = '/datasets/train_cleaned.csv'\n",
    "path2 = '/datasets/test_cleaned.csv'\n",
    "\n",
    "def read_file(path):\n",
    "    df = pd.DataFrame()\n",
    "    if os.path.exists(path):\n",
    "        df = pd.read_csv(path, sep=',')\n",
    "    elif os.path.exists(path[1:]):\n",
    "        df = pd.read_csv(path[1:], sep=',')\n",
    "    else:\n",
    "        print('No such file or directory') \n",
    "        raise FileNotFoundError('No such file or directory')\n",
    "    return df\n",
    "\n",
    "df_train_cl = read_file(path1)\n",
    "df_test_cl = read_file(path2)"
   ]
  },
  {
   "cell_type": "code",
   "execution_count": 4,
   "id": "af3b5d75",
   "metadata": {
    "execution": {
     "iopub.execute_input": "2023-12-14T22:31:29.246896Z",
     "iopub.status.busy": "2023-12-14T22:31:29.246896Z",
     "iopub.status.idle": "2023-12-14T22:31:29.252817Z",
     "shell.execute_reply": "2023-12-14T22:31:29.252744Z"
    },
    "papermill": {
     "duration": 0.013599,
     "end_time": "2023-12-14T22:31:29.254336",
     "exception": false,
     "start_time": "2023-12-14T22:31:29.240737",
     "status": "completed"
    },
    "tags": []
   },
   "outputs": [],
   "source": [
    "new_directory = 'analysis/'\n",
    "\n",
    "os.makedirs(new_directory, exist_ok=True)"
   ]
  },
  {
   "cell_type": "markdown",
   "id": "e5b65b98",
   "metadata": {
    "papermill": {
     "duration": 0.004512,
     "end_time": "2023-12-14T22:31:29.263894",
     "exception": false,
     "start_time": "2023-12-14T22:31:29.259382",
     "status": "completed"
    },
    "tags": []
   },
   "source": [
    "# Анализ данных"
   ]
  },
  {
   "cell_type": "code",
   "execution_count": 5,
   "id": "d0fd23fe",
   "metadata": {
    "execution": {
     "iopub.execute_input": "2023-12-14T22:31:29.273482Z",
     "iopub.status.busy": "2023-12-14T22:31:29.272482Z",
     "iopub.status.idle": "2023-12-14T22:31:33.157231Z",
     "shell.execute_reply": "2023-12-14T22:31:33.156170Z"
    },
    "papermill": {
     "duration": 3.890883,
     "end_time": "2023-12-14T22:31:33.158677",
     "exception": false,
     "start_time": "2023-12-14T22:31:29.267794",
     "status": "completed"
    },
    "tags": []
   },
   "outputs": [
    {
     "data": {
      "application/vnd.jupyter.widget-view+json": {
       "model_id": "353d180cfa9b4358949c5f32c993b8c2",
       "version_major": 2,
       "version_minor": 0
      },
      "text/plain": [
       "                                             |          | [  0%]   00:00 -> (? left)"
      ]
     },
     "metadata": {},
     "output_type": "display_data"
    },
    {
     "name": "stdout",
     "output_type": "stream",
     "text": [
      "Report analysis/train_analysis.html was generated.\n"
     ]
    }
   ],
   "source": [
    "report_train = sv.analyze([df_train_cl, \"Train analysis\"])\n",
    "\n",
    "report_train.show_html('analysis/train_analysis.html', open_browser=False)"
   ]
  },
  {
   "cell_type": "code",
   "execution_count": 6,
   "id": "a9931b83",
   "metadata": {
    "execution": {
     "iopub.execute_input": "2023-12-14T22:31:33.169317Z",
     "iopub.status.busy": "2023-12-14T22:31:33.168074Z",
     "iopub.status.idle": "2023-12-14T22:31:36.761527Z",
     "shell.execute_reply": "2023-12-14T22:31:36.760515Z"
    },
    "papermill": {
     "duration": 3.600245,
     "end_time": "2023-12-14T22:31:36.763541",
     "exception": false,
     "start_time": "2023-12-14T22:31:33.163296",
     "status": "completed"
    },
    "tags": []
   },
   "outputs": [
    {
     "data": {
      "application/vnd.jupyter.widget-view+json": {
       "model_id": "f9fad384b64b4b3fab4956e9f99a3c07",
       "version_major": 2,
       "version_minor": 0
      },
      "text/plain": [
       "                                             |          | [  0%]   00:00 -> (? left)"
      ]
     },
     "metadata": {},
     "output_type": "display_data"
    },
    {
     "name": "stdout",
     "output_type": "stream",
     "text": [
      "Report analysis/test_analysis.html was generated.\n"
     ]
    }
   ],
   "source": [
    "report_test = sv.analyze([df_test_cl, \"Test analysis\"])\n",
    "\n",
    "report_test.show_html('analysis/test_analysis.html', open_browser=False)"
   ]
  },
  {
   "cell_type": "code",
   "execution_count": null,
   "id": "c9c79dde",
   "metadata": {
    "papermill": {
     "duration": 0.005759,
     "end_time": "2023-12-14T22:31:36.775118",
     "exception": false,
     "start_time": "2023-12-14T22:31:36.769359",
     "status": "completed"
    },
    "tags": []
   },
   "outputs": [],
   "source": []
  }
 ],
 "metadata": {
  "kernelspec": {
   "display_name": "yandex",
   "language": "python",
   "name": "yandex"
  },
  "language_info": {
   "codemirror_mode": {
    "name": "ipython",
    "version": 3
   },
   "file_extension": ".py",
   "mimetype": "text/x-python",
   "name": "python",
   "nbconvert_exporter": "python",
   "pygments_lexer": "ipython3",
   "version": "3.10.13"
  },
  "papermill": {
   "default_parameters": {},
   "duration": 16.56763,
   "end_time": "2023-12-14T22:31:37.874863",
   "environment_variables": {},
   "exception": null,
   "input_path": "D:\\Yandex_practicum\\Projects\\Data_Science\\data_analysis.ipynb",
   "output_path": "D:\\Yandex_practicum\\Projects\\Data_Science\\data_analysis.ipynb",
   "parameters": {},
   "start_time": "2023-12-14T22:31:21.307233",
   "version": "2.4.0"
  },
  "widgets": {
   "application/vnd.jupyter.widget-state+json": {
    "state": {
     "03c15681e392434c88586c9ba592c92e": {
      "model_module": "@jupyter-widgets/controls",
      "model_module_version": "2.0.0",
      "model_name": "HTMLModel",
      "state": {
       "_dom_classes": [],
       "_model_module": "@jupyter-widgets/controls",
       "_model_module_version": "2.0.0",
       "_model_name": "HTMLModel",
       "_view_count": null,
       "_view_module": "@jupyter-widgets/controls",
       "_view_module_version": "2.0.0",
       "_view_name": "HTMLView",
       "description": "",
       "description_allow_html": false,
       "layout": "IPY_MODEL_a29b80d28fba432cac92db18403352ce",
       "placeholder": "​",
       "style": "IPY_MODEL_7029ac50deda4f8aadb687804cd1fea4",
       "tabbable": null,
       "tooltip": null,
       "value": " [100%]   00:00 -&gt; (00:00 left)"
      }
     },
     "0b21989d63c34f19bbb30ea9060ec611": {
      "model_module": "@jupyter-widgets/controls",
      "model_module_version": "2.0.0",
      "model_name": "FloatProgressModel",
      "state": {
       "_dom_classes": [],
       "_model_module": "@jupyter-widgets/controls",
       "_model_module_version": "2.0.0",
       "_model_name": "FloatProgressModel",
       "_view_count": null,
       "_view_module": "@jupyter-widgets/controls",
       "_view_module_version": "2.0.0",
       "_view_name": "ProgressView",
       "bar_style": "success",
       "description": "",
       "description_allow_html": false,
       "layout": "IPY_MODEL_3603a6a09cc043f2a1a8725d1ac008e7",
       "max": 1.0,
       "min": 0.0,
       "orientation": "horizontal",
       "style": "IPY_MODEL_b426b0e0625647e0871f73d79584a4bb",
       "tabbable": null,
       "tooltip": null,
       "value": 1.0
      }
     },
     "1c55d0199a0c48a2a631fdafa987a816": {
      "model_module": "@jupyter-widgets/controls",
      "model_module_version": "2.0.0",
      "model_name": "HTMLStyleModel",
      "state": {
       "_model_module": "@jupyter-widgets/controls",
       "_model_module_version": "2.0.0",
       "_model_name": "HTMLStyleModel",
       "_view_count": null,
       "_view_module": "@jupyter-widgets/base",
       "_view_module_version": "2.0.0",
       "_view_name": "StyleView",
       "background": null,
       "description_width": "",
       "font_size": null,
       "text_color": null
      }
     },
     "23809d6253054a46a287a16fcad295ab": {
      "model_module": "@jupyter-widgets/base",
      "model_module_version": "2.0.0",
      "model_name": "LayoutModel",
      "state": {
       "_model_module": "@jupyter-widgets/base",
       "_model_module_version": "2.0.0",
       "_model_name": "LayoutModel",
       "_view_count": null,
       "_view_module": "@jupyter-widgets/base",
       "_view_module_version": "2.0.0",
       "_view_name": "LayoutView",
       "align_content": null,
       "align_items": null,
       "align_self": null,
       "border_bottom": null,
       "border_left": null,
       "border_right": null,
       "border_top": null,
       "bottom": null,
       "display": "inline-flex",
       "flex": null,
       "flex_flow": "row wrap",
       "grid_area": null,
       "grid_auto_columns": null,
       "grid_auto_flow": null,
       "grid_auto_rows": null,
       "grid_column": null,
       "grid_gap": null,
       "grid_row": null,
       "grid_template_areas": null,
       "grid_template_columns": null,
       "grid_template_rows": null,
       "height": null,
       "justify_content": null,
       "justify_items": null,
       "left": null,
       "margin": null,
       "max_height": null,
       "max_width": null,
       "min_height": null,
       "min_width": null,
       "object_fit": null,
       "object_position": null,
       "order": null,
       "overflow": null,
       "padding": null,
       "right": null,
       "top": null,
       "visibility": null,
       "width": "100%"
      }
     },
     "3018a907ef8841edbb9c72b7c8b1f04c": {
      "model_module": "@jupyter-widgets/base",
      "model_module_version": "2.0.0",
      "model_name": "LayoutModel",
      "state": {
       "_model_module": "@jupyter-widgets/base",
       "_model_module_version": "2.0.0",
       "_model_name": "LayoutModel",
       "_view_count": null,
       "_view_module": "@jupyter-widgets/base",
       "_view_module_version": "2.0.0",
       "_view_name": "LayoutView",
       "align_content": null,
       "align_items": null,
       "align_self": null,
       "border_bottom": null,
       "border_left": null,
       "border_right": null,
       "border_top": null,
       "bottom": null,
       "display": null,
       "flex": null,
       "flex_flow": null,
       "grid_area": null,
       "grid_auto_columns": null,
       "grid_auto_flow": null,
       "grid_auto_rows": null,
       "grid_column": null,
       "grid_gap": null,
       "grid_row": null,
       "grid_template_areas": null,
       "grid_template_columns": null,
       "grid_template_rows": null,
       "height": null,
       "justify_content": null,
       "justify_items": null,
       "left": null,
       "margin": null,
       "max_height": null,
       "max_width": null,
       "min_height": null,
       "min_width": null,
       "object_fit": null,
       "object_position": null,
       "order": null,
       "overflow": null,
       "padding": null,
       "right": null,
       "top": null,
       "visibility": null,
       "width": null
      }
     },
     "353d180cfa9b4358949c5f32c993b8c2": {
      "model_module": "@jupyter-widgets/controls",
      "model_module_version": "2.0.0",
      "model_name": "HBoxModel",
      "state": {
       "_dom_classes": [],
       "_model_module": "@jupyter-widgets/controls",
       "_model_module_version": "2.0.0",
       "_model_name": "HBoxModel",
       "_view_count": null,
       "_view_module": "@jupyter-widgets/controls",
       "_view_module_version": "2.0.0",
       "_view_name": "HBoxView",
       "box_style": "",
       "children": [
        "IPY_MODEL_7812b23581af4644aecfd7632e62103d",
        "IPY_MODEL_0b21989d63c34f19bbb30ea9060ec611",
        "IPY_MODEL_03c15681e392434c88586c9ba592c92e"
       ],
       "layout": "IPY_MODEL_a44a7c9d19f8435da69412bd89fff665",
       "tabbable": null,
       "tooltip": null
      }
     },
     "3603a6a09cc043f2a1a8725d1ac008e7": {
      "model_module": "@jupyter-widgets/base",
      "model_module_version": "2.0.0",
      "model_name": "LayoutModel",
      "state": {
       "_model_module": "@jupyter-widgets/base",
       "_model_module_version": "2.0.0",
       "_model_name": "LayoutModel",
       "_view_count": null,
       "_view_module": "@jupyter-widgets/base",
       "_view_module_version": "2.0.0",
       "_view_name": "LayoutView",
       "align_content": null,
       "align_items": null,
       "align_self": null,
       "border_bottom": null,
       "border_left": null,
       "border_right": null,
       "border_top": null,
       "bottom": null,
       "display": null,
       "flex": "2",
       "flex_flow": null,
       "grid_area": null,
       "grid_auto_columns": null,
       "grid_auto_flow": null,
       "grid_auto_rows": null,
       "grid_column": null,
       "grid_gap": null,
       "grid_row": null,
       "grid_template_areas": null,
       "grid_template_columns": null,
       "grid_template_rows": null,
       "height": null,
       "justify_content": null,
       "justify_items": null,
       "left": null,
       "margin": null,
       "max_height": null,
       "max_width": null,
       "min_height": null,
       "min_width": null,
       "object_fit": null,
       "object_position": null,
       "order": null,
       "overflow": null,
       "padding": null,
       "right": null,
       "top": null,
       "visibility": null,
       "width": null
      }
     },
     "37eb97991a4649608dd73dd8ff734cfe": {
      "model_module": "@jupyter-widgets/base",
      "model_module_version": "2.0.0",
      "model_name": "LayoutModel",
      "state": {
       "_model_module": "@jupyter-widgets/base",
       "_model_module_version": "2.0.0",
       "_model_name": "LayoutModel",
       "_view_count": null,
       "_view_module": "@jupyter-widgets/base",
       "_view_module_version": "2.0.0",
       "_view_name": "LayoutView",
       "align_content": null,
       "align_items": null,
       "align_self": null,
       "border_bottom": null,
       "border_left": null,
       "border_right": null,
       "border_top": null,
       "bottom": null,
       "display": null,
       "flex": null,
       "flex_flow": null,
       "grid_area": null,
       "grid_auto_columns": null,
       "grid_auto_flow": null,
       "grid_auto_rows": null,
       "grid_column": null,
       "grid_gap": null,
       "grid_row": null,
       "grid_template_areas": null,
       "grid_template_columns": null,
       "grid_template_rows": null,
       "height": null,
       "justify_content": null,
       "justify_items": null,
       "left": null,
       "margin": null,
       "max_height": null,
       "max_width": null,
       "min_height": null,
       "min_width": null,
       "object_fit": null,
       "object_position": null,
       "order": null,
       "overflow": null,
       "padding": null,
       "right": null,
       "top": null,
       "visibility": null,
       "width": null
      }
     },
     "5845f45700ca4eff818ab8c5d2d19094": {
      "model_module": "@jupyter-widgets/base",
      "model_module_version": "2.0.0",
      "model_name": "LayoutModel",
      "state": {
       "_model_module": "@jupyter-widgets/base",
       "_model_module_version": "2.0.0",
       "_model_name": "LayoutModel",
       "_view_count": null,
       "_view_module": "@jupyter-widgets/base",
       "_view_module_version": "2.0.0",
       "_view_name": "LayoutView",
       "align_content": null,
       "align_items": null,
       "align_self": null,
       "border_bottom": null,
       "border_left": null,
       "border_right": null,
       "border_top": null,
       "bottom": null,
       "display": null,
       "flex": "2",
       "flex_flow": null,
       "grid_area": null,
       "grid_auto_columns": null,
       "grid_auto_flow": null,
       "grid_auto_rows": null,
       "grid_column": null,
       "grid_gap": null,
       "grid_row": null,
       "grid_template_areas": null,
       "grid_template_columns": null,
       "grid_template_rows": null,
       "height": null,
       "justify_content": null,
       "justify_items": null,
       "left": null,
       "margin": null,
       "max_height": null,
       "max_width": null,
       "min_height": null,
       "min_width": null,
       "object_fit": null,
       "object_position": null,
       "order": null,
       "overflow": null,
       "padding": null,
       "right": null,
       "top": null,
       "visibility": null,
       "width": null
      }
     },
     "7029ac50deda4f8aadb687804cd1fea4": {
      "model_module": "@jupyter-widgets/controls",
      "model_module_version": "2.0.0",
      "model_name": "HTMLStyleModel",
      "state": {
       "_model_module": "@jupyter-widgets/controls",
       "_model_module_version": "2.0.0",
       "_model_name": "HTMLStyleModel",
       "_view_count": null,
       "_view_module": "@jupyter-widgets/base",
       "_view_module_version": "2.0.0",
       "_view_name": "StyleView",
       "background": null,
       "description_width": "",
       "font_size": null,
       "text_color": null
      }
     },
     "7812b23581af4644aecfd7632e62103d": {
      "model_module": "@jupyter-widgets/controls",
      "model_module_version": "2.0.0",
      "model_name": "HTMLModel",
      "state": {
       "_dom_classes": [],
       "_model_module": "@jupyter-widgets/controls",
       "_model_module_version": "2.0.0",
       "_model_name": "HTMLModel",
       "_view_count": null,
       "_view_module": "@jupyter-widgets/controls",
       "_view_module_version": "2.0.0",
       "_view_name": "HTMLView",
       "description": "",
       "description_allow_html": false,
       "layout": "IPY_MODEL_3018a907ef8841edbb9c72b7c8b1f04c",
       "placeholder": "​",
       "style": "IPY_MODEL_7abe01945d734b9f820ba0c3fa6c4388",
       "tabbable": null,
       "tooltip": null,
       "value": "Done! Use &#x27;show&#x27; commands to display/save.   "
      }
     },
     "7abe01945d734b9f820ba0c3fa6c4388": {
      "model_module": "@jupyter-widgets/controls",
      "model_module_version": "2.0.0",
      "model_name": "HTMLStyleModel",
      "state": {
       "_model_module": "@jupyter-widgets/controls",
       "_model_module_version": "2.0.0",
       "_model_name": "HTMLStyleModel",
       "_view_count": null,
       "_view_module": "@jupyter-widgets/base",
       "_view_module_version": "2.0.0",
       "_view_name": "StyleView",
       "background": null,
       "description_width": "",
       "font_size": null,
       "text_color": null
      }
     },
     "7c92eb8af67146e48e14e9a5eb3dc998": {
      "model_module": "@jupyter-widgets/controls",
      "model_module_version": "2.0.0",
      "model_name": "ProgressStyleModel",
      "state": {
       "_model_module": "@jupyter-widgets/controls",
       "_model_module_version": "2.0.0",
       "_model_name": "ProgressStyleModel",
       "_view_count": null,
       "_view_module": "@jupyter-widgets/base",
       "_view_module_version": "2.0.0",
       "_view_name": "StyleView",
       "bar_color": null,
       "description_width": ""
      }
     },
     "8a42e4e0d747424698232d01ad55fea3": {
      "model_module": "@jupyter-widgets/controls",
      "model_module_version": "2.0.0",
      "model_name": "HTMLModel",
      "state": {
       "_dom_classes": [],
       "_model_module": "@jupyter-widgets/controls",
       "_model_module_version": "2.0.0",
       "_model_name": "HTMLModel",
       "_view_count": null,
       "_view_module": "@jupyter-widgets/controls",
       "_view_module_version": "2.0.0",
       "_view_name": "HTMLView",
       "description": "",
       "description_allow_html": false,
       "layout": "IPY_MODEL_a827a85564c14988b0ba46ea27b56dee",
       "placeholder": "​",
       "style": "IPY_MODEL_1c55d0199a0c48a2a631fdafa987a816",
       "tabbable": null,
       "tooltip": null,
       "value": " [100%]   00:00 -&gt; (00:00 left)"
      }
     },
     "a29b80d28fba432cac92db18403352ce": {
      "model_module": "@jupyter-widgets/base",
      "model_module_version": "2.0.0",
      "model_name": "LayoutModel",
      "state": {
       "_model_module": "@jupyter-widgets/base",
       "_model_module_version": "2.0.0",
       "_model_name": "LayoutModel",
       "_view_count": null,
       "_view_module": "@jupyter-widgets/base",
       "_view_module_version": "2.0.0",
       "_view_name": "LayoutView",
       "align_content": null,
       "align_items": null,
       "align_self": null,
       "border_bottom": null,
       "border_left": null,
       "border_right": null,
       "border_top": null,
       "bottom": null,
       "display": null,
       "flex": null,
       "flex_flow": null,
       "grid_area": null,
       "grid_auto_columns": null,
       "grid_auto_flow": null,
       "grid_auto_rows": null,
       "grid_column": null,
       "grid_gap": null,
       "grid_row": null,
       "grid_template_areas": null,
       "grid_template_columns": null,
       "grid_template_rows": null,
       "height": null,
       "justify_content": null,
       "justify_items": null,
       "left": null,
       "margin": null,
       "max_height": null,
       "max_width": null,
       "min_height": null,
       "min_width": null,
       "object_fit": null,
       "object_position": null,
       "order": null,
       "overflow": null,
       "padding": null,
       "right": null,
       "top": null,
       "visibility": null,
       "width": null
      }
     },
     "a44a7c9d19f8435da69412bd89fff665": {
      "model_module": "@jupyter-widgets/base",
      "model_module_version": "2.0.0",
      "model_name": "LayoutModel",
      "state": {
       "_model_module": "@jupyter-widgets/base",
       "_model_module_version": "2.0.0",
       "_model_name": "LayoutModel",
       "_view_count": null,
       "_view_module": "@jupyter-widgets/base",
       "_view_module_version": "2.0.0",
       "_view_name": "LayoutView",
       "align_content": null,
       "align_items": null,
       "align_self": null,
       "border_bottom": null,
       "border_left": null,
       "border_right": null,
       "border_top": null,
       "bottom": null,
       "display": "inline-flex",
       "flex": null,
       "flex_flow": "row wrap",
       "grid_area": null,
       "grid_auto_columns": null,
       "grid_auto_flow": null,
       "grid_auto_rows": null,
       "grid_column": null,
       "grid_gap": null,
       "grid_row": null,
       "grid_template_areas": null,
       "grid_template_columns": null,
       "grid_template_rows": null,
       "height": null,
       "justify_content": null,
       "justify_items": null,
       "left": null,
       "margin": null,
       "max_height": null,
       "max_width": null,
       "min_height": null,
       "min_width": null,
       "object_fit": null,
       "object_position": null,
       "order": null,
       "overflow": null,
       "padding": null,
       "right": null,
       "top": null,
       "visibility": null,
       "width": "100%"
      }
     },
     "a762ae15799e45c7be1d80ca60dea6c7": {
      "model_module": "@jupyter-widgets/controls",
      "model_module_version": "2.0.0",
      "model_name": "FloatProgressModel",
      "state": {
       "_dom_classes": [],
       "_model_module": "@jupyter-widgets/controls",
       "_model_module_version": "2.0.0",
       "_model_name": "FloatProgressModel",
       "_view_count": null,
       "_view_module": "@jupyter-widgets/controls",
       "_view_module_version": "2.0.0",
       "_view_name": "ProgressView",
       "bar_style": "success",
       "description": "",
       "description_allow_html": false,
       "layout": "IPY_MODEL_5845f45700ca4eff818ab8c5d2d19094",
       "max": 1.0,
       "min": 0.0,
       "orientation": "horizontal",
       "style": "IPY_MODEL_7c92eb8af67146e48e14e9a5eb3dc998",
       "tabbable": null,
       "tooltip": null,
       "value": 1.0
      }
     },
     "a827a85564c14988b0ba46ea27b56dee": {
      "model_module": "@jupyter-widgets/base",
      "model_module_version": "2.0.0",
      "model_name": "LayoutModel",
      "state": {
       "_model_module": "@jupyter-widgets/base",
       "_model_module_version": "2.0.0",
       "_model_name": "LayoutModel",
       "_view_count": null,
       "_view_module": "@jupyter-widgets/base",
       "_view_module_version": "2.0.0",
       "_view_name": "LayoutView",
       "align_content": null,
       "align_items": null,
       "align_self": null,
       "border_bottom": null,
       "border_left": null,
       "border_right": null,
       "border_top": null,
       "bottom": null,
       "display": null,
       "flex": null,
       "flex_flow": null,
       "grid_area": null,
       "grid_auto_columns": null,
       "grid_auto_flow": null,
       "grid_auto_rows": null,
       "grid_column": null,
       "grid_gap": null,
       "grid_row": null,
       "grid_template_areas": null,
       "grid_template_columns": null,
       "grid_template_rows": null,
       "height": null,
       "justify_content": null,
       "justify_items": null,
       "left": null,
       "margin": null,
       "max_height": null,
       "max_width": null,
       "min_height": null,
       "min_width": null,
       "object_fit": null,
       "object_position": null,
       "order": null,
       "overflow": null,
       "padding": null,
       "right": null,
       "top": null,
       "visibility": null,
       "width": null
      }
     },
     "ad1695a4bce54eb7a1d9b4c5393e1f98": {
      "model_module": "@jupyter-widgets/controls",
      "model_module_version": "2.0.0",
      "model_name": "HTMLModel",
      "state": {
       "_dom_classes": [],
       "_model_module": "@jupyter-widgets/controls",
       "_model_module_version": "2.0.0",
       "_model_name": "HTMLModel",
       "_view_count": null,
       "_view_module": "@jupyter-widgets/controls",
       "_view_module_version": "2.0.0",
       "_view_name": "HTMLView",
       "description": "",
       "description_allow_html": false,
       "layout": "IPY_MODEL_37eb97991a4649608dd73dd8ff734cfe",
       "placeholder": "​",
       "style": "IPY_MODEL_ff84e7234fce433687173d0a2b1e37a9",
       "tabbable": null,
       "tooltip": null,
       "value": "Done! Use &#x27;show&#x27; commands to display/save.   "
      }
     },
     "b426b0e0625647e0871f73d79584a4bb": {
      "model_module": "@jupyter-widgets/controls",
      "model_module_version": "2.0.0",
      "model_name": "ProgressStyleModel",
      "state": {
       "_model_module": "@jupyter-widgets/controls",
       "_model_module_version": "2.0.0",
       "_model_name": "ProgressStyleModel",
       "_view_count": null,
       "_view_module": "@jupyter-widgets/base",
       "_view_module_version": "2.0.0",
       "_view_name": "StyleView",
       "bar_color": null,
       "description_width": ""
      }
     },
     "f9fad384b64b4b3fab4956e9f99a3c07": {
      "model_module": "@jupyter-widgets/controls",
      "model_module_version": "2.0.0",
      "model_name": "HBoxModel",
      "state": {
       "_dom_classes": [],
       "_model_module": "@jupyter-widgets/controls",
       "_model_module_version": "2.0.0",
       "_model_name": "HBoxModel",
       "_view_count": null,
       "_view_module": "@jupyter-widgets/controls",
       "_view_module_version": "2.0.0",
       "_view_name": "HBoxView",
       "box_style": "",
       "children": [
        "IPY_MODEL_ad1695a4bce54eb7a1d9b4c5393e1f98",
        "IPY_MODEL_a762ae15799e45c7be1d80ca60dea6c7",
        "IPY_MODEL_8a42e4e0d747424698232d01ad55fea3"
       ],
       "layout": "IPY_MODEL_23809d6253054a46a287a16fcad295ab",
       "tabbable": null,
       "tooltip": null
      }
     },
     "ff84e7234fce433687173d0a2b1e37a9": {
      "model_module": "@jupyter-widgets/controls",
      "model_module_version": "2.0.0",
      "model_name": "HTMLStyleModel",
      "state": {
       "_model_module": "@jupyter-widgets/controls",
       "_model_module_version": "2.0.0",
       "_model_name": "HTMLStyleModel",
       "_view_count": null,
       "_view_module": "@jupyter-widgets/base",
       "_view_module_version": "2.0.0",
       "_view_name": "StyleView",
       "background": null,
       "description_width": "",
       "font_size": null,
       "text_color": null
      }
     }
    },
    "version_major": 2,
    "version_minor": 0
   }
  }
 },
 "nbformat": 4,
 "nbformat_minor": 5
}