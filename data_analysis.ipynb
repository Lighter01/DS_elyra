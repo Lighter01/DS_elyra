{
 "cells": [
  {
   "cell_type": "code",
   "execution_count": 1,
   "id": "290ba51a",
   "metadata": {
    "execution": {
     "iopub.execute_input": "2023-12-14T23:29:11.103405Z",
     "iopub.status.busy": "2023-12-14T23:29:11.103405Z",
     "iopub.status.idle": "2023-12-14T23:29:15.394598Z",
     "shell.execute_reply": "2023-12-14T23:29:15.393577Z"
    },
    "papermill": {
     "duration": 4.300063,
     "end_time": "2023-12-14T23:29:15.396606",
     "exception": false,
     "start_time": "2023-12-14T23:29:11.096543",
     "status": "completed"
    },
    "tags": []
   },
   "outputs": [
    {
     "name": "stdout",
     "output_type": "stream",
     "text": [
      "Requirement already satisfied: sweetviz in d:\\anaconda\\envs\\yandex\\lib\\site-packages (2.3.0)\n",
      "Requirement already satisfied: pandas!=1.0.0,!=1.0.1,!=1.0.2,>=0.25.3 in d:\\anaconda\\envs\\yandex\\lib\\site-packages (from sweetviz) (2.1.0)\n",
      "Requirement already satisfied: numpy>=1.16.0 in d:\\anaconda\\envs\\yandex\\lib\\site-packages (from sweetviz) (1.22.4)\n",
      "Requirement already satisfied: matplotlib>=3.1.3 in d:\\anaconda\\envs\\yandex\\lib\\site-packages (from sweetviz) (3.7.2)\n",
      "Requirement already satisfied: tqdm>=4.43.0 in d:\\anaconda\\envs\\yandex\\lib\\site-packages (from sweetviz) (4.65.0)\n",
      "Requirement already satisfied: scipy>=1.3.2 in d:\\anaconda\\envs\\yandex\\lib\\site-packages (from sweetviz) (1.11.1)\n",
      "Requirement already satisfied: jinja2>=2.11.1 in d:\\anaconda\\envs\\yandex\\lib\\site-packages (from sweetviz) (3.1.2)\n",
      "Requirement already satisfied: importlib-resources>=1.2.0 in d:\\anaconda\\envs\\yandex\\lib\\site-packages (from sweetviz) (6.1.1)\n",
      "Requirement already satisfied: MarkupSafe>=2.0 in d:\\anaconda\\envs\\yandex\\lib\\site-packages (from jinja2>=2.11.1->sweetviz) (2.1.1)\n",
      "Requirement already satisfied: contourpy>=1.0.1 in d:\\anaconda\\envs\\yandex\\lib\\site-packages (from matplotlib>=3.1.3->sweetviz) (1.0.5)\n",
      "Requirement already satisfied: cycler>=0.10 in d:\\anaconda\\envs\\yandex\\lib\\site-packages (from matplotlib>=3.1.3->sweetviz) (0.11.0)\n",
      "Requirement already satisfied: fonttools>=4.22.0 in d:\\anaconda\\envs\\yandex\\lib\\site-packages (from matplotlib>=3.1.3->sweetviz) (4.25.0)\n",
      "Requirement already satisfied: kiwisolver>=1.0.1 in d:\\anaconda\\envs\\yandex\\lib\\site-packages (from matplotlib>=3.1.3->sweetviz) (1.4.4)\n",
      "Requirement already satisfied: packaging>=20.0 in d:\\anaconda\\envs\\yandex\\lib\\site-packages (from matplotlib>=3.1.3->sweetviz) (23.1)\n",
      "Requirement already satisfied: pillow>=6.2.0 in d:\\anaconda\\envs\\yandex\\lib\\site-packages (from matplotlib>=3.1.3->sweetviz) (10.0.1)\n",
      "Requirement already satisfied: pyparsing<3.1,>=2.3.1 in d:\\anaconda\\envs\\yandex\\lib\\site-packages (from matplotlib>=3.1.3->sweetviz) (3.0.9)\n",
      "Requirement already satisfied: python-dateutil>=2.7 in d:\\anaconda\\envs\\yandex\\lib\\site-packages (from matplotlib>=3.1.3->sweetviz) (2.8.2)\n",
      "Requirement already satisfied: pytz>=2020.1 in d:\\anaconda\\envs\\yandex\\lib\\site-packages (from pandas!=1.0.0,!=1.0.1,!=1.0.2,>=0.25.3->sweetviz) (2023.3.post1)\n",
      "Requirement already satisfied: tzdata>=2022.1 in d:\\anaconda\\envs\\yandex\\lib\\site-packages (from pandas!=1.0.0,!=1.0.1,!=1.0.2,>=0.25.3->sweetviz) (2023.3)\n",
      "Requirement already satisfied: colorama in d:\\anaconda\\envs\\yandex\\lib\\site-packages (from tqdm>=4.43.0->sweetviz) (0.4.6)\n",
      "Requirement already satisfied: six>=1.5 in d:\\anaconda\\envs\\yandex\\lib\\site-packages (from python-dateutil>=2.7->matplotlib>=3.1.3->sweetviz) (1.16.0)\n"
     ]
    }
   ],
   "source": [
    "!pip3 install sweetviz\n",
    "!pip3 install -q pandas==2.1.0"
   ]
  },
  {
   "cell_type": "code",
   "execution_count": 2,
   "id": "1c2eec71",
   "metadata": {
    "execution": {
     "iopub.execute_input": "2023-12-14T23:29:15.406350Z",
     "iopub.status.busy": "2023-12-14T23:29:15.406350Z",
     "iopub.status.idle": "2023-12-14T23:29:16.802487Z",
     "shell.execute_reply": "2023-12-14T23:29:16.801816Z"
    },
    "papermill": {
     "duration": 1.403898,
     "end_time": "2023-12-14T23:29:16.804509",
     "exception": false,
     "start_time": "2023-12-14T23:29:15.400611",
     "status": "completed"
    },
    "tags": []
   },
   "outputs": [],
   "source": [
    "import sweetviz as sv\n",
    "import pandas as pd\n",
    "import os"
   ]
  },
  {
   "cell_type": "markdown",
   "id": "567e5e68",
   "metadata": {
    "papermill": {
     "duration": 0.00491,
     "end_time": "2023-12-14T23:29:16.813762",
     "exception": false,
     "start_time": "2023-12-14T23:29:16.808852",
     "status": "completed"
    },
    "tags": []
   },
   "source": [
    "# Чтение данных"
   ]
  },
  {
   "cell_type": "code",
   "execution_count": 3,
   "id": "93a28a40",
   "metadata": {
    "execution": {
     "iopub.execute_input": "2023-12-14T23:29:16.824506Z",
     "iopub.status.busy": "2023-12-14T23:29:16.824506Z",
     "iopub.status.idle": "2023-12-14T23:29:16.924644Z",
     "shell.execute_reply": "2023-12-14T23:29:16.924644Z"
    },
    "papermill": {
     "duration": 0.108825,
     "end_time": "2023-12-14T23:29:16.927298",
     "exception": false,
     "start_time": "2023-12-14T23:29:16.818473",
     "status": "completed"
    },
    "tags": []
   },
   "outputs": [],
   "source": [
    "path1 = '/datasets/train_cleaned.csv'\n",
    "path2 = '/datasets/test_cleaned.csv'\n",
    "\n",
    "def read_file(path):\n",
    "    df = pd.DataFrame()\n",
    "    if os.path.exists(path):\n",
    "        df = pd.read_csv(path, sep=',')\n",
    "    elif os.path.exists(path[1:]):\n",
    "        df = pd.read_csv(path[1:], sep=',')\n",
    "    else:\n",
    "        print('No such file or directory') \n",
    "        raise FileNotFoundError('No such file or directory')\n",
    "    return df\n",
    "\n",
    "df_train_cl = read_file(path1)\n",
    "df_test_cl = read_file(path2)"
   ]
  },
  {
   "cell_type": "code",
   "execution_count": 4,
   "id": "af3b5d75",
   "metadata": {
    "execution": {
     "iopub.execute_input": "2023-12-14T23:29:16.938065Z",
     "iopub.status.busy": "2023-12-14T23:29:16.938065Z",
     "iopub.status.idle": "2023-12-14T23:29:16.949893Z",
     "shell.execute_reply": "2023-12-14T23:29:16.948789Z"
    },
    "papermill": {
     "duration": 0.020058,
     "end_time": "2023-12-14T23:29:16.951597",
     "exception": false,
     "start_time": "2023-12-14T23:29:16.931539",
     "status": "completed"
    },
    "tags": []
   },
   "outputs": [],
   "source": [
    "new_directory = 'analysis/'\n",
    "\n",
    "os.makedirs(new_directory, exist_ok=True)"
   ]
  },
  {
   "cell_type": "markdown",
   "id": "e5b65b98",
   "metadata": {
    "papermill": {
     "duration": 0.005069,
     "end_time": "2023-12-14T23:29:16.960706",
     "exception": false,
     "start_time": "2023-12-14T23:29:16.955637",
     "status": "completed"
    },
    "tags": []
   },
   "source": [
    "# Анализ данных"
   ]
  },
  {
   "cell_type": "code",
   "execution_count": 5,
   "id": "d0fd23fe",
   "metadata": {
    "execution": {
     "iopub.execute_input": "2023-12-14T23:29:16.971715Z",
     "iopub.status.busy": "2023-12-14T23:29:16.970955Z",
     "iopub.status.idle": "2023-12-14T23:29:20.853359Z",
     "shell.execute_reply": "2023-12-14T23:29:20.853359Z"
    },
    "papermill": {
     "duration": 3.890781,
     "end_time": "2023-12-14T23:29:20.856430",
     "exception": false,
     "start_time": "2023-12-14T23:29:16.965649",
     "status": "completed"
    },
    "tags": []
   },
   "outputs": [
    {
     "data": {
      "application/vnd.jupyter.widget-view+json": {
       "model_id": "c1551e0807684688ad4ae1f9af4dea81",
       "version_major": 2,
       "version_minor": 0
      },
      "text/plain": [
       "                                             |          | [  0%]   00:00 -> (? left)"
      ]
     },
     "metadata": {},
     "output_type": "display_data"
    },
    {
     "name": "stdout",
     "output_type": "stream",
     "text": [
      "Report analysis/train_analysis.html was generated.\n"
     ]
    }
   ],
   "source": [
    "report_train = sv.analyze([df_train_cl, \"Train analysis\"])\n",
    "\n",
    "report_train.show_html('analysis/train_analysis.html', open_browser=False)"
   ]
  },
  {
   "cell_type": "code",
   "execution_count": 6,
   "id": "a9931b83",
   "metadata": {
    "execution": {
     "iopub.execute_input": "2023-12-14T23:29:20.865035Z",
     "iopub.status.busy": "2023-12-14T23:29:20.865035Z",
     "iopub.status.idle": "2023-12-14T23:29:24.423741Z",
     "shell.execute_reply": "2023-12-14T23:29:24.422713Z"
    },
    "papermill": {
     "duration": 3.565767,
     "end_time": "2023-12-14T23:29:24.425407",
     "exception": false,
     "start_time": "2023-12-14T23:29:20.859640",
     "status": "completed"
    },
    "tags": []
   },
   "outputs": [
    {
     "data": {
      "application/vnd.jupyter.widget-view+json": {
       "model_id": "cf483664f5f14ab89028998d2610b259",
       "version_major": 2,
       "version_minor": 0
      },
      "text/plain": [
       "                                             |          | [  0%]   00:00 -> (? left)"
      ]
     },
     "metadata": {},
     "output_type": "display_data"
    },
    {
     "name": "stdout",
     "output_type": "stream",
     "text": [
      "Report analysis/test_analysis.html was generated.\n"
     ]
    }
   ],
   "source": [
    "report_test = sv.analyze([df_test_cl, \"Test analysis\"])\n",
    "\n",
    "report_test.show_html('analysis/test_analysis.html', open_browser=False)"
   ]
  },
  {
   "cell_type": "code",
   "execution_count": null,
   "id": "c9c79dde",
   "metadata": {
    "papermill": {
     "duration": 0.004582,
     "end_time": "2023-12-14T23:29:24.434728",
     "exception": false,
     "start_time": "2023-12-14T23:29:24.430146",
     "status": "completed"
    },
    "tags": []
   },
   "outputs": [],
   "source": []
  }
 ],
 "metadata": {
  "kernelspec": {
   "display_name": "yandex",
   "language": "python",
   "name": "yandex"
  },
  "language_info": {
   "codemirror_mode": {
    "name": "ipython",
    "version": 3
   },
   "file_extension": ".py",
   "mimetype": "text/x-python",
   "name": "python",
   "nbconvert_exporter": "python",
   "pygments_lexer": "ipython3",
   "version": "3.10.13"
  },
  "papermill": {
   "default_parameters": {},
   "duration": 16.068754,
   "end_time": "2023-12-14T23:29:25.398667",
   "environment_variables": {},
   "exception": null,
   "input_path": "D:\\Yandex_practicum\\Projects\\Data_Science\\data_analysis.ipynb",
   "output_path": "D:\\Yandex_practicum\\Projects\\Data_Science\\data_analysis.ipynb",
   "parameters": {},
   "start_time": "2023-12-14T23:29:09.329913",
   "version": "2.4.0"
  },
  "widgets": {
   "application/vnd.jupyter.widget-state+json": {
    "state": {
     "2efa8dbe8456498ab8ea4555d2f158b1": {
      "model_module": "@jupyter-widgets/controls",
      "model_module_version": "2.0.0",
      "model_name": "HTMLStyleModel",
      "state": {
       "_model_module": "@jupyter-widgets/controls",
       "_model_module_version": "2.0.0",
       "_model_name": "HTMLStyleModel",
       "_view_count": null,
       "_view_module": "@jupyter-widgets/base",
       "_view_module_version": "2.0.0",
       "_view_name": "StyleView",
       "background": null,
       "description_width": "",
       "font_size": null,
       "text_color": null
      }
     },
     "2f94523a000540c0a59942a05381f0d5": {
      "model_module": "@jupyter-widgets/controls",
      "model_module_version": "2.0.0",
      "model_name": "FloatProgressModel",
      "state": {
       "_dom_classes": [],
       "_model_module": "@jupyter-widgets/controls",
       "_model_module_version": "2.0.0",
       "_model_name": "FloatProgressModel",
       "_view_count": null,
       "_view_module": "@jupyter-widgets/controls",
       "_view_module_version": "2.0.0",
       "_view_name": "ProgressView",
       "bar_style": "success",
       "description": "",
       "description_allow_html": false,
       "layout": "IPY_MODEL_74b68475a0b44fe28f38a18156db3eb5",
       "max": 1.0,
       "min": 0.0,
       "orientation": "horizontal",
       "style": "IPY_MODEL_fa03beae37104e5ebde85e7afd661810",
       "tabbable": null,
       "tooltip": null,
       "value": 1.0
      }
     },
     "3421300bf87c4419a908412f8e284f7e": {
      "model_module": "@jupyter-widgets/base",
      "model_module_version": "2.0.0",
      "model_name": "LayoutModel",
      "state": {
       "_model_module": "@jupyter-widgets/base",
       "_model_module_version": "2.0.0",
       "_model_name": "LayoutModel",
       "_view_count": null,
       "_view_module": "@jupyter-widgets/base",
       "_view_module_version": "2.0.0",
       "_view_name": "LayoutView",
       "align_content": null,
       "align_items": null,
       "align_self": null,
       "border_bottom": null,
       "border_left": null,
       "border_right": null,
       "border_top": null,
       "bottom": null,
       "display": null,
       "flex": null,
       "flex_flow": null,
       "grid_area": null,
       "grid_auto_columns": null,
       "grid_auto_flow": null,
       "grid_auto_rows": null,
       "grid_column": null,
       "grid_gap": null,
       "grid_row": null,
       "grid_template_areas": null,
       "grid_template_columns": null,
       "grid_template_rows": null,
       "height": null,
       "justify_content": null,
       "justify_items": null,
       "left": null,
       "margin": null,
       "max_height": null,
       "max_width": null,
       "min_height": null,
       "min_width": null,
       "object_fit": null,
       "object_position": null,
       "order": null,
       "overflow": null,
       "padding": null,
       "right": null,
       "top": null,
       "visibility": null,
       "width": null
      }
     },
     "4da1c5f1162f467880466e6d08eb5a6a": {
      "model_module": "@jupyter-widgets/controls",
      "model_module_version": "2.0.0",
      "model_name": "FloatProgressModel",
      "state": {
       "_dom_classes": [],
       "_model_module": "@jupyter-widgets/controls",
       "_model_module_version": "2.0.0",
       "_model_name": "FloatProgressModel",
       "_view_count": null,
       "_view_module": "@jupyter-widgets/controls",
       "_view_module_version": "2.0.0",
       "_view_name": "ProgressView",
       "bar_style": "success",
       "description": "",
       "description_allow_html": false,
       "layout": "IPY_MODEL_caf0e0aaed864f919a23e08afbf796a4",
       "max": 1.0,
       "min": 0.0,
       "orientation": "horizontal",
       "style": "IPY_MODEL_e237296f11444934a33f8aa857724f32",
       "tabbable": null,
       "tooltip": null,
       "value": 1.0
      }
     },
     "4f0d32b5f3394644b2f53e0ab79d579b": {
      "model_module": "@jupyter-widgets/base",
      "model_module_version": "2.0.0",
      "model_name": "LayoutModel",
      "state": {
       "_model_module": "@jupyter-widgets/base",
       "_model_module_version": "2.0.0",
       "_model_name": "LayoutModel",
       "_view_count": null,
       "_view_module": "@jupyter-widgets/base",
       "_view_module_version": "2.0.0",
       "_view_name": "LayoutView",
       "align_content": null,
       "align_items": null,
       "align_self": null,
       "border_bottom": null,
       "border_left": null,
       "border_right": null,
       "border_top": null,
       "bottom": null,
       "display": "inline-flex",
       "flex": null,
       "flex_flow": "row wrap",
       "grid_area": null,
       "grid_auto_columns": null,
       "grid_auto_flow": null,
       "grid_auto_rows": null,
       "grid_column": null,
       "grid_gap": null,
       "grid_row": null,
       "grid_template_areas": null,
       "grid_template_columns": null,
       "grid_template_rows": null,
       "height": null,
       "justify_content": null,
       "justify_items": null,
       "left": null,
       "margin": null,
       "max_height": null,
       "max_width": null,
       "min_height": null,
       "min_width": null,
       "object_fit": null,
       "object_position": null,
       "order": null,
       "overflow": null,
       "padding": null,
       "right": null,
       "top": null,
       "visibility": null,
       "width": "100%"
      }
     },
     "5aa3d58d34e546a695f605e01c096300": {
      "model_module": "@jupyter-widgets/controls",
      "model_module_version": "2.0.0",
      "model_name": "HTMLStyleModel",
      "state": {
       "_model_module": "@jupyter-widgets/controls",
       "_model_module_version": "2.0.0",
       "_model_name": "HTMLStyleModel",
       "_view_count": null,
       "_view_module": "@jupyter-widgets/base",
       "_view_module_version": "2.0.0",
       "_view_name": "StyleView",
       "background": null,
       "description_width": "",
       "font_size": null,
       "text_color": null
      }
     },
     "5bddf5c0b01243afbd8fbcdc21acbc21": {
      "model_module": "@jupyter-widgets/controls",
      "model_module_version": "2.0.0",
      "model_name": "HTMLModel",
      "state": {
       "_dom_classes": [],
       "_model_module": "@jupyter-widgets/controls",
       "_model_module_version": "2.0.0",
       "_model_name": "HTMLModel",
       "_view_count": null,
       "_view_module": "@jupyter-widgets/controls",
       "_view_module_version": "2.0.0",
       "_view_name": "HTMLView",
       "description": "",
       "description_allow_html": false,
       "layout": "IPY_MODEL_3421300bf87c4419a908412f8e284f7e",
       "placeholder": "​",
       "style": "IPY_MODEL_969983135fe14e02971dcfec38eef122",
       "tabbable": null,
       "tooltip": null,
       "value": "Done! Use &#x27;show&#x27; commands to display/save.   "
      }
     },
     "74b68475a0b44fe28f38a18156db3eb5": {
      "model_module": "@jupyter-widgets/base",
      "model_module_version": "2.0.0",
      "model_name": "LayoutModel",
      "state": {
       "_model_module": "@jupyter-widgets/base",
       "_model_module_version": "2.0.0",
       "_model_name": "LayoutModel",
       "_view_count": null,
       "_view_module": "@jupyter-widgets/base",
       "_view_module_version": "2.0.0",
       "_view_name": "LayoutView",
       "align_content": null,
       "align_items": null,
       "align_self": null,
       "border_bottom": null,
       "border_left": null,
       "border_right": null,
       "border_top": null,
       "bottom": null,
       "display": null,
       "flex": "2",
       "flex_flow": null,
       "grid_area": null,
       "grid_auto_columns": null,
       "grid_auto_flow": null,
       "grid_auto_rows": null,
       "grid_column": null,
       "grid_gap": null,
       "grid_row": null,
       "grid_template_areas": null,
       "grid_template_columns": null,
       "grid_template_rows": null,
       "height": null,
       "justify_content": null,
       "justify_items": null,
       "left": null,
       "margin": null,
       "max_height": null,
       "max_width": null,
       "min_height": null,
       "min_width": null,
       "object_fit": null,
       "object_position": null,
       "order": null,
       "overflow": null,
       "padding": null,
       "right": null,
       "top": null,
       "visibility": null,
       "width": null
      }
     },
     "806166df438d4f5d8b347befd9d73e88": {
      "model_module": "@jupyter-widgets/base",
      "model_module_version": "2.0.0",
      "model_name": "LayoutModel",
      "state": {
       "_model_module": "@jupyter-widgets/base",
       "_model_module_version": "2.0.0",
       "_model_name": "LayoutModel",
       "_view_count": null,
       "_view_module": "@jupyter-widgets/base",
       "_view_module_version": "2.0.0",
       "_view_name": "LayoutView",
       "align_content": null,
       "align_items": null,
       "align_self": null,
       "border_bottom": null,
       "border_left": null,
       "border_right": null,
       "border_top": null,
       "bottom": null,
       "display": null,
       "flex": null,
       "flex_flow": null,
       "grid_area": null,
       "grid_auto_columns": null,
       "grid_auto_flow": null,
       "grid_auto_rows": null,
       "grid_column": null,
       "grid_gap": null,
       "grid_row": null,
       "grid_template_areas": null,
       "grid_template_columns": null,
       "grid_template_rows": null,
       "height": null,
       "justify_content": null,
       "justify_items": null,
       "left": null,
       "margin": null,
       "max_height": null,
       "max_width": null,
       "min_height": null,
       "min_width": null,
       "object_fit": null,
       "object_position": null,
       "order": null,
       "overflow": null,
       "padding": null,
       "right": null,
       "top": null,
       "visibility": null,
       "width": null
      }
     },
     "8084a1ffe92b478d96a9634a029776cd": {
      "model_module": "@jupyter-widgets/base",
      "model_module_version": "2.0.0",
      "model_name": "LayoutModel",
      "state": {
       "_model_module": "@jupyter-widgets/base",
       "_model_module_version": "2.0.0",
       "_model_name": "LayoutModel",
       "_view_count": null,
       "_view_module": "@jupyter-widgets/base",
       "_view_module_version": "2.0.0",
       "_view_name": "LayoutView",
       "align_content": null,
       "align_items": null,
       "align_self": null,
       "border_bottom": null,
       "border_left": null,
       "border_right": null,
       "border_top": null,
       "bottom": null,
       "display": null,
       "flex": null,
       "flex_flow": null,
       "grid_area": null,
       "grid_auto_columns": null,
       "grid_auto_flow": null,
       "grid_auto_rows": null,
       "grid_column": null,
       "grid_gap": null,
       "grid_row": null,
       "grid_template_areas": null,
       "grid_template_columns": null,
       "grid_template_rows": null,
       "height": null,
       "justify_content": null,
       "justify_items": null,
       "left": null,
       "margin": null,
       "max_height": null,
       "max_width": null,
       "min_height": null,
       "min_width": null,
       "object_fit": null,
       "object_position": null,
       "order": null,
       "overflow": null,
       "padding": null,
       "right": null,
       "top": null,
       "visibility": null,
       "width": null
      }
     },
     "969983135fe14e02971dcfec38eef122": {
      "model_module": "@jupyter-widgets/controls",
      "model_module_version": "2.0.0",
      "model_name": "HTMLStyleModel",
      "state": {
       "_model_module": "@jupyter-widgets/controls",
       "_model_module_version": "2.0.0",
       "_model_name": "HTMLStyleModel",
       "_view_count": null,
       "_view_module": "@jupyter-widgets/base",
       "_view_module_version": "2.0.0",
       "_view_name": "StyleView",
       "background": null,
       "description_width": "",
       "font_size": null,
       "text_color": null
      }
     },
     "9a42c34601b243ebaf41c58adb94fa24": {
      "model_module": "@jupyter-widgets/controls",
      "model_module_version": "2.0.0",
      "model_name": "HTMLStyleModel",
      "state": {
       "_model_module": "@jupyter-widgets/controls",
       "_model_module_version": "2.0.0",
       "_model_name": "HTMLStyleModel",
       "_view_count": null,
       "_view_module": "@jupyter-widgets/base",
       "_view_module_version": "2.0.0",
       "_view_name": "StyleView",
       "background": null,
       "description_width": "",
       "font_size": null,
       "text_color": null
      }
     },
     "9ae901a73a4f4777bd856375211b15c2": {
      "model_module": "@jupyter-widgets/base",
      "model_module_version": "2.0.0",
      "model_name": "LayoutModel",
      "state": {
       "_model_module": "@jupyter-widgets/base",
       "_model_module_version": "2.0.0",
       "_model_name": "LayoutModel",
       "_view_count": null,
       "_view_module": "@jupyter-widgets/base",
       "_view_module_version": "2.0.0",
       "_view_name": "LayoutView",
       "align_content": null,
       "align_items": null,
       "align_self": null,
       "border_bottom": null,
       "border_left": null,
       "border_right": null,
       "border_top": null,
       "bottom": null,
       "display": null,
       "flex": null,
       "flex_flow": null,
       "grid_area": null,
       "grid_auto_columns": null,
       "grid_auto_flow": null,
       "grid_auto_rows": null,
       "grid_column": null,
       "grid_gap": null,
       "grid_row": null,
       "grid_template_areas": null,
       "grid_template_columns": null,
       "grid_template_rows": null,
       "height": null,
       "justify_content": null,
       "justify_items": null,
       "left": null,
       "margin": null,
       "max_height": null,
       "max_width": null,
       "min_height": null,
       "min_width": null,
       "object_fit": null,
       "object_position": null,
       "order": null,
       "overflow": null,
       "padding": null,
       "right": null,
       "top": null,
       "visibility": null,
       "width": null
      }
     },
     "9e1f8ae684314ff0ac70bec658325e99": {
      "model_module": "@jupyter-widgets/controls",
      "model_module_version": "2.0.0",
      "model_name": "HTMLModel",
      "state": {
       "_dom_classes": [],
       "_model_module": "@jupyter-widgets/controls",
       "_model_module_version": "2.0.0",
       "_model_name": "HTMLModel",
       "_view_count": null,
       "_view_module": "@jupyter-widgets/controls",
       "_view_module_version": "2.0.0",
       "_view_name": "HTMLView",
       "description": "",
       "description_allow_html": false,
       "layout": "IPY_MODEL_9ae901a73a4f4777bd856375211b15c2",
       "placeholder": "​",
       "style": "IPY_MODEL_9a42c34601b243ebaf41c58adb94fa24",
       "tabbable": null,
       "tooltip": null,
       "value": " [100%]   00:00 -&gt; (00:00 left)"
      }
     },
     "c1551e0807684688ad4ae1f9af4dea81": {
      "model_module": "@jupyter-widgets/controls",
      "model_module_version": "2.0.0",
      "model_name": "HBoxModel",
      "state": {
       "_dom_classes": [],
       "_model_module": "@jupyter-widgets/controls",
       "_model_module_version": "2.0.0",
       "_model_name": "HBoxModel",
       "_view_count": null,
       "_view_module": "@jupyter-widgets/controls",
       "_view_module_version": "2.0.0",
       "_view_name": "HBoxView",
       "box_style": "",
       "children": [
        "IPY_MODEL_cef16973483c49e09e837962a86152f7",
        "IPY_MODEL_4da1c5f1162f467880466e6d08eb5a6a",
        "IPY_MODEL_9e1f8ae684314ff0ac70bec658325e99"
       ],
       "layout": "IPY_MODEL_4f0d32b5f3394644b2f53e0ab79d579b",
       "tabbable": null,
       "tooltip": null
      }
     },
     "caf0e0aaed864f919a23e08afbf796a4": {
      "model_module": "@jupyter-widgets/base",
      "model_module_version": "2.0.0",
      "model_name": "LayoutModel",
      "state": {
       "_model_module": "@jupyter-widgets/base",
       "_model_module_version": "2.0.0",
       "_model_name": "LayoutModel",
       "_view_count": null,
       "_view_module": "@jupyter-widgets/base",
       "_view_module_version": "2.0.0",
       "_view_name": "LayoutView",
       "align_content": null,
       "align_items": null,
       "align_self": null,
       "border_bottom": null,
       "border_left": null,
       "border_right": null,
       "border_top": null,
       "bottom": null,
       "display": null,
       "flex": "2",
       "flex_flow": null,
       "grid_area": null,
       "grid_auto_columns": null,
       "grid_auto_flow": null,
       "grid_auto_rows": null,
       "grid_column": null,
       "grid_gap": null,
       "grid_row": null,
       "grid_template_areas": null,
       "grid_template_columns": null,
       "grid_template_rows": null,
       "height": null,
       "justify_content": null,
       "justify_items": null,
       "left": null,
       "margin": null,
       "max_height": null,
       "max_width": null,
       "min_height": null,
       "min_width": null,
       "object_fit": null,
       "object_position": null,
       "order": null,
       "overflow": null,
       "padding": null,
       "right": null,
       "top": null,
       "visibility": null,
       "width": null
      }
     },
     "ccdf6ccae9fd49cd9abf4cd721de26a6": {
      "model_module": "@jupyter-widgets/base",
      "model_module_version": "2.0.0",
      "model_name": "LayoutModel",
      "state": {
       "_model_module": "@jupyter-widgets/base",
       "_model_module_version": "2.0.0",
       "_model_name": "LayoutModel",
       "_view_count": null,
       "_view_module": "@jupyter-widgets/base",
       "_view_module_version": "2.0.0",
       "_view_name": "LayoutView",
       "align_content": null,
       "align_items": null,
       "align_self": null,
       "border_bottom": null,
       "border_left": null,
       "border_right": null,
       "border_top": null,
       "bottom": null,
       "display": "inline-flex",
       "flex": null,
       "flex_flow": "row wrap",
       "grid_area": null,
       "grid_auto_columns": null,
       "grid_auto_flow": null,
       "grid_auto_rows": null,
       "grid_column": null,
       "grid_gap": null,
       "grid_row": null,
       "grid_template_areas": null,
       "grid_template_columns": null,
       "grid_template_rows": null,
       "height": null,
       "justify_content": null,
       "justify_items": null,
       "left": null,
       "margin": null,
       "max_height": null,
       "max_width": null,
       "min_height": null,
       "min_width": null,
       "object_fit": null,
       "object_position": null,
       "order": null,
       "overflow": null,
       "padding": null,
       "right": null,
       "top": null,
       "visibility": null,
       "width": "100%"
      }
     },
     "cef16973483c49e09e837962a86152f7": {
      "model_module": "@jupyter-widgets/controls",
      "model_module_version": "2.0.0",
      "model_name": "HTMLModel",
      "state": {
       "_dom_classes": [],
       "_model_module": "@jupyter-widgets/controls",
       "_model_module_version": "2.0.0",
       "_model_name": "HTMLModel",
       "_view_count": null,
       "_view_module": "@jupyter-widgets/controls",
       "_view_module_version": "2.0.0",
       "_view_name": "HTMLView",
       "description": "",
       "description_allow_html": false,
       "layout": "IPY_MODEL_806166df438d4f5d8b347befd9d73e88",
       "placeholder": "​",
       "style": "IPY_MODEL_2efa8dbe8456498ab8ea4555d2f158b1",
       "tabbable": null,
       "tooltip": null,
       "value": "Done! Use &#x27;show&#x27; commands to display/save.   "
      }
     },
     "cf483664f5f14ab89028998d2610b259": {
      "model_module": "@jupyter-widgets/controls",
      "model_module_version": "2.0.0",
      "model_name": "HBoxModel",
      "state": {
       "_dom_classes": [],
       "_model_module": "@jupyter-widgets/controls",
       "_model_module_version": "2.0.0",
       "_model_name": "HBoxModel",
       "_view_count": null,
       "_view_module": "@jupyter-widgets/controls",
       "_view_module_version": "2.0.0",
       "_view_name": "HBoxView",
       "box_style": "",
       "children": [
        "IPY_MODEL_5bddf5c0b01243afbd8fbcdc21acbc21",
        "IPY_MODEL_2f94523a000540c0a59942a05381f0d5",
        "IPY_MODEL_f2f21a5388ae45ff89ff5535900e92e0"
       ],
       "layout": "IPY_MODEL_ccdf6ccae9fd49cd9abf4cd721de26a6",
       "tabbable": null,
       "tooltip": null
      }
     },
     "e237296f11444934a33f8aa857724f32": {
      "model_module": "@jupyter-widgets/controls",
      "model_module_version": "2.0.0",
      "model_name": "ProgressStyleModel",
      "state": {
       "_model_module": "@jupyter-widgets/controls",
       "_model_module_version": "2.0.0",
       "_model_name": "ProgressStyleModel",
       "_view_count": null,
       "_view_module": "@jupyter-widgets/base",
       "_view_module_version": "2.0.0",
       "_view_name": "StyleView",
       "bar_color": null,
       "description_width": ""
      }
     },
     "f2f21a5388ae45ff89ff5535900e92e0": {
      "model_module": "@jupyter-widgets/controls",
      "model_module_version": "2.0.0",
      "model_name": "HTMLModel",
      "state": {
       "_dom_classes": [],
       "_model_module": "@jupyter-widgets/controls",
       "_model_module_version": "2.0.0",
       "_model_name": "HTMLModel",
       "_view_count": null,
       "_view_module": "@jupyter-widgets/controls",
       "_view_module_version": "2.0.0",
       "_view_name": "HTMLView",
       "description": "",
       "description_allow_html": false,
       "layout": "IPY_MODEL_8084a1ffe92b478d96a9634a029776cd",
       "placeholder": "​",
       "style": "IPY_MODEL_5aa3d58d34e546a695f605e01c096300",
       "tabbable": null,
       "tooltip": null,
       "value": " [100%]   00:00 -&gt; (00:00 left)"
      }
     },
     "fa03beae37104e5ebde85e7afd661810": {
      "model_module": "@jupyter-widgets/controls",
      "model_module_version": "2.0.0",
      "model_name": "ProgressStyleModel",
      "state": {
       "_model_module": "@jupyter-widgets/controls",
       "_model_module_version": "2.0.0",
       "_model_name": "ProgressStyleModel",
       "_view_count": null,
       "_view_module": "@jupyter-widgets/base",
       "_view_module_version": "2.0.0",
       "_view_name": "StyleView",
       "bar_color": null,
       "description_width": ""
      }
     }
    },
    "version_major": 2,
    "version_minor": 0
   }
  }
 },
 "nbformat": 4,
 "nbformat_minor": 5
}