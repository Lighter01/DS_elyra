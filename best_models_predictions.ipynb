{
 "cells": [
  {
   "cell_type": "markdown",
   "id": "703c48e2",
   "metadata": {
    "tags": [
     "papermill-error-cell-tag"
    ]
   },
   "source": [
    "<span style=\"color:red; font-family:Helvetica Neue, Helvetica, Arial, sans-serif; font-size:2em;\">An Exception was encountered at '<a href=\"#papermill-error-cell\">In [3]</a>'.</span>"
   ]
  },
  {
   "cell_type": "code",
   "execution_count": 1,
   "id": "bf9ffb06",
   "metadata": {
    "execution": {
     "iopub.execute_input": "2023-12-14T23:31:24.321986Z",
     "iopub.status.busy": "2023-12-14T23:31:24.321986Z",
     "iopub.status.idle": "2023-12-14T23:31:34.562714Z",
     "shell.execute_reply": "2023-12-14T23:31:34.562714Z"
    },
    "papermill": {
     "duration": 10.244743,
     "end_time": "2023-12-14T23:31:34.562714",
     "exception": false,
     "start_time": "2023-12-14T23:31:24.317971",
     "status": "completed"
    },
    "tags": []
   },
   "outputs": [
    {
     "name": "stdout",
     "output_type": "stream",
     "text": [
      "Requirement already satisfied: joblib in d:\\anaconda\\envs\\yandex\\lib\\site-packages (1.2.0)\n"
     ]
    },
    {
     "name": "stdout",
     "output_type": "stream",
     "text": [
      "Requirement already satisfied: matplotlib in d:\\anaconda\\envs\\yandex\\lib\\site-packages (3.7.2)\n",
      "Requirement already satisfied: contourpy>=1.0.1 in d:\\anaconda\\envs\\yandex\\lib\\site-packages (from matplotlib) (1.0.5)\n",
      "Requirement already satisfied: cycler>=0.10 in d:\\anaconda\\envs\\yandex\\lib\\site-packages (from matplotlib) (0.11.0)\n",
      "Requirement already satisfied: fonttools>=4.22.0 in d:\\anaconda\\envs\\yandex\\lib\\site-packages (from matplotlib) (4.25.0)\n",
      "Requirement already satisfied: kiwisolver>=1.0.1 in d:\\anaconda\\envs\\yandex\\lib\\site-packages (from matplotlib) (1.4.4)\n",
      "Requirement already satisfied: numpy>=1.20 in d:\\anaconda\\envs\\yandex\\lib\\site-packages (from matplotlib) (1.22.4)\n",
      "Requirement already satisfied: packaging>=20.0 in d:\\anaconda\\envs\\yandex\\lib\\site-packages (from matplotlib) (23.1)\n",
      "Requirement already satisfied: pillow>=6.2.0 in d:\\anaconda\\envs\\yandex\\lib\\site-packages (from matplotlib) (10.0.1)\n",
      "Requirement already satisfied: pyparsing<3.1,>=2.3.1 in d:\\anaconda\\envs\\yandex\\lib\\site-packages (from matplotlib) (3.0.9)\n",
      "Requirement already satisfied: python-dateutil>=2.7 in d:\\anaconda\\envs\\yandex\\lib\\site-packages (from matplotlib) (2.8.2)\n",
      "Requirement already satisfied: six>=1.5 in d:\\anaconda\\envs\\yandex\\lib\\site-packages (from python-dateutil>=2.7->matplotlib) (1.16.0)\n"
     ]
    }
   ],
   "source": [
    "!pip3 install -q numpy==1.22.4\n",
    "!pip3 install -q pandas\n",
    "!pip3 install -q scikit-learn\n",
    "!pip3 install joblib\n",
    "!pip3 install matplotlib"
   ]
  },
  {
   "cell_type": "code",
   "execution_count": 2,
   "id": "7aae3a99",
   "metadata": {
    "execution": {
     "iopub.execute_input": "2023-12-14T23:31:34.562714Z",
     "iopub.status.busy": "2023-12-14T23:31:34.562714Z",
     "iopub.status.idle": "2023-12-14T23:31:35.675399Z",
     "shell.execute_reply": "2023-12-14T23:31:35.674072Z"
    },
    "papermill": {
     "duration": 1.113188,
     "end_time": "2023-12-14T23:31:35.675902",
     "exception": false,
     "start_time": "2023-12-14T23:31:34.562714",
     "status": "completed"
    },
    "tags": []
   },
   "outputs": [],
   "source": [
    "import pandas as pd\n",
    "import numpy as np\n",
    "import joblib\n",
    "import os\n",
    "\n",
    "from sklearn.ensemble import RandomForestClassifier\n",
    "from sklearn.linear_model import LogisticRegression"
   ]
  },
  {
   "cell_type": "markdown",
   "id": "1327d74b",
   "metadata": {
    "papermill": {
     "duration": 0.0,
     "end_time": "2023-12-14T23:31:35.675902",
     "exception": false,
     "start_time": "2023-12-14T23:31:35.675902",
     "status": "completed"
    },
    "tags": []
   },
   "source": [
    "# Загрузка лучшей модели"
   ]
  },
  {
   "cell_type": "markdown",
   "id": "f06b75be",
   "metadata": {
    "tags": [
     "papermill-error-cell-tag"
    ]
   },
   "source": [
    "<span id=\"papermill-error-cell\" style=\"color:red; font-family:Helvetica Neue, Helvetica, Arial, sans-serif; font-size:2em;\">Execution using papermill encountered an exception here and stopped:</span>"
   ]
  },
  {
   "cell_type": "code",
   "execution_count": 3,
   "id": "dcd1f48c",
   "metadata": {
    "execution": {
     "iopub.execute_input": "2023-12-14T23:31:35.687246Z",
     "iopub.status.busy": "2023-12-14T23:31:35.675902Z",
     "iopub.status.idle": "2023-12-14T23:31:36.455424Z",
     "shell.execute_reply": "2023-12-14T23:31:36.454232Z"
    },
    "papermill": {
     "duration": 0.779522,
     "end_time": "2023-12-14T23:31:36.455424",
     "exception": true,
     "start_time": "2023-12-14T23:31:35.675902",
     "status": "failed"
    },
    "tags": []
   },
   "outputs": [
    {
     "ename": "FileNotFoundError",
     "evalue": "[Errno 2] No such file or directory: 'models/best_model.pkl'",
     "output_type": "error",
     "traceback": [
      "\u001b[1;31m---------------------------------------------------------------------------\u001b[0m",
      "\u001b[1;31mFileNotFoundError\u001b[0m                         Traceback (most recent call last)",
      "Cell \u001b[1;32mIn[3], line 3\u001b[0m\n\u001b[0;32m      1\u001b[0m directory_path \u001b[38;5;241m=\u001b[39m \u001b[38;5;124m'\u001b[39m\u001b[38;5;124mmodels/best_model.pkl\u001b[39m\u001b[38;5;124m'\u001b[39m\n\u001b[1;32m----> 3\u001b[0m best_model \u001b[38;5;241m=\u001b[39m \u001b[43mjoblib\u001b[49m\u001b[38;5;241;43m.\u001b[39;49m\u001b[43mload\u001b[49m\u001b[43m(\u001b[49m\u001b[43mdirectory_path\u001b[49m\u001b[43m)\u001b[49m\n\u001b[0;32m      5\u001b[0m best_model\n",
      "File \u001b[1;32mD:\\Anaconda\\envs\\yandex\\lib\\site-packages\\joblib\\numpy_pickle.py:650\u001b[0m, in \u001b[0;36mload\u001b[1;34m(filename, mmap_mode)\u001b[0m\n\u001b[0;32m    648\u001b[0m         obj \u001b[38;5;241m=\u001b[39m _unpickle(fobj)\n\u001b[0;32m    649\u001b[0m \u001b[38;5;28;01melse\u001b[39;00m:\n\u001b[1;32m--> 650\u001b[0m     \u001b[38;5;28;01mwith\u001b[39;00m \u001b[38;5;28;43mopen\u001b[39;49m\u001b[43m(\u001b[49m\u001b[43mfilename\u001b[49m\u001b[43m,\u001b[49m\u001b[43m \u001b[49m\u001b[38;5;124;43m'\u001b[39;49m\u001b[38;5;124;43mrb\u001b[39;49m\u001b[38;5;124;43m'\u001b[39;49m\u001b[43m)\u001b[49m \u001b[38;5;28;01mas\u001b[39;00m f:\n\u001b[0;32m    651\u001b[0m         \u001b[38;5;28;01mwith\u001b[39;00m _read_fileobject(f, filename, mmap_mode) \u001b[38;5;28;01mas\u001b[39;00m fobj:\n\u001b[0;32m    652\u001b[0m             \u001b[38;5;28;01mif\u001b[39;00m \u001b[38;5;28misinstance\u001b[39m(fobj, \u001b[38;5;28mstr\u001b[39m):\n\u001b[0;32m    653\u001b[0m                 \u001b[38;5;66;03m# if the returned file object is a string, this means we\u001b[39;00m\n\u001b[0;32m    654\u001b[0m                 \u001b[38;5;66;03m# try to load a pickle file generated with an version of\u001b[39;00m\n\u001b[0;32m    655\u001b[0m                 \u001b[38;5;66;03m# Joblib so we load it with joblib compatibility function.\u001b[39;00m\n",
      "\u001b[1;31mFileNotFoundError\u001b[0m: [Errno 2] No such file or directory: 'models/best_model.pkl'"
     ]
    }
   ],
   "source": [
    "directory_path = 'models/best_model.pkl'\n",
    "\n",
    "best_model = joblib.load(directory_path)\n",
    "\n",
    "best_model"
   ]
  },
  {
   "cell_type": "markdown",
   "id": "cad3d5ad",
   "metadata": {
    "papermill": {
     "duration": null,
     "end_time": null,
     "exception": null,
     "start_time": null,
     "status": "pending"
    },
    "tags": []
   },
   "source": [
    "---"
   ]
  },
  {
   "cell_type": "markdown",
   "id": "acafbccd",
   "metadata": {
    "papermill": {
     "duration": null,
     "end_time": null,
     "exception": null,
     "start_time": null,
     "status": "pending"
    },
    "tags": []
   },
   "source": [
    "# Чтение тестовой выборки"
   ]
  },
  {
   "cell_type": "code",
   "execution_count": null,
   "id": "a02aa7e7",
   "metadata": {
    "execution": {
     "iopub.execute_input": "2023-12-14T23:26:11.126563Z",
     "iopub.status.busy": "2023-12-14T23:26:11.126290Z",
     "iopub.status.idle": "2023-12-14T23:26:11.132109Z",
     "shell.execute_reply": "2023-12-14T23:26:11.131998Z"
    },
    "papermill": {
     "duration": null,
     "end_time": null,
     "exception": null,
     "start_time": null,
     "status": "pending"
    },
    "tags": []
   },
   "outputs": [],
   "source": [
    "models_name = best_model.__class__.__name__\n",
    "models_name"
   ]
  },
  {
   "cell_type": "code",
   "execution_count": null,
   "id": "0893f7d7",
   "metadata": {
    "execution": {
     "iopub.execute_input": "2023-12-14T23:26:11.142248Z",
     "iopub.status.busy": "2023-12-14T23:26:11.141743Z",
     "iopub.status.idle": "2023-12-14T23:26:11.150962Z",
     "shell.execute_reply": "2023-12-14T23:26:11.150158Z"
    },
    "papermill": {
     "duration": null,
     "end_time": null,
     "exception": null,
     "start_time": null,
     "status": "pending"
    },
    "tags": []
   },
   "outputs": [],
   "source": [
    "def read_file(path):\n",
    "    df = pd.DataFrame()\n",
    "    if os.path.exists(path):\n",
    "        df = pd.read_csv(path, sep=',')\n",
    "    elif os.path.exists(path[1:]):\n",
    "        df = pd.read_csv(path[1:], sep=',')\n",
    "    else:\n",
    "        print('No such file or directory') \n",
    "        raise FileNotFoundError('No such file or directory')\n",
    "    return df"
   ]
  },
  {
   "cell_type": "code",
   "execution_count": null,
   "id": "30cc7cca",
   "metadata": {
    "execution": {
     "iopub.execute_input": "2023-12-14T23:26:11.159779Z",
     "iopub.status.busy": "2023-12-14T23:26:11.158784Z",
     "iopub.status.idle": "2023-12-14T23:26:11.175034Z",
     "shell.execute_reply": "2023-12-14T23:26:11.174341Z"
    },
    "papermill": {
     "duration": null,
     "end_time": null,
     "exception": null,
     "start_time": null,
     "status": "pending"
    },
    "tags": []
   },
   "outputs": [],
   "source": [
    "if models_name == 'RandomForestClassifier':\n",
    "    test_data = read_file('datasets/tree/test_tree.csv')\n",
    "elif models_name == 'LogisticRegression':\n",
    "    test_data = np.load('datasets/for_comparison/X_test_log.npy')"
   ]
  },
  {
   "cell_type": "markdown",
   "id": "87c2a210",
   "metadata": {
    "papermill": {
     "duration": null,
     "end_time": null,
     "exception": null,
     "start_time": null,
     "status": "pending"
    },
    "tags": []
   },
   "source": [
    "---"
   ]
  },
  {
   "cell_type": "code",
   "execution_count": null,
   "id": "4dc1f4ab",
   "metadata": {
    "execution": {
     "iopub.execute_input": "2023-12-14T23:26:11.188157Z",
     "iopub.status.busy": "2023-12-14T23:26:11.188157Z",
     "iopub.status.idle": "2023-12-14T23:26:11.229751Z",
     "shell.execute_reply": "2023-12-14T23:26:11.229166Z"
    },
    "papermill": {
     "duration": null,
     "end_time": null,
     "exception": null,
     "start_time": null,
     "status": "pending"
    },
    "tags": []
   },
   "outputs": [],
   "source": [
    "y_probs = best_model.predict_proba(test_data)[:, 1]\n",
    "y_pred = (y_probs >= 0.5).astype(int)"
   ]
  },
  {
   "cell_type": "code",
   "execution_count": null,
   "id": "a6d7c36e",
   "metadata": {
    "execution": {
     "iopub.execute_input": "2023-12-14T23:26:11.238921Z",
     "iopub.status.busy": "2023-12-14T23:26:11.238921Z",
     "iopub.status.idle": "2023-12-14T23:26:11.253810Z",
     "shell.execute_reply": "2023-12-14T23:26:11.253313Z"
    },
    "papermill": {
     "duration": null,
     "end_time": null,
     "exception": null,
     "start_time": null,
     "status": "pending"
    },
    "tags": []
   },
   "outputs": [],
   "source": [
    "path1 = 'datasets/result.csv'\n",
    "\n",
    "np.savetxt(path1, y_pred, delimiter=',', fmt='%d')"
   ]
  },
  {
   "cell_type": "code",
   "execution_count": null,
   "id": "2156b6bf",
   "metadata": {
    "papermill": {
     "duration": null,
     "end_time": null,
     "exception": null,
     "start_time": null,
     "status": "pending"
    },
    "tags": []
   },
   "outputs": [],
   "source": []
  }
 ],
 "metadata": {
  "kernelspec": {
   "display_name": "yandex",
   "language": "python",
   "name": "yandex"
  },
  "language_info": {
   "codemirror_mode": {
    "name": "ipython",
    "version": 3
   },
   "file_extension": ".py",
   "mimetype": "text/x-python",
   "name": "python",
   "nbconvert_exporter": "python",
   "pygments_lexer": "ipython3",
   "version": "3.10.13"
  },
  "papermill": {
   "default_parameters": {},
   "duration": 14.382462,
   "end_time": "2023-12-14T23:31:36.916491",
   "environment_variables": {},
   "exception": true,
   "input_path": "D:\\Yandex_practicum\\Projects\\Data_Science\\best_models_predictions.ipynb",
   "output_path": "D:\\Yandex_practicum\\Projects\\Data_Science\\best_models_predictions.ipynb",
   "parameters": {},
   "start_time": "2023-12-14T23:31:22.534029",
   "version": "2.4.0"
  }
 },
 "nbformat": 4,
 "nbformat_minor": 5
}