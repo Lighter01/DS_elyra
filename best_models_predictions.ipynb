{
 "cells": [
  {
   "cell_type": "code",
   "execution_count": 1,
   "id": "bf9ffb06",
   "metadata": {
    "execution": {
     "iopub.execute_input": "2024-02-27T20:38:57.642282Z",
     "iopub.status.busy": "2024-02-27T20:38:57.641283Z",
     "iopub.status.idle": "2024-02-27T20:39:18.533082Z",
     "shell.execute_reply": "2024-02-27T20:39:18.533082Z"
    },
    "papermill": {
     "duration": 20.898341,
     "end_time": "2024-02-27T20:39:18.535625",
     "exception": false,
     "start_time": "2024-02-27T20:38:57.637284",
     "status": "completed"
    },
    "tags": []
   },
   "outputs": [
    {
     "name": "stdout",
     "output_type": "stream",
     "text": [
      "Looking in indexes: https://pypi.org/simple, https://pypi.ngc.nvidia.com\n",
      "Requirement already satisfied: joblib in d:\\anaconda\\envs\\yandex\\lib\\site-packages (1.2.0)\n",
      "Looking in indexes: https://pypi.org/simple, https://pypi.ngc.nvidia.com\n",
      "Requirement already satisfied: matplotlib in d:\\anaconda\\envs\\yandex\\lib\\site-packages (3.7.2)\n",
      "Requirement already satisfied: contourpy>=1.0.1 in d:\\anaconda\\envs\\yandex\\lib\\site-packages (from matplotlib) (1.0.5)\n",
      "Requirement already satisfied: cycler>=0.10 in d:\\anaconda\\envs\\yandex\\lib\\site-packages (from matplotlib) (0.11.0)\n",
      "Requirement already satisfied: fonttools>=4.22.0 in d:\\anaconda\\envs\\yandex\\lib\\site-packages (from matplotlib) (4.25.0)\n",
      "Requirement already satisfied: kiwisolver>=1.0.1 in d:\\anaconda\\envs\\yandex\\lib\\site-packages (from matplotlib) (1.4.4)\n",
      "Requirement already satisfied: numpy>=1.20 in d:\\anaconda\\envs\\yandex\\lib\\site-packages (from matplotlib) (1.22.4)\n",
      "Requirement already satisfied: packaging>=20.0 in d:\\anaconda\\envs\\yandex\\lib\\site-packages (from matplotlib) (23.1)\n",
      "Requirement already satisfied: pillow>=6.2.0 in d:\\anaconda\\envs\\yandex\\lib\\site-packages (from matplotlib) (10.0.1)\n",
      "Requirement already satisfied: pyparsing<3.1,>=2.3.1 in d:\\anaconda\\envs\\yandex\\lib\\site-packages (from matplotlib) (3.0.9)\n",
      "Requirement already satisfied: python-dateutil>=2.7 in d:\\anaconda\\envs\\yandex\\lib\\site-packages (from matplotlib) (2.8.2)\n",
      "Requirement already satisfied: six>=1.5 in d:\\anaconda\\envs\\yandex\\lib\\site-packages (from python-dateutil>=2.7->matplotlib) (1.16.0)\n"
     ]
    }
   ],
   "source": [
    "!pip3 install -q numpy==1.22.4\n",
    "!pip3 install -q pandas\n",
    "!pip3 install -q scikit-learn\n",
    "!pip3 install joblib\n",
    "!pip3 install matplotlib"
   ]
  },
  {
   "cell_type": "code",
   "execution_count": 2,
   "id": "7aae3a99",
   "metadata": {
    "papermill": {
     "duration": 1.526198,
     "end_time": "2024-02-27T20:39:20.066872",
     "exception": false,
     "start_time": "2024-02-27T20:39:18.540674",
     "status": "completed"
    },
    "tags": []
   },
   "outputs": [],
   "source": [
    "import pandas as pd\n",
    "import numpy as np\n",
    "import joblib\n",
    "import os\n",
    "\n",
    "from sklearn.ensemble import RandomForestClassifier\n",
    "from sklearn.linear_model import LogisticRegression"
   ]
  },
  {
   "cell_type": "markdown",
   "id": "1327d74b",
   "metadata": {
    "papermill": {
     "duration": 0.003509,
     "end_time": "2024-02-27T20:39:20.074440",
     "exception": false,
     "start_time": "2024-02-27T20:39:20.070931",
     "status": "completed"
    },
    "tags": []
   },
   "source": [
    "# Загрузка лучшей модели"
   ]
  },
  {
   "cell_type": "code",
   "execution_count": 3,
   "id": "dcd1f48c",
   "metadata": {
    "papermill": {
     "duration": 0.067516,
     "end_time": "2024-02-27T20:39:20.144973",
     "exception": false,
     "start_time": "2024-02-27T20:39:20.077457",
     "status": "completed"
    },
    "tags": []
   },
   "outputs": [
    {
     "data": {
      "text/html": [
       "<style>#sk-container-id-1 {color: black;}#sk-container-id-1 pre{padding: 0;}#sk-container-id-1 div.sk-toggleable {background-color: white;}#sk-container-id-1 label.sk-toggleable__label {cursor: pointer;display: block;width: 100%;margin-bottom: 0;padding: 0.3em;box-sizing: border-box;text-align: center;}#sk-container-id-1 label.sk-toggleable__label-arrow:before {content: \"▸\";float: left;margin-right: 0.25em;color: #696969;}#sk-container-id-1 label.sk-toggleable__label-arrow:hover:before {color: black;}#sk-container-id-1 div.sk-estimator:hover label.sk-toggleable__label-arrow:before {color: black;}#sk-container-id-1 div.sk-toggleable__content {max-height: 0;max-width: 0;overflow: hidden;text-align: left;background-color: #f0f8ff;}#sk-container-id-1 div.sk-toggleable__content pre {margin: 0.2em;color: black;border-radius: 0.25em;background-color: #f0f8ff;}#sk-container-id-1 input.sk-toggleable__control:checked~div.sk-toggleable__content {max-height: 200px;max-width: 100%;overflow: auto;}#sk-container-id-1 input.sk-toggleable__control:checked~label.sk-toggleable__label-arrow:before {content: \"▾\";}#sk-container-id-1 div.sk-estimator input.sk-toggleable__control:checked~label.sk-toggleable__label {background-color: #d4ebff;}#sk-container-id-1 div.sk-label input.sk-toggleable__control:checked~label.sk-toggleable__label {background-color: #d4ebff;}#sk-container-id-1 input.sk-hidden--visually {border: 0;clip: rect(1px 1px 1px 1px);clip: rect(1px, 1px, 1px, 1px);height: 1px;margin: -1px;overflow: hidden;padding: 0;position: absolute;width: 1px;}#sk-container-id-1 div.sk-estimator {font-family: monospace;background-color: #f0f8ff;border: 1px dotted black;border-radius: 0.25em;box-sizing: border-box;margin-bottom: 0.5em;}#sk-container-id-1 div.sk-estimator:hover {background-color: #d4ebff;}#sk-container-id-1 div.sk-parallel-item::after {content: \"\";width: 100%;border-bottom: 1px solid gray;flex-grow: 1;}#sk-container-id-1 div.sk-label:hover label.sk-toggleable__label {background-color: #d4ebff;}#sk-container-id-1 div.sk-serial::before {content: \"\";position: absolute;border-left: 1px solid gray;box-sizing: border-box;top: 0;bottom: 0;left: 50%;z-index: 0;}#sk-container-id-1 div.sk-serial {display: flex;flex-direction: column;align-items: center;background-color: white;padding-right: 0.2em;padding-left: 0.2em;position: relative;}#sk-container-id-1 div.sk-item {position: relative;z-index: 1;}#sk-container-id-1 div.sk-parallel {display: flex;align-items: stretch;justify-content: center;background-color: white;position: relative;}#sk-container-id-1 div.sk-item::before, #sk-container-id-1 div.sk-parallel-item::before {content: \"\";position: absolute;border-left: 1px solid gray;box-sizing: border-box;top: 0;bottom: 0;left: 50%;z-index: -1;}#sk-container-id-1 div.sk-parallel-item {display: flex;flex-direction: column;z-index: 1;position: relative;background-color: white;}#sk-container-id-1 div.sk-parallel-item:first-child::after {align-self: flex-end;width: 50%;}#sk-container-id-1 div.sk-parallel-item:last-child::after {align-self: flex-start;width: 50%;}#sk-container-id-1 div.sk-parallel-item:only-child::after {width: 0;}#sk-container-id-1 div.sk-dashed-wrapped {border: 1px dashed gray;margin: 0 0.4em 0.5em 0.4em;box-sizing: border-box;padding-bottom: 0.4em;background-color: white;}#sk-container-id-1 div.sk-label label {font-family: monospace;font-weight: bold;display: inline-block;line-height: 1.2em;}#sk-container-id-1 div.sk-label-container {text-align: center;}#sk-container-id-1 div.sk-container {/* jupyter's `normalize.less` sets `[hidden] { display: none; }` but bootstrap.min.css set `[hidden] { display: none !important; }` so we also need the `!important` here to be able to override the default hidden behavior on the sphinx rendered scikit-learn.org. See: https://github.com/scikit-learn/scikit-learn/issues/21755 */display: inline-block !important;position: relative;}#sk-container-id-1 div.sk-text-repr-fallback {display: none;}</style><div id=\"sk-container-id-1\" class=\"sk-top-container\"><div class=\"sk-text-repr-fallback\"><pre>RandomForestClassifier(criterion=&#x27;entropy&#x27;, max_depth=8, n_jobs=4,\n",
       "                       random_state=42)</pre><b>In a Jupyter environment, please rerun this cell to show the HTML representation or trust the notebook. <br />On GitHub, the HTML representation is unable to render, please try loading this page with nbviewer.org.</b></div><div class=\"sk-container\" hidden><div class=\"sk-item\"><div class=\"sk-estimator sk-toggleable\"><input class=\"sk-toggleable__control sk-hidden--visually\" id=\"sk-estimator-id-1\" type=\"checkbox\" checked><label for=\"sk-estimator-id-1\" class=\"sk-toggleable__label sk-toggleable__label-arrow\">RandomForestClassifier</label><div class=\"sk-toggleable__content\"><pre>RandomForestClassifier(criterion=&#x27;entropy&#x27;, max_depth=8, n_jobs=4,\n",
       "                       random_state=42)</pre></div></div></div></div></div>"
      ],
      "text/plain": [
       "RandomForestClassifier(criterion='entropy', max_depth=8, n_jobs=4,\n",
       "                       random_state=42)"
      ]
     },
     "execution_count": 3,
     "metadata": {},
     "output_type": "execute_result"
    }
   ],
   "source": [
    "directory_path = 'models/best_model.pkl'\n",
    "\n",
    "best_model = joblib.load(directory_path)\n",
    "\n",
    "best_model"
   ]
  },
  {
   "cell_type": "markdown",
   "id": "cad3d5ad",
   "metadata": {
    "papermill": {
     "duration": 0.003584,
     "end_time": "2024-02-27T20:39:20.152290",
     "exception": false,
     "start_time": "2024-02-27T20:39:20.148706",
     "status": "completed"
    },
    "tags": []
   },
   "source": [
    "---"
   ]
  },
  {
   "cell_type": "markdown",
   "id": "acafbccd",
   "metadata": {
    "papermill": {
     "duration": 0.002529,
     "end_time": "2024-02-27T20:39:20.158331",
     "exception": false,
     "start_time": "2024-02-27T20:39:20.155802",
     "status": "completed"
    },
    "tags": []
   },
   "source": [
    "# Чтение тестовой выборки"
   ]
  },
  {
   "cell_type": "code",
   "execution_count": 4,
   "id": "a02aa7e7",
   "metadata": {
    "execution": {
     "iopub.execute_input": "2024-02-27T20:39:20.167615Z",
     "iopub.status.busy": "2024-02-27T20:39:20.166611Z",
     "iopub.status.idle": "2024-02-27T20:39:20.174613Z",
     "shell.execute_reply": "2024-02-27T20:39:20.173612Z"
    },
    "papermill": {
     "duration": 0.013626,
     "end_time": "2024-02-27T20:39:20.175962",
     "exception": false,
     "start_time": "2024-02-27T20:39:20.162336",
     "status": "completed"
    },
    "tags": []
   },
   "outputs": [
    {
     "data": {
      "text/plain": [
       "'RandomForestClassifier'"
      ]
     },
     "execution_count": 4,
     "metadata": {},
     "output_type": "execute_result"
    }
   ],
   "source": [
    "models_name = best_model.__class__.__name__\n",
    "models_name"
   ]
  },
  {
   "cell_type": "code",
   "execution_count": 5,
   "id": "0893f7d7",
   "metadata": {
    "execution": {
     "iopub.execute_input": "2024-02-27T20:39:20.185075Z",
     "iopub.status.busy": "2024-02-27T20:39:20.185075Z",
     "iopub.status.idle": "2024-02-27T20:39:20.204789Z",
     "shell.execute_reply": "2024-02-27T20:39:20.204274Z"
    },
    "papermill": {
     "duration": 0.029008,
     "end_time": "2024-02-27T20:39:20.208228",
     "exception": false,
     "start_time": "2024-02-27T20:39:20.179220",
     "status": "completed"
    },
    "tags": []
   },
   "outputs": [],
   "source": [
    "def read_file(path):\n",
    "    df = pd.DataFrame()\n",
    "    if os.path.exists(path):\n",
    "        df = pd.read_csv(path, sep=',')\n",
    "    elif os.path.exists(path[1:]):\n",
    "        df = pd.read_csv(path[1:], sep=',')\n",
    "    else:\n",
    "        print('No such file or directory') \n",
    "        raise FileNotFoundError('No such file or directory')\n",
    "    return df"
   ]
  },
  {
   "cell_type": "code",
   "execution_count": 6,
   "id": "30cc7cca",
   "metadata": {
    "execution": {
     "iopub.execute_input": "2024-02-27T20:39:20.220646Z",
     "iopub.status.busy": "2024-02-27T20:39:20.220646Z",
     "iopub.status.idle": "2024-02-27T20:39:20.252264Z",
     "shell.execute_reply": "2024-02-27T20:39:20.251265Z"
    },
    "papermill": {
     "duration": 0.04139,
     "end_time": "2024-02-27T20:39:20.254264",
     "exception": false,
     "start_time": "2024-02-27T20:39:20.212874",
     "status": "completed"
    },
    "tags": []
   },
   "outputs": [],
   "source": [
    "if models_name == 'RandomForestClassifier':\n",
    "    test_data = read_file('datasets/tree/test_tree.csv')\n",
    "elif models_name == 'LogisticRegression':\n",
    "    test_data = np.load('datasets/for_comparison/X_test_log.npy')"
   ]
  },
  {
   "cell_type": "markdown",
   "id": "87c2a210",
   "metadata": {
    "papermill": {
     "duration": 0.004394,
     "end_time": "2024-02-27T20:39:20.262275",
     "exception": false,
     "start_time": "2024-02-27T20:39:20.257881",
     "status": "completed"
    },
    "tags": []
   },
   "source": [
    "---"
   ]
  },
  {
   "cell_type": "code",
   "execution_count": 7,
   "id": "4dc1f4ab",
   "metadata": {
    "execution": {
     "iopub.execute_input": "2024-02-27T20:39:20.271038Z",
     "iopub.status.busy": "2024-02-27T20:39:20.271038Z",
     "iopub.status.idle": "2024-02-27T20:39:20.330237Z",
     "shell.execute_reply": "2024-02-27T20:39:20.329232Z"
    },
    "papermill": {
     "duration": 0.065526,
     "end_time": "2024-02-27T20:39:20.331301",
     "exception": false,
     "start_time": "2024-02-27T20:39:20.265775",
     "status": "completed"
    },
    "tags": []
   },
   "outputs": [],
   "source": [
    "y_probs = best_model.predict_proba(test_data)[:, 1]\n",
    "y_pred = (y_probs >= 0.5).astype(int)"
   ]
  },
  {
   "cell_type": "code",
   "execution_count": 8,
   "id": "a6d7c36e",
   "metadata": {
    "execution": {
     "iopub.execute_input": "2024-02-27T20:39:20.344443Z",
     "iopub.status.busy": "2024-02-27T20:39:20.344443Z",
     "iopub.status.idle": "2024-02-27T20:39:20.360825Z",
     "shell.execute_reply": "2024-02-27T20:39:20.359749Z"
    },
    "papermill": {
     "duration": 0.02651,
     "end_time": "2024-02-27T20:39:20.362335",
     "exception": false,
     "start_time": "2024-02-27T20:39:20.335825",
     "status": "completed"
    },
    "tags": []
   },
   "outputs": [],
   "source": [
    "path1 = 'datasets/result.csv'\n",
    "\n",
    "np.savetxt(path1, y_pred, delimiter=',', fmt='%d')"
   ]
  },
  {
   "cell_type": "code",
   "execution_count": null,
   "id": "2156b6bf",
   "metadata": {
    "papermill": {
     "duration": 0.004,
     "end_time": "2024-02-27T20:39:20.370866",
     "exception": false,
     "start_time": "2024-02-27T20:39:20.366866",
     "status": "completed"
    },
    "tags": []
   },
   "outputs": [],
   "source": []
  }
 ],
 "metadata": {
  "kernelspec": {
   "display_name": "yandex",
   "language": "python",
   "name": "yandex"
  },
  "language_info": {
   "codemirror_mode": {
    "name": "ipython",
    "version": 3
   },
   "file_extension": ".py",
   "mimetype": "text/x-python",
   "name": "python",
   "nbconvert_exporter": "python",
   "pygments_lexer": "ipython3",
   "version": "3.10.13"
  },
  "papermill": {
   "default_parameters": {},
   "duration": 24.986757,
   "end_time": "2024-02-27T20:39:20.814619",
   "environment_variables": {},
   "exception": null,
   "input_path": "D:\\Practicum\\Projects\\Data_Science\\best_models_predictions.ipynb",
   "output_path": "D:\\Practicum\\Projects\\Data_Science\\best_models_predictions.ipynb",
   "parameters": {},
   "start_time": "2024-02-27T20:38:55.827862",
   "version": "2.4.0"
  }
 },
 "nbformat": 4,
 "nbformat_minor": 5
}
