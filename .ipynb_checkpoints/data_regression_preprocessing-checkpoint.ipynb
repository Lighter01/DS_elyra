{
 "cells": [
  {
   "cell_type": "code",
   "execution_count": null,
   "id": "f5d6e0f5",
   "metadata": {
    "execution": {
     "iopub.execute_input": "2024-02-27T20:36:15.035466Z",
     "iopub.status.busy": "2024-02-27T20:36:15.035466Z",
     "iopub.status.idle": "2024-02-27T20:36:23.581271Z",
     "shell.execute_reply": "2024-02-27T20:36:23.580147Z"
    },
    "papermill": {
     "duration": null,
     "end_time": null,
     "exception": false,
     "start_time": "2024-02-28T13:31:25.963243",
     "status": "running"
    },
    "tags": []
   },
   "outputs": [],
   "source": [
    "!pip3 install -q pandas==2.1.0\n",
    "!pip3 install -q numpy==1.22.4"
   ]
  },
  {
   "cell_type": "code",
   "execution_count": null,
   "id": "ddeb6e05",
   "metadata": {
    "execution": {
     "iopub.execute_input": "2024-02-27T20:36:23.591031Z",
     "iopub.status.busy": "2024-02-27T20:36:23.591031Z",
     "iopub.status.idle": "2024-02-27T20:36:24.096787Z",
     "shell.execute_reply": "2024-02-27T20:36:24.095782Z"
    },
    "papermill": {
     "duration": null,
     "end_time": null,
     "exception": null,
     "start_time": null,
     "status": "pending"
    },
    "tags": []
   },
   "outputs": [],
   "source": [
    "import pandas as pd\n",
    "import numpy as np\n",
    "\n",
    "import os"
   ]
  },
  {
   "cell_type": "markdown",
   "id": "5a8d2ad5",
   "metadata": {
    "papermill": {
     "duration": null,
     "end_time": null,
     "exception": null,
     "start_time": null,
     "status": "pending"
    },
    "tags": []
   },
   "source": [
    "# Чтение данных"
   ]
  },
  {
   "cell_type": "code",
   "execution_count": null,
   "id": "d0146691",
   "metadata": {
    "execution": {
     "iopub.execute_input": "2024-02-27T20:36:24.113960Z",
     "iopub.status.busy": "2024-02-27T20:36:24.112955Z",
     "iopub.status.idle": "2024-02-27T20:36:24.158763Z",
     "shell.execute_reply": "2024-02-27T20:36:24.157759Z"
    },
    "papermill": {
     "duration": null,
     "end_time": null,
     "exception": null,
     "start_time": null,
     "status": "pending"
    },
    "tags": []
   },
   "outputs": [],
   "source": [
    "path1 = '/datasets/train_cleaned.csv'\n",
    "path2 = '/datasets/test_cleaned.csv'\n",
    "\n",
    "def read_file(path):\n",
    "    df = pd.DataFrame()\n",
    "    if os.path.exists(path):\n",
    "        df = pd.read_csv(path, sep=',')\n",
    "    elif os.path.exists(path[1:]):\n",
    "        df = pd.read_csv(path[1:], sep=',')\n",
    "    else:\n",
    "        print('No such file or directory') \n",
    "        raise FileNotFoundError('No such file or directory')\n",
    "    return df\n",
    "\n",
    "df_train_cl = read_file(path1)\n",
    "df_test_cl = read_file(path2)"
   ]
  },
  {
   "cell_type": "markdown",
   "id": "a97073a9",
   "metadata": {
    "papermill": {
     "duration": null,
     "end_time": null,
     "exception": null,
     "start_time": null,
     "status": "pending"
    },
    "tags": []
   },
   "source": [
    "# Препроцессинг данных"
   ]
  },
  {
   "cell_type": "code",
   "execution_count": null,
   "id": "e788eb7e",
   "metadata": {
    "execution": {
     "iopub.execute_input": "2024-02-27T20:36:24.176615Z",
     "iopub.status.busy": "2024-02-27T20:36:24.176112Z",
     "iopub.status.idle": "2024-02-27T20:36:24.204524Z",
     "shell.execute_reply": "2024-02-27T20:36:24.203516Z"
    },
    "papermill": {
     "duration": null,
     "end_time": null,
     "exception": null,
     "start_time": null,
     "status": "pending"
    },
    "tags": []
   },
   "outputs": [],
   "source": [
    "df_train_cl.info()"
   ]
  },
  {
   "cell_type": "code",
   "execution_count": null,
   "id": "2da11e1c",
   "metadata": {
    "execution": {
     "iopub.execute_input": "2024-02-27T20:36:24.216036Z",
     "iopub.status.busy": "2024-02-27T20:36:24.215036Z",
     "iopub.status.idle": "2024-02-27T20:36:24.235069Z",
     "shell.execute_reply": "2024-02-27T20:36:24.233957Z"
    },
    "papermill": {
     "duration": null,
     "end_time": null,
     "exception": null,
     "start_time": null,
     "status": "pending"
    },
    "tags": []
   },
   "outputs": [],
   "source": [
    "df_test_cl['CryoSleep'] = df_test_cl['CryoSleep'].astype(int)\n",
    "df_test_cl['VIP'] = df_test_cl['VIP'].astype(int)\n",
    "df_test_cl['has_services'] = df_test_cl['has_services'].astype(int)\n",
    "df_test_cl.info()"
   ]
  },
  {
   "cell_type": "code",
   "execution_count": null,
   "id": "6b58850e",
   "metadata": {
    "execution": {
     "iopub.execute_input": "2024-02-27T20:36:24.246443Z",
     "iopub.status.busy": "2024-02-27T20:36:24.246443Z",
     "iopub.status.idle": "2024-02-27T20:36:24.266411Z",
     "shell.execute_reply": "2024-02-27T20:36:24.265326Z"
    },
    "papermill": {
     "duration": null,
     "end_time": null,
     "exception": null,
     "start_time": null,
     "status": "pending"
    },
    "tags": []
   },
   "outputs": [],
   "source": [
    "categorical_features = df_train_cl.select_dtypes(include=['object']).columns.tolist()\n",
    "categorical_features"
   ]
  },
  {
   "cell_type": "code",
   "execution_count": null,
   "id": "0bb4a351",
   "metadata": {
    "execution": {
     "iopub.execute_input": "2024-02-27T20:36:24.278508Z",
     "iopub.status.busy": "2024-02-27T20:36:24.277443Z",
     "iopub.status.idle": "2024-02-27T20:36:24.313037Z",
     "shell.execute_reply": "2024-02-27T20:36:24.313037Z"
    },
    "papermill": {
     "duration": null,
     "end_time": null,
     "exception": null,
     "start_time": null,
     "status": "pending"
    },
    "tags": []
   },
   "outputs": [],
   "source": [
    "df_train_cl = pd.get_dummies(df_train_cl, columns=categorical_features, drop_first=True).reset_index(drop=True)\n",
    "df_train_cl.reset_index(drop=True, inplace=True)\n",
    "\n",
    "df_train_cl.head()"
   ]
  },
  {
   "cell_type": "code",
   "execution_count": null,
   "id": "65ed2a5f",
   "metadata": {
    "execution": {
     "iopub.execute_input": "2024-02-27T20:36:24.324144Z",
     "iopub.status.busy": "2024-02-27T20:36:24.324144Z",
     "iopub.status.idle": "2024-02-27T20:36:24.361513Z",
     "shell.execute_reply": "2024-02-27T20:36:24.360082Z"
    },
    "papermill": {
     "duration": null,
     "end_time": null,
     "exception": null,
     "start_time": null,
     "status": "pending"
    },
    "tags": []
   },
   "outputs": [],
   "source": [
    "df_test_cl = pd.get_dummies(df_test_cl, columns=categorical_features, drop_first=True).reset_index(drop=True)\n",
    "df_test_cl.reset_index(drop=True, inplace=True)\n",
    "\n",
    "df_test_cl.head()"
   ]
  },
  {
   "cell_type": "markdown",
   "id": "ac9eda32",
   "metadata": {
    "papermill": {
     "duration": null,
     "end_time": null,
     "exception": null,
     "start_time": null,
     "status": "pending"
    },
    "tags": []
   },
   "source": [
    "---"
   ]
  },
  {
   "cell_type": "code",
   "execution_count": null,
   "id": "95b2c114",
   "metadata": {
    "execution": {
     "iopub.execute_input": "2024-02-27T20:36:24.381152Z",
     "iopub.status.busy": "2024-02-27T20:36:24.381152Z",
     "iopub.status.idle": "2024-02-27T20:36:24.392163Z",
     "shell.execute_reply": "2024-02-27T20:36:24.391163Z"
    },
    "papermill": {
     "duration": null,
     "end_time": null,
     "exception": null,
     "start_time": null,
     "status": "pending"
    },
    "tags": []
   },
   "outputs": [],
   "source": [
    "new_directory = 'datasets/regression'\n",
    "\n",
    "os.makedirs(new_directory, exist_ok=True)"
   ]
  },
  {
   "cell_type": "code",
   "execution_count": null,
   "id": "0c5cb7b8",
   "metadata": {
    "execution": {
     "iopub.execute_input": "2024-02-27T20:36:24.404450Z",
     "iopub.status.busy": "2024-02-27T20:36:24.404450Z",
     "iopub.status.idle": "2024-02-27T20:36:24.485298Z",
     "shell.execute_reply": "2024-02-27T20:36:24.484175Z"
    },
    "papermill": {
     "duration": null,
     "end_time": null,
     "exception": null,
     "start_time": null,
     "status": "pending"
    },
    "tags": []
   },
   "outputs": [],
   "source": [
    "path1 = 'datasets/regression/train_log.csv'\n",
    "path2 = 'datasets/regression/test_log.csv'\n",
    "\n",
    "df_train_cl.to_csv(path1, index=False)\n",
    "df_test_cl.to_csv(path2, index=False)"
   ]
  },
  {
   "cell_type": "code",
   "execution_count": null,
   "id": "81de4829",
   "metadata": {
    "papermill": {
     "duration": null,
     "end_time": null,
     "exception": null,
     "start_time": null,
     "status": "pending"
    },
    "tags": []
   },
   "outputs": [],
   "source": []
  }
 ],
 "metadata": {
  "kernelspec": {
   "display_name": "yandex",
   "language": "python",
   "name": "yandex"
  },
  "language_info": {
   "codemirror_mode": {
    "name": "ipython",
    "version": 3
   },
   "file_extension": ".py",
   "mimetype": "text/x-python",
   "name": "python",
   "nbconvert_exporter": "python",
   "pygments_lexer": "ipython3",
   "version": "3.10.13"
  },
  "papermill": {
   "default_parameters": {},
   "duration": null,
   "end_time": null,
   "environment_variables": {},
   "exception": null,
   "input_path": "D:\\Practicum\\Projects\\Data_Science\\data_regression_preprocessing.ipynb",
   "output_path": "D:\\Practicum\\Projects\\Data_Science\\data_regression_preprocessing.ipynb",
   "parameters": {},
   "start_time": "2024-02-28T13:31:24.190807",
   "version": "2.4.0"
  }
 },
 "nbformat": 4,
 "nbformat_minor": 5
}