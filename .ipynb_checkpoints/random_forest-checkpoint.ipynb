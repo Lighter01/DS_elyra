{
 "cells": [
  {
   "cell_type": "code",
   "execution_count": null,
   "id": "f5c4b66f",
   "metadata": {
    "execution": {
     "iopub.execute_input": "2024-02-27T20:36:26.683655Z",
     "iopub.status.busy": "2024-02-27T20:36:26.682651Z",
     "iopub.status.idle": "2024-02-27T20:37:04.349471Z",
     "shell.execute_reply": "2024-02-27T20:37:04.348331Z"
    },
    "papermill": {
     "duration": null,
     "end_time": null,
     "exception": false,
     "start_time": "2024-02-28T13:31:39.557080",
     "status": "running"
    },
    "tags": []
   },
   "outputs": [],
   "source": [
    "!pip3 install -q numpy==1.22.4\n",
    "!pip3 install -q pandas==1.5.3\n",
    "!pip3 install -q scikit-learn\n",
    "!pip3 install joblib"
   ]
  },
  {
   "cell_type": "code",
   "execution_count": null,
   "id": "3534375e",
   "metadata": {
    "execution": {
     "iopub.execute_input": "2024-02-27T20:37:04.364395Z",
     "iopub.status.busy": "2024-02-27T20:37:04.364395Z",
     "iopub.status.idle": "2024-02-27T20:37:07.281309Z",
     "shell.execute_reply": "2024-02-27T20:37:07.280308Z"
    },
    "papermill": {
     "duration": null,
     "end_time": null,
     "exception": null,
     "start_time": null,
     "status": "pending"
    },
    "tags": []
   },
   "outputs": [],
   "source": [
    "import pandas as pd\n",
    "import numpy as np\n",
    "from sklearn.ensemble import RandomForestClassifier\n",
    "from sklearn.model_selection import GridSearchCV, StratifiedShuffleSplit, train_test_split\n",
    "from sklearn.metrics import f1_score, roc_auc_score\n",
    "import joblib \n",
    "\n",
    "import time\n",
    "import os"
   ]
  },
  {
   "cell_type": "markdown",
   "id": "56ae3df4",
   "metadata": {
    "papermill": {
     "duration": null,
     "end_time": null,
     "exception": null,
     "start_time": null,
     "status": "pending"
    },
    "tags": []
   },
   "source": [
    "---"
   ]
  },
  {
   "cell_type": "markdown",
   "id": "4233d7b1",
   "metadata": {
    "papermill": {
     "duration": null,
     "end_time": null,
     "exception": null,
     "start_time": null,
     "status": "pending"
    },
    "tags": []
   },
   "source": [
    "Чтение данных"
   ]
  },
  {
   "cell_type": "code",
   "execution_count": null,
   "id": "67bb9ed0",
   "metadata": {
    "execution": {
     "iopub.execute_input": "2024-02-27T20:37:07.322160Z",
     "iopub.status.busy": "2024-02-27T20:37:07.321066Z",
     "iopub.status.idle": "2024-02-27T20:37:07.359392Z",
     "shell.execute_reply": "2024-02-27T20:37:07.358888Z"
    },
    "papermill": {
     "duration": null,
     "end_time": null,
     "exception": null,
     "start_time": null,
     "status": "pending"
    },
    "tags": []
   },
   "outputs": [],
   "source": [
    "path1 = 'datasets/tree/train_tree.csv'\n",
    "\n",
    "def read_file(path):\n",
    "    df = pd.DataFrame()\n",
    "    if os.path.exists(path):\n",
    "        df = pd.read_csv(path, sep=',')\n",
    "    elif os.path.exists(path[1:]):\n",
    "        df = pd.read_csv(path[1:], sep=',')\n",
    "    else:\n",
    "        print('No such file or directory') \n",
    "        raise FileNotFoundError('No such file or directory')\n",
    "    return df\n",
    "\n",
    "df_train = read_file(path1)"
   ]
  },
  {
   "cell_type": "markdown",
   "id": "406c15bc",
   "metadata": {
    "papermill": {
     "duration": null,
     "end_time": null,
     "exception": null,
     "start_time": null,
     "status": "pending"
    },
    "tags": []
   },
   "source": [
    "---"
   ]
  },
  {
   "cell_type": "markdown",
   "id": "7b7cbc91",
   "metadata": {
    "papermill": {
     "duration": null,
     "end_time": null,
     "exception": null,
     "start_time": null,
     "status": "pending"
    },
    "tags": []
   },
   "source": [
    "## Разбиение тренировочной выборки на тренировочную и владиационную"
   ]
  },
  {
   "cell_type": "code",
   "execution_count": null,
   "id": "009e05e0",
   "metadata": {
    "execution": {
     "iopub.execute_input": "2024-02-27T20:37:07.403249Z",
     "iopub.status.busy": "2024-02-27T20:37:07.402243Z",
     "iopub.status.idle": "2024-02-27T20:37:07.422110Z",
     "shell.execute_reply": "2024-02-27T20:37:07.420880Z"
    },
    "papermill": {
     "duration": null,
     "end_time": null,
     "exception": null,
     "start_time": null,
     "status": "pending"
    },
    "tags": []
   },
   "outputs": [],
   "source": [
    "X_tree = df_train.drop(columns=['Transported'], axis=1)\n",
    "y_tree = df_train.Transported\n",
    "\n",
    "print(y_tree.shape[0])"
   ]
  },
  {
   "cell_type": "code",
   "execution_count": null,
   "id": "f9248b6b",
   "metadata": {
    "execution": {
     "iopub.execute_input": "2024-02-27T20:37:07.437305Z",
     "iopub.status.busy": "2024-02-27T20:37:07.437305Z",
     "iopub.status.idle": "2024-02-27T20:37:07.451853Z",
     "shell.execute_reply": "2024-02-27T20:37:07.451853Z"
    },
    "papermill": {
     "duration": null,
     "end_time": null,
     "exception": null,
     "start_time": null,
     "status": "pending"
    },
    "tags": []
   },
   "outputs": [],
   "source": [
    "X_train_tree, X_val_tree, y_train_tree, y_val_tree = \\\n",
    "        train_test_split(X_tree, y_tree, test_size = 0.3, shuffle=True, random_state = 42)\n",
    "\n",
    "print(y_train_tree.shape, y_val_tree.shape)"
   ]
  },
  {
   "cell_type": "code",
   "execution_count": null,
   "id": "ec38d824",
   "metadata": {
    "execution": {
     "iopub.execute_input": "2024-02-27T20:37:07.469432Z",
     "iopub.status.busy": "2024-02-27T20:37:07.468926Z",
     "iopub.status.idle": "2024-02-27T20:37:07.484114Z",
     "shell.execute_reply": "2024-02-27T20:37:07.483083Z"
    },
    "papermill": {
     "duration": null,
     "end_time": null,
     "exception": null,
     "start_time": null,
     "status": "pending"
    },
    "tags": []
   },
   "outputs": [],
   "source": [
    "new_directory = 'datasets/for_comparison'\n",
    "\n",
    "os.makedirs(new_directory, exist_ok=True)"
   ]
  },
  {
   "cell_type": "code",
   "execution_count": null,
   "id": "d3b7e42a",
   "metadata": {
    "execution": {
     "iopub.execute_input": "2024-02-27T20:37:07.500192Z",
     "iopub.status.busy": "2024-02-27T20:37:07.500192Z",
     "iopub.status.idle": "2024-02-27T20:37:07.530101Z",
     "shell.execute_reply": "2024-02-27T20:37:07.529102Z"
    },
    "papermill": {
     "duration": null,
     "end_time": null,
     "exception": null,
     "start_time": null,
     "status": "pending"
    },
    "tags": []
   },
   "outputs": [],
   "source": [
    "X_val_tree.to_csv('datasets/for_comparison/X_val_tree.csv', index=False)\n",
    "y_val_tree.to_csv('datasets/for_comparison/y_val_tree.csv', index=False)"
   ]
  },
  {
   "cell_type": "markdown",
   "id": "b7948d28",
   "metadata": {
    "papermill": {
     "duration": null,
     "end_time": null,
     "exception": null,
     "start_time": null,
     "status": "pending"
    },
    "tags": []
   },
   "source": [
    "---"
   ]
  },
  {
   "cell_type": "markdown",
   "id": "c3fd5024",
   "metadata": {
    "papermill": {
     "duration": null,
     "end_time": null,
     "exception": null,
     "start_time": null,
     "status": "pending"
    },
    "tags": []
   },
   "source": [
    "# Вспомогательные функции"
   ]
  },
  {
   "cell_type": "code",
   "execution_count": null,
   "id": "8a478770",
   "metadata": {
    "execution": {
     "iopub.execute_input": "2024-02-27T20:37:07.569156Z",
     "iopub.status.busy": "2024-02-27T20:37:07.568158Z",
     "iopub.status.idle": "2024-02-27T20:37:07.577161Z",
     "shell.execute_reply": "2024-02-27T20:37:07.576099Z"
    },
    "papermill": {
     "duration": null,
     "end_time": null,
     "exception": null,
     "start_time": null,
     "status": "pending"
    },
    "tags": []
   },
   "outputs": [],
   "source": [
    "def grid_search_cv(model, cv, param_grid, X_train_set, y_train_set, scores, refit=True):\n",
    "    grid_search = GridSearchCV(estimator=model, param_grid=param_grid, scoring=scores, cv=cv, refit=refit)\n",
    "\n",
    "    start_time = time.time()\n",
    "\n",
    "    grid_search.fit(X_train_set, y_train_set)\n",
    "\n",
    "    total_time = time.time() - start_time\n",
    "    print(f\"Total time spent on grid search (wall-clock): {total_time:.2f} seconds or \\\n",
    "            {(total_time // 60):.0f} minutes {(total_time % 60):.2f} seconds\")\n",
    "    \n",
    "    return grid_search"
   ]
  },
  {
   "cell_type": "code",
   "execution_count": null,
   "id": "056b66ba",
   "metadata": {
    "execution": {
     "iopub.execute_input": "2024-02-27T20:37:07.593704Z",
     "iopub.status.busy": "2024-02-27T20:37:07.593704Z",
     "iopub.status.idle": "2024-02-27T20:37:07.608170Z",
     "shell.execute_reply": "2024-02-27T20:37:07.608170Z"
    },
    "papermill": {
     "duration": null,
     "end_time": null,
     "exception": null,
     "start_time": null,
     "status": "pending"
    },
    "tags": []
   },
   "outputs": [],
   "source": [
    "def custom_refit(cv_results):\n",
    "    sorted_indices = np.lexsort((-cv_results[\"mean_test_roc_auc\"], -cv_results[\"mean_test_f1\"]))\n",
    "    return sorted_indices[0]"
   ]
  },
  {
   "cell_type": "code",
   "execution_count": null,
   "id": "2fdedf2f",
   "metadata": {
    "execution": {
     "iopub.execute_input": "2024-02-27T20:37:07.634815Z",
     "iopub.status.busy": "2024-02-27T20:37:07.633815Z",
     "iopub.status.idle": "2024-02-27T20:37:07.655858Z",
     "shell.execute_reply": "2024-02-27T20:37:07.654690Z"
    },
    "papermill": {
     "duration": null,
     "end_time": null,
     "exception": null,
     "start_time": null,
     "status": "pending"
    },
    "tags": []
   },
   "outputs": [],
   "source": [
    "def print_top_low(grid_search, show_columns, sort_by = ['rank_test_score', 'index'], n_rows = 10):\n",
    "    df_results = pd.DataFrame(grid_search.cv_results_)\n",
    "    df_results.index.name = 'index'\n",
    "    df_results = df_results.sort_values(by=sort_by).reset_index(drop=True)\n",
    "\n",
    "    print('Top ' + str(n_rows))\n",
    "    display(df_results[:n_rows][show_columns])\n",
    "\n",
    "    print('Low ' + str(n_rows))\n",
    "    display(df_results[-n_rows:][show_columns])\n",
    "    \n",
    "    return df_results"
   ]
  },
  {
   "cell_type": "code",
   "execution_count": null,
   "id": "3cc21811",
   "metadata": {
    "execution": {
     "iopub.execute_input": "2024-02-27T20:37:07.671119Z",
     "iopub.status.busy": "2024-02-27T20:37:07.671119Z",
     "iopub.status.idle": "2024-02-27T20:37:07.685837Z",
     "shell.execute_reply": "2024-02-27T20:37:07.684818Z"
    },
    "papermill": {
     "duration": null,
     "end_time": null,
     "exception": null,
     "start_time": null,
     "status": "pending"
    },
    "tags": []
   },
   "outputs": [],
   "source": [
    "def custom_threshold_scorer(estimator, X, y, threshold=0.5, scorer=f1_score):\n",
    "    probabilities = estimator.predict_proba(X)\n",
    "\n",
    "    predictions = (probabilities[:, 1] >= threshold).astype(int)\n",
    "    score = scorer(y, predictions)\n",
    "\n",
    "    return score"
   ]
  },
  {
   "cell_type": "code",
   "execution_count": null,
   "id": "d773043c",
   "metadata": {
    "execution": {
     "iopub.execute_input": "2024-02-27T20:37:07.701165Z",
     "iopub.status.busy": "2024-02-27T20:37:07.701165Z",
     "iopub.status.idle": "2024-02-27T20:37:07.716619Z",
     "shell.execute_reply": "2024-02-27T20:37:07.715619Z"
    },
    "papermill": {
     "duration": null,
     "end_time": null,
     "exception": null,
     "start_time": null,
     "status": "pending"
    },
    "tags": []
   },
   "outputs": [],
   "source": [
    "def findBestThreshold(model, features, target):\n",
    "    best_result = {'f1': 0, 'roc_auc': 0}\n",
    "    best_threshold = 0\n",
    "\n",
    "    for threshold in np.arange(0, 1.05, 0.05):\n",
    "        print(f'threshold: {threshold:.2f}')\n",
    "        \n",
    "        f1      = custom_threshold_scorer(model, features, target, threshold, f1_score)\n",
    "        roc_auc = roc_auc_score(target, model.predict_proba(features)[:, 1])\n",
    "        print(f\"f1 score: {f1:.6f}\")\n",
    "\n",
    "        if f1 > best_result['f1']:\n",
    "            best_result['f1'] = f1\n",
    "            best_result['roc_auc'] = roc_auc\n",
    "            best_threshold = threshold\n",
    "\n",
    "    return best_threshold, best_result"
   ]
  },
  {
   "cell_type": "code",
   "execution_count": null,
   "id": "f9d0f096",
   "metadata": {
    "execution": {
     "iopub.execute_input": "2024-02-27T20:37:07.733186Z",
     "iopub.status.busy": "2024-02-27T20:37:07.733186Z",
     "iopub.status.idle": "2024-02-27T20:37:07.748226Z",
     "shell.execute_reply": "2024-02-27T20:37:07.747225Z"
    },
    "papermill": {
     "duration": null,
     "end_time": null,
     "exception": null,
     "start_time": null,
     "status": "pending"
    },
    "tags": []
   },
   "outputs": [],
   "source": [
    "def findBestEstimators(model, features, target, threshold=0.5):\n",
    "    best_result = {'f1': 0, 'roc_auc': 0}\n",
    "    best_params = model.get_params()\n",
    "    cur_params  = best_params.copy()\n",
    "    result = {}\n",
    "\n",
    "    for estimators in range(10, 151, 10):\n",
    "        print('estimators:', estimators)\n",
    "        cur_params['n_estimators'] = estimators \n",
    "\n",
    "        new_model = model.__class__(**cur_params)\n",
    "        new_model.fit(features, target)\n",
    "        f1      = custom_threshold_scorer(new_model, features, target, threshold, f1_score)\n",
    "        roc_auc = roc_auc_score(target, new_model.predict_proba(features)[:, 1])\n",
    "\n",
    "        print(f\"f1 score: {f1:.6f}\")\n",
    "\n",
    "        if f1 > best_result['f1']:\n",
    "            best_result['f1'] = f1\n",
    "            best_result['roc_auc'] = roc_auc\n",
    "            best_params['n_estimators'] = estimators\n",
    "\n",
    "    return best_params, best_result"
   ]
  },
  {
   "cell_type": "code",
   "execution_count": null,
   "id": "387aa7f3",
   "metadata": {
    "execution": {
     "iopub.execute_input": "2024-02-27T20:37:07.764692Z",
     "iopub.status.busy": "2024-02-27T20:37:07.763679Z",
     "iopub.status.idle": "2024-02-27T20:37:07.779291Z",
     "shell.execute_reply": "2024-02-27T20:37:07.778233Z"
    },
    "papermill": {
     "duration": null,
     "end_time": null,
     "exception": null,
     "start_time": null,
     "status": "pending"
    },
    "tags": []
   },
   "outputs": [],
   "source": [
    "from sklearn.exceptions import NotFittedError\n",
    "\n",
    "def is_fitted(estimator, X):\n",
    "    try:\n",
    "        estimator.predict(X)\n",
    "        return True\n",
    "    except NotFittedError as e:\n",
    "        print(repr(e))\n",
    "        return False"
   ]
  },
  {
   "cell_type": "markdown",
   "id": "9ae8b436",
   "metadata": {
    "papermill": {
     "duration": null,
     "end_time": null,
     "exception": null,
     "start_time": null,
     "status": "pending"
    },
    "tags": []
   },
   "source": [
    "# Обучение модели"
   ]
  },
  {
   "cell_type": "code",
   "execution_count": null,
   "id": "376a1148",
   "metadata": {
    "execution": {
     "iopub.execute_input": "2024-02-27T20:37:07.808655Z",
     "iopub.status.busy": "2024-02-27T20:37:07.807363Z",
     "iopub.status.idle": "2024-02-27T20:37:07.825231Z",
     "shell.execute_reply": "2024-02-27T20:37:07.824230Z"
    },
    "papermill": {
     "duration": null,
     "end_time": null,
     "exception": null,
     "start_time": null,
     "status": "pending"
    },
    "tags": []
   },
   "outputs": [],
   "source": [
    "param_grid = [\n",
    "    {\n",
    "        \"max_depth\": np.arange(3, 11, 1),\n",
    "        \"criterion\": ['gini', 'entropy', 'log_loss'],\n",
    "        \"max_features\": [None, 'sqrt', 'log2'],\n",
    "    }\n",
    "]\n",
    "\n",
    "rfc = RandomForestClassifier(n_estimators=30, n_jobs = 4, random_state=42)\n",
    "sss = StratifiedShuffleSplit(n_splits=5, test_size=0.2, random_state=42)\n",
    "\n",
    "scores = ['f1', 'roc_auc']\n",
    "scoring = {'f1': 'f1',\n",
    "           'roc_auc': 'roc_auc'\n",
    "          }\n",
    "\n",
    "columns = ['param_criterion', 'param_max_depth', \\\n",
    "                         'mean_test_f1', 'mean_test_roc_auc', 'rank_test_f1', 'rank_test_roc_auc']"
   ]
  },
  {
   "cell_type": "code",
   "execution_count": null,
   "id": "f08e2428",
   "metadata": {
    "execution": {
     "iopub.execute_input": "2024-02-27T20:37:07.842219Z",
     "iopub.status.busy": "2024-02-27T20:37:07.841213Z",
     "iopub.status.idle": "2024-02-27T20:37:51.154253Z",
     "shell.execute_reply": "2024-02-27T20:37:51.153253Z"
    },
    "papermill": {
     "duration": null,
     "end_time": null,
     "exception": null,
     "start_time": null,
     "status": "pending"
    },
    "tags": []
   },
   "outputs": [],
   "source": [
    "grid_search = grid_search_cv(rfc, sss, param_grid, X_train_tree, y_train_tree, scores, custom_refit)"
   ]
  },
  {
   "cell_type": "code",
   "execution_count": null,
   "id": "c6742cfd",
   "metadata": {
    "execution": {
     "iopub.execute_input": "2024-02-27T20:37:51.172130Z",
     "iopub.status.busy": "2024-02-27T20:37:51.172130Z",
     "iopub.status.idle": "2024-02-27T20:37:51.215449Z",
     "shell.execute_reply": "2024-02-27T20:37:51.214353Z"
    },
    "papermill": {
     "duration": null,
     "end_time": null,
     "exception": null,
     "start_time": null,
     "status": "pending"
    },
    "tags": []
   },
   "outputs": [],
   "source": [
    "df_results = print_top_low(grid_search, columns, ['rank_test_f1', 'index'])"
   ]
  },
  {
   "cell_type": "code",
   "execution_count": null,
   "id": "4d847364",
   "metadata": {
    "execution": {
     "iopub.execute_input": "2024-02-27T20:37:51.233263Z",
     "iopub.status.busy": "2024-02-27T20:37:51.233263Z",
     "iopub.status.idle": "2024-02-27T20:37:51.262228Z",
     "shell.execute_reply": "2024-02-27T20:37:51.261222Z"
    },
    "papermill": {
     "duration": null,
     "end_time": null,
     "exception": null,
     "start_time": null,
     "status": "pending"
    },
    "tags": []
   },
   "outputs": [],
   "source": [
    "is_fitted(grid_search.best_estimator_, X_train_tree)"
   ]
  },
  {
   "cell_type": "code",
   "execution_count": null,
   "id": "69fba8c8",
   "metadata": {
    "execution": {
     "iopub.execute_input": "2024-02-27T20:37:51.279984Z",
     "iopub.status.busy": "2024-02-27T20:37:51.279984Z",
     "iopub.status.idle": "2024-02-27T20:37:56.344918Z",
     "shell.execute_reply": "2024-02-27T20:37:56.343919Z"
    },
    "papermill": {
     "duration": null,
     "end_time": null,
     "exception": null,
     "start_time": null,
     "status": "pending"
    },
    "tags": []
   },
   "outputs": [],
   "source": [
    "best_estimator = findBestEstimators(grid_search.best_estimator_, X_train_tree, y_train_tree)"
   ]
  },
  {
   "cell_type": "code",
   "execution_count": null,
   "id": "35bda603",
   "metadata": {
    "execution": {
     "iopub.execute_input": "2024-02-27T20:37:56.364585Z",
     "iopub.status.busy": "2024-02-27T20:37:56.363516Z",
     "iopub.status.idle": "2024-02-27T20:37:57.200004Z",
     "shell.execute_reply": "2024-02-27T20:37:57.200004Z"
    },
    "papermill": {
     "duration": null,
     "end_time": null,
     "exception": null,
     "start_time": null,
     "status": "pending"
    },
    "tags": []
   },
   "outputs": [],
   "source": [
    "# %%pipeline\n",
    "best_rfc_threshold = findBestThreshold(grid_search.best_estimator_, X_train_tree, y_train_tree)"
   ]
  },
  {
   "cell_type": "code",
   "execution_count": null,
   "id": "79b26a0f",
   "metadata": {
    "execution": {
     "iopub.execute_input": "2024-02-27T20:37:57.221515Z",
     "iopub.status.busy": "2024-02-27T20:37:57.221515Z",
     "iopub.status.idle": "2024-02-27T20:37:57.230341Z",
     "shell.execute_reply": "2024-02-27T20:37:57.230341Z"
    },
    "papermill": {
     "duration": null,
     "end_time": null,
     "exception": null,
     "start_time": null,
     "status": "pending"
    },
    "tags": []
   },
   "outputs": [],
   "source": [
    "new_directory = 'models/'\n",
    "\n",
    "os.makedirs(new_directory, exist_ok=True)"
   ]
  },
  {
   "cell_type": "code",
   "execution_count": null,
   "id": "9ae3652c",
   "metadata": {
    "execution": {
     "iopub.execute_input": "2024-02-27T20:37:57.252241Z",
     "iopub.status.busy": "2024-02-27T20:37:57.252241Z",
     "iopub.status.idle": "2024-02-27T20:37:57.636050Z",
     "shell.execute_reply": "2024-02-27T20:37:57.635544Z"
    },
    "papermill": {
     "duration": null,
     "end_time": null,
     "exception": null,
     "start_time": null,
     "status": "pending"
    },
    "tags": []
   },
   "outputs": [],
   "source": [
    "rfc_model = RandomForestClassifier(**best_estimator[0]).fit(X_train_tree, y_train_tree)\n",
    "\n",
    "joblib_logr = 'models/random_forest.pkl'\n",
    "joblib.dump(rfc_model, joblib_logr)"
   ]
  },
  {
   "cell_type": "code",
   "execution_count": null,
   "id": "99e07d02",
   "metadata": {
    "papermill": {
     "duration": null,
     "end_time": null,
     "exception": null,
     "start_time": null,
     "status": "pending"
    },
    "tags": []
   },
   "outputs": [],
   "source": []
  }
 ],
 "metadata": {
  "kernelspec": {
   "display_name": "yandex",
   "language": "python",
   "name": "yandex"
  },
  "language_info": {
   "codemirror_mode": {
    "name": "ipython",
    "version": 3
   },
   "file_extension": ".py",
   "mimetype": "text/x-python",
   "name": "python",
   "nbconvert_exporter": "python",
   "pygments_lexer": "ipython3",
   "version": "3.10.13"
  },
  "papermill": {
   "default_parameters": {},
   "duration": null,
   "end_time": null,
   "environment_variables": {},
   "exception": null,
   "input_path": "D:\\Practicum\\Projects\\Data_Science\\random_forest.ipynb",
   "output_path": "D:\\Practicum\\Projects\\Data_Science\\random_forest.ipynb",
   "parameters": {},
   "start_time": "2024-02-28T13:31:37.746396",
   "version": "2.4.0"
  }
 },
 "nbformat": 4,
 "nbformat_minor": 5
}