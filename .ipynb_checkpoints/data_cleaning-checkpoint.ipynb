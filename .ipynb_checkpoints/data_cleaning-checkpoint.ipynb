{
 "cells": [
  {
   "cell_type": "code",
   "execution_count": 7,
   "id": "1b25765a-27d3-4924-91d0-693f1328221f",
   "metadata": {},
   "outputs": [],
   "source": [
    "!pip3 install -q numpy==1.22.4\n",
    "!pip3 install -q pandas==2.1.0"
   ]
  },
  {
   "cell_type": "code",
   "execution_count": 13,
   "id": "5c2cfc7f",
   "metadata": {},
   "outputs": [],
   "source": [
    "import pandas as pd\n",
    "import numpy as np\n",
    "\n",
    "import os\n",
    "import sys\n",
    "import warnings"
   ]
  },
  {
   "cell_type": "code",
   "execution_count": 14,
   "id": "7d8334a5",
   "metadata": {},
   "outputs": [],
   "source": [
    "# pd.set_option('display.max_rows', None)\n",
    "pd.set_option('display.max_columns', None)\n",
    "np.set_printoptions(threshold=sys.maxsize)\n",
    "\n",
    "warnings.filterwarnings(action='ignore')"
   ]
  },
  {
   "cell_type": "markdown",
   "id": "4350df5e",
   "metadata": {},
   "source": [
    "# Загрузка датасета и первичный осмотр данных"
   ]
  },
  {
   "cell_type": "code",
   "execution_count": 15,
   "id": "fbd714da",
   "metadata": {},
   "outputs": [],
   "source": [
    "path1 = '/datasets/train.csv'\n",
    "path2 = '/datasets/test.csv'\n",
    "\n",
    "def read_file(path):\n",
    "    df = pd.DataFrame()\n",
    "    if os.path.exists(path):\n",
    "        df = pd.read_csv(path, sep=',')\n",
    "    elif os.path.exists(path[1:]):\n",
    "        df = pd.read_csv(path[1:], sep=',')\n",
    "    else:\n",
    "        print('No such file or directory') \n",
    "        raise FileNotFoundError('No such file or directory')\n",
    "    return df\n",
    "\n",
    "df_train = read_file(path1)\n",
    "df_test = read_file(path2)"
   ]
  },
  {
   "cell_type": "code",
   "execution_count": null,
   "id": "b4eb7d0a",
   "metadata": {},
   "outputs": [],
   "source": []
  }
 ],
 "metadata": {
  "kernelspec": {
   "display_name": "yandex",
   "language": "python",
   "name": "yandex"
  },
  "language_info": {
   "codemirror_mode": {
    "name": "ipython",
    "version": 3
   },
   "file_extension": ".py",
   "mimetype": "text/x-python",
   "name": "python",
   "nbconvert_exporter": "python",
   "pygments_lexer": "ipython3",
   "version": "3.10.13"
  }
 },
 "nbformat": 4,
 "nbformat_minor": 5
}
