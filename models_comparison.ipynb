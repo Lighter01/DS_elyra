{
 "cells": [
  {
   "cell_type": "code",
   "execution_count": 1,
   "id": "d1d4e73b",
   "metadata": {
    "execution": {
     "iopub.execute_input": "2023-12-14T23:12:30.935887Z",
     "iopub.status.busy": "2023-12-14T23:12:30.935887Z",
     "iopub.status.idle": "2023-12-14T23:12:41.386578Z",
     "shell.execute_reply": "2023-12-14T23:12:41.385595Z"
    },
    "papermill": {
     "duration": 10.452317,
     "end_time": "2023-12-14T23:12:41.388204",
     "exception": false,
     "start_time": "2023-12-14T23:12:30.935887",
     "status": "completed"
    },
    "tags": []
   },
   "outputs": [
    {
     "name": "stdout",
     "output_type": "stream",
     "text": [
      "Requirement already satisfied: joblib in d:\\anaconda\\envs\\yandex\\lib\\site-packages (1.2.0)\n"
     ]
    },
    {
     "name": "stdout",
     "output_type": "stream",
     "text": [
      "Requirement already satisfied: matplotlib in d:\\anaconda\\envs\\yandex\\lib\\site-packages (3.7.2)\n",
      "Requirement already satisfied: contourpy>=1.0.1 in d:\\anaconda\\envs\\yandex\\lib\\site-packages (from matplotlib) (1.0.5)\n",
      "Requirement already satisfied: cycler>=0.10 in d:\\anaconda\\envs\\yandex\\lib\\site-packages (from matplotlib) (0.11.0)\n",
      "Requirement already satisfied: fonttools>=4.22.0 in d:\\anaconda\\envs\\yandex\\lib\\site-packages (from matplotlib) (4.25.0)\n",
      "Requirement already satisfied: kiwisolver>=1.0.1 in d:\\anaconda\\envs\\yandex\\lib\\site-packages (from matplotlib) (1.4.4)\n",
      "Requirement already satisfied: numpy>=1.20 in d:\\anaconda\\envs\\yandex\\lib\\site-packages (from matplotlib) (1.22.4)\n",
      "Requirement already satisfied: packaging>=20.0 in d:\\anaconda\\envs\\yandex\\lib\\site-packages (from matplotlib) (23.1)\n",
      "Requirement already satisfied: pillow>=6.2.0 in d:\\anaconda\\envs\\yandex\\lib\\site-packages (from matplotlib) (10.0.1)\n",
      "Requirement already satisfied: pyparsing<3.1,>=2.3.1 in d:\\anaconda\\envs\\yandex\\lib\\site-packages (from matplotlib) (3.0.9)\n",
      "Requirement already satisfied: python-dateutil>=2.7 in d:\\anaconda\\envs\\yandex\\lib\\site-packages (from matplotlib) (2.8.2)\n",
      "Requirement already satisfied: six>=1.5 in d:\\anaconda\\envs\\yandex\\lib\\site-packages (from python-dateutil>=2.7->matplotlib) (1.16.0)\n"
     ]
    }
   ],
   "source": [
    "!pip3 install -q numpy==1.22.4\n",
    "!pip3 install -q pandas\n",
    "!pip3 install -q scikit-learn\n",
    "!pip3 install joblib\n",
    "!pip3 install matplotlib"
   ]
  },
  {
   "cell_type": "code",
   "execution_count": 2,
   "id": "260e67f3",
   "metadata": {
    "execution": {
     "iopub.execute_input": "2023-12-14T23:12:41.406242Z",
     "iopub.status.busy": "2023-12-14T23:12:41.401684Z",
     "iopub.status.idle": "2023-12-14T23:12:42.869085Z",
     "shell.execute_reply": "2023-12-14T23:12:42.868942Z"
    },
    "papermill": {
     "duration": 1.473218,
     "end_time": "2023-12-14T23:12:42.870252",
     "exception": false,
     "start_time": "2023-12-14T23:12:41.397034",
     "status": "completed"
    },
    "tags": []
   },
   "outputs": [],
   "source": [
    "import pandas as pd\n",
    "import numpy as np\n",
    "import joblib\n",
    "from matplotlib import pyplot as plt\n",
    "\n",
    "from sklearn.metrics import f1_score, roc_auc_score, precision_score, recall_score, confusion_matrix, RocCurveDisplay, ConfusionMatrixDisplay\n",
    "\n",
    "import os"
   ]
  },
  {
   "cell_type": "markdown",
   "id": "d26fa9eb",
   "metadata": {
    "papermill": {
     "duration": 0.004928,
     "end_time": "2023-12-14T23:12:42.881503",
     "exception": false,
     "start_time": "2023-12-14T23:12:42.876575",
     "status": "completed"
    },
    "tags": []
   },
   "source": [
    "---"
   ]
  },
  {
   "cell_type": "markdown",
   "id": "a0dedabc",
   "metadata": {
    "papermill": {
     "duration": 0.003951,
     "end_time": "2023-12-14T23:12:42.888279",
     "exception": false,
     "start_time": "2023-12-14T23:12:42.884328",
     "status": "completed"
    },
    "tags": []
   },
   "source": [
    "# Чтение всех моделей"
   ]
  },
  {
   "cell_type": "code",
   "execution_count": 3,
   "id": "feea2b18",
   "metadata": {
    "execution": {
     "iopub.execute_input": "2023-12-14T23:12:42.901939Z",
     "iopub.status.busy": "2023-12-14T23:12:42.900476Z",
     "iopub.status.idle": "2023-12-14T23:12:42.917038Z",
     "shell.execute_reply": "2023-12-14T23:12:42.915855Z"
    },
    "papermill": {
     "duration": 0.024458,
     "end_time": "2023-12-14T23:12:42.919072",
     "exception": false,
     "start_time": "2023-12-14T23:12:42.894614",
     "status": "completed"
    },
    "tags": []
   },
   "outputs": [
    {
     "name": "stdout",
     "output_type": "stream",
     "text": [
      "List of files in the directory:\n",
      "['logistic_regression.pkl', 'random_forest.pkl']\n"
     ]
    }
   ],
   "source": [
    "directory_path = 'models/'\n",
    "\n",
    "all_entries = os.listdir(directory_path)\n",
    "\n",
    "files_list = [entry for entry in all_entries if os.path.isfile(os.path.join(directory_path, entry))]\n",
    "\n",
    "print(\"List of files in the directory:\")\n",
    "print(files_list)"
   ]
  },
  {
   "cell_type": "code",
   "execution_count": 4,
   "id": "e2c0f8a1",
   "metadata": {
    "execution": {
     "iopub.execute_input": "2023-12-14T23:12:42.930321Z",
     "iopub.status.busy": "2023-12-14T23:12:42.930321Z",
     "iopub.status.idle": "2023-12-14T23:12:42.937112Z",
     "shell.execute_reply": "2023-12-14T23:12:42.936552Z"
    },
    "papermill": {
     "duration": 0.01482,
     "end_time": "2023-12-14T23:12:42.938620",
     "exception": false,
     "start_time": "2023-12-14T23:12:42.923800",
     "status": "completed"
    },
    "tags": []
   },
   "outputs": [],
   "source": [
    "models = dict()\n",
    "\n",
    "def merge_dicts(dict1, dict2):\n",
    "    res = {**dict1, **dict2}\n",
    "    return res"
   ]
  },
  {
   "cell_type": "code",
   "execution_count": 5,
   "id": "f630bafd",
   "metadata": {
    "execution": {
     "iopub.execute_input": "2023-12-14T23:12:42.950210Z",
     "iopub.status.busy": "2023-12-14T23:12:42.949706Z",
     "iopub.status.idle": "2023-12-14T23:12:43.193021Z",
     "shell.execute_reply": "2023-12-14T23:12:43.193021Z"
    },
    "papermill": {
     "duration": 0.252166,
     "end_time": "2023-12-14T23:12:43.196382",
     "exception": false,
     "start_time": "2023-12-14T23:12:42.944216",
     "status": "completed"
    },
    "tags": []
   },
   "outputs": [],
   "source": [
    "for path in files_list:\n",
    "    model_name = path.split('.')[0]\n",
    "    models[model_name] = joblib.load(directory_path + path)"
   ]
  },
  {
   "cell_type": "code",
   "execution_count": 6,
   "id": "6b54839d",
   "metadata": {
    "execution": {
     "iopub.execute_input": "2023-12-14T23:12:43.209427Z",
     "iopub.status.busy": "2023-12-14T23:12:43.209427Z",
     "iopub.status.idle": "2023-12-14T23:12:43.240027Z",
     "shell.execute_reply": "2023-12-14T23:12:43.240027Z"
    },
    "papermill": {
     "duration": 0.042546,
     "end_time": "2023-12-14T23:12:43.242956",
     "exception": false,
     "start_time": "2023-12-14T23:12:43.200410",
     "status": "completed"
    },
    "tags": []
   },
   "outputs": [
    {
     "data": {
      "text/plain": [
       "{'logistic_regression': LogisticRegression(C=233.57214690901213, multi_class='ovr', n_jobs=4,\n",
       "                    random_state=42),\n",
       " 'random_forest': RandomForestClassifier(criterion='entropy', max_depth=8, n_jobs=4,\n",
       "                        random_state=42)}"
      ]
     },
     "execution_count": 6,
     "metadata": {},
     "output_type": "execute_result"
    }
   ],
   "source": [
    "models"
   ]
  },
  {
   "cell_type": "markdown",
   "id": "482ad3c5",
   "metadata": {
    "papermill": {
     "duration": 0.0,
     "end_time": "2023-12-14T23:12:43.242956",
     "exception": false,
     "start_time": "2023-12-14T23:12:43.242956",
     "status": "completed"
    },
    "tags": []
   },
   "source": [
    "---"
   ]
  },
  {
   "cell_type": "markdown",
   "id": "5d351075",
   "metadata": {
    "papermill": {
     "duration": 0.002009,
     "end_time": "2023-12-14T23:12:43.255995",
     "exception": false,
     "start_time": "2023-12-14T23:12:43.253986",
     "status": "completed"
    },
    "tags": []
   },
   "source": [
    "# Чтение валидационных данных"
   ]
  },
  {
   "cell_type": "code",
   "execution_count": 7,
   "id": "d56d30ba",
   "metadata": {
    "execution": {
     "iopub.execute_input": "2023-12-14T23:12:43.255995Z",
     "iopub.status.busy": "2023-12-14T23:12:43.255995Z",
     "iopub.status.idle": "2023-12-14T23:12:43.318687Z",
     "shell.execute_reply": "2023-12-14T23:12:43.318687Z"
    },
    "papermill": {
     "duration": 0.065481,
     "end_time": "2023-12-14T23:12:43.321476",
     "exception": false,
     "start_time": "2023-12-14T23:12:43.255995",
     "status": "completed"
    },
    "tags": []
   },
   "outputs": [],
   "source": [
    "path1 = 'datasets/for_comparison/X_val_log.npy'\n",
    "path2 = 'datasets/for_comparison/y_val_log.csv'\n",
    "path3 = 'datasets/for_comparison/X_val_tree.csv'\n",
    "path4 = 'datasets/for_comparison/y_val_tree.csv'\n",
    "\n",
    "def read_file(path):\n",
    "    df = pd.DataFrame()\n",
    "    if os.path.exists(path):\n",
    "        df = pd.read_csv(path, sep=',')\n",
    "    elif os.path.exists(path[1:]):\n",
    "        df = pd.read_csv(path[1:], sep=',')\n",
    "    else:\n",
    "        print('No such file or directory') \n",
    "        raise FileNotFoundError('No such file or directory')\n",
    "    return df\n",
    "\n",
    "X_val_log  = np.load(path1)\n",
    "y_val_log  = read_file(path2)\n",
    "\n",
    "X_val_tree = read_file(path3)\n",
    "y_val_tree = read_file(path4)"
   ]
  },
  {
   "cell_type": "markdown",
   "id": "f126a6a5",
   "metadata": {
    "papermill": {
     "duration": 0.003542,
     "end_time": "2023-12-14T23:12:43.329777",
     "exception": false,
     "start_time": "2023-12-14T23:12:43.326235",
     "status": "completed"
    },
    "tags": []
   },
   "source": [
    "---"
   ]
  },
  {
   "cell_type": "markdown",
   "id": "2c3dbf4b",
   "metadata": {
    "papermill": {
     "duration": 0.0,
     "end_time": "2023-12-14T23:12:43.332567",
     "exception": false,
     "start_time": "2023-12-14T23:12:43.332567",
     "status": "completed"
    },
    "tags": []
   },
   "source": [
    "# Вспомогательные функции"
   ]
  },
  {
   "cell_type": "code",
   "execution_count": 8,
   "id": "67bad26f",
   "metadata": {
    "execution": {
     "iopub.execute_input": "2023-12-14T23:12:43.345096Z",
     "iopub.status.busy": "2023-12-14T23:12:43.345096Z",
     "iopub.status.idle": "2023-12-14T23:12:43.360396Z",
     "shell.execute_reply": "2023-12-14T23:12:43.360396Z"
    },
    "papermill": {
     "duration": 0.018096,
     "end_time": "2023-12-14T23:12:43.363192",
     "exception": false,
     "start_time": "2023-12-14T23:12:43.345096",
     "status": "completed"
    },
    "tags": []
   },
   "outputs": [],
   "source": [
    "def custom_threshold_scorer(estimator, X, y, threshold=0.5, scorer=f1_score):\n",
    "    probabilities = estimator.predict_proba(X)\n",
    "\n",
    "    predictions = (probabilities[:, 1] >= threshold).astype(int)\n",
    "    score = scorer(y, predictions)\n",
    "\n",
    "    return score"
   ]
  },
  {
   "cell_type": "code",
   "execution_count": 9,
   "id": "2ee50b19",
   "metadata": {
    "execution": {
     "iopub.execute_input": "2023-12-14T23:12:43.374280Z",
     "iopub.status.busy": "2023-12-14T23:12:43.373286Z",
     "iopub.status.idle": "2023-12-14T23:12:43.378177Z",
     "shell.execute_reply": "2023-12-14T23:12:43.378177Z"
    },
    "papermill": {
     "duration": 0.010911,
     "end_time": "2023-12-14T23:12:43.378177",
     "exception": false,
     "start_time": "2023-12-14T23:12:43.367266",
     "status": "completed"
    },
    "tags": []
   },
   "outputs": [],
   "source": [
    "def get_scores(model, X, y, threshold=0.5):\n",
    "    f1      = custom_threshold_scorer(model, X, y, 0.5, f1_score) # $best_threshold\n",
    "    roc_auc = roc_auc_score(y, model.predict_proba(X)[:, 1])\n",
    "    return f1, roc_auc"
   ]
  },
  {
   "cell_type": "markdown",
   "id": "30cf656d",
   "metadata": {
    "papermill": {
     "duration": 0.003996,
     "end_time": "2023-12-14T23:12:43.389281",
     "exception": false,
     "start_time": "2023-12-14T23:12:43.385285",
     "status": "completed"
    },
    "tags": []
   },
   "source": [
    "# Сравнение моделей"
   ]
  },
  {
   "cell_type": "code",
   "execution_count": 10,
   "id": "dab88c11",
   "metadata": {
    "execution": {
     "iopub.execute_input": "2023-12-14T23:12:43.407403Z",
     "iopub.status.busy": "2023-12-14T23:12:43.407403Z",
     "iopub.status.idle": "2023-12-14T23:12:43.412416Z",
     "shell.execute_reply": "2023-12-14T23:12:43.412416Z"
    },
    "papermill": {
     "duration": 0.020002,
     "end_time": "2023-12-14T23:12:43.414580",
     "exception": false,
     "start_time": "2023-12-14T23:12:43.394578",
     "status": "completed"
    },
    "tags": []
   },
   "outputs": [],
   "source": [
    "scores = ['f1', 'roc_auc']\n",
    "\n",
    "columns = ['mean_fit_time', 'param_max_iter', 'param_penalty', 'param_C',\\\n",
    "                'mean_test_f1', 'mean_test_roc_auc', 'rank_test_f1', 'rank_test_roc_auc']"
   ]
  },
  {
   "cell_type": "code",
   "execution_count": 11,
   "id": "8368d924",
   "metadata": {
    "execution": {
     "iopub.execute_input": "2023-12-14T23:12:43.425955Z",
     "iopub.status.busy": "2023-12-14T23:12:43.425955Z",
     "iopub.status.idle": "2023-12-14T23:12:43.431574Z",
     "shell.execute_reply": "2023-12-14T23:12:43.431574Z"
    },
    "papermill": {
     "duration": 0.011975,
     "end_time": "2023-12-14T23:12:43.431574",
     "exception": false,
     "start_time": "2023-12-14T23:12:43.419599",
     "status": "completed"
    },
    "tags": []
   },
   "outputs": [],
   "source": [
    "# датафрейм, в котором для каждой модели будут храниться результаты ее оценки\n",
    "results = pd.DataFrame(columns=['name', 'f1', 'roc_auc']).set_index('name')"
   ]
  },
  {
   "cell_type": "markdown",
   "id": "97b21136",
   "metadata": {
    "papermill": {
     "duration": 0.01151,
     "end_time": "2023-12-14T23:12:43.443084",
     "exception": false,
     "start_time": "2023-12-14T23:12:43.431574",
     "status": "completed"
    },
    "tags": []
   },
   "source": [
    "# Логистическая регрессия"
   ]
  },
  {
   "cell_type": "code",
   "execution_count": 12,
   "id": "3e75eb6c",
   "metadata": {
    "execution": {
     "iopub.execute_input": "2023-12-14T23:12:43.455308Z",
     "iopub.status.busy": "2023-12-14T23:12:43.455308Z",
     "iopub.status.idle": "2023-12-14T23:12:43.477626Z",
     "shell.execute_reply": "2023-12-14T23:12:43.477161Z"
    },
    "papermill": {
     "duration": 0.031486,
     "end_time": "2023-12-14T23:12:43.479686",
     "exception": false,
     "start_time": "2023-12-14T23:12:43.448200",
     "status": "completed"
    },
    "tags": []
   },
   "outputs": [],
   "source": [
    "f1, roc_auc = get_scores(models['logistic_regression'], X_val_log, y_val_log)\n",
    "results.loc['logistic_regression'] = [f1, roc_auc]"
   ]
  },
  {
   "cell_type": "markdown",
   "id": "6c0c1160",
   "metadata": {
    "papermill": {
     "duration": 0.007656,
     "end_time": "2023-12-14T23:12:43.493495",
     "exception": false,
     "start_time": "2023-12-14T23:12:43.485839",
     "status": "completed"
    },
    "tags": []
   },
   "source": [
    "---"
   ]
  },
  {
   "cell_type": "markdown",
   "id": "b8788c64",
   "metadata": {
    "papermill": {
     "duration": 0.006137,
     "end_time": "2023-12-14T23:12:43.508253",
     "exception": false,
     "start_time": "2023-12-14T23:12:43.502116",
     "status": "completed"
    },
    "tags": []
   },
   "source": [
    "# Случайный лес"
   ]
  },
  {
   "cell_type": "code",
   "execution_count": 13,
   "id": "c1e24a27",
   "metadata": {
    "execution": {
     "iopub.execute_input": "2023-12-14T23:12:43.520634Z",
     "iopub.status.busy": "2023-12-14T23:12:43.520634Z",
     "iopub.status.idle": "2023-12-14T23:12:43.597111Z",
     "shell.execute_reply": "2023-12-14T23:12:43.596727Z"
    },
    "papermill": {
     "duration": 0.084699,
     "end_time": "2023-12-14T23:12:43.599432",
     "exception": false,
     "start_time": "2023-12-14T23:12:43.514733",
     "status": "completed"
    },
    "tags": []
   },
   "outputs": [],
   "source": [
    "f1, roc_auc = get_scores(models['random_forest'], X_val_tree, y_val_tree)\n",
    "results.loc['random_forest'] = [f1, roc_auc]"
   ]
  },
  {
   "cell_type": "markdown",
   "id": "ffa49cf9",
   "metadata": {
    "papermill": {
     "duration": 0.003224,
     "end_time": "2023-12-14T23:12:43.607386",
     "exception": false,
     "start_time": "2023-12-14T23:12:43.604162",
     "status": "completed"
    },
    "tags": []
   },
   "source": [
    "---"
   ]
  },
  {
   "cell_type": "code",
   "execution_count": 14,
   "id": "b74e2161",
   "metadata": {
    "execution": {
     "iopub.execute_input": "2023-12-14T23:12:43.621674Z",
     "iopub.status.busy": "2023-12-14T23:12:43.621674Z",
     "iopub.status.idle": "2023-12-14T23:12:43.840022Z",
     "shell.execute_reply": "2023-12-14T23:12:43.839117Z"
    },
    "papermill": {
     "duration": 0.228235,
     "end_time": "2023-12-14T23:12:43.842057",
     "exception": false,
     "start_time": "2023-12-14T23:12:43.613822",
     "status": "completed"
    },
    "tags": []
   },
   "outputs": [
    {
     "data": {
      "text/html": [
       "<div>\n",
       "<style scoped>\n",
       "    .dataframe tbody tr th:only-of-type {\n",
       "        vertical-align: middle;\n",
       "    }\n",
       "\n",
       "    .dataframe tbody tr th {\n",
       "        vertical-align: top;\n",
       "    }\n",
       "\n",
       "    .dataframe thead th {\n",
       "        text-align: right;\n",
       "    }\n",
       "</style>\n",
       "<table border=\"1\" class=\"dataframe\">\n",
       "  <thead>\n",
       "    <tr style=\"text-align: right;\">\n",
       "      <th></th>\n",
       "      <th>f1</th>\n",
       "      <th>roc_auc</th>\n",
       "    </tr>\n",
       "    <tr>\n",
       "      <th>name</th>\n",
       "      <th></th>\n",
       "      <th></th>\n",
       "    </tr>\n",
       "  </thead>\n",
       "  <tbody>\n",
       "    <tr>\n",
       "      <th>random_forest</th>\n",
       "      <td>0.806897</td>\n",
       "      <td>0.879108</td>\n",
       "    </tr>\n",
       "    <tr>\n",
       "      <th>logistic_regression</th>\n",
       "      <td>0.796680</td>\n",
       "      <td>0.876119</td>\n",
       "    </tr>\n",
       "  </tbody>\n",
       "</table>\n",
       "</div>"
      ],
      "text/plain": [
       "                           f1   roc_auc\n",
       "name                                   \n",
       "random_forest        0.806897  0.879108\n",
       "logistic_regression  0.796680  0.876119"
      ]
     },
     "metadata": {},
     "output_type": "display_data"
    },
    {
     "data": {
      "image/png": "[encoded data removed]",
      "text/plain": [
       "<Figure size 1600x1000 with 1 Axes>"
      ]
     },
     "metadata": {},
     "output_type": "display_data"
    }
   ],
   "source": [
    "results.sort_values(by='f1', ascending=False, inplace=True)\n",
    "display(results)\n",
    "\n",
    "ax = results.set_index('roc_auc')['f1'].plot(style='o', c = 'DarkBlue', figsize = (16, 10)) # вместо scatter\n",
    "                                                                                                                                                                                                                                                                                                                                                                                                                                                                                                                                                                                                                                                                                                                                                                                                                                                                                                                                                                                                                                    \n",
    "def label_point(x, y, val, ax):\n",
    "    a = pd.concat({'x': x, 'y': y, 'val': val}, axis=1)\n",
    "    for i, point in a.iterrows():\n",
    "        ax.text(point['x']+0.00001, point['y']+0.00001, str(point['val']))\n",
    "        \n",
    "ax.set_xlabel('ROC_AUC', fontsize=12)\n",
    "ax.set_ylabel('F1', fontsize=12)\n",
    "ax.set_title('Models comparison', fontsize=14)\n",
    "\n",
    "label_point(results['roc_auc'], results['f1'], results.index.to_series(), ax) # вместо annotate\n",
    "\n",
    "plt.show()"
   ]
  },
  {
   "cell_type": "code",
   "execution_count": 15,
   "id": "c56bb1cf",
   "metadata": {
    "execution": {
     "iopub.execute_input": "2023-12-14T23:12:43.855370Z",
     "iopub.status.busy": "2023-12-14T23:12:43.855370Z",
     "iopub.status.idle": "2023-12-14T23:12:43.868257Z",
     "shell.execute_reply": "2023-12-14T23:12:43.868257Z"
    },
    "papermill": {
     "duration": 0.022943,
     "end_time": "2023-12-14T23:12:43.870540",
     "exception": false,
     "start_time": "2023-12-14T23:12:43.847597",
     "status": "completed"
    },
    "tags": []
   },
   "outputs": [],
   "source": [
    "best_models_name = results.iloc[0].name"
   ]
  },
  {
   "cell_type": "code",
   "execution_count": 16,
   "id": "064e4658",
   "metadata": {
    "execution": {
     "iopub.execute_input": "2023-12-14T23:12:43.883221Z",
     "iopub.status.busy": "2023-12-14T23:12:43.883155Z",
     "iopub.status.idle": "2023-12-14T23:12:44.052730Z",
     "shell.execute_reply": "2023-12-14T23:12:44.052412Z"
    },
    "papermill": {
     "duration": 0.183701,
     "end_time": "2023-12-14T23:12:44.054241",
     "exception": false,
     "start_time": "2023-12-14T23:12:43.870540",
     "status": "completed"
    },
    "tags": []
   },
   "outputs": [
    {
     "data": {
      "image/png": "[encoded data removed]",
      "text/plain": [
       "<Figure size 640x480 with 1 Axes>"
      ]
     },
     "metadata": {},
     "output_type": "display_data"
    }
   ],
   "source": [
    "if results.iloc[0].name == 'random_forest':\n",
    "    RocCurveDisplay.from_predictions(y_val_tree, models[best_models_name].predict_proba(X_val_tree)[:, 1])\n",
    "    plt.grid(True, linestyle='-.', linewidth=0.5, alpha=0.6)\n",
    "elif results.iloc[0].name == 'logistic_regression':\n",
    "    RocCurveDisplay.from_predictions(y_val_log, models[best_models_name].predict_proba(X_val_log)[:, 1])\n",
    "    plt.grid(True, linestyle='-.', linewidth=0.5, alpha=0.6)"
   ]
  },
  {
   "cell_type": "code",
   "execution_count": 17,
   "id": "8e4fbafe",
   "metadata": {
    "execution": {
     "iopub.execute_input": "2023-12-14T23:12:44.070791Z",
     "iopub.status.busy": "2023-12-14T23:12:44.070791Z",
     "iopub.status.idle": "2023-12-14T23:12:44.307228Z",
     "shell.execute_reply": "2023-12-14T23:12:44.306997Z"
    },
    "papermill": {
     "duration": 0.248951,
     "end_time": "2023-12-14T23:12:44.308729",
     "exception": false,
     "start_time": "2023-12-14T23:12:44.059778",
     "status": "completed"
    },
    "tags": []
   },
   "outputs": [
    {
     "name": "stdout",
     "output_type": "stream",
     "text": [
      "Precision: 0.788764\n",
      "Recall: 0.825882\n"
     ]
    },
    {
     "data": {
      "image/png": "[encoded data removed]",
      "text/plain": [
       "<Figure size 640x480 with 2 Axes>"
      ]
     },
     "metadata": {},
     "output_type": "display_data"
    }
   ],
   "source": [
    "print(f'Precision: {custom_threshold_scorer(models[best_models_name], X_val_tree, y_val_tree, 0.5, precision_score):.6f}')\n",
    "print(f'Recall: {custom_threshold_scorer(models[best_models_name], X_val_tree, y_val_tree, 0.5, recall_score):.6f}')\n",
    "\n",
    "y_probs = models[best_models_name].predict_proba(X_val_tree)[:, 1]\n",
    "y_pred = (y_probs >= 0.5).astype(int)\n",
    "\n",
    "conf_matrix = confusion_matrix(y_val_tree, y_pred)\n",
    "ConfusionMatrixDisplay(confusion_matrix=conf_matrix, display_labels=models[best_models_name].classes_).plot()\n",
    "plt.show()"
   ]
  },
  {
   "cell_type": "markdown",
   "id": "290a37ad",
   "metadata": {
    "papermill": {
     "duration": 0.005397,
     "end_time": "2023-12-14T23:12:44.321170",
     "exception": false,
     "start_time": "2023-12-14T23:12:44.315773",
     "status": "completed"
    },
    "tags": []
   },
   "source": [
    "---"
   ]
  },
  {
   "cell_type": "code",
   "execution_count": 18,
   "id": "f76f9855",
   "metadata": {
    "execution": {
     "iopub.execute_input": "2023-12-14T23:12:44.333827Z",
     "iopub.status.busy": "2023-12-14T23:12:44.333827Z",
     "iopub.status.idle": "2023-12-14T23:12:44.381469Z",
     "shell.execute_reply": "2023-12-14T23:12:44.380565Z"
    },
    "papermill": {
     "duration": 0.055272,
     "end_time": "2023-12-14T23:12:44.382392",
     "exception": false,
     "start_time": "2023-12-14T23:12:44.327120",
     "status": "completed"
    },
    "tags": []
   },
   "outputs": [
    {
     "data": {
      "text/plain": [
       "['models/best_model.pkl']"
      ]
     },
     "execution_count": 18,
     "metadata": {},
     "output_type": "execute_result"
    }
   ],
   "source": [
    "joblib_logr = 'models/best_model.pkl'\n",
    "joblib.dump(models[best_models_name], joblib_logr)"
   ]
  },
  {
   "cell_type": "code",
   "execution_count": null,
   "id": "42213d3e",
   "metadata": {
    "papermill": {
     "duration": 0.006565,
     "end_time": "2023-12-14T23:12:44.395706",
     "exception": false,
     "start_time": "2023-12-14T23:12:44.389141",
     "status": "completed"
    },
    "tags": []
   },
   "outputs": [],
   "source": []
  }
 ],
 "metadata": {
  "kernelspec": {
   "display_name": "yandex",
   "language": "python",
   "name": "yandex"
  },
  "language_info": {
   "codemirror_mode": {
    "name": "ipython",
    "version": 3
   },
   "file_extension": ".py",
   "mimetype": "text/x-python",
   "name": "python",
   "nbconvert_exporter": "python",
   "pygments_lexer": "ipython3",
   "version": "3.10.13"
  },
  "papermill": {
   "default_parameters": {},
   "duration": 15.296114,
   "end_time": "2023-12-14T23:12:44.919310",
   "environment_variables": {},
   "exception": null,
   "input_path": "D:\\Yandex_practicum\\Projects\\Data_Science\\models_comparison.ipynb",
   "output_path": "D:\\Yandex_practicum\\Projects\\Data_Science\\models_comparison.ipynb",
   "parameters": {},
   "start_time": "2023-12-14T23:12:29.623196",
   "version": "2.4.0"
  }
 },
 "nbformat": 4,
 "nbformat_minor": 5
}