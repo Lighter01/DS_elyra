{
 "cells": [
  {
   "cell_type": "code",
   "execution_count": 1,
   "id": "f5c4b66f",
   "metadata": {
    "execution": {
     "iopub.execute_input": "2023-12-14T23:19:07.998763Z",
     "iopub.status.busy": "2023-12-14T23:19:07.998763Z",
     "iopub.status.idle": "2023-12-14T23:19:32.191125Z",
     "shell.execute_reply": "2023-12-14T23:19:32.191125Z"
    },
    "papermill": {
     "duration": 24.208135,
     "end_time": "2023-12-14T23:19:32.206898",
     "exception": false,
     "start_time": "2023-12-14T23:19:07.998763",
     "status": "completed"
    },
    "tags": []
   },
   "outputs": [
    {
     "name": "stderr",
     "output_type": "stream",
     "text": [
      "ERROR: pip's dependency resolver does not currently take into account all the packages that are installed. This behaviour is the source of the following dependency conflicts.\n",
      "dython 0.7.4 requires numpy>=1.23.0, but you have numpy 1.22.4 which is incompatible.\n"
     ]
    },
    {
     "name": "stdout",
     "output_type": "stream",
     "text": [
      "Requirement already satisfied: joblib in d:\\anaconda\\envs\\yandex\\lib\\site-packages (1.2.0)\n"
     ]
    }
   ],
   "source": [
    "!pip3 install -q numpy==1.22.4\n",
    "!pip3 install -q pandas==1.5.3\n",
    "!pip3 install -q scikit-learn\n",
    "!pip3 install joblib"
   ]
  },
  {
   "cell_type": "code",
   "execution_count": 2,
   "id": "3534375e",
   "metadata": {
    "execution": {
     "iopub.execute_input": "2023-12-14T23:19:32.206898Z",
     "iopub.status.busy": "2023-12-14T23:19:32.206898Z",
     "iopub.status.idle": "2023-12-14T23:19:34.116472Z",
     "shell.execute_reply": "2023-12-14T23:19:34.116472Z"
    },
    "papermill": {
     "duration": 1.912849,
     "end_time": "2023-12-14T23:19:34.119747",
     "exception": false,
     "start_time": "2023-12-14T23:19:32.206898",
     "status": "completed"
    },
    "tags": []
   },
   "outputs": [],
   "source": [
    "import pandas as pd\n",
    "import numpy as np\n",
    "from sklearn.ensemble import RandomForestClassifier\n",
    "from sklearn.model_selection import GridSearchCV, StratifiedShuffleSplit, train_test_split\n",
    "from sklearn.metrics import f1_score, roc_auc_score\n",
    "import joblib \n",
    "\n",
    "import time\n",
    "import os"
   ]
  },
  {
   "cell_type": "markdown",
   "id": "56ae3df4",
   "metadata": {
    "papermill": {
     "duration": 0.005029,
     "end_time": "2023-12-14T23:19:34.125297",
     "exception": false,
     "start_time": "2023-12-14T23:19:34.120268",
     "status": "completed"
    },
    "tags": []
   },
   "source": [
    "---"
   ]
  },
  {
   "cell_type": "markdown",
   "id": "4233d7b1",
   "metadata": {
    "papermill": {
     "duration": 0.0,
     "end_time": "2023-12-14T23:19:34.132327",
     "exception": false,
     "start_time": "2023-12-14T23:19:34.132327",
     "status": "completed"
    },
    "tags": []
   },
   "source": [
    "Чтение данных"
   ]
  },
  {
   "cell_type": "code",
   "execution_count": 3,
   "id": "67bb9ed0",
   "metadata": {
    "execution": {
     "iopub.execute_input": "2023-12-14T23:19:34.132327Z",
     "iopub.status.busy": "2023-12-14T23:19:34.132327Z",
     "iopub.status.idle": "2023-12-14T23:19:34.179383Z",
     "shell.execute_reply": "2023-12-14T23:19:34.179383Z"
    },
    "papermill": {
     "duration": 0.047056,
     "end_time": "2023-12-14T23:19:34.179383",
     "exception": false,
     "start_time": "2023-12-14T23:19:34.132327",
     "status": "completed"
    },
    "tags": []
   },
   "outputs": [],
   "source": [
    "path1 = 'datasets/tree/train_tree.csv'\n",
    "\n",
    "def read_file(path):\n",
    "    df = pd.DataFrame()\n",
    "    if os.path.exists(path):\n",
    "        df = pd.read_csv(path, sep=',')\n",
    "    elif os.path.exists(path[1:]):\n",
    "        df = pd.read_csv(path[1:], sep=',')\n",
    "    else:\n",
    "        print('No such file or directory') \n",
    "        raise FileNotFoundError('No such file or directory')\n",
    "    return df\n",
    "\n",
    "df_train = read_file(path1)"
   ]
  },
  {
   "cell_type": "markdown",
   "id": "406c15bc",
   "metadata": {
    "papermill": {
     "duration": 0.0,
     "end_time": "2023-12-14T23:19:34.179383",
     "exception": false,
     "start_time": "2023-12-14T23:19:34.179383",
     "status": "completed"
    },
    "tags": []
   },
   "source": [
    "---"
   ]
  },
  {
   "cell_type": "markdown",
   "id": "7b7cbc91",
   "metadata": {
    "papermill": {
     "duration": 0.014031,
     "end_time": "2023-12-14T23:19:34.210823",
     "exception": false,
     "start_time": "2023-12-14T23:19:34.196792",
     "status": "completed"
    },
    "tags": []
   },
   "source": [
    "## Разбиение тренировочной выборки на тренировочную и владиационную"
   ]
  },
  {
   "cell_type": "code",
   "execution_count": 4,
   "id": "009e05e0",
   "metadata": {
    "execution": {
     "iopub.execute_input": "2023-12-14T23:19:34.226888Z",
     "iopub.status.busy": "2023-12-14T23:19:34.225355Z",
     "iopub.status.idle": "2023-12-14T23:19:34.242547Z",
     "shell.execute_reply": "2023-12-14T23:19:34.242547Z"
    },
    "papermill": {
     "duration": 0.031724,
     "end_time": "2023-12-14T23:19:34.242547",
     "exception": false,
     "start_time": "2023-12-14T23:19:34.210823",
     "status": "completed"
    },
    "tags": []
   },
   "outputs": [
    {
     "name": "stdout",
     "output_type": "stream",
     "text": [
      "8673\n"
     ]
    }
   ],
   "source": [
    "X_tree = df_train.drop(columns=['Transported'], axis=1)\n",
    "y_tree = df_train.Transported\n",
    "\n",
    "print(y_tree.shape[0])"
   ]
  },
  {
   "cell_type": "code",
   "execution_count": 5,
   "id": "f9248b6b",
   "metadata": {
    "execution": {
     "iopub.execute_input": "2023-12-14T23:19:34.242547Z",
     "iopub.status.busy": "2023-12-14T23:19:34.242547Z",
     "iopub.status.idle": "2023-12-14T23:19:34.274684Z",
     "shell.execute_reply": "2023-12-14T23:19:34.274684Z"
    },
    "papermill": {
     "duration": 0.032137,
     "end_time": "2023-12-14T23:19:34.274684",
     "exception": false,
     "start_time": "2023-12-14T23:19:34.242547",
     "status": "completed"
    },
    "tags": []
   },
   "outputs": [
    {
     "name": "stdout",
     "output_type": "stream",
     "text": [
      "(6071,) (2602,)\n"
     ]
    }
   ],
   "source": [
    "X_train_tree, X_val_tree, y_train_tree, y_val_tree = \\\n",
    "        train_test_split(X_tree, y_tree, test_size = 0.3, shuffle=True, random_state = 42)\n",
    "\n",
    "print(y_train_tree.shape, y_val_tree.shape)"
   ]
  },
  {
   "cell_type": "code",
   "execution_count": 6,
   "id": "ec38d824",
   "metadata": {
    "execution": {
     "iopub.execute_input": "2023-12-14T23:19:34.274684Z",
     "iopub.status.busy": "2023-12-14T23:19:34.274684Z",
     "iopub.status.idle": "2023-12-14T23:19:34.306086Z",
     "shell.execute_reply": "2023-12-14T23:19:34.306086Z"
    },
    "papermill": {
     "duration": 0.034368,
     "end_time": "2023-12-14T23:19:34.309052",
     "exception": false,
     "start_time": "2023-12-14T23:19:34.274684",
     "status": "completed"
    },
    "tags": []
   },
   "outputs": [],
   "source": [
    "new_directory = 'datasets/for_comparison'\n",
    "\n",
    "os.makedirs(new_directory, exist_ok=True)"
   ]
  },
  {
   "cell_type": "code",
   "execution_count": 7,
   "id": "d3b7e42a",
   "metadata": {
    "execution": {
     "iopub.execute_input": "2023-12-14T23:19:34.309052Z",
     "iopub.status.busy": "2023-12-14T23:19:34.309052Z",
     "iopub.status.idle": "2023-12-14T23:19:34.337788Z",
     "shell.execute_reply": "2023-12-14T23:19:34.337788Z"
    },
    "papermill": {
     "duration": 0.030114,
     "end_time": "2023-12-14T23:19:34.339166",
     "exception": false,
     "start_time": "2023-12-14T23:19:34.309052",
     "status": "completed"
    },
    "tags": []
   },
   "outputs": [],
   "source": [
    "X_val_tree.to_csv('datasets/for_comparison/X_val_tree.csv', index=False)\n",
    "y_val_tree.to_csv('datasets/for_comparison/y_val_tree.csv', index=False)"
   ]
  },
  {
   "cell_type": "markdown",
   "id": "b7948d28",
   "metadata": {
    "papermill": {
     "duration": 0.0,
     "end_time": "2023-12-14T23:19:34.339166",
     "exception": false,
     "start_time": "2023-12-14T23:19:34.339166",
     "status": "completed"
    },
    "tags": []
   },
   "source": [
    "---"
   ]
  },
  {
   "cell_type": "markdown",
   "id": "c3fd5024",
   "metadata": {
    "papermill": {
     "duration": 0.0,
     "end_time": "2023-12-14T23:19:34.353699",
     "exception": false,
     "start_time": "2023-12-14T23:19:34.353699",
     "status": "completed"
    },
    "tags": []
   },
   "source": [
    "# Вспомогательные функции"
   ]
  },
  {
   "cell_type": "code",
   "execution_count": 8,
   "id": "8a478770",
   "metadata": {
    "execution": {
     "iopub.execute_input": "2023-12-14T23:19:34.362753Z",
     "iopub.status.busy": "2023-12-14T23:19:34.362753Z",
     "iopub.status.idle": "2023-12-14T23:19:34.385421Z",
     "shell.execute_reply": "2023-12-14T23:19:34.385421Z"
    },
    "papermill": {
     "duration": 0.025341,
     "end_time": "2023-12-14T23:19:34.388094",
     "exception": false,
     "start_time": "2023-12-14T23:19:34.362753",
     "status": "completed"
    },
    "tags": []
   },
   "outputs": [],
   "source": [
    "def grid_search_cv(model, cv, param_grid, X_train_set, y_train_set, scores, refit=True):\n",
    "    grid_search = GridSearchCV(estimator=model, param_grid=param_grid, scoring=scores, cv=cv, refit=refit)\n",
    "\n",
    "    start_time = time.time()\n",
    "\n",
    "    grid_search.fit(X_train_set, y_train_set)\n",
    "\n",
    "    total_time = time.time() - start_time\n",
    "    print(f\"Total time spent on grid search (wall-clock): {total_time:.2f} seconds or \\\n",
    "            {(total_time // 60):.0f} minutes {(total_time % 60):.2f} seconds\")\n",
    "    \n",
    "    return grid_search"
   ]
  },
  {
   "cell_type": "code",
   "execution_count": 9,
   "id": "056b66ba",
   "metadata": {
    "execution": {
     "iopub.execute_input": "2023-12-14T23:19:34.388094Z",
     "iopub.status.busy": "2023-12-14T23:19:34.388094Z",
     "iopub.status.idle": "2023-12-14T23:19:34.416766Z",
     "shell.execute_reply": "2023-12-14T23:19:34.416766Z"
    },
    "papermill": {
     "duration": 0.028672,
     "end_time": "2023-12-14T23:19:34.416766",
     "exception": false,
     "start_time": "2023-12-14T23:19:34.388094",
     "status": "completed"
    },
    "tags": []
   },
   "outputs": [],
   "source": [
    "def custom_refit(cv_results):\n",
    "    sorted_indices = np.lexsort((-cv_results[\"mean_test_roc_auc\"], -cv_results[\"mean_test_f1\"]))\n",
    "    return sorted_indices[0]"
   ]
  },
  {
   "cell_type": "code",
   "execution_count": 10,
   "id": "2fdedf2f",
   "metadata": {
    "execution": {
     "iopub.execute_input": "2023-12-14T23:19:34.425297Z",
     "iopub.status.busy": "2023-12-14T23:19:34.425297Z",
     "iopub.status.idle": "2023-12-14T23:19:34.448601Z",
     "shell.execute_reply": "2023-12-14T23:19:34.448601Z"
    },
    "papermill": {
     "duration": 0.031835,
     "end_time": "2023-12-14T23:19:34.448601",
     "exception": false,
     "start_time": "2023-12-14T23:19:34.416766",
     "status": "completed"
    },
    "tags": []
   },
   "outputs": [],
   "source": [
    "def print_top_low(grid_search, show_columns, sort_by = ['rank_test_score', 'index'], n_rows = 10):\n",
    "    df_results = pd.DataFrame(grid_search.cv_results_)\n",
    "    df_results.index.name = 'index'\n",
    "    df_results = df_results.sort_values(by=sort_by).reset_index(drop=True)\n",
    "\n",
    "    print('Top ' + str(n_rows))\n",
    "    display(df_results[:n_rows][show_columns])\n",
    "\n",
    "    print('Low ' + str(n_rows))\n",
    "    display(df_results[-n_rows:][show_columns])\n",
    "    \n",
    "    return df_results"
   ]
  },
  {
   "cell_type": "code",
   "execution_count": 11,
   "id": "3cc21811",
   "metadata": {
    "execution": {
     "iopub.execute_input": "2023-12-14T23:19:34.448601Z",
     "iopub.status.busy": "2023-12-14T23:19:34.448601Z",
     "iopub.status.idle": "2023-12-14T23:19:34.480143Z",
     "shell.execute_reply": "2023-12-14T23:19:34.480143Z"
    },
    "papermill": {
     "duration": 0.035592,
     "end_time": "2023-12-14T23:19:34.484193",
     "exception": false,
     "start_time": "2023-12-14T23:19:34.448601",
     "status": "completed"
    },
    "tags": []
   },
   "outputs": [],
   "source": [
    "def custom_threshold_scorer(estimator, X, y, threshold=0.5, scorer=f1_score):\n",
    "    probabilities = estimator.predict_proba(X)\n",
    "\n",
    "    predictions = (probabilities[:, 1] >= threshold).astype(int)\n",
    "    score = scorer(y, predictions)\n",
    "\n",
    "    return score"
   ]
  },
  {
   "cell_type": "code",
   "execution_count": 12,
   "id": "d773043c",
   "metadata": {
    "execution": {
     "iopub.execute_input": "2023-12-14T23:19:34.484193Z",
     "iopub.status.busy": "2023-12-14T23:19:34.484193Z",
     "iopub.status.idle": "2023-12-14T23:19:34.512178Z",
     "shell.execute_reply": "2023-12-14T23:19:34.512178Z"
    },
    "papermill": {
     "duration": 0.027985,
     "end_time": "2023-12-14T23:19:34.512178",
     "exception": false,
     "start_time": "2023-12-14T23:19:34.484193",
     "status": "completed"
    },
    "tags": []
   },
   "outputs": [],
   "source": [
    "def findBestThreshold(model, features, target):\n",
    "    best_result = {'f1': 0, 'roc_auc': 0}\n",
    "    best_threshold = 0\n",
    "\n",
    "    for threshold in np.arange(0, 1.05, 0.05):\n",
    "        print(f'threshold: {threshold:.2f}')\n",
    "        \n",
    "        f1      = custom_threshold_scorer(model, features, target, threshold, f1_score)\n",
    "        roc_auc = roc_auc_score(target, model.predict_proba(features)[:, 1])\n",
    "        print(f\"f1 score: {f1:.6f}\")\n",
    "\n",
    "        if f1 > best_result['f1']:\n",
    "            best_result['f1'] = f1\n",
    "            best_result['roc_auc'] = roc_auc\n",
    "            best_threshold = threshold\n",
    "\n",
    "    return best_threshold, best_result"
   ]
  },
  {
   "cell_type": "code",
   "execution_count": 13,
   "id": "f9d0f096",
   "metadata": {
    "execution": {
     "iopub.execute_input": "2023-12-14T23:19:34.525214Z",
     "iopub.status.busy": "2023-12-14T23:19:34.512178Z",
     "iopub.status.idle": "2023-12-14T23:19:34.544161Z",
     "shell.execute_reply": "2023-12-14T23:19:34.544161Z"
    },
    "papermill": {
     "duration": 0.031983,
     "end_time": "2023-12-14T23:19:34.544161",
     "exception": false,
     "start_time": "2023-12-14T23:19:34.512178",
     "status": "completed"
    },
    "tags": []
   },
   "outputs": [],
   "source": [
    "def findBestEstimators(model, features, target, threshold=0.5):\n",
    "    best_result = {'f1': 0, 'roc_auc': 0}\n",
    "    best_params = model.get_params()\n",
    "    cur_params  = best_params.copy()\n",
    "    result = {}\n",
    "\n",
    "    for estimators in range(10, 151, 10):\n",
    "        print('estimators:', estimators)\n",
    "        cur_params['n_estimators'] = estimators \n",
    "\n",
    "        new_model = model.__class__(**cur_params)\n",
    "        new_model.fit(features, target)\n",
    "        f1      = custom_threshold_scorer(new_model, features, target, threshold, f1_score)\n",
    "        roc_auc = roc_auc_score(target, new_model.predict_proba(features)[:, 1])\n",
    "\n",
    "        print(f\"f1 score: {f1:.6f}\")\n",
    "\n",
    "        if f1 > best_result['f1']:\n",
    "            best_result['f1'] = f1\n",
    "            best_result['roc_auc'] = roc_auc\n",
    "            best_params['n_estimators'] = estimators\n",
    "\n",
    "    return best_params, best_result"
   ]
  },
  {
   "cell_type": "code",
   "execution_count": 14,
   "id": "387aa7f3",
   "metadata": {
    "execution": {
     "iopub.execute_input": "2023-12-14T23:19:34.544161Z",
     "iopub.status.busy": "2023-12-14T23:19:34.544161Z",
     "iopub.status.idle": "2023-12-14T23:19:34.575412Z",
     "shell.execute_reply": "2023-12-14T23:19:34.575412Z"
    },
    "papermill": {
     "duration": 0.031251,
     "end_time": "2023-12-14T23:19:34.575412",
     "exception": false,
     "start_time": "2023-12-14T23:19:34.544161",
     "status": "completed"
    },
    "tags": []
   },
   "outputs": [],
   "source": [
    "from sklearn.exceptions import NotFittedError\n",
    "\n",
    "def is_fitted(estimator, X):\n",
    "    try:\n",
    "        estimator.predict(X)\n",
    "        return True\n",
    "    except NotFittedError as e:\n",
    "        print(repr(e))\n",
    "        return False"
   ]
  },
  {
   "cell_type": "markdown",
   "id": "9ae8b436",
   "metadata": {
    "papermill": {
     "duration": 0.0,
     "end_time": "2023-12-14T23:19:34.575412",
     "exception": false,
     "start_time": "2023-12-14T23:19:34.575412",
     "status": "completed"
    },
    "tags": []
   },
   "source": [
    "# Обучение модели"
   ]
  },
  {
   "cell_type": "code",
   "execution_count": 15,
   "id": "376a1148",
   "metadata": {
    "execution": {
     "iopub.execute_input": "2023-12-14T23:19:34.590779Z",
     "iopub.status.busy": "2023-12-14T23:19:34.590779Z",
     "iopub.status.idle": "2023-12-14T23:19:34.606383Z",
     "shell.execute_reply": "2023-12-14T23:19:34.606383Z"
    },
    "papermill": {
     "duration": 0.015604,
     "end_time": "2023-12-14T23:19:34.606383",
     "exception": false,
     "start_time": "2023-12-14T23:19:34.590779",
     "status": "completed"
    },
    "tags": []
   },
   "outputs": [],
   "source": [
    "param_grid = [\n",
    "    {\n",
    "        \"max_depth\": np.arange(3, 11, 1),\n",
    "        \"criterion\": ['gini', 'entropy', 'log_loss'],\n",
    "        \"max_features\": [None, 'sqrt', 'log2'],\n",
    "    }\n",
    "]\n",
    "\n",
    "rfc = RandomForestClassifier(n_estimators=30, n_jobs = 4, random_state=42)\n",
    "sss = StratifiedShuffleSplit(n_splits=5, test_size=0.2, random_state=42)\n",
    "\n",
    "scores = ['f1', 'roc_auc']\n",
    "scoring = {'f1': 'f1',\n",
    "           'roc_auc': 'roc_auc'\n",
    "          }\n",
    "\n",
    "columns = ['param_criterion', 'param_max_depth', \\\n",
    "                         'mean_test_f1', 'mean_test_roc_auc', 'rank_test_f1', 'rank_test_roc_auc']"
   ]
  },
  {
   "cell_type": "code",
   "execution_count": 16,
   "id": "f08e2428",
   "metadata": {
    "execution": {
     "iopub.execute_input": "2023-12-14T23:19:34.606383Z",
     "iopub.status.busy": "2023-12-14T23:19:34.606383Z",
     "iopub.status.idle": "2023-12-14T23:20:04.857555Z",
     "shell.execute_reply": "2023-12-14T23:20:04.857555Z"
    },
    "papermill": {
     "duration": 30.251172,
     "end_time": "2023-12-14T23:20:04.857555",
     "exception": false,
     "start_time": "2023-12-14T23:19:34.606383",
     "status": "completed"
    },
    "tags": []
   },
   "outputs": [
    {
     "name": "stdout",
     "output_type": "stream",
     "text": [
      "Total time spent on grid search (wall-clock): 30.24 seconds or             0 minutes 30.24 seconds\n"
     ]
    }
   ],
   "source": [
    "grid_search = grid_search_cv(rfc, sss, param_grid, X_train_tree, y_train_tree, scores, custom_refit)"
   ]
  },
  {
   "cell_type": "code",
   "execution_count": 17,
   "id": "c6742cfd",
   "metadata": {
    "execution": {
     "iopub.execute_input": "2023-12-14T23:20:04.857555Z",
     "iopub.status.busy": "2023-12-14T23:20:04.857555Z",
     "iopub.status.idle": "2023-12-14T23:20:04.904503Z",
     "shell.execute_reply": "2023-12-14T23:20:04.904503Z"
    },
    "papermill": {
     "duration": 0.046948,
     "end_time": "2023-12-14T23:20:04.904503",
     "exception": false,
     "start_time": "2023-12-14T23:20:04.857555",
     "status": "completed"
    },
    "tags": []
   },
   "outputs": [
    {
     "name": "stdout",
     "output_type": "stream",
     "text": [
      "Top 10\n"
     ]
    },
    {
     "data": {
      "text/html": [
       "<div>\n",
       "<style scoped>\n",
       "    .dataframe tbody tr th:only-of-type {\n",
       "        vertical-align: middle;\n",
       "    }\n",
       "\n",
       "    .dataframe tbody tr th {\n",
       "        vertical-align: top;\n",
       "    }\n",
       "\n",
       "    .dataframe thead th {\n",
       "        text-align: right;\n",
       "    }\n",
       "</style>\n",
       "<table border=\"1\" class=\"dataframe\">\n",
       "  <thead>\n",
       "    <tr style=\"text-align: right;\">\n",
       "      <th></th>\n",
       "      <th>param_criterion</th>\n",
       "      <th>param_max_depth</th>\n",
       "      <th>mean_test_f1</th>\n",
       "      <th>mean_test_roc_auc</th>\n",
       "      <th>rank_test_f1</th>\n",
       "      <th>rank_test_roc_auc</th>\n",
       "    </tr>\n",
       "  </thead>\n",
       "  <tbody>\n",
       "    <tr>\n",
       "      <th>0</th>\n",
       "      <td>entropy</td>\n",
       "      <td>8</td>\n",
       "      <td>0.799423</td>\n",
       "      <td>0.874558</td>\n",
       "      <td>1</td>\n",
       "      <td>17</td>\n",
       "    </tr>\n",
       "    <tr>\n",
       "      <th>1</th>\n",
       "      <td>entropy</td>\n",
       "      <td>8</td>\n",
       "      <td>0.799423</td>\n",
       "      <td>0.874558</td>\n",
       "      <td>1</td>\n",
       "      <td>17</td>\n",
       "    </tr>\n",
       "    <tr>\n",
       "      <th>2</th>\n",
       "      <td>log_loss</td>\n",
       "      <td>8</td>\n",
       "      <td>0.799423</td>\n",
       "      <td>0.874558</td>\n",
       "      <td>1</td>\n",
       "      <td>17</td>\n",
       "    </tr>\n",
       "    <tr>\n",
       "      <th>3</th>\n",
       "      <td>log_loss</td>\n",
       "      <td>8</td>\n",
       "      <td>0.799423</td>\n",
       "      <td>0.874558</td>\n",
       "      <td>1</td>\n",
       "      <td>17</td>\n",
       "    </tr>\n",
       "    <tr>\n",
       "      <th>4</th>\n",
       "      <td>gini</td>\n",
       "      <td>9</td>\n",
       "      <td>0.798878</td>\n",
       "      <td>0.874216</td>\n",
       "      <td>5</td>\n",
       "      <td>22</td>\n",
       "    </tr>\n",
       "    <tr>\n",
       "      <th>5</th>\n",
       "      <td>gini</td>\n",
       "      <td>9</td>\n",
       "      <td>0.798878</td>\n",
       "      <td>0.874216</td>\n",
       "      <td>5</td>\n",
       "      <td>22</td>\n",
       "    </tr>\n",
       "    <tr>\n",
       "      <th>6</th>\n",
       "      <td>gini</td>\n",
       "      <td>7</td>\n",
       "      <td>0.798504</td>\n",
       "      <td>0.874362</td>\n",
       "      <td>7</td>\n",
       "      <td>21</td>\n",
       "    </tr>\n",
       "    <tr>\n",
       "      <th>7</th>\n",
       "      <td>entropy</td>\n",
       "      <td>8</td>\n",
       "      <td>0.798475</td>\n",
       "      <td>0.876802</td>\n",
       "      <td>8</td>\n",
       "      <td>1</td>\n",
       "    </tr>\n",
       "    <tr>\n",
       "      <th>8</th>\n",
       "      <td>log_loss</td>\n",
       "      <td>8</td>\n",
       "      <td>0.798475</td>\n",
       "      <td>0.876802</td>\n",
       "      <td>8</td>\n",
       "      <td>1</td>\n",
       "    </tr>\n",
       "    <tr>\n",
       "      <th>9</th>\n",
       "      <td>entropy</td>\n",
       "      <td>6</td>\n",
       "      <td>0.798237</td>\n",
       "      <td>0.875638</td>\n",
       "      <td>10</td>\n",
       "      <td>7</td>\n",
       "    </tr>\n",
       "  </tbody>\n",
       "</table>\n",
       "</div>"
      ],
      "text/plain": [
       "  param_criterion param_max_depth  mean_test_f1  mean_test_roc_auc  \\\n",
       "0         entropy               8      0.799423           0.874558   \n",
       "1         entropy               8      0.799423           0.874558   \n",
       "2        log_loss               8      0.799423           0.874558   \n",
       "3        log_loss               8      0.799423           0.874558   \n",
       "4            gini               9      0.798878           0.874216   \n",
       "5            gini               9      0.798878           0.874216   \n",
       "6            gini               7      0.798504           0.874362   \n",
       "7         entropy               8      0.798475           0.876802   \n",
       "8        log_loss               8      0.798475           0.876802   \n",
       "9         entropy               6      0.798237           0.875638   \n",
       "\n",
       "   rank_test_f1  rank_test_roc_auc  \n",
       "0             1                 17  \n",
       "1             1                 17  \n",
       "2             1                 17  \n",
       "3             1                 17  \n",
       "4             5                 22  \n",
       "5             5                 22  \n",
       "6             7                 21  \n",
       "7             8                  1  \n",
       "8             8                  1  \n",
       "9            10                  7  "
      ]
     },
     "metadata": {},
     "output_type": "display_data"
    },
    {
     "name": "stdout",
     "output_type": "stream",
     "text": [
      "Low 10\n"
     ]
    },
    {
     "data": {
      "text/html": [
       "<div>\n",
       "<style scoped>\n",
       "    .dataframe tbody tr th:only-of-type {\n",
       "        vertical-align: middle;\n",
       "    }\n",
       "\n",
       "    .dataframe tbody tr th {\n",
       "        vertical-align: top;\n",
       "    }\n",
       "\n",
       "    .dataframe thead th {\n",
       "        text-align: right;\n",
       "    }\n",
       "</style>\n",
       "<table border=\"1\" class=\"dataframe\">\n",
       "  <thead>\n",
       "    <tr style=\"text-align: right;\">\n",
       "      <th></th>\n",
       "      <th>param_criterion</th>\n",
       "      <th>param_max_depth</th>\n",
       "      <th>mean_test_f1</th>\n",
       "      <th>mean_test_roc_auc</th>\n",
       "      <th>rank_test_f1</th>\n",
       "      <th>rank_test_roc_auc</th>\n",
       "    </tr>\n",
       "  </thead>\n",
       "  <tbody>\n",
       "    <tr>\n",
       "      <th>62</th>\n",
       "      <td>log_loss</td>\n",
       "      <td>4</td>\n",
       "      <td>0.738180</td>\n",
       "      <td>0.854074</td>\n",
       "      <td>61</td>\n",
       "      <td>60</td>\n",
       "    </tr>\n",
       "    <tr>\n",
       "      <th>63</th>\n",
       "      <td>log_loss</td>\n",
       "      <td>4</td>\n",
       "      <td>0.738180</td>\n",
       "      <td>0.854074</td>\n",
       "      <td>61</td>\n",
       "      <td>60</td>\n",
       "    </tr>\n",
       "    <tr>\n",
       "      <th>64</th>\n",
       "      <td>gini</td>\n",
       "      <td>4</td>\n",
       "      <td>0.737909</td>\n",
       "      <td>0.854649</td>\n",
       "      <td>65</td>\n",
       "      <td>58</td>\n",
       "    </tr>\n",
       "    <tr>\n",
       "      <th>65</th>\n",
       "      <td>gini</td>\n",
       "      <td>4</td>\n",
       "      <td>0.737909</td>\n",
       "      <td>0.854649</td>\n",
       "      <td>65</td>\n",
       "      <td>58</td>\n",
       "    </tr>\n",
       "    <tr>\n",
       "      <th>66</th>\n",
       "      <td>gini</td>\n",
       "      <td>3</td>\n",
       "      <td>0.713241</td>\n",
       "      <td>0.846419</td>\n",
       "      <td>67</td>\n",
       "      <td>70</td>\n",
       "    </tr>\n",
       "    <tr>\n",
       "      <th>67</th>\n",
       "      <td>gini</td>\n",
       "      <td>3</td>\n",
       "      <td>0.713241</td>\n",
       "      <td>0.846419</td>\n",
       "      <td>67</td>\n",
       "      <td>70</td>\n",
       "    </tr>\n",
       "    <tr>\n",
       "      <th>68</th>\n",
       "      <td>entropy</td>\n",
       "      <td>3</td>\n",
       "      <td>0.713094</td>\n",
       "      <td>0.848146</td>\n",
       "      <td>69</td>\n",
       "      <td>64</td>\n",
       "    </tr>\n",
       "    <tr>\n",
       "      <th>69</th>\n",
       "      <td>entropy</td>\n",
       "      <td>3</td>\n",
       "      <td>0.713094</td>\n",
       "      <td>0.848146</td>\n",
       "      <td>69</td>\n",
       "      <td>64</td>\n",
       "    </tr>\n",
       "    <tr>\n",
       "      <th>70</th>\n",
       "      <td>log_loss</td>\n",
       "      <td>3</td>\n",
       "      <td>0.713094</td>\n",
       "      <td>0.848146</td>\n",
       "      <td>69</td>\n",
       "      <td>64</td>\n",
       "    </tr>\n",
       "    <tr>\n",
       "      <th>71</th>\n",
       "      <td>log_loss</td>\n",
       "      <td>3</td>\n",
       "      <td>0.713094</td>\n",
       "      <td>0.848146</td>\n",
       "      <td>69</td>\n",
       "      <td>64</td>\n",
       "    </tr>\n",
       "  </tbody>\n",
       "</table>\n",
       "</div>"
      ],
      "text/plain": [
       "   param_criterion param_max_depth  mean_test_f1  mean_test_roc_auc  \\\n",
       "62        log_loss               4      0.738180           0.854074   \n",
       "63        log_loss               4      0.738180           0.854074   \n",
       "64            gini               4      0.737909           0.854649   \n",
       "65            gini               4      0.737909           0.854649   \n",
       "66            gini               3      0.713241           0.846419   \n",
       "67            gini               3      0.713241           0.846419   \n",
       "68         entropy               3      0.713094           0.848146   \n",
       "69         entropy               3      0.713094           0.848146   \n",
       "70        log_loss               3      0.713094           0.848146   \n",
       "71        log_loss               3      0.713094           0.848146   \n",
       "\n",
       "    rank_test_f1  rank_test_roc_auc  \n",
       "62            61                 60  \n",
       "63            61                 60  \n",
       "64            65                 58  \n",
       "65            65                 58  \n",
       "66            67                 70  \n",
       "67            67                 70  \n",
       "68            69                 64  \n",
       "69            69                 64  \n",
       "70            69                 64  \n",
       "71            69                 64  "
      ]
     },
     "metadata": {},
     "output_type": "display_data"
    }
   ],
   "source": [
    "df_results = print_top_low(grid_search, columns, ['rank_test_f1', 'index'])"
   ]
  },
  {
   "cell_type": "code",
   "execution_count": 18,
   "id": "4d847364",
   "metadata": {
    "execution": {
     "iopub.execute_input": "2023-12-14T23:20:04.904503Z",
     "iopub.status.busy": "2023-12-14T23:20:04.904503Z",
     "iopub.status.idle": "2023-12-14T23:20:04.952203Z",
     "shell.execute_reply": "2023-12-14T23:20:04.952203Z"
    },
    "papermill": {
     "duration": 0.051214,
     "end_time": "2023-12-14T23:20:04.955717",
     "exception": false,
     "start_time": "2023-12-14T23:20:04.904503",
     "status": "completed"
    },
    "tags": []
   },
   "outputs": [
    {
     "data": {
      "text/plain": [
       "True"
      ]
     },
     "execution_count": 18,
     "metadata": {},
     "output_type": "execute_result"
    }
   ],
   "source": [
    "is_fitted(grid_search.best_estimator_, X_train_tree)"
   ]
  },
  {
   "cell_type": "code",
   "execution_count": 19,
   "id": "69fba8c8",
   "metadata": {
    "execution": {
     "iopub.execute_input": "2023-12-14T23:20:04.968242Z",
     "iopub.status.busy": "2023-12-14T23:20:04.955717Z",
     "iopub.status.idle": "2023-12-14T23:20:08.428770Z",
     "shell.execute_reply": "2023-12-14T23:20:08.428770Z"
    },
    "papermill": {
     "duration": 3.473053,
     "end_time": "2023-12-14T23:20:08.428770",
     "exception": false,
     "start_time": "2023-12-14T23:20:04.955717",
     "status": "completed"
    },
    "tags": []
   },
   "outputs": [
    {
     "name": "stdout",
     "output_type": "stream",
     "text": [
      "estimators: 10\n",
      "f1 score: 0.834450\n",
      "estimators: 20\n"
     ]
    },
    {
     "name": "stdout",
     "output_type": "stream",
     "text": [
      "f1 score: 0.835305\n",
      "estimators: 30\n"
     ]
    },
    {
     "name": "stdout",
     "output_type": "stream",
     "text": [
      "f1 score: 0.837418\n",
      "estimators: 40\n"
     ]
    },
    {
     "name": "stdout",
     "output_type": "stream",
     "text": [
      "f1 score: 0.836352\n",
      "estimators: 50\n"
     ]
    },
    {
     "name": "stdout",
     "output_type": "stream",
     "text": [
      "f1 score: 0.837410\n",
      "estimators: 60\n"
     ]
    },
    {
     "name": "stdout",
     "output_type": "stream",
     "text": [
      "f1 score: 0.838555\n",
      "estimators: 70\n"
     ]
    },
    {
     "name": "stdout",
     "output_type": "stream",
     "text": [
      "f1 score: 0.840626\n",
      "estimators: 80\n"
     ]
    },
    {
     "name": "stdout",
     "output_type": "stream",
     "text": [
      "f1 score: 0.839337\n",
      "estimators: 90\n"
     ]
    },
    {
     "name": "stdout",
     "output_type": "stream",
     "text": [
      "f1 score: 0.840681\n",
      "estimators: 100\n"
     ]
    },
    {
     "name": "stdout",
     "output_type": "stream",
     "text": [
      "f1 score: 0.841687\n",
      "estimators: 110\n"
     ]
    },
    {
     "name": "stdout",
     "output_type": "stream",
     "text": [
      "f1 score: 0.839388\n",
      "estimators: 120\n"
     ]
    },
    {
     "name": "stdout",
     "output_type": "stream",
     "text": [
      "f1 score: 0.838699\n",
      "estimators: 130\n"
     ]
    },
    {
     "name": "stdout",
     "output_type": "stream",
     "text": [
      "f1 score: 0.839573\n",
      "estimators: 140\n"
     ]
    },
    {
     "name": "stdout",
     "output_type": "stream",
     "text": [
      "f1 score: 0.840006\n",
      "estimators: 150\n"
     ]
    },
    {
     "name": "stdout",
     "output_type": "stream",
     "text": [
      "f1 score: 0.839522\n"
     ]
    }
   ],
   "source": [
    "best_estimator = findBestEstimators(grid_search.best_estimator_, X_train_tree, y_train_tree)"
   ]
  },
  {
   "cell_type": "code",
   "execution_count": 20,
   "id": "35bda603",
   "metadata": {
    "execution": {
     "iopub.execute_input": "2023-12-14T23:20:08.428770Z",
     "iopub.status.busy": "2023-12-14T23:20:08.428770Z",
     "iopub.status.idle": "2023-12-14T23:20:09.063338Z",
     "shell.execute_reply": "2023-12-14T23:20:09.063338Z"
    },
    "papermill": {
     "duration": 0.634568,
     "end_time": "2023-12-14T23:20:09.063338",
     "exception": false,
     "start_time": "2023-12-14T23:20:08.428770",
     "status": "completed"
    },
    "tags": []
   },
   "outputs": [
    {
     "name": "stdout",
     "output_type": "stream",
     "text": [
      "threshold: 0.00\n",
      "f1 score: 0.675466\n",
      "threshold: 0.05\n",
      "f1 score: 0.680290\n",
      "threshold: 0.10\n",
      "f1 score: 0.701564\n",
      "threshold: 0.15\n",
      "f1 score: 0.750488\n",
      "threshold: 0.20\n",
      "f1 score: 0.793542\n",
      "threshold: 0.25\n",
      "f1 score: 0.821637\n",
      "threshold: 0.30\n"
     ]
    },
    {
     "name": "stdout",
     "output_type": "stream",
     "text": [
      "f1 score: 0.826953\n",
      "threshold: 0.35\n"
     ]
    },
    {
     "name": "stdout",
     "output_type": "stream",
     "text": [
      "f1 score: 0.833921\n",
      "threshold: 0.40\n",
      "f1 score: 0.838041\n",
      "threshold: 0.45\n",
      "f1 score: 0.841552\n",
      "threshold: 0.50\n",
      "f1 score: 0.837418\n",
      "threshold: 0.55\n",
      "f1 score: 0.827020\n",
      "threshold: 0.60\n",
      "f1 score: 0.795834\n",
      "threshold: 0.65\n",
      "f1 score: 0.759675\n",
      "threshold: 0.70\n"
     ]
    },
    {
     "name": "stdout",
     "output_type": "stream",
     "text": [
      "f1 score: 0.724104\n",
      "threshold: 0.75\n",
      "f1 score: 0.651738\n",
      "threshold: 0.80\n",
      "f1 score: 0.615520\n",
      "threshold: 0.85\n",
      "f1 score: 0.581432\n",
      "threshold: 0.90\n",
      "f1 score: 0.517463\n",
      "threshold: 0.95\n",
      "f1 score: 0.378859\n",
      "threshold: 1.00\n",
      "f1 score: 0.000000\n"
     ]
    }
   ],
   "source": [
    "# %%pipeline\n",
    "best_rfc_threshold = findBestThreshold(grid_search.best_estimator_, X_train_tree, y_train_tree)"
   ]
  },
  {
   "cell_type": "code",
   "execution_count": 21,
   "id": "79b26a0f",
   "metadata": {
    "execution": {
     "iopub.execute_input": "2023-12-14T23:20:09.081180Z",
     "iopub.status.busy": "2023-12-14T23:20:09.078972Z",
     "iopub.status.idle": "2023-12-14T23:20:09.094968Z",
     "shell.execute_reply": "2023-12-14T23:20:09.094968Z"
    },
    "papermill": {
     "duration": 0.03163,
     "end_time": "2023-12-14T23:20:09.094968",
     "exception": false,
     "start_time": "2023-12-14T23:20:09.063338",
     "status": "completed"
    },
    "tags": []
   },
   "outputs": [],
   "source": [
    "new_directory = 'models/'\n",
    "\n",
    "os.makedirs(new_directory, exist_ok=True)"
   ]
  },
  {
   "cell_type": "code",
   "execution_count": 22,
   "id": "9ae3652c",
   "metadata": {
    "execution": {
     "iopub.execute_input": "2023-12-14T23:20:09.110630Z",
     "iopub.status.busy": "2023-12-14T23:20:09.110630Z",
     "iopub.status.idle": "2023-12-14T23:20:09.380471Z",
     "shell.execute_reply": "2023-12-14T23:20:09.380471Z"
    },
    "papermill": {
     "duration": 0.286814,
     "end_time": "2023-12-14T23:20:09.381782",
     "exception": false,
     "start_time": "2023-12-14T23:20:09.094968",
     "status": "completed"
    },
    "tags": []
   },
   "outputs": [
    {
     "data": {
      "text/plain": [
       "['models/random_forest.pkl']"
      ]
     },
     "execution_count": 22,
     "metadata": {},
     "output_type": "execute_result"
    }
   ],
   "source": [
    "rfc_model = RandomForestClassifier(**best_estimator[0]).fit(X_train_tree, y_train_tree)\n",
    "\n",
    "joblib_logr = 'models/random_forest.pkl'\n",
    "joblib.dump(rfc_model, joblib_logr)"
   ]
  },
  {
   "cell_type": "code",
   "execution_count": null,
   "id": "99e07d02",
   "metadata": {
    "papermill": {
     "duration": 0.0,
     "end_time": "2023-12-14T23:20:09.381782",
     "exception": false,
     "start_time": "2023-12-14T23:20:09.381782",
     "status": "completed"
    },
    "tags": []
   },
   "outputs": [],
   "source": []
  }
 ],
 "metadata": {
  "kernelspec": {
   "display_name": "yandex",
   "language": "python",
   "name": "yandex"
  },
  "language_info": {
   "codemirror_mode": {
    "name": "ipython",
    "version": 3
   },
   "file_extension": ".py",
   "mimetype": "text/x-python",
   "name": "python",
   "nbconvert_exporter": "python",
   "pygments_lexer": "ipython3",
   "version": "3.10.13"
  },
  "papermill": {
   "default_parameters": {},
   "duration": 63.244488,
   "end_time": "2023-12-14T23:20:09.964018",
   "environment_variables": {},
   "exception": null,
   "input_path": "D:\\Yandex_practicum\\Projects\\Data_Science\\random_forest.ipynb",
   "output_path": "D:\\Yandex_practicum\\Projects\\Data_Science\\random_forest.ipynb",
   "parameters": {},
   "start_time": "2023-12-14T23:19:06.719530",
   "version": "2.4.0"
  }
 },
 "nbformat": 4,
 "nbformat_minor": 5
}