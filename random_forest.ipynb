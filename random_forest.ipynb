{
 "cells": [
  {
   "cell_type": "code",
   "execution_count": 1,
   "id": "f5c4b66f",
   "metadata": {
    "execution": {
     "iopub.execute_input": "2023-12-14T23:11:02.942837Z",
     "iopub.status.busy": "2023-12-14T23:11:02.941814Z",
     "iopub.status.idle": "2023-12-14T23:11:28.600614Z",
     "shell.execute_reply": "2023-12-14T23:11:28.600614Z"
    },
    "papermill": {
     "duration": 25.667347,
     "end_time": "2023-12-14T23:11:28.602613",
     "exception": false,
     "start_time": "2023-12-14T23:11:02.935266",
     "status": "completed"
    },
    "tags": []
   },
   "outputs": [
    {
     "name": "stderr",
     "output_type": "stream",
     "text": [
      "ERROR: pip's dependency resolver does not currently take into account all the packages that are installed. This behaviour is the source of the following dependency conflicts.\n",
      "dython 0.7.4 requires numpy>=1.23.0, but you have numpy 1.22.4 which is incompatible.\n"
     ]
    },
    {
     "name": "stdout",
     "output_type": "stream",
     "text": [
      "Requirement already satisfied: joblib in d:\\anaconda\\envs\\yandex\\lib\\site-packages (1.2.0)\n"
     ]
    }
   ],
   "source": [
    "!pip3 install -q numpy==1.22.4\n",
    "!pip3 install -q pandas==1.5.3\n",
    "!pip3 install -q scikit-learn\n",
    "!pip3 install joblib"
   ]
  },
  {
   "cell_type": "code",
   "execution_count": 2,
   "id": "3534375e",
   "metadata": {
    "execution": {
     "iopub.execute_input": "2023-12-14T23:11:28.612623Z",
     "iopub.status.busy": "2023-12-14T23:11:28.612623Z",
     "iopub.status.idle": "2023-12-14T23:11:31.129716Z",
     "shell.execute_reply": "2023-12-14T23:11:31.128715Z"
    },
    "papermill": {
     "duration": 2.523594,
     "end_time": "2023-12-14T23:11:31.130713",
     "exception": false,
     "start_time": "2023-12-14T23:11:28.607119",
     "status": "completed"
    },
    "tags": []
   },
   "outputs": [],
   "source": [
    "import pandas as pd\n",
    "import numpy as np\n",
    "from sklearn.ensemble import RandomForestClassifier\n",
    "from sklearn.model_selection import GridSearchCV, StratifiedShuffleSplit, train_test_split\n",
    "from sklearn.metrics import f1_score, roc_auc_score\n",
    "import joblib \n",
    "\n",
    "import time\n",
    "import os"
   ]
  },
  {
   "cell_type": "markdown",
   "id": "56ae3df4",
   "metadata": {
    "papermill": {
     "duration": 0.004511,
     "end_time": "2023-12-14T23:11:31.139743",
     "exception": false,
     "start_time": "2023-12-14T23:11:31.135232",
     "status": "completed"
    },
    "tags": []
   },
   "source": [
    "---"
   ]
  },
  {
   "cell_type": "markdown",
   "id": "4233d7b1",
   "metadata": {
    "papermill": {
     "duration": 0.003996,
     "end_time": "2023-12-14T23:11:31.149295",
     "exception": false,
     "start_time": "2023-12-14T23:11:31.145299",
     "status": "completed"
    },
    "tags": []
   },
   "source": [
    "Чтение данных"
   ]
  },
  {
   "cell_type": "code",
   "execution_count": 3,
   "id": "67bb9ed0",
   "metadata": {
    "execution": {
     "iopub.execute_input": "2023-12-14T23:11:31.159812Z",
     "iopub.status.busy": "2023-12-14T23:11:31.159812Z",
     "iopub.status.idle": "2023-12-14T23:11:31.189214Z",
     "shell.execute_reply": "2023-12-14T23:11:31.188212Z"
    },
    "papermill": {
     "duration": 0.036118,
     "end_time": "2023-12-14T23:11:31.190931",
     "exception": false,
     "start_time": "2023-12-14T23:11:31.154813",
     "status": "completed"
    },
    "tags": []
   },
   "outputs": [],
   "source": [
    "path1 = 'datasets/tree/train_tree.csv'\n",
    "\n",
    "def read_file(path):\n",
    "    df = pd.DataFrame()\n",
    "    if os.path.exists(path):\n",
    "        df = pd.read_csv(path, sep=',')\n",
    "    elif os.path.exists(path[1:]):\n",
    "        df = pd.read_csv(path[1:], sep=',')\n",
    "    else:\n",
    "        print('No such file or directory') \n",
    "        raise FileNotFoundError('No such file or directory')\n",
    "    return df\n",
    "\n",
    "df_train = read_file(path1)"
   ]
  },
  {
   "cell_type": "markdown",
   "id": "406c15bc",
   "metadata": {
    "papermill": {
     "duration": 0.004759,
     "end_time": "2023-12-14T23:11:31.200050",
     "exception": false,
     "start_time": "2023-12-14T23:11:31.195291",
     "status": "completed"
    },
    "tags": []
   },
   "source": [
    "---"
   ]
  },
  {
   "cell_type": "markdown",
   "id": "7b7cbc91",
   "metadata": {
    "papermill": {
     "duration": 0.017581,
     "end_time": "2023-12-14T23:11:31.221130",
     "exception": false,
     "start_time": "2023-12-14T23:11:31.203549",
     "status": "completed"
    },
    "tags": []
   },
   "source": [
    "## Разбиение тренировочной выборки на тренировочную и владиационную"
   ]
  },
  {
   "cell_type": "code",
   "execution_count": 4,
   "id": "009e05e0",
   "metadata": {
    "execution": {
     "iopub.execute_input": "2023-12-14T23:11:31.231354Z",
     "iopub.status.busy": "2023-12-14T23:11:31.231354Z",
     "iopub.status.idle": "2023-12-14T23:11:31.246093Z",
     "shell.execute_reply": "2023-12-14T23:11:31.245094Z"
    },
    "papermill": {
     "duration": 0.021441,
     "end_time": "2023-12-14T23:11:31.247094",
     "exception": false,
     "start_time": "2023-12-14T23:11:31.225653",
     "status": "completed"
    },
    "tags": []
   },
   "outputs": [
    {
     "name": "stdout",
     "output_type": "stream",
     "text": [
      "8673\n"
     ]
    }
   ],
   "source": [
    "X_tree = df_train.drop(columns=['Transported'], axis=1)\n",
    "y_tree = df_train.Transported\n",
    "\n",
    "print(y_tree.shape[0])"
   ]
  },
  {
   "cell_type": "code",
   "execution_count": 5,
   "id": "f9248b6b",
   "metadata": {
    "execution": {
     "iopub.execute_input": "2023-12-14T23:11:31.258249Z",
     "iopub.status.busy": "2023-12-14T23:11:31.258249Z",
     "iopub.status.idle": "2023-12-14T23:11:31.277149Z",
     "shell.execute_reply": "2023-12-14T23:11:31.276147Z"
    },
    "papermill": {
     "duration": 0.02636,
     "end_time": "2023-12-14T23:11:31.278452",
     "exception": false,
     "start_time": "2023-12-14T23:11:31.252092",
     "status": "completed"
    },
    "tags": []
   },
   "outputs": [
    {
     "name": "stdout",
     "output_type": "stream",
     "text": [
      "(6071,) (2602,)\n"
     ]
    }
   ],
   "source": [
    "X_train_tree, X_val_tree, y_train_tree, y_val_tree = \\\n",
    "        train_test_split(X_tree, y_tree, test_size = 0.3, shuffle=True, random_state = 42)\n",
    "\n",
    "print(y_train_tree.shape, y_val_tree.shape)"
   ]
  },
  {
   "cell_type": "code",
   "execution_count": 6,
   "id": "ec38d824",
   "metadata": {
    "execution": {
     "iopub.execute_input": "2023-12-14T23:11:31.289366Z",
     "iopub.status.busy": "2023-12-14T23:11:31.289366Z",
     "iopub.status.idle": "2023-12-14T23:11:31.307790Z",
     "shell.execute_reply": "2023-12-14T23:11:31.307281Z"
    },
    "papermill": {
     "duration": 0.02709,
     "end_time": "2023-12-14T23:11:31.310071",
     "exception": false,
     "start_time": "2023-12-14T23:11:31.282981",
     "status": "completed"
    },
    "tags": []
   },
   "outputs": [],
   "source": [
    "new_directory = 'datasets/for_comparison'\n",
    "\n",
    "os.makedirs(new_directory, exist_ok=True)"
   ]
  },
  {
   "cell_type": "code",
   "execution_count": 7,
   "id": "d3b7e42a",
   "metadata": {
    "execution": {
     "iopub.execute_input": "2023-12-14T23:11:31.321208Z",
     "iopub.status.busy": "2023-12-14T23:11:31.321208Z",
     "iopub.status.idle": "2023-12-14T23:11:31.353333Z",
     "shell.execute_reply": "2023-12-14T23:11:31.353333Z"
    },
    "papermill": {
     "duration": 0.040822,
     "end_time": "2023-12-14T23:11:31.356032",
     "exception": false,
     "start_time": "2023-12-14T23:11:31.315210",
     "status": "completed"
    },
    "tags": []
   },
   "outputs": [],
   "source": [
    "X_val_tree.to_csv('datasets/for_comparison/X_val_tree.csv', index=False)\n",
    "y_val_tree.to_csv('datasets/for_comparison/y_val_tree.csv', index=False)"
   ]
  },
  {
   "cell_type": "markdown",
   "id": "b7948d28",
   "metadata": {
    "papermill": {
     "duration": 0.004214,
     "end_time": "2023-12-14T23:11:31.364256",
     "exception": false,
     "start_time": "2023-12-14T23:11:31.360042",
     "status": "completed"
    },
    "tags": []
   },
   "source": [
    "---"
   ]
  },
  {
   "cell_type": "markdown",
   "id": "c3fd5024",
   "metadata": {
    "papermill": {
     "duration": 0.004338,
     "end_time": "2023-12-14T23:11:31.374076",
     "exception": false,
     "start_time": "2023-12-14T23:11:31.369738",
     "status": "completed"
    },
    "tags": []
   },
   "source": [
    "# Вспомогательные функции"
   ]
  },
  {
   "cell_type": "code",
   "execution_count": 8,
   "id": "8a478770",
   "metadata": {
    "execution": {
     "iopub.execute_input": "2023-12-14T23:11:31.384645Z",
     "iopub.status.busy": "2023-12-14T23:11:31.384645Z",
     "iopub.status.idle": "2023-12-14T23:11:31.401606Z",
     "shell.execute_reply": "2023-12-14T23:11:31.400602Z"
    },
    "papermill": {
     "duration": 0.024894,
     "end_time": "2023-12-14T23:11:31.403111",
     "exception": false,
     "start_time": "2023-12-14T23:11:31.378217",
     "status": "completed"
    },
    "tags": []
   },
   "outputs": [],
   "source": [
    "def grid_search_cv(model, cv, param_grid, X_train_set, y_train_set, scores, refit=True):\n",
    "    grid_search = GridSearchCV(estimator=model, param_grid=param_grid, scoring=scores, cv=cv, refit=refit)\n",
    "\n",
    "    start_time = time.time()\n",
    "\n",
    "    grid_search.fit(X_train_set, y_train_set)\n",
    "\n",
    "    total_time = time.time() - start_time\n",
    "    print(f\"Total time spent on grid search (wall-clock): {total_time:.2f} seconds or \\\n",
    "            {(total_time // 60):.0f} minutes {(total_time % 60):.2f} seconds\")\n",
    "    \n",
    "    return grid_search"
   ]
  },
  {
   "cell_type": "code",
   "execution_count": 9,
   "id": "056b66ba",
   "metadata": {
    "execution": {
     "iopub.execute_input": "2023-12-14T23:11:31.413722Z",
     "iopub.status.busy": "2023-12-14T23:11:31.413214Z",
     "iopub.status.idle": "2023-12-14T23:11:31.430997Z",
     "shell.execute_reply": "2023-12-14T23:11:31.430997Z"
    },
    "papermill": {
     "duration": 0.025114,
     "end_time": "2023-12-14T23:11:31.433327",
     "exception": false,
     "start_time": "2023-12-14T23:11:31.408213",
     "status": "completed"
    },
    "tags": []
   },
   "outputs": [],
   "source": [
    "def custom_refit(cv_results):\n",
    "    sorted_indices = np.lexsort((-cv_results[\"mean_test_roc_auc\"], -cv_results[\"mean_test_f1\"]))\n",
    "    return sorted_indices[0]"
   ]
  },
  {
   "cell_type": "code",
   "execution_count": 10,
   "id": "2fdedf2f",
   "metadata": {
    "execution": {
     "iopub.execute_input": "2023-12-14T23:11:31.444780Z",
     "iopub.status.busy": "2023-12-14T23:11:31.443249Z",
     "iopub.status.idle": "2023-12-14T23:11:31.458172Z",
     "shell.execute_reply": "2023-12-14T23:11:31.457046Z"
    },
    "papermill": {
     "duration": 0.021841,
     "end_time": "2023-12-14T23:11:31.460181",
     "exception": false,
     "start_time": "2023-12-14T23:11:31.438340",
     "status": "completed"
    },
    "tags": []
   },
   "outputs": [],
   "source": [
    "def print_top_low(grid_search, show_columns, sort_by = ['rank_test_score', 'index'], n_rows = 10):\n",
    "    df_results = pd.DataFrame(grid_search.cv_results_)\n",
    "    df_results.index.name = 'index'\n",
    "    df_results = df_results.sort_values(by=sort_by).reset_index(drop=True)\n",
    "\n",
    "    print('Top ' + str(n_rows))\n",
    "    display(df_results[:n_rows][show_columns])\n",
    "\n",
    "    print('Low ' + str(n_rows))\n",
    "    display(df_results[-n_rows:][show_columns])\n",
    "    \n",
    "    return df_results"
   ]
  },
  {
   "cell_type": "code",
   "execution_count": 11,
   "id": "3cc21811",
   "metadata": {
    "execution": {
     "iopub.execute_input": "2023-12-14T23:11:31.470206Z",
     "iopub.status.busy": "2023-12-14T23:11:31.470206Z",
     "iopub.status.idle": "2023-12-14T23:11:31.486199Z",
     "shell.execute_reply": "2023-12-14T23:11:31.485189Z"
    },
    "papermill": {
     "duration": 0.024358,
     "end_time": "2023-12-14T23:11:31.488348",
     "exception": false,
     "start_time": "2023-12-14T23:11:31.463990",
     "status": "completed"
    },
    "tags": []
   },
   "outputs": [],
   "source": [
    "def custom_threshold_scorer(estimator, X, y, threshold=0.5, scorer=f1_score):\n",
    "    probabilities = estimator.predict_proba(X)\n",
    "\n",
    "    predictions = (probabilities[:, 1] >= threshold).astype(int)\n",
    "    score = scorer(y, predictions)\n",
    "\n",
    "    return score"
   ]
  },
  {
   "cell_type": "code",
   "execution_count": 12,
   "id": "d773043c",
   "metadata": {
    "execution": {
     "iopub.execute_input": "2023-12-14T23:11:31.499341Z",
     "iopub.status.busy": "2023-12-14T23:11:31.498216Z",
     "iopub.status.idle": "2023-12-14T23:11:31.516394Z",
     "shell.execute_reply": "2023-12-14T23:11:31.516394Z"
    },
    "papermill": {
     "duration": 0.025253,
     "end_time": "2023-12-14T23:11:31.518398",
     "exception": false,
     "start_time": "2023-12-14T23:11:31.493145",
     "status": "completed"
    },
    "tags": []
   },
   "outputs": [],
   "source": [
    "def findBestThreshold(model, features, target):\n",
    "    best_result = {'f1': 0, 'roc_auc': 0}\n",
    "    best_threshold = 0\n",
    "\n",
    "    for threshold in np.arange(0, 1.05, 0.05):\n",
    "        print(f'threshold: {threshold:.2f}')\n",
    "        \n",
    "        f1      = custom_threshold_scorer(model, features, target, threshold, f1_score)\n",
    "        roc_auc = roc_auc_score(target, model.predict_proba(features)[:, 1])\n",
    "        print(f\"f1 score: {f1:.6f}\")\n",
    "\n",
    "        if f1 > best_result['f1']:\n",
    "            best_result['f1'] = f1\n",
    "            best_result['roc_auc'] = roc_auc\n",
    "            best_threshold = threshold\n",
    "\n",
    "    return best_threshold, best_result"
   ]
  },
  {
   "cell_type": "code",
   "execution_count": 13,
   "id": "f9d0f096",
   "metadata": {
    "execution": {
     "iopub.execute_input": "2023-12-14T23:11:31.528910Z",
     "iopub.status.busy": "2023-12-14T23:11:31.528910Z",
     "iopub.status.idle": "2023-12-14T23:11:31.547853Z",
     "shell.execute_reply": "2023-12-14T23:11:31.546851Z"
    },
    "papermill": {
     "duration": 0.02655,
     "end_time": "2023-12-14T23:11:31.549943",
     "exception": false,
     "start_time": "2023-12-14T23:11:31.523393",
     "status": "completed"
    },
    "tags": []
   },
   "outputs": [],
   "source": [
    "def findBestEstimators(model, features, target, threshold=0.5):\n",
    "    best_result = {'f1': 0, 'roc_auc': 0}\n",
    "    best_params = model.get_params()\n",
    "    cur_params  = best_params.copy()\n",
    "    result = {}\n",
    "\n",
    "    for estimators in range(10, 151, 10):\n",
    "        print('estimators:', estimators)\n",
    "        cur_params['n_estimators'] = estimators \n",
    "\n",
    "        new_model = model.__class__(**cur_params)\n",
    "        new_model.fit(features, target)\n",
    "        f1      = custom_threshold_scorer(new_model, features, target, threshold, f1_score)\n",
    "        roc_auc = roc_auc_score(target, new_model.predict_proba(features)[:, 1])\n",
    "\n",
    "        print(f\"f1 score: {f1:.6f}\")\n",
    "\n",
    "        if f1 > best_result['f1']:\n",
    "            best_result['f1'] = f1\n",
    "            best_result['roc_auc'] = roc_auc\n",
    "            best_params['n_estimators'] = estimators\n",
    "\n",
    "    return best_params, best_result"
   ]
  },
  {
   "cell_type": "code",
   "execution_count": 14,
   "id": "387aa7f3",
   "metadata": {
    "execution": {
     "iopub.execute_input": "2023-12-14T23:11:31.561149Z",
     "iopub.status.busy": "2023-12-14T23:11:31.559842Z",
     "iopub.status.idle": "2023-12-14T23:11:31.578746Z",
     "shell.execute_reply": "2023-12-14T23:11:31.577742Z"
    },
    "papermill": {
     "duration": 0.025795,
     "end_time": "2023-12-14T23:11:31.580261",
     "exception": false,
     "start_time": "2023-12-14T23:11:31.554466",
     "status": "completed"
    },
    "tags": []
   },
   "outputs": [],
   "source": [
    "from sklearn.exceptions import NotFittedError\n",
    "\n",
    "def is_fitted(estimator, X):\n",
    "    try:\n",
    "        estimator.predict(X)\n",
    "        return True\n",
    "    except NotFittedError as e:\n",
    "        print(repr(e))\n",
    "        return False"
   ]
  },
  {
   "cell_type": "markdown",
   "id": "9ae8b436",
   "metadata": {
    "papermill": {
     "duration": 0.00501,
     "end_time": "2023-12-14T23:11:31.589813",
     "exception": false,
     "start_time": "2023-12-14T23:11:31.584803",
     "status": "completed"
    },
    "tags": []
   },
   "source": [
    "# Обучение модели"
   ]
  },
  {
   "cell_type": "code",
   "execution_count": 15,
   "id": "376a1148",
   "metadata": {
    "execution": {
     "iopub.execute_input": "2023-12-14T23:11:31.601331Z",
     "iopub.status.busy": "2023-12-14T23:11:31.600330Z",
     "iopub.status.idle": "2023-12-14T23:11:31.610231Z",
     "shell.execute_reply": "2023-12-14T23:11:31.609725Z"
    },
    "papermill": {
     "duration": 0.016906,
     "end_time": "2023-12-14T23:11:31.612236",
     "exception": false,
     "start_time": "2023-12-14T23:11:31.595330",
     "status": "completed"
    },
    "tags": []
   },
   "outputs": [],
   "source": [
    "param_grid = [\n",
    "    {\n",
    "        \"max_depth\": np.arange(3, 11, 1),\n",
    "        \"criterion\": ['gini', 'entropy', 'log_loss'],\n",
    "        \"max_features\": [None, 'sqrt', 'log2'],\n",
    "    }\n",
    "]\n",
    "\n",
    "rfc = RandomForestClassifier(n_estimators=30, n_jobs = 4, random_state=42)\n",
    "sss = StratifiedShuffleSplit(n_splits=5, test_size=0.2, random_state=42)\n",
    "\n",
    "scores = ['f1', 'roc_auc']\n",
    "scoring = {'f1': 'f1',\n",
    "           'roc_auc': 'roc_auc'\n",
    "          }\n",
    "\n",
    "columns = ['param_criterion', 'param_max_depth', \\\n",
    "                         'mean_test_f1', 'mean_test_roc_auc', 'rank_test_f1', 'rank_test_roc_auc']"
   ]
  },
  {
   "cell_type": "code",
   "execution_count": 16,
   "id": "f08e2428",
   "metadata": {
    "execution": {
     "iopub.execute_input": "2023-12-14T23:11:31.621799Z",
     "iopub.status.busy": "2023-12-14T23:11:31.621799Z",
     "iopub.status.idle": "2023-12-14T23:12:03.625584Z",
     "shell.execute_reply": "2023-12-14T23:12:03.625584Z"
    },
    "papermill": {
     "duration": 32.011257,
     "end_time": "2023-12-14T23:12:03.628052",
     "exception": false,
     "start_time": "2023-12-14T23:11:31.616795",
     "status": "completed"
    },
    "tags": []
   },
   "outputs": [
    {
     "name": "stdout",
     "output_type": "stream",
     "text": [
      "Total time spent on grid search (wall-clock): 31.99 seconds or             0 minutes 31.99 seconds\n"
     ]
    }
   ],
   "source": [
    "grid_search = grid_search_cv(rfc, sss, param_grid, X_train_tree, y_train_tree, scores, custom_refit)"
   ]
  },
  {
   "cell_type": "code",
   "execution_count": 17,
   "id": "c6742cfd",
   "metadata": {
    "execution": {
     "iopub.execute_input": "2023-12-14T23:12:03.639956Z",
     "iopub.status.busy": "2023-12-14T23:12:03.633838Z",
     "iopub.status.idle": "2023-12-14T23:12:03.664189Z",
     "shell.execute_reply": "2023-12-14T23:12:03.664189Z"
    },
    "papermill": {
     "duration": 0.031725,
     "end_time": "2023-12-14T23:12:03.665344",
     "exception": false,
     "start_time": "2023-12-14T23:12:03.633619",
     "status": "completed"
    },
    "tags": []
   },
   "outputs": [
    {
     "name": "stdout",
     "output_type": "stream",
     "text": [
      "Top 10\n"
     ]
    },
    {
     "data": {
      "text/html": [
       "<div>\n",
       "<style scoped>\n",
       "    .dataframe tbody tr th:only-of-type {\n",
       "        vertical-align: middle;\n",
       "    }\n",
       "\n",
       "    .dataframe tbody tr th {\n",
       "        vertical-align: top;\n",
       "    }\n",
       "\n",
       "    .dataframe thead th {\n",
       "        text-align: right;\n",
       "    }\n",
       "</style>\n",
       "<table border=\"1\" class=\"dataframe\">\n",
       "  <thead>\n",
       "    <tr style=\"text-align: right;\">\n",
       "      <th></th>\n",
       "      <th>param_criterion</th>\n",
       "      <th>param_max_depth</th>\n",
       "      <th>mean_test_f1</th>\n",
       "      <th>mean_test_roc_auc</th>\n",
       "      <th>rank_test_f1</th>\n",
       "      <th>rank_test_roc_auc</th>\n",
       "    </tr>\n",
       "  </thead>\n",
       "  <tbody>\n",
       "    <tr>\n",
       "      <th>0</th>\n",
       "      <td>entropy</td>\n",
       "      <td>8</td>\n",
       "      <td>0.799423</td>\n",
       "      <td>0.874558</td>\n",
       "      <td>1</td>\n",
       "      <td>17</td>\n",
       "    </tr>\n",
       "    <tr>\n",
       "      <th>1</th>\n",
       "      <td>entropy</td>\n",
       "      <td>8</td>\n",
       "      <td>0.799423</td>\n",
       "      <td>0.874558</td>\n",
       "      <td>1</td>\n",
       "      <td>17</td>\n",
       "    </tr>\n",
       "    <tr>\n",
       "      <th>2</th>\n",
       "      <td>log_loss</td>\n",
       "      <td>8</td>\n",
       "      <td>0.799423</td>\n",
       "      <td>0.874558</td>\n",
       "      <td>1</td>\n",
       "      <td>17</td>\n",
       "    </tr>\n",
       "    <tr>\n",
       "      <th>3</th>\n",
       "      <td>log_loss</td>\n",
       "      <td>8</td>\n",
       "      <td>0.799423</td>\n",
       "      <td>0.874558</td>\n",
       "      <td>1</td>\n",
       "      <td>17</td>\n",
       "    </tr>\n",
       "    <tr>\n",
       "      <th>4</th>\n",
       "      <td>gini</td>\n",
       "      <td>9</td>\n",
       "      <td>0.798878</td>\n",
       "      <td>0.874216</td>\n",
       "      <td>5</td>\n",
       "      <td>22</td>\n",
       "    </tr>\n",
       "    <tr>\n",
       "      <th>5</th>\n",
       "      <td>gini</td>\n",
       "      <td>9</td>\n",
       "      <td>0.798878</td>\n",
       "      <td>0.874216</td>\n",
       "      <td>5</td>\n",
       "      <td>22</td>\n",
       "    </tr>\n",
       "    <tr>\n",
       "      <th>6</th>\n",
       "      <td>gini</td>\n",
       "      <td>7</td>\n",
       "      <td>0.798504</td>\n",
       "      <td>0.874362</td>\n",
       "      <td>7</td>\n",
       "      <td>21</td>\n",
       "    </tr>\n",
       "    <tr>\n",
       "      <th>7</th>\n",
       "      <td>entropy</td>\n",
       "      <td>8</td>\n",
       "      <td>0.798475</td>\n",
       "      <td>0.876802</td>\n",
       "      <td>8</td>\n",
       "      <td>1</td>\n",
       "    </tr>\n",
       "    <tr>\n",
       "      <th>8</th>\n",
       "      <td>log_loss</td>\n",
       "      <td>8</td>\n",
       "      <td>0.798475</td>\n",
       "      <td>0.876802</td>\n",
       "      <td>8</td>\n",
       "      <td>1</td>\n",
       "    </tr>\n",
       "    <tr>\n",
       "      <th>9</th>\n",
       "      <td>entropy</td>\n",
       "      <td>6</td>\n",
       "      <td>0.798237</td>\n",
       "      <td>0.875638</td>\n",
       "      <td>10</td>\n",
       "      <td>7</td>\n",
       "    </tr>\n",
       "  </tbody>\n",
       "</table>\n",
       "</div>"
      ],
      "text/plain": [
       "  param_criterion param_max_depth  mean_test_f1  mean_test_roc_auc  \\\n",
       "0         entropy               8      0.799423           0.874558   \n",
       "1         entropy               8      0.799423           0.874558   \n",
       "2        log_loss               8      0.799423           0.874558   \n",
       "3        log_loss               8      0.799423           0.874558   \n",
       "4            gini               9      0.798878           0.874216   \n",
       "5            gini               9      0.798878           0.874216   \n",
       "6            gini               7      0.798504           0.874362   \n",
       "7         entropy               8      0.798475           0.876802   \n",
       "8        log_loss               8      0.798475           0.876802   \n",
       "9         entropy               6      0.798237           0.875638   \n",
       "\n",
       "   rank_test_f1  rank_test_roc_auc  \n",
       "0             1                 17  \n",
       "1             1                 17  \n",
       "2             1                 17  \n",
       "3             1                 17  \n",
       "4             5                 22  \n",
       "5             5                 22  \n",
       "6             7                 21  \n",
       "7             8                  1  \n",
       "8             8                  1  \n",
       "9            10                  7  "
      ]
     },
     "metadata": {},
     "output_type": "display_data"
    },
    {
     "name": "stdout",
     "output_type": "stream",
     "text": [
      "Low 10\n"
     ]
    },
    {
     "data": {
      "text/html": [
       "<div>\n",
       "<style scoped>\n",
       "    .dataframe tbody tr th:only-of-type {\n",
       "        vertical-align: middle;\n",
       "    }\n",
       "\n",
       "    .dataframe tbody tr th {\n",
       "        vertical-align: top;\n",
       "    }\n",
       "\n",
       "    .dataframe thead th {\n",
       "        text-align: right;\n",
       "    }\n",
       "</style>\n",
       "<table border=\"1\" class=\"dataframe\">\n",
       "  <thead>\n",
       "    <tr style=\"text-align: right;\">\n",
       "      <th></th>\n",
       "      <th>param_criterion</th>\n",
       "      <th>param_max_depth</th>\n",
       "      <th>mean_test_f1</th>\n",
       "      <th>mean_test_roc_auc</th>\n",
       "      <th>rank_test_f1</th>\n",
       "      <th>rank_test_roc_auc</th>\n",
       "    </tr>\n",
       "  </thead>\n",
       "  <tbody>\n",
       "    <tr>\n",
       "      <th>62</th>\n",
       "      <td>log_loss</td>\n",
       "      <td>4</td>\n",
       "      <td>0.738180</td>\n",
       "      <td>0.854074</td>\n",
       "      <td>61</td>\n",
       "      <td>60</td>\n",
       "    </tr>\n",
       "    <tr>\n",
       "      <th>63</th>\n",
       "      <td>log_loss</td>\n",
       "      <td>4</td>\n",
       "      <td>0.738180</td>\n",
       "      <td>0.854074</td>\n",
       "      <td>61</td>\n",
       "      <td>60</td>\n",
       "    </tr>\n",
       "    <tr>\n",
       "      <th>64</th>\n",
       "      <td>gini</td>\n",
       "      <td>4</td>\n",
       "      <td>0.737909</td>\n",
       "      <td>0.854649</td>\n",
       "      <td>65</td>\n",
       "      <td>58</td>\n",
       "    </tr>\n",
       "    <tr>\n",
       "      <th>65</th>\n",
       "      <td>gini</td>\n",
       "      <td>4</td>\n",
       "      <td>0.737909</td>\n",
       "      <td>0.854649</td>\n",
       "      <td>65</td>\n",
       "      <td>58</td>\n",
       "    </tr>\n",
       "    <tr>\n",
       "      <th>66</th>\n",
       "      <td>gini</td>\n",
       "      <td>3</td>\n",
       "      <td>0.713241</td>\n",
       "      <td>0.846419</td>\n",
       "      <td>67</td>\n",
       "      <td>70</td>\n",
       "    </tr>\n",
       "    <tr>\n",
       "      <th>67</th>\n",
       "      <td>gini</td>\n",
       "      <td>3</td>\n",
       "      <td>0.713241</td>\n",
       "      <td>0.846419</td>\n",
       "      <td>67</td>\n",
       "      <td>70</td>\n",
       "    </tr>\n",
       "    <tr>\n",
       "      <th>68</th>\n",
       "      <td>entropy</td>\n",
       "      <td>3</td>\n",
       "      <td>0.713094</td>\n",
       "      <td>0.848146</td>\n",
       "      <td>69</td>\n",
       "      <td>64</td>\n",
       "    </tr>\n",
       "    <tr>\n",
       "      <th>69</th>\n",
       "      <td>entropy</td>\n",
       "      <td>3</td>\n",
       "      <td>0.713094</td>\n",
       "      <td>0.848146</td>\n",
       "      <td>69</td>\n",
       "      <td>64</td>\n",
       "    </tr>\n",
       "    <tr>\n",
       "      <th>70</th>\n",
       "      <td>log_loss</td>\n",
       "      <td>3</td>\n",
       "      <td>0.713094</td>\n",
       "      <td>0.848146</td>\n",
       "      <td>69</td>\n",
       "      <td>64</td>\n",
       "    </tr>\n",
       "    <tr>\n",
       "      <th>71</th>\n",
       "      <td>log_loss</td>\n",
       "      <td>3</td>\n",
       "      <td>0.713094</td>\n",
       "      <td>0.848146</td>\n",
       "      <td>69</td>\n",
       "      <td>64</td>\n",
       "    </tr>\n",
       "  </tbody>\n",
       "</table>\n",
       "</div>"
      ],
      "text/plain": [
       "   param_criterion param_max_depth  mean_test_f1  mean_test_roc_auc  \\\n",
       "62        log_loss               4      0.738180           0.854074   \n",
       "63        log_loss               4      0.738180           0.854074   \n",
       "64            gini               4      0.737909           0.854649   \n",
       "65            gini               4      0.737909           0.854649   \n",
       "66            gini               3      0.713241           0.846419   \n",
       "67            gini               3      0.713241           0.846419   \n",
       "68         entropy               3      0.713094           0.848146   \n",
       "69         entropy               3      0.713094           0.848146   \n",
       "70        log_loss               3      0.713094           0.848146   \n",
       "71        log_loss               3      0.713094           0.848146   \n",
       "\n",
       "    rank_test_f1  rank_test_roc_auc  \n",
       "62            61                 60  \n",
       "63            61                 60  \n",
       "64            65                 58  \n",
       "65            65                 58  \n",
       "66            67                 70  \n",
       "67            67                 70  \n",
       "68            69                 64  \n",
       "69            69                 64  \n",
       "70            69                 64  \n",
       "71            69                 64  "
      ]
     },
     "metadata": {},
     "output_type": "display_data"
    }
   ],
   "source": [
    "df_results = print_top_low(grid_search, columns, ['rank_test_f1', 'index'])"
   ]
  },
  {
   "cell_type": "code",
   "execution_count": 18,
   "id": "4d847364",
   "metadata": {
    "execution": {
     "iopub.execute_input": "2023-12-14T23:12:03.680071Z",
     "iopub.status.busy": "2023-12-14T23:12:03.680071Z",
     "iopub.status.idle": "2023-12-14T23:12:03.700597Z",
     "shell.execute_reply": "2023-12-14T23:12:03.700597Z"
    },
    "papermill": {
     "duration": 0.030019,
     "end_time": "2023-12-14T23:12:03.702352",
     "exception": false,
     "start_time": "2023-12-14T23:12:03.672333",
     "status": "completed"
    },
    "tags": []
   },
   "outputs": [
    {
     "data": {
      "text/plain": [
       "True"
      ]
     },
     "execution_count": 18,
     "metadata": {},
     "output_type": "execute_result"
    }
   ],
   "source": [
    "is_fitted(grid_search.best_estimator_, X_train_tree)"
   ]
  },
  {
   "cell_type": "code",
   "execution_count": 19,
   "id": "69fba8c8",
   "metadata": {
    "execution": {
     "iopub.execute_input": "2023-12-14T23:12:03.720629Z",
     "iopub.status.busy": "2023-12-14T23:12:03.720629Z",
     "iopub.status.idle": "2023-12-14T23:12:07.245231Z",
     "shell.execute_reply": "2023-12-14T23:12:07.244796Z"
    },
    "papermill": {
     "duration": 3.532746,
     "end_time": "2023-12-14T23:12:07.247253",
     "exception": false,
     "start_time": "2023-12-14T23:12:03.714507",
     "status": "completed"
    },
    "tags": []
   },
   "outputs": [
    {
     "name": "stdout",
     "output_type": "stream",
     "text": [
      "estimators: 10\n",
      "f1 score: 0.834450\n",
      "estimators: 20\n"
     ]
    },
    {
     "name": "stdout",
     "output_type": "stream",
     "text": [
      "f1 score: 0.835305\n",
      "estimators: 30\n"
     ]
    },
    {
     "name": "stdout",
     "output_type": "stream",
     "text": [
      "f1 score: 0.837418\n",
      "estimators: 40\n"
     ]
    },
    {
     "name": "stdout",
     "output_type": "stream",
     "text": [
      "f1 score: 0.836352\n",
      "estimators: 50\n"
     ]
    },
    {
     "name": "stdout",
     "output_type": "stream",
     "text": [
      "f1 score: 0.837410\n",
      "estimators: 60\n"
     ]
    },
    {
     "name": "stdout",
     "output_type": "stream",
     "text": [
      "f1 score: 0.838555\n",
      "estimators: 70\n"
     ]
    },
    {
     "name": "stdout",
     "output_type": "stream",
     "text": [
      "f1 score: 0.840626\n",
      "estimators: 80\n"
     ]
    },
    {
     "name": "stdout",
     "output_type": "stream",
     "text": [
      "f1 score: 0.839337\n",
      "estimators: 90\n"
     ]
    },
    {
     "name": "stdout",
     "output_type": "stream",
     "text": [
      "f1 score: 0.840681\n",
      "estimators: 100\n"
     ]
    },
    {
     "name": "stdout",
     "output_type": "stream",
     "text": [
      "f1 score: 0.841687\n",
      "estimators: 110\n"
     ]
    },
    {
     "name": "stdout",
     "output_type": "stream",
     "text": [
      "f1 score: 0.839388\n",
      "estimators: 120\n"
     ]
    },
    {
     "name": "stdout",
     "output_type": "stream",
     "text": [
      "f1 score: 0.838699\n",
      "estimators: 130\n"
     ]
    },
    {
     "name": "stdout",
     "output_type": "stream",
     "text": [
      "f1 score: 0.839573\n",
      "estimators: 140\n"
     ]
    },
    {
     "name": "stdout",
     "output_type": "stream",
     "text": [
      "f1 score: 0.840006\n",
      "estimators: 150\n"
     ]
    },
    {
     "name": "stdout",
     "output_type": "stream",
     "text": [
      "f1 score: 0.839522\n"
     ]
    }
   ],
   "source": [
    "best_estimator = findBestEstimators(grid_search.best_estimator_, X_train_tree, y_train_tree)"
   ]
  },
  {
   "cell_type": "code",
   "execution_count": 20,
   "id": "35bda603",
   "metadata": {
    "execution": {
     "iopub.execute_input": "2023-12-14T23:12:07.259246Z",
     "iopub.status.busy": "2023-12-14T23:12:07.259246Z",
     "iopub.status.idle": "2023-12-14T23:12:07.901337Z",
     "shell.execute_reply": "2023-12-14T23:12:07.901337Z"
    },
    "papermill": {
     "duration": 0.649164,
     "end_time": "2023-12-14T23:12:07.902399",
     "exception": false,
     "start_time": "2023-12-14T23:12:07.253235",
     "status": "completed"
    },
    "tags": []
   },
   "outputs": [
    {
     "name": "stdout",
     "output_type": "stream",
     "text": [
      "threshold: 0.00\n",
      "f1 score: 0.675466\n",
      "threshold: 0.05\n",
      "f1 score: 0.680290\n",
      "threshold: 0.10\n",
      "f1 score: 0.701564\n",
      "threshold: 0.15\n",
      "f1 score: 0.750488\n",
      "threshold: 0.20\n",
      "f1 score: 0.793542\n",
      "threshold: 0.25\n",
      "f1 score: 0.821637\n",
      "threshold: 0.30\n"
     ]
    },
    {
     "name": "stdout",
     "output_type": "stream",
     "text": [
      "f1 score: 0.826953\n",
      "threshold: 0.35\n",
      "f1 score: 0.833921\n",
      "threshold: 0.40\n",
      "f1 score: 0.838041\n",
      "threshold: 0.45\n",
      "f1 score: 0.841552\n",
      "threshold: 0.50\n",
      "f1 score: 0.837418\n",
      "threshold: 0.55\n",
      "f1 score: 0.827020\n",
      "threshold: 0.60\n",
      "f1 score: 0.795834\n",
      "threshold: 0.65\n"
     ]
    },
    {
     "name": "stdout",
     "output_type": "stream",
     "text": [
      "f1 score: 0.759675\n",
      "threshold: 0.70\n",
      "f1 score: 0.724104\n",
      "threshold: 0.75\n",
      "f1 score: 0.651738\n",
      "threshold: 0.80\n",
      "f1 score: 0.615520\n",
      "threshold: 0.85\n",
      "f1 score: 0.581432\n",
      "threshold: 0.90\n",
      "f1 score: 0.517463\n",
      "threshold: 0.95\n",
      "f1 score: 0.378859\n",
      "threshold: 1.00\n"
     ]
    },
    {
     "name": "stdout",
     "output_type": "stream",
     "text": [
      "f1 score: 0.000000\n"
     ]
    }
   ],
   "source": [
    "# %%pipeline\n",
    "best_rfc_threshold = findBestThreshold(grid_search.best_estimator_, X_train_tree, y_train_tree)"
   ]
  },
  {
   "cell_type": "code",
   "execution_count": 21,
   "id": "79b26a0f",
   "metadata": {
    "execution": {
     "iopub.execute_input": "2023-12-14T23:12:07.915340Z",
     "iopub.status.busy": "2023-12-14T23:12:07.915340Z",
     "iopub.status.idle": "2023-12-14T23:12:07.930561Z",
     "shell.execute_reply": "2023-12-14T23:12:07.929638Z"
    },
    "papermill": {
     "duration": 0.021633,
     "end_time": "2023-12-14T23:12:07.930561",
     "exception": false,
     "start_time": "2023-12-14T23:12:07.908928",
     "status": "completed"
    },
    "tags": []
   },
   "outputs": [],
   "source": [
    "new_directory = 'models/'\n",
    "\n",
    "os.makedirs(new_directory, exist_ok=True)"
   ]
  },
  {
   "cell_type": "code",
   "execution_count": 22,
   "id": "9ae3652c",
   "metadata": {
    "execution": {
     "iopub.execute_input": "2023-12-14T23:12:07.933011Z",
     "iopub.status.busy": "2023-12-14T23:12:07.933011Z",
     "iopub.status.idle": "2023-12-14T23:12:08.210846Z",
     "shell.execute_reply": "2023-12-14T23:12:08.210846Z"
    },
    "papermill": {
     "duration": 0.29095,
     "end_time": "2023-12-14T23:12:08.223961",
     "exception": false,
     "start_time": "2023-12-14T23:12:07.933011",
     "status": "completed"
    },
    "tags": []
   },
   "outputs": [
    {
     "data": {
      "text/plain": [
       "['models/random_forest.pkl']"
      ]
     },
     "execution_count": 22,
     "metadata": {},
     "output_type": "execute_result"
    }
   ],
   "source": [
    "rfc_model = RandomForestClassifier(**best_estimator[0]).fit(X_train_tree, y_train_tree)\n",
    "\n",
    "joblib_logr = 'models/random_forest.pkl'\n",
    "joblib.dump(rfc_model, joblib_logr)"
   ]
  },
  {
   "cell_type": "code",
   "execution_count": null,
   "id": "99e07d02",
   "metadata": {
    "papermill": {
     "duration": 0.00707,
     "end_time": "2023-12-14T23:12:08.237321",
     "exception": false,
     "start_time": "2023-12-14T23:12:08.230251",
     "status": "completed"
    },
    "tags": []
   },
   "outputs": [],
   "source": []
  }
 ],
 "metadata": {
  "kernelspec": {
   "display_name": "yandex",
   "language": "python",
   "name": "yandex"
  },
  "language_info": {
   "codemirror_mode": {
    "name": "ipython",
    "version": 3
   },
   "file_extension": ".py",
   "mimetype": "text/x-python",
   "name": "python",
   "nbconvert_exporter": "python",
   "pygments_lexer": "ipython3",
   "version": "3.10.13"
  },
  "papermill": {
   "default_parameters": {},
   "duration": 67.729688,
   "end_time": "2023-12-14T23:12:08.867821",
   "environment_variables": {},
   "exception": null,
   "input_path": "D:\\Yandex_practicum\\Projects\\Data_Science\\random_forest.ipynb",
   "output_path": "D:\\Yandex_practicum\\Projects\\Data_Science\\random_forest.ipynb",
   "parameters": {},
   "start_time": "2023-12-14T23:11:01.138133",
   "version": "2.4.0"
  }
 },
 "nbformat": 4,
 "nbformat_minor": 5
}