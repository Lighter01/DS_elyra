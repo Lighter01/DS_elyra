{
 "cells": [
  {
   "cell_type": "code",
   "execution_count": null,
   "id": "1b25765a-27d3-4924-91d0-693f1328221f",
   "metadata": {
    "execution": {
     "iopub.execute_input": "2023-12-14T22:15:32.012328Z",
     "iopub.status.busy": "2023-12-14T22:15:32.012328Z",
     "iopub.status.idle": "2023-12-14T22:15:42.198516Z",
     "shell.execute_reply": "2023-12-14T22:15:42.198516Z"
    },
    "papermill": {
     "duration": 10.214004,
     "end_time": "2023-12-14T22:15:42.208739",
     "exception": false,
     "start_time": "2023-12-14T22:15:31.994735",
     "status": "completed"
    },
    "tags": []
   },
   "outputs": [],
   "source": [
    "!pip3 install -q numpy==1.22.4\n",
    "!pip3 install -q pandas==2.1.0\n",
    "!pip3 install -q matplotlib==3.7.2\n",
    "!pip3 install -q seaborn==0.12.2\n",
    "!pip3 install phik"
   ]
  },
  {
   "cell_type": "code",
   "execution_count": null,
   "id": "5c2cfc7f",
   "metadata": {
    "execution": {
     "iopub.execute_input": "2023-12-14T22:15:42.241504Z",
     "iopub.status.busy": "2023-12-14T22:15:42.240452Z",
     "iopub.status.idle": "2023-12-14T22:15:43.804233Z",
     "shell.execute_reply": "2023-12-14T22:15:43.804123Z"
    },
    "papermill": {
     "duration": 1.582423,
     "end_time": "2023-12-14T22:15:43.806758",
     "exception": false,
     "start_time": "2023-12-14T22:15:42.224335",
     "status": "completed"
    },
    "tags": []
   },
   "outputs": [],
   "source": [
    "import pandas as pd\n",
    "import numpy as np\n",
    "import matplotlib.pyplot as plt\n",
    "import seaborn as sns\n",
    "import phik\n",
    "\n",
    "import sweetviz as sv\n",
    "\n",
    "import os\n",
    "import sys\n",
    "import warnings\n"
   ]
  },
  {
   "cell_type": "code",
   "execution_count": null,
   "id": "7d8334a5",
   "metadata": {
    "execution": {
     "iopub.execute_input": "2023-12-14T22:15:43.838303Z",
     "iopub.status.busy": "2023-12-14T22:15:43.838303Z",
     "iopub.status.idle": "2023-12-14T22:15:43.850121Z",
     "shell.execute_reply": "2023-12-14T22:15:43.850121Z"
    },
    "papermill": {
     "duration": 0.027509,
     "end_time": "2023-12-14T22:15:43.850121",
     "exception": false,
     "start_time": "2023-12-14T22:15:43.822612",
     "status": "completed"
    },
    "tags": []
   },
   "outputs": [],
   "source": [
    "# pd.set_option('display.max_rows', None)\n",
    "pd.set_option('display.max_columns', None)\n",
    "np.set_printoptions(threshold=sys.maxsize)\n",
    "\n",
    "warnings.filterwarnings(action='ignore')"
   ]
  },
  {
   "cell_type": "code",
   "execution_count": null,
   "id": "1ef8a395",
   "metadata": {
    "execution": {
     "iopub.execute_input": "2023-12-14T22:15:43.880969Z",
     "iopub.status.busy": "2023-12-14T22:15:43.880969Z",
     "iopub.status.idle": "2023-12-14T22:15:43.957782Z",
     "shell.execute_reply": "2023-12-14T22:15:43.957782Z"
    },
    "papermill": {
     "duration": 0.095105,
     "end_time": "2023-12-14T22:15:43.957782",
     "exception": false,
     "start_time": "2023-12-14T22:15:43.862677",
     "status": "completed"
    },
    "tags": []
   },
   "outputs": [],
   "source": [
    "palette = sns.color_palette('Set2')\n",
    "sns.palplot(palette)"
   ]
  },
  {
   "cell_type": "markdown",
   "id": "4350df5e",
   "metadata": {
    "papermill": {
     "duration": 0.018874,
     "end_time": "2023-12-14T22:15:43.992726",
     "exception": false,
     "start_time": "2023-12-14T22:15:43.973852",
     "status": "completed"
    },
    "tags": []
   },
   "source": [
    "# Загрузка датасета и первичный осмотр данных"
   ]
  },
  {
   "cell_type": "code",
   "execution_count": null,
   "id": "fbd714da",
   "metadata": {
    "execution": {
     "iopub.execute_input": "2023-12-14T22:15:44.023706Z",
     "iopub.status.busy": "2023-12-14T22:15:44.023706Z",
     "iopub.status.idle": "2023-12-14T22:15:44.069213Z",
     "shell.execute_reply": "2023-12-14T22:15:44.069213Z"
    },
    "papermill": {
     "duration": 0.06704,
     "end_time": "2023-12-14T22:15:44.072675",
     "exception": false,
     "start_time": "2023-12-14T22:15:44.005635",
     "status": "completed"
    },
    "tags": []
   },
   "outputs": [],
   "source": [
    "path1 = '/datasets/train.csv'\n",
    "path2 = '/datasets/test.csv'\n",
    "\n",
    "def read_file(path):\n",
    "    df = pd.DataFrame()\n",
    "    if os.path.exists(path):\n",
    "        df = pd.read_csv(path, sep=',')\n",
    "    elif os.path.exists(path[1:]):\n",
    "        df = pd.read_csv(path[1:], sep=',')\n",
    "    else:\n",
    "        print('No such file or directory') \n",
    "        raise FileNotFoundError('No such file or directory')\n",
    "    return df\n",
    "\n",
    "df_train = read_file(path1)\n",
    "df_test = read_file(path2)"
   ]
  },
  {
   "cell_type": "code",
   "execution_count": null,
   "id": "8d771234",
   "metadata": {
    "execution": {
     "iopub.execute_input": "2023-12-14T22:15:44.104257Z",
     "iopub.status.busy": "2023-12-14T22:15:44.104257Z",
     "iopub.status.idle": "2023-12-14T22:15:44.133379Z",
     "shell.execute_reply": "2023-12-14T22:15:44.133379Z"
    },
    "papermill": {
     "duration": 0.049759,
     "end_time": "2023-12-14T22:15:44.134919",
     "exception": false,
     "start_time": "2023-12-14T22:15:44.085160",
     "status": "completed"
    },
    "tags": []
   },
   "outputs": [],
   "source": [
    "df_train.head(10)"
   ]
  },
  {
   "cell_type": "code",
   "execution_count": null,
   "id": "cb3e4339",
   "metadata": {
    "execution": {
     "iopub.execute_input": "2023-12-14T22:15:44.165908Z",
     "iopub.status.busy": "2023-12-14T22:15:44.165908Z",
     "iopub.status.idle": "2023-12-14T22:15:44.182679Z",
     "shell.execute_reply": "2023-12-14T22:15:44.181967Z"
    },
    "papermill": {
     "duration": 0.034357,
     "end_time": "2023-12-14T22:15:44.183685",
     "exception": false,
     "start_time": "2023-12-14T22:15:44.149328",
     "status": "completed"
    },
    "tags": []
   },
   "outputs": [],
   "source": [
    "df_test.head(10)"
   ]
  },
  {
   "cell_type": "code",
   "execution_count": null,
   "id": "27759f23",
   "metadata": {
    "execution": {
     "iopub.execute_input": "2023-12-14T22:15:44.229763Z",
     "iopub.status.busy": "2023-12-14T22:15:44.229763Z",
     "iopub.status.idle": "2023-12-14T22:15:44.262707Z",
     "shell.execute_reply": "2023-12-14T22:15:44.261834Z"
    },
    "papermill": {
     "duration": 0.065801,
     "end_time": "2023-12-14T22:15:44.263715",
     "exception": false,
     "start_time": "2023-12-14T22:15:44.197914",
     "status": "completed"
    },
    "tags": []
   },
   "outputs": [],
   "source": [
    "display(df_train.describe(), df_test.describe())"
   ]
  },
  {
   "cell_type": "code",
   "execution_count": null,
   "id": "004cc0e0",
   "metadata": {
    "execution": {
     "iopub.execute_input": "2023-12-14T22:15:44.298460Z",
     "iopub.status.busy": "2023-12-14T22:15:44.298460Z",
     "iopub.status.idle": "2023-12-14T22:15:44.342679Z",
     "shell.execute_reply": "2023-12-14T22:15:44.342242Z"
    },
    "papermill": {
     "duration": 0.061985,
     "end_time": "2023-12-14T22:15:44.344708",
     "exception": false,
     "start_time": "2023-12-14T22:15:44.282723",
     "status": "completed"
    },
    "tags": []
   },
   "outputs": [],
   "source": [
    "display(df_train.describe(include=['O']), df_test.describe(include=['O']))"
   ]
  },
  {
   "cell_type": "markdown",
   "id": "b4eb7d0a",
   "metadata": {
    "papermill": {
     "duration": 0.015514,
     "end_time": "2023-12-14T22:15:44.375272",
     "exception": false,
     "start_time": "2023-12-14T22:15:44.359758",
     "status": "completed"
    },
    "tags": []
   },
   "source": [
    "---"
   ]
  },
  {
   "cell_type": "markdown",
   "id": "98c85e3c",
   "metadata": {
    "papermill": {
     "duration": 0.018171,
     "end_time": "2023-12-14T22:15:44.410842",
     "exception": false,
     "start_time": "2023-12-14T22:15:44.392671",
     "status": "completed"
    },
    "tags": []
   },
   "source": [
    "# Анализ имеющихся проблем с данными"
   ]
  },
  {
   "cell_type": "code",
   "execution_count": null,
   "id": "6621ad0e",
   "metadata": {
    "execution": {
     "iopub.execute_input": "2023-12-14T22:15:44.452734Z",
     "iopub.status.busy": "2023-12-14T22:15:44.452734Z",
     "iopub.status.idle": "2023-12-14T22:15:44.469748Z",
     "shell.execute_reply": "2023-12-14T22:15:44.469748Z"
    },
    "papermill": {
     "duration": 0.046073,
     "end_time": "2023-12-14T22:15:44.472261",
     "exception": false,
     "start_time": "2023-12-14T22:15:44.426188",
     "status": "completed"
    },
    "tags": []
   },
   "outputs": [],
   "source": [
    "df_train.info()"
   ]
  },
  {
   "cell_type": "code",
   "execution_count": null,
   "id": "4caea4af",
   "metadata": {
    "execution": {
     "iopub.execute_input": "2023-12-14T22:15:44.507803Z",
     "iopub.status.busy": "2023-12-14T22:15:44.507803Z",
     "iopub.status.idle": "2023-12-14T22:15:44.517851Z",
     "shell.execute_reply": "2023-12-14T22:15:44.517851Z"
    },
    "papermill": {
     "duration": 0.030149,
     "end_time": "2023-12-14T22:15:44.517851",
     "exception": false,
     "start_time": "2023-12-14T22:15:44.487702",
     "status": "completed"
    },
    "tags": []
   },
   "outputs": [],
   "source": [
    "df_test.info()"
   ]
  },
  {
   "cell_type": "code",
   "execution_count": null,
   "id": "f0d8a7e4",
   "metadata": {
    "execution": {
     "iopub.execute_input": "2023-12-14T22:15:44.553607Z",
     "iopub.status.busy": "2023-12-14T22:15:44.553607Z",
     "iopub.status.idle": "2023-12-14T22:15:44.565688Z",
     "shell.execute_reply": "2023-12-14T22:15:44.565688Z"
    },
    "papermill": {
     "duration": 0.033865,
     "end_time": "2023-12-14T22:15:44.567341",
     "exception": false,
     "start_time": "2023-12-14T22:15:44.533476",
     "status": "completed"
    },
    "tags": []
   },
   "outputs": [],
   "source": [
    "df_train.isna().sum()"
   ]
  },
  {
   "cell_type": "code",
   "execution_count": null,
   "id": "d88cb163",
   "metadata": {
    "execution": {
     "iopub.execute_input": "2023-12-14T22:15:44.599600Z",
     "iopub.status.busy": "2023-12-14T22:15:44.599600Z",
     "iopub.status.idle": "2023-12-14T22:15:44.612661Z",
     "shell.execute_reply": "2023-12-14T22:15:44.612661Z"
    },
    "papermill": {
     "duration": 0.030621,
     "end_time": "2023-12-14T22:15:44.614672",
     "exception": false,
     "start_time": "2023-12-14T22:15:44.584051",
     "status": "completed"
    },
    "tags": []
   },
   "outputs": [],
   "source": [
    "df_test.isna().sum()"
   ]
  },
  {
   "cell_type": "code",
   "execution_count": null,
   "id": "8e78d315",
   "metadata": {
    "execution": {
     "iopub.execute_input": "2023-12-14T22:15:44.650325Z",
     "iopub.status.busy": "2023-12-14T22:15:44.650325Z",
     "iopub.status.idle": "2023-12-14T22:15:44.660446Z",
     "shell.execute_reply": "2023-12-14T22:15:44.660446Z"
    },
    "papermill": {
     "duration": 0.030232,
     "end_time": "2023-12-14T22:15:44.660446",
     "exception": false,
     "start_time": "2023-12-14T22:15:44.630214",
     "status": "completed"
    },
    "tags": []
   },
   "outputs": [],
   "source": [
    "def pass_value_barh(dfg, set_name, color='#1f77b4'):\n",
    "    try:\n",
    "        ax = (\n",
    "            (dfg.isna().mean()*100)\n",
    "            .to_frame()\n",
    "            .rename(columns = {0:'space'})\n",
    "            .query('space > 0')\n",
    "            .sort_values(by = 'space', ascending = True)\n",
    "            .plot(kind = 'barh', figsize = (19,6), rot = 0, legend = False, fontsize = 12, color=color)\n",
    "        )\n",
    "        ax.set_title(f'Percentage of Missing Values in {set_name} Columns\\n', fontsize=20, color='steelblue')\n",
    "        ax.set_xlabel('Percentage Missing', fontsize = 16)\n",
    "        ax.set_ylabel('Columns', fontsize = 16)\n",
    "        ax.grid(axis='x', linestyle='--', alpha=0.5)\n",
    "        ax.bar_label(ax.containers[0], label_type='edge', fmt='%.2f%%')\n",
    "    except:\n",
    "        print('пропусков не осталось :) или произошла ошибка в первой части функции ')"
   ]
  },
  {
   "cell_type": "code",
   "execution_count": null,
   "id": "d187ecb2",
   "metadata": {
    "execution": {
     "iopub.execute_input": "2023-12-14T22:15:44.695918Z",
     "iopub.status.busy": "2023-12-14T22:15:44.695918Z",
     "iopub.status.idle": "2023-12-14T22:15:44.999088Z",
     "shell.execute_reply": "2023-12-14T22:15:44.997990Z"
    },
    "papermill": {
     "duration": 0.319691,
     "end_time": "2023-12-14T22:15:45.000909",
     "exception": false,
     "start_time": "2023-12-14T22:15:44.681218",
     "status": "completed"
    },
    "tags": []
   },
   "outputs": [],
   "source": [
    "pass_value_barh(df_train, 'Train Set')"
   ]
  },
  {
   "cell_type": "code",
   "execution_count": null,
   "id": "61ee4468",
   "metadata": {
    "execution": {
     "iopub.execute_input": "2023-12-14T22:15:45.043811Z",
     "iopub.status.busy": "2023-12-14T22:15:45.043811Z",
     "iopub.status.idle": "2023-12-14T22:15:45.327931Z",
     "shell.execute_reply": "2023-12-14T22:15:45.327931Z"
    },
    "papermill": {
     "duration": 0.309064,
     "end_time": "2023-12-14T22:15:45.329088",
     "exception": false,
     "start_time": "2023-12-14T22:15:45.020024",
     "status": "completed"
    },
    "tags": []
   },
   "outputs": [],
   "source": [
    "pass_value_barh(df_test, 'Test Set', color='#2ca02c')"
   ]
  },
  {
   "cell_type": "code",
   "execution_count": null,
   "id": "18887b82",
   "metadata": {
    "execution": {
     "iopub.execute_input": "2023-12-14T22:15:45.377211Z",
     "iopub.status.busy": "2023-12-14T22:15:45.377211Z",
     "iopub.status.idle": "2023-12-14T22:15:45.395658Z",
     "shell.execute_reply": "2023-12-14T22:15:45.394906Z"
    },
    "papermill": {
     "duration": 0.044081,
     "end_time": "2023-12-14T22:15:45.396511",
     "exception": false,
     "start_time": "2023-12-14T22:15:45.352430",
     "status": "completed"
    },
    "tags": []
   },
   "outputs": [],
   "source": [
    "print(df_train.duplicated().sum(), df_test.duplicated().sum())"
   ]
  },
  {
   "cell_type": "markdown",
   "id": "a58b9969",
   "metadata": {
    "papermill": {
     "duration": 0.018964,
     "end_time": "2023-12-14T22:15:45.457363",
     "exception": false,
     "start_time": "2023-12-14T22:15:45.438399",
     "status": "completed"
    },
    "tags": []
   },
   "source": [
    "---"
   ]
  },
  {
   "cell_type": "markdown",
   "id": "08e25092",
   "metadata": {
    "papermill": {
     "duration": 0.019899,
     "end_time": "2023-12-14T22:15:45.498000",
     "exception": false,
     "start_time": "2023-12-14T22:15:45.478101",
     "status": "completed"
    },
    "tags": []
   },
   "source": [
    "# Предобработка тренировочного датасета и первичный анализ"
   ]
  },
  {
   "cell_type": "code",
   "execution_count": null,
   "id": "df7e2f5b",
   "metadata": {
    "execution": {
     "iopub.execute_input": "2023-12-14T22:15:45.540306Z",
     "iopub.status.busy": "2023-12-14T22:15:45.537902Z",
     "iopub.status.idle": "2023-12-14T22:15:45.553342Z",
     "shell.execute_reply": "2023-12-14T22:15:45.552459Z"
    },
    "papermill": {
     "duration": 0.036832,
     "end_time": "2023-12-14T22:15:45.555406",
     "exception": false,
     "start_time": "2023-12-14T22:15:45.518574",
     "status": "completed"
    },
    "tags": []
   },
   "outputs": [],
   "source": [
    "def plot_size(column, labels, explode, palette):\n",
    "    values = df_train[column].value_counts()\n",
    "    \n",
    "    lb = ''\n",
    "    if labels == '':\n",
    "        lb = values.index\n",
    "    else:\n",
    "        lb = labels\n",
    "    \n",
    "    fig, ax = plt.subplots(2, 1, figsize=(12, 12), tight_layout=True)\n",
    "\n",
    "    ax[0].bar(lb, values, color=palette)\n",
    "    ax[0].grid(True, color='grey', axis='y', linestyle='-.', linewidth=0.5, alpha=0.6)\n",
    "    ax[0].set_xlabel('Home Planet', fontsize=16)\n",
    "    ax[0].set_ylabel('Number of transported clients', fontsize=14)\n",
    "    ax[0].set_title(f'Total number of transported clients over {column}', fontsize=14)\n",
    "    ax[0].bar_label(ax[0].containers[0], \\\n",
    "                 label_type='center', fmt='%.2f', fontsize=14, color='white')\n",
    "    ax[0].tick_params(axis='x', labelsize=11)\n",
    "    ax[0].tick_params(axis='y', labelsize=11)\n",
    "    \n",
    "    ax[1].pie(values, labels=lb, autopct='%1.2f%%', explode=explode, textprops={'fontsize':14}, startangle=100, colors=palette)\n",
    "    ax[1].set_title(f'Percentage of {column} by the number of flights', fontsize=16)\n",
    "\n",
    "    plt.show()\n",
    "    \n",
    "    return"
   ]
  },
  {
   "cell_type": "code",
   "execution_count": null,
   "id": "579f9fd1",
   "metadata": {
    "execution": {
     "iopub.execute_input": "2023-12-14T22:15:45.596116Z",
     "iopub.status.busy": "2023-12-14T22:15:45.596116Z",
     "iopub.status.idle": "2023-12-14T22:15:45.604990Z",
     "shell.execute_reply": "2023-12-14T22:15:45.604990Z"
    },
    "papermill": {
     "duration": 0.033039,
     "end_time": "2023-12-14T22:15:45.607920",
     "exception": false,
     "start_time": "2023-12-14T22:15:45.574881",
     "status": "completed"
    },
    "tags": []
   },
   "outputs": [],
   "source": [
    "def plot_size_multiple(dfs, column, labels, explode, palette, width=15, height=6):\n",
    "    df_number = len(dfs)\n",
    "    fig, axs = plt.subplots(df_number, 2, figsize=(width, height * df_number), tight_layout=True)\n",
    "\n",
    "    for i, df in enumerate(dfs):\n",
    "        values = df[column].value_counts()\n",
    "        \n",
    "        lb = ''\n",
    "        if labels == '':\n",
    "            lb = values.index\n",
    "        else:\n",
    "            lb = labels\n",
    "\n",
    "        axs[0][i].bar(lb, values, color=palette)\n",
    "        axs[0][i].grid(True, color='grey', axis='y', linestyle='-.', linewidth=0.5, alpha=0.6)\n",
    "        axs[0][i].set_xlabel('Home Planet', fontsize=14)\n",
    "        axs[0][i].set_ylabel('Number of transported clients', fontsize=12)\n",
    "        axs[0][i].set_title(f'Total number of transported clients over {column}', fontsize=12)\n",
    "        axs[0][i].bar_label(axs[0][i].containers[0], \\\n",
    "                    label_type='center', fmt='%.2f', fontsize=12, color='white')\n",
    "        axs[0][i].tick_params(axis='x', labelsize=11)\n",
    "        axs[0][i].tick_params(axis='y', labelsize=11)\n",
    "        \n",
    "        axs[1][i].pie(values, labels=lb, autopct='%1.2f%%', explode=explode, textprops={'fontsize':12}, startangle=100, colors=palette)\n",
    "        axs[1][i].set_title(f'Percentage of {column} by the number of flights', fontsize=16)\n",
    "\n",
    "    plt.show()\n",
    "    \n",
    "    return"
   ]
  },
  {
   "cell_type": "code",
   "execution_count": null,
   "id": "83b6d2d9",
   "metadata": {
    "execution": {
     "iopub.execute_input": "2023-12-14T22:15:45.649512Z",
     "iopub.status.busy": "2023-12-14T22:15:45.648467Z",
     "iopub.status.idle": "2023-12-14T22:15:45.662678Z",
     "shell.execute_reply": "2023-12-14T22:15:45.661922Z"
    },
    "papermill": {
     "duration": 0.036788,
     "end_time": "2023-12-14T22:15:45.664814",
     "exception": false,
     "start_time": "2023-12-14T22:15:45.628026",
     "status": "completed"
    },
    "tags": []
   },
   "outputs": [],
   "source": [
    "def plot_tab(column, horizontal=False):\n",
    "    fig, ax = plt.subplots(figsize=(6, 5))\n",
    "    tab = pd.crosstab(df_train[column], df_train['Transported'])\n",
    "    display(tab)\n",
    "    \n",
    "    if horizontal:\n",
    "        tab.div(tab.sum(axis=1), axis=0).plot(kind=\"barh\", stacked=True, color=[palette[1], palette[2]], ax=ax)\n",
    "        ax.set_xlabel('Proportion', fontsize=12)\n",
    "        ax.set_ylabel(column, fontsize=12)\n",
    "        ax.grid(True, color='grey', axis='x', linestyle='-.', linewidth=0.5, alpha=0.6)\n",
    "        ax.set_xlim(0, 1)\n",
    "        ax.set_xticks([0.0, 0.2, 0.4, 0.5, 0.6, 0.8, 1.0])\n",
    "        ax.legend(title='Transported', loc='upper left', labels=['False', 'True'], bbox_to_anchor=(1, 1))\n",
    "        ax.axvline(x=0.5, color='green', linestyle='--', alpha=0.7)\n",
    "    else:\n",
    "        tab.div(tab.sum(axis=1), axis=0).plot(kind=\"bar\", stacked=True, color=[palette[1], palette[2]], ax=ax)\n",
    "        ax.set_xlabel(column)\n",
    "        ax.set_ylabel('Proportion')\n",
    "        ax.grid(True, color='grey', axis='y', linestyle='-.', linewidth=0.5, alpha=0.6)\n",
    "        ax.legend(title='Transported', loc='upper left', labels=['False', 'True'], bbox_to_anchor=(1, 1))\n",
    "        \n",
    "    plt.xticks(rotation=0)\n",
    "    ax.bar_label(ax.containers[0], label_type='center', fmt='%.2f')\n",
    "    ax.bar_label(ax.containers[1], label_type='center', fmt='%.2f')\n",
    "    ax.set_title(f'Stacked Bar Chart of {column} vs. Transported')\n",
    "    \n",
    "    plt.show()\n",
    "    \n",
    "    return"
   ]
  },
  {
   "cell_type": "markdown",
   "id": "d162b63f",
   "metadata": {
    "papermill": {
     "duration": 0.020668,
     "end_time": "2023-12-14T22:15:45.705090",
     "exception": false,
     "start_time": "2023-12-14T22:15:45.684422",
     "status": "completed"
    },
    "tags": []
   },
   "source": [
    "---"
   ]
  },
  {
   "cell_type": "markdown",
   "id": "0e016212",
   "metadata": {
    "papermill": {
     "duration": 0.019888,
     "end_time": "2023-12-14T22:15:45.744589",
     "exception": false,
     "start_time": "2023-12-14T22:15:45.724701",
     "status": "completed"
    },
    "tags": []
   },
   "source": [
    "## Transported"
   ]
  },
  {
   "cell_type": "code",
   "execution_count": null,
   "id": "d37e1c84",
   "metadata": {
    "execution": {
     "iopub.execute_input": "2023-12-14T22:15:45.786185Z",
     "iopub.status.busy": "2023-12-14T22:15:45.785176Z",
     "iopub.status.idle": "2023-12-14T22:15:45.796108Z",
     "shell.execute_reply": "2023-12-14T22:15:45.795316Z"
    },
    "papermill": {
     "duration": 0.033316,
     "end_time": "2023-12-14T22:15:45.797165",
     "exception": false,
     "start_time": "2023-12-14T22:15:45.763849",
     "status": "completed"
    },
    "tags": []
   },
   "outputs": [],
   "source": [
    "df_train['Transported'].value_counts(dropna=False)"
   ]
  },
  {
   "cell_type": "code",
   "execution_count": null,
   "id": "d50e24e1",
   "metadata": {
    "execution": {
     "iopub.execute_input": "2023-12-14T22:15:45.838233Z",
     "iopub.status.busy": "2023-12-14T22:15:45.838233Z",
     "iopub.status.idle": "2023-12-14T22:15:45.844229Z",
     "shell.execute_reply": "2023-12-14T22:15:45.843746Z"
    },
    "papermill": {
     "duration": 0.027729,
     "end_time": "2023-12-14T22:15:45.845781",
     "exception": false,
     "start_time": "2023-12-14T22:15:45.818052",
     "status": "completed"
    },
    "tags": []
   },
   "outputs": [],
   "source": [
    "df_train['Transported'].dtype"
   ]
  },
  {
   "cell_type": "code",
   "execution_count": null,
   "id": "d9e56647",
   "metadata": {
    "execution": {
     "iopub.execute_input": "2023-12-14T22:15:45.886343Z",
     "iopub.status.busy": "2023-12-14T22:15:45.885329Z",
     "iopub.status.idle": "2023-12-14T22:15:45.959625Z",
     "shell.execute_reply": "2023-12-14T22:15:45.959270Z"
    },
    "papermill": {
     "duration": 0.096753,
     "end_time": "2023-12-14T22:15:45.961752",
     "exception": false,
     "start_time": "2023-12-14T22:15:45.864999",
     "status": "completed"
    },
    "tags": []
   },
   "outputs": [],
   "source": [
    "passanger_transported = df_train['Transported'].value_counts()\n",
    "\n",
    "plt.figure(figsize=(8, 6))\n",
    "\n",
    "plt.pie(passanger_transported, labels=['Yes', 'No'],\n",
    "                                    autopct='%1.2f%%', explode=(0.01, 0), textprops={'fontsize':14},\n",
    "                                    startangle=100, colors=sns.color_palette('Set2'))\n",
    "plt.title('Rate of (not) transported passangers', fontsize=16)\n",
    "\n",
    "display(passanger_transported.to_frame())\n",
    "plt.show()"
   ]
  },
  {
   "cell_type": "markdown",
   "id": "09bfe3b2",
   "metadata": {
    "papermill": {
     "duration": 0.019747,
     "end_time": "2023-12-14T22:15:46.002028",
     "exception": false,
     "start_time": "2023-12-14T22:15:45.982281",
     "status": "completed"
    },
    "tags": []
   },
   "source": [
    "Видно, что данные разделены практически идеально поровну на две категории. Лишний раз стратифицировать данные, скорее всего, не придется при составлении train, val и test датасетов (хотя test сет уже есть). Да и в общем с классами равного размера проще работать."
   ]
  },
  {
   "cell_type": "markdown",
   "id": "590c1fcb",
   "metadata": {
    "papermill": {
     "duration": 0.020409,
     "end_time": "2023-12-14T22:15:46.044897",
     "exception": false,
     "start_time": "2023-12-14T22:15:46.024488",
     "status": "completed"
    },
    "tags": []
   },
   "source": [
    "---"
   ]
  },
  {
   "cell_type": "markdown",
   "id": "d81a8690",
   "metadata": {
    "papermill": {
     "duration": 0.021196,
     "end_time": "2023-12-14T22:15:46.086797",
     "exception": false,
     "start_time": "2023-12-14T22:15:46.065601",
     "status": "completed"
    },
    "tags": []
   },
   "source": [
    "## HomePlanet"
   ]
  },
  {
   "cell_type": "code",
   "execution_count": null,
   "id": "01e5d588",
   "metadata": {
    "execution": {
     "iopub.execute_input": "2023-12-14T22:15:46.130992Z",
     "iopub.status.busy": "2023-12-14T22:15:46.129929Z",
     "iopub.status.idle": "2023-12-14T22:15:46.142034Z",
     "shell.execute_reply": "2023-12-14T22:15:46.141294Z"
    },
    "papermill": {
     "duration": 0.036021,
     "end_time": "2023-12-14T22:15:46.144103",
     "exception": false,
     "start_time": "2023-12-14T22:15:46.108082",
     "status": "completed"
    },
    "tags": []
   },
   "outputs": [],
   "source": [
    "df_train['HomePlanet'].value_counts(dropna=False)"
   ]
  },
  {
   "cell_type": "code",
   "execution_count": null,
   "id": "ea77478e",
   "metadata": {
    "execution": {
     "iopub.execute_input": "2023-12-14T22:15:46.197309Z",
     "iopub.status.busy": "2023-12-14T22:15:46.196246Z",
     "iopub.status.idle": "2023-12-14T22:15:46.202820Z",
     "shell.execute_reply": "2023-12-14T22:15:46.202013Z"
    },
    "papermill": {
     "duration": 0.050535,
     "end_time": "2023-12-14T22:15:46.217996",
     "exception": false,
     "start_time": "2023-12-14T22:15:46.167461",
     "status": "completed"
    },
    "tags": []
   },
   "outputs": [],
   "source": [
    "# как работает crosstab\n",
    "# (df_train.groupby('HomePlanet')['Transported']\n",
    "#  .value_counts()\n",
    "#  .sort_index(level=[0, 1])\n",
    "#  .to_frame()\n",
    "#  .rename(columns={'Transported': 'count'})\n",
    "# )"
   ]
  },
  {
   "cell_type": "code",
   "execution_count": null,
   "id": "32eed44e",
   "metadata": {
    "execution": {
     "iopub.execute_input": "2023-12-14T22:15:46.266805Z",
     "iopub.status.busy": "2023-12-14T22:15:46.265807Z",
     "iopub.status.idle": "2023-12-14T22:15:46.721940Z",
     "shell.execute_reply": "2023-12-14T22:15:46.721940Z"
    },
    "papermill": {
     "duration": 0.483615,
     "end_time": "2023-12-14T22:15:46.723814",
     "exception": false,
     "start_time": "2023-12-14T22:15:46.240199",
     "status": "completed"
    },
    "tags": []
   },
   "outputs": [],
   "source": [
    "plot_size_multiple([df_train, df_test], 'HomePlanet', '', (0.01, 0.01, 0.01), [palette[0], palette[2], palette[1]])"
   ]
  },
  {
   "cell_type": "code",
   "execution_count": null,
   "id": "e40c5073",
   "metadata": {
    "execution": {
     "iopub.execute_input": "2023-12-14T22:15:46.776580Z",
     "iopub.status.busy": "2023-12-14T22:15:46.776580Z",
     "iopub.status.idle": "2023-12-14T22:15:46.922051Z",
     "shell.execute_reply": "2023-12-14T22:15:46.921808Z"
    },
    "papermill": {
     "duration": 0.171403,
     "end_time": "2023-12-14T22:15:46.923178",
     "exception": false,
     "start_time": "2023-12-14T22:15:46.751775",
     "status": "completed"
    },
    "tags": []
   },
   "outputs": [],
   "source": [
    "plot_tab('HomePlanet', True)"
   ]
  },
  {
   "cell_type": "code",
   "execution_count": null,
   "id": "e4c11f1e",
   "metadata": {
    "execution": {
     "iopub.execute_input": "2023-12-14T22:15:46.974529Z",
     "iopub.status.busy": "2023-12-14T22:15:46.973999Z",
     "iopub.status.idle": "2023-12-14T22:15:46.986110Z",
     "shell.execute_reply": "2023-12-14T22:15:46.985043Z"
    },
    "papermill": {
     "duration": 0.039983,
     "end_time": "2023-12-14T22:15:46.987768",
     "exception": false,
     "start_time": "2023-12-14T22:15:46.947785",
     "status": "completed"
    },
    "tags": []
   },
   "outputs": [],
   "source": [
    "df_survived_homeplanet = (df_train.groupby('HomePlanet')['Transported']\n",
    " .mean()\n",
    " .to_frame()\n",
    " .rename(columns={'Transported': 'transported_rate'})\n",
    " .sort_values(by=['transported_rate'])\n",
    ")\n",
    "df_survived_homeplanet"
   ]
  },
  {
   "cell_type": "code",
   "execution_count": null,
   "id": "f26059a8",
   "metadata": {
    "execution": {
     "iopub.execute_input": "2023-12-14T22:15:47.033448Z",
     "iopub.status.busy": "2023-12-14T22:15:47.033448Z",
     "iopub.status.idle": "2023-12-14T22:15:47.163911Z",
     "shell.execute_reply": "2023-12-14T22:15:47.163362Z"
    },
    "papermill": {
     "duration": 0.153081,
     "end_time": "2023-12-14T22:15:47.165006",
     "exception": false,
     "start_time": "2023-12-14T22:15:47.011925",
     "status": "completed"
    },
    "tags": []
   },
   "outputs": [],
   "source": [
    "fig, ax = plt.subplots(figsize=(10, 6))\n",
    "tab = pd.crosstab(df_train['HomePlanet'], df_train['Transported'])\n",
    "\n",
    "bars = ax.bar(df_survived_homeplanet.index, df_survived_homeplanet.transported_rate, color=sns.color_palette('Set2'))\n",
    "ax.grid(True, color='grey', axis='y', linestyle='-.', linewidth=0.5, alpha=0.6)\n",
    "ax.set_xlabel('Home Planet', fontsize=12)\n",
    "ax.set_ylabel('Rate of transported clients', fontsize=12)\n",
    "ax.set_title('Rate of transported over home planets', fontsize=14)\n",
    "ax.bar_label(bars, labels=[f'{y}/{x+y}' for x, y in tab[:].values], \\\n",
    "             label_type='center', fmt='%.2f', fontsize=14, color='white')\n",
    "\n",
    "plt.show()"
   ]
  },
  {
   "cell_type": "code",
   "execution_count": null,
   "id": "30f32d37",
   "metadata": {
    "execution": {
     "iopub.execute_input": "2023-12-14T22:15:47.230065Z",
     "iopub.status.busy": "2023-12-14T22:15:47.229016Z",
     "iopub.status.idle": "2023-12-14T22:15:47.247006Z",
     "shell.execute_reply": "2023-12-14T22:15:47.245896Z"
    },
    "papermill": {
     "duration": 0.056259,
     "end_time": "2023-12-14T22:15:47.248045",
     "exception": false,
     "start_time": "2023-12-14T22:15:47.191786",
     "status": "completed"
    },
    "tags": []
   },
   "outputs": [],
   "source": [
    "df_train[df_train['HomePlanet'].isna()]['Transported'].mean()"
   ]
  },
  {
   "cell_type": "code",
   "execution_count": null,
   "id": "836e0a92",
   "metadata": {
    "execution": {
     "iopub.execute_input": "2023-12-14T22:15:47.299254Z",
     "iopub.status.busy": "2023-12-14T22:15:47.299254Z",
     "iopub.status.idle": "2023-12-14T22:15:47.307731Z",
     "shell.execute_reply": "2023-12-14T22:15:47.307026Z"
    },
    "papermill": {
     "duration": 0.037211,
     "end_time": "2023-12-14T22:15:47.309889",
     "exception": false,
     "start_time": "2023-12-14T22:15:47.272678",
     "status": "completed"
    },
    "tags": []
   },
   "outputs": [],
   "source": [
    "df_train.loc[df_train['HomePlanet'].isna(), 'HomePlanet'] = 'Mars'"
   ]
  },
  {
   "cell_type": "code",
   "execution_count": null,
   "id": "a58a9adf",
   "metadata": {
    "execution": {
     "iopub.execute_input": "2023-12-14T22:15:47.360019Z",
     "iopub.status.busy": "2023-12-14T22:15:47.359511Z",
     "iopub.status.idle": "2023-12-14T22:15:47.368337Z",
     "shell.execute_reply": "2023-12-14T22:15:47.367327Z"
    },
    "papermill": {
     "duration": 0.035689,
     "end_time": "2023-12-14T22:15:47.369974",
     "exception": false,
     "start_time": "2023-12-14T22:15:47.334285",
     "status": "completed"
    },
    "tags": []
   },
   "outputs": [],
   "source": [
    "df_train['HomePlanet'].value_counts(dropna=False)"
   ]
  },
  {
   "cell_type": "markdown",
   "id": "59d69dca",
   "metadata": {
    "papermill": {
     "duration": 0.027879,
     "end_time": "2023-12-14T22:15:47.424746",
     "exception": false,
     "start_time": "2023-12-14T22:15:47.396867",
     "status": "completed"
    },
    "tags": []
   },
   "source": [
    "По графикам выше можно сделать несколько наблюдений:\n",
    "* кол-во перелетов с Европы и с Марса довольно близко - $2131$ и $1759$ соответственно;\n",
    "* больше всего путеществий наичанется с Земли - $4602$ перелета;\n",
    "* чаще всего пассажиры успешно добирались до цели, стартуя с Европы - доля успехов около $2/3$;\n",
    "* с Марса добираются до пунктов назначения примерно $50$% пассажиров (или скорее, что половина путешествий заканчивается успехом);\n",
    "* чуть больше $40$% перелетов с Земли завершаются успешо.\n",
    "\n",
    "Для всех имеющихся строк с пропуском в графе \"HomePlanet\" была посчитана средняя доля успешных перелетов, после чего все пропуски были добавлены к той их трех известных категорий, чей показатель среднего процента успешных перелетов был схожим. В данном случае это оказалась категория \"Mars\"."
   ]
  },
  {
   "cell_type": "markdown",
   "id": "17d9db69",
   "metadata": {
    "papermill": {
     "duration": 0.024659,
     "end_time": "2023-12-14T22:15:47.474961",
     "exception": false,
     "start_time": "2023-12-14T22:15:47.450302",
     "status": "completed"
    },
    "tags": []
   },
   "source": [
    "---"
   ]
  },
  {
   "cell_type": "markdown",
   "id": "86dfe5d4",
   "metadata": {
    "papermill": {
     "duration": 0.025741,
     "end_time": "2023-12-14T22:15:47.526001",
     "exception": false,
     "start_time": "2023-12-14T22:15:47.500260",
     "status": "completed"
    },
    "tags": []
   },
   "source": [
    "## CryoSleep"
   ]
  },
  {
   "cell_type": "code",
   "execution_count": null,
   "id": "0747e4c7",
   "metadata": {
    "execution": {
     "iopub.execute_input": "2023-12-14T22:15:47.578548Z",
     "iopub.status.busy": "2023-12-14T22:15:47.577289Z",
     "iopub.status.idle": "2023-12-14T22:15:47.599041Z",
     "shell.execute_reply": "2023-12-14T22:15:47.598743Z"
    },
    "papermill": {
     "duration": 0.048709,
     "end_time": "2023-12-14T22:15:47.600450",
     "exception": false,
     "start_time": "2023-12-14T22:15:47.551741",
     "status": "completed"
    },
    "tags": []
   },
   "outputs": [],
   "source": [
    "df_train['CryoSleep'].value_counts(dropna=False)"
   ]
  },
  {
   "cell_type": "code",
   "execution_count": null,
   "id": "0b4b5a40",
   "metadata": {
    "execution": {
     "iopub.execute_input": "2023-12-14T22:15:47.652738Z",
     "iopub.status.busy": "2023-12-14T22:15:47.652738Z",
     "iopub.status.idle": "2023-12-14T22:15:48.067125Z",
     "shell.execute_reply": "2023-12-14T22:15:48.067125Z"
    },
    "papermill": {
     "duration": 0.442966,
     "end_time": "2023-12-14T22:15:48.068219",
     "exception": false,
     "start_time": "2023-12-14T22:15:47.625253",
     "status": "completed"
    },
    "tags": []
   },
   "outputs": [],
   "source": [
    "plot_size_multiple([df_train, df_test], 'CryoSleep', ['No CryoSleep', 'CryoSleep'], (0.01, 0), palette)"
   ]
  },
  {
   "cell_type": "code",
   "execution_count": null,
   "id": "38cccf83",
   "metadata": {
    "execution": {
     "iopub.execute_input": "2023-12-14T22:15:48.123808Z",
     "iopub.status.busy": "2023-12-14T22:15:48.123808Z",
     "iopub.status.idle": "2023-12-14T22:15:48.141700Z",
     "shell.execute_reply": "2023-12-14T22:15:48.141700Z"
    },
    "papermill": {
     "duration": 0.046699,
     "end_time": "2023-12-14T22:15:48.143850",
     "exception": false,
     "start_time": "2023-12-14T22:15:48.097151",
     "status": "completed"
    },
    "tags": []
   },
   "outputs": [],
   "source": [
    "# df_cryo_transp = (df_train.groupby('CryoSleep')['Transported']\n",
    "#  .value_counts()\n",
    "#  .sort_index(level=[0, 1])\n",
    "#  .unstack(level=1)\n",
    "# )\n",
    "# df_cryo_transp\n",
    "\n",
    "tab = pd.crosstab(df_train['CryoSleep'], df_train['Transported'])\n",
    "tab"
   ]
  },
  {
   "cell_type": "code",
   "execution_count": null,
   "id": "2588dd63",
   "metadata": {
    "execution": {
     "iopub.execute_input": "2023-12-14T22:15:48.194767Z",
     "iopub.status.busy": "2023-12-14T22:15:48.192004Z",
     "iopub.status.idle": "2023-12-14T22:15:48.337720Z",
     "shell.execute_reply": "2023-12-14T22:15:48.337720Z"
    },
    "papermill": {
     "duration": 0.172151,
     "end_time": "2023-12-14T22:15:48.337720",
     "exception": false,
     "start_time": "2023-12-14T22:15:48.165569",
     "status": "completed"
    },
    "tags": []
   },
   "outputs": [],
   "source": [
    "plot_tab('CryoSleep')"
   ]
  },
  {
   "cell_type": "code",
   "execution_count": null,
   "id": "c41c7c33",
   "metadata": {
    "execution": {
     "iopub.execute_input": "2023-12-14T22:15:48.399037Z",
     "iopub.status.busy": "2023-12-14T22:15:48.391675Z",
     "iopub.status.idle": "2023-12-14T22:15:48.416901Z",
     "shell.execute_reply": "2023-12-14T22:15:48.416901Z"
    },
    "papermill": {
     "duration": 0.057419,
     "end_time": "2023-12-14T22:15:48.419186",
     "exception": false,
     "start_time": "2023-12-14T22:15:48.361767",
     "status": "completed"
    },
    "tags": []
   },
   "outputs": [],
   "source": [
    "condition = df_train['CryoSleep'].isna()\n",
    "selected_rows = df_train.loc[condition]\n",
    "\n",
    "df_train.loc[condition, 'CryoSleep'] = \\\n",
    "    [True if tr else False for tr in selected_rows['Transported']]"
   ]
  },
  {
   "cell_type": "code",
   "execution_count": null,
   "id": "c4897903",
   "metadata": {
    "execution": {
     "iopub.execute_input": "2023-12-14T22:15:48.471848Z",
     "iopub.status.busy": "2023-12-14T22:15:48.471848Z",
     "iopub.status.idle": "2023-12-14T22:15:48.480541Z",
     "shell.execute_reply": "2023-12-14T22:15:48.480541Z"
    },
    "papermill": {
     "duration": 0.036055,
     "end_time": "2023-12-14T22:15:48.483085",
     "exception": false,
     "start_time": "2023-12-14T22:15:48.447030",
     "status": "completed"
    },
    "tags": []
   },
   "outputs": [],
   "source": [
    "df_train['CryoSleep'].value_counts(dropna=False)"
   ]
  },
  {
   "cell_type": "code",
   "execution_count": null,
   "id": "dc084adc",
   "metadata": {
    "execution": {
     "iopub.execute_input": "2023-12-14T22:15:48.535334Z",
     "iopub.status.busy": "2023-12-14T22:15:48.533889Z",
     "iopub.status.idle": "2023-12-14T22:15:48.542876Z",
     "shell.execute_reply": "2023-12-14T22:15:48.542876Z"
    },
    "papermill": {
     "duration": 0.043257,
     "end_time": "2023-12-14T22:15:48.544981",
     "exception": false,
     "start_time": "2023-12-14T22:15:48.501724",
     "status": "completed"
    },
    "tags": []
   },
   "outputs": [],
   "source": [
    "df_train['CryoSleep'] = df_train['CryoSleep'].astype(bool)\n",
    "df_train['CryoSleep'].dtype"
   ]
  },
  {
   "cell_type": "markdown",
   "id": "a14e2539",
   "metadata": {
    "papermill": {
     "duration": 0.029177,
     "end_time": "2023-12-14T22:15:48.592070",
     "exception": false,
     "start_time": "2023-12-14T22:15:48.562893",
     "status": "completed"
    },
    "tags": []
   },
   "source": [
    "Судя по графикам выше, можно предположить, что данный параметр является довольно важным для дальнейшей классификации полетов и определения таргета. Явно имеется некая закономерность, что перелеты, совершаемые в состоянии криосна, заканчиваются успехами намного чаще, чем перелеты не в криосне."
   ]
  },
  {
   "cell_type": "markdown",
   "id": "e36bdc4d",
   "metadata": {
    "papermill": {
     "duration": 0.026487,
     "end_time": "2023-12-14T22:15:48.648075",
     "exception": false,
     "start_time": "2023-12-14T22:15:48.621588",
     "status": "completed"
    },
    "tags": []
   },
   "source": [
    "---"
   ]
  },
  {
   "cell_type": "markdown",
   "id": "fa681eae",
   "metadata": {
    "papermill": {
     "duration": 0.025166,
     "end_time": "2023-12-14T22:15:48.699578",
     "exception": false,
     "start_time": "2023-12-14T22:15:48.674412",
     "status": "completed"
    },
    "tags": []
   },
   "source": [
    "## Cabin"
   ]
  },
  {
   "cell_type": "code",
   "execution_count": null,
   "id": "fd90e740",
   "metadata": {
    "execution": {
     "iopub.execute_input": "2023-12-14T22:15:48.751694Z",
     "iopub.status.busy": "2023-12-14T22:15:48.751694Z",
     "iopub.status.idle": "2023-12-14T22:15:48.763916Z",
     "shell.execute_reply": "2023-12-14T22:15:48.762908Z"
    },
    "papermill": {
     "duration": 0.03723,
     "end_time": "2023-12-14T22:15:48.763916",
     "exception": false,
     "start_time": "2023-12-14T22:15:48.726686",
     "status": "completed"
    },
    "tags": []
   },
   "outputs": [],
   "source": [
    "df_train['Cabin'].isna().sum()"
   ]
  },
  {
   "cell_type": "code",
   "execution_count": null,
   "id": "b7f7a174",
   "metadata": {
    "execution": {
     "iopub.execute_input": "2023-12-14T22:15:48.814411Z",
     "iopub.status.busy": "2023-12-14T22:15:48.814411Z",
     "iopub.status.idle": "2023-12-14T22:15:48.842970Z",
     "shell.execute_reply": "2023-12-14T22:15:48.842970Z"
    },
    "papermill": {
     "duration": 0.053724,
     "end_time": "2023-12-14T22:15:48.845496",
     "exception": false,
     "start_time": "2023-12-14T22:15:48.791772",
     "status": "completed"
    },
    "tags": []
   },
   "outputs": [],
   "source": [
    "df_train['Cabin'] = df_train['Cabin'].apply(lambda x: x[-1] if pd.notna(x) else x)\n",
    "df_train['Cabin'].head()"
   ]
  },
  {
   "cell_type": "code",
   "execution_count": null,
   "id": "0841598e",
   "metadata": {
    "execution": {
     "iopub.execute_input": "2023-12-14T22:15:48.901748Z",
     "iopub.status.busy": "2023-12-14T22:15:48.901748Z",
     "iopub.status.idle": "2023-12-14T22:15:48.922658Z",
     "shell.execute_reply": "2023-12-14T22:15:48.922658Z"
    },
    "papermill": {
     "duration": 0.053513,
     "end_time": "2023-12-14T22:15:48.925114",
     "exception": false,
     "start_time": "2023-12-14T22:15:48.871601",
     "status": "completed"
    },
    "tags": []
   },
   "outputs": [],
   "source": [
    "df_train['Cabin'].value_counts()"
   ]
  },
  {
   "cell_type": "code",
   "execution_count": null,
   "id": "c2a49760",
   "metadata": {
    "execution": {
     "iopub.execute_input": "2023-12-14T22:15:48.978639Z",
     "iopub.status.busy": "2023-12-14T22:15:48.978639Z",
     "iopub.status.idle": "2023-12-14T22:15:49.288260Z",
     "shell.execute_reply": "2023-12-14T22:15:49.288260Z"
    },
    "papermill": {
     "duration": 0.336652,
     "end_time": "2023-12-14T22:15:49.288260",
     "exception": false,
     "start_time": "2023-12-14T22:15:48.951608",
     "status": "completed"
    },
    "tags": []
   },
   "outputs": [],
   "source": [
    "plot_size('Cabin', ['Starboard', 'Port'], (0.01, 0), palette)"
   ]
  },
  {
   "cell_type": "code",
   "execution_count": null,
   "id": "cd9fbd7b",
   "metadata": {
    "execution": {
     "iopub.execute_input": "2023-12-14T22:15:49.342166Z",
     "iopub.status.busy": "2023-12-14T22:15:49.342166Z",
     "iopub.status.idle": "2023-12-14T22:15:49.496645Z",
     "shell.execute_reply": "2023-12-14T22:15:49.495471Z"
    },
    "papermill": {
     "duration": 0.185073,
     "end_time": "2023-12-14T22:15:49.497151",
     "exception": false,
     "start_time": "2023-12-14T22:15:49.312078",
     "status": "completed"
    },
    "tags": []
   },
   "outputs": [],
   "source": [
    "plot_tab('Cabin')"
   ]
  },
  {
   "cell_type": "code",
   "execution_count": null,
   "id": "add00595",
   "metadata": {
    "execution": {
     "iopub.execute_input": "2023-12-14T22:15:49.556752Z",
     "iopub.status.busy": "2023-12-14T22:15:49.556752Z",
     "iopub.status.idle": "2023-12-14T22:15:49.583766Z",
     "shell.execute_reply": "2023-12-14T22:15:49.582766Z"
    },
    "papermill": {
     "duration": 0.061664,
     "end_time": "2023-12-14T22:15:49.583766",
     "exception": false,
     "start_time": "2023-12-14T22:15:49.522102",
     "status": "completed"
    },
    "tags": []
   },
   "outputs": [],
   "source": [
    "mask = df_train['Cabin'].isna()\n",
    "nan_rows = df_train[mask]\n",
    "split_point = len(nan_rows) // 2\n",
    "nan_rows.loc[:, 'Cabin'] = ['P'] * split_point + ['S'] * (len(nan_rows) - split_point)\n",
    "\n",
    "# df_train.update(nan_rows) # Почему-то когда я использую этот метод, теряются преобразования типов, сделанные ранее\n",
    "df_train.loc[mask, 'Cabin'] = nan_rows\n",
    "df_train['Cabin'].isna().sum()"
   ]
  },
  {
   "cell_type": "markdown",
   "id": "3cc5e357",
   "metadata": {
    "papermill": {
     "duration": 0.030138,
     "end_time": "2023-12-14T22:15:49.642037",
     "exception": false,
     "start_time": "2023-12-14T22:15:49.611899",
     "status": "completed"
    },
    "tags": []
   },
   "source": [
    "Основная информация, несущая смысловую нагрузку данного параметра, потенциально полезная для будущей модели - это последняя буква в deck/num/side-коде кабины пассажира. Она говорит, с какой стороны расположена кабина (или место) пассажира. Решено оставить только эту букву, а всё до нее удалить.\n",
    "\n",
    "Т.к. в датасете пассажиры равномерно распределены по двум возможным категориям (S и P), было решено разделить все пропуски поровну между этими двумя категориями."
   ]
  },
  {
   "cell_type": "markdown",
   "id": "99336c44",
   "metadata": {
    "papermill": {
     "duration": 0.028101,
     "end_time": "2023-12-14T22:15:49.701964",
     "exception": false,
     "start_time": "2023-12-14T22:15:49.673863",
     "status": "completed"
    },
    "tags": []
   },
   "source": [
    "---"
   ]
  },
  {
   "cell_type": "markdown",
   "id": "02afad5a",
   "metadata": {
    "papermill": {
     "duration": 0.029663,
     "end_time": "2023-12-14T22:15:49.757141",
     "exception": false,
     "start_time": "2023-12-14T22:15:49.727478",
     "status": "completed"
    },
    "tags": []
   },
   "source": [
    "## Destination"
   ]
  },
  {
   "cell_type": "code",
   "execution_count": null,
   "id": "2f3f18be",
   "metadata": {
    "execution": {
     "iopub.execute_input": "2023-12-14T22:15:49.812133Z",
     "iopub.status.busy": "2023-12-14T22:15:49.812133Z",
     "iopub.status.idle": "2023-12-14T22:15:49.832998Z",
     "shell.execute_reply": "2023-12-14T22:15:49.831978Z"
    },
    "papermill": {
     "duration": 0.049642,
     "end_time": "2023-12-14T22:15:49.834853",
     "exception": false,
     "start_time": "2023-12-14T22:15:49.785211",
     "status": "completed"
    },
    "tags": []
   },
   "outputs": [],
   "source": [
    "df_train['Destination'].value_counts(dropna=False).to_frame()"
   ]
  },
  {
   "cell_type": "code",
   "execution_count": null,
   "id": "9835c728",
   "metadata": {
    "execution": {
     "iopub.execute_input": "2023-12-14T22:15:49.891993Z",
     "iopub.status.busy": "2023-12-14T22:15:49.891993Z",
     "iopub.status.idle": "2023-12-14T22:15:50.328021Z",
     "shell.execute_reply": "2023-12-14T22:15:50.328021Z"
    },
    "papermill": {
     "duration": 0.466198,
     "end_time": "2023-12-14T22:15:50.328021",
     "exception": false,
     "start_time": "2023-12-14T22:15:49.861823",
     "status": "completed"
    },
    "tags": []
   },
   "outputs": [],
   "source": [
    "plot_size_multiple([df_train, df_test], 'Destination', '', (0.01, 0.01, 0.05), palette)"
   ]
  },
  {
   "cell_type": "code",
   "execution_count": null,
   "id": "fe47882a",
   "metadata": {
    "execution": {
     "iopub.execute_input": "2023-12-14T22:15:50.384753Z",
     "iopub.status.busy": "2023-12-14T22:15:50.384753Z",
     "iopub.status.idle": "2023-12-14T22:15:50.407453Z",
     "shell.execute_reply": "2023-12-14T22:15:50.407453Z"
    },
    "papermill": {
     "duration": 0.04912,
     "end_time": "2023-12-14T22:15:50.409237",
     "exception": false,
     "start_time": "2023-12-14T22:15:50.360117",
     "status": "completed"
    },
    "tags": []
   },
   "outputs": [],
   "source": [
    "df_train[df_train['Destination'].isna()]['Transported'].mean()"
   ]
  },
  {
   "cell_type": "code",
   "execution_count": null,
   "id": "8b98cac8",
   "metadata": {
    "execution": {
     "iopub.execute_input": "2023-12-14T22:15:50.491992Z",
     "iopub.status.busy": "2023-12-14T22:15:50.491992Z",
     "iopub.status.idle": "2023-12-14T22:15:50.644358Z",
     "shell.execute_reply": "2023-12-14T22:15:50.643352Z"
    },
    "papermill": {
     "duration": 0.203304,
     "end_time": "2023-12-14T22:15:50.644358",
     "exception": false,
     "start_time": "2023-12-14T22:15:50.441054",
     "status": "completed"
    },
    "tags": []
   },
   "outputs": [],
   "source": [
    "plot_tab('Destination')"
   ]
  },
  {
   "cell_type": "code",
   "execution_count": null,
   "id": "14274721",
   "metadata": {
    "execution": {
     "iopub.execute_input": "2023-12-14T22:15:50.707659Z",
     "iopub.status.busy": "2023-12-14T22:15:50.707659Z",
     "iopub.status.idle": "2023-12-14T22:15:50.723560Z",
     "shell.execute_reply": "2023-12-14T22:15:50.723560Z"
    },
    "papermill": {
     "duration": 0.046982,
     "end_time": "2023-12-14T22:15:50.723560",
     "exception": false,
     "start_time": "2023-12-14T22:15:50.676578",
     "status": "completed"
    },
    "tags": []
   },
   "outputs": [],
   "source": [
    "df_survived_destination = (df_train.groupby('Destination')['Transported']\n",
    " .mean()\n",
    " .to_frame()\n",
    " .rename(columns={'Transported': 'transported_rate'})\n",
    " .sort_values(by=['transported_rate'])\n",
    ")\n",
    "df_survived_destination"
   ]
  },
  {
   "cell_type": "markdown",
   "id": "722a401d",
   "metadata": {
    "papermill": {
     "duration": 0.030497,
     "end_time": "2023-12-14T22:15:50.785654",
     "exception": false,
     "start_time": "2023-12-14T22:15:50.755157",
     "status": "completed"
    },
    "tags": []
   },
   "source": [
    "Хоть средние показатели больше похожи на группу \"PSO J318.5-22\", но размеры группы не имеют порядковой разницы с количеством строк с пропуском. Поэтому присвоим всем пропускам значение самой крупной группы."
   ]
  },
  {
   "cell_type": "code",
   "execution_count": null,
   "id": "2e8a96fa",
   "metadata": {
    "execution": {
     "iopub.execute_input": "2023-12-14T22:15:50.847627Z",
     "iopub.status.busy": "2023-12-14T22:15:50.847627Z",
     "iopub.status.idle": "2023-12-14T22:15:50.866759Z",
     "shell.execute_reply": "2023-12-14T22:15:50.866759Z"
    },
    "papermill": {
     "duration": 0.056275,
     "end_time": "2023-12-14T22:15:50.868288",
     "exception": false,
     "start_time": "2023-12-14T22:15:50.812013",
     "status": "completed"
    },
    "tags": []
   },
   "outputs": [],
   "source": [
    "df_train.loc[df_train['Destination'].isna(), 'Destination'] = 'TRAPPIST-1e'\n",
    "df_train['Destination'].isna().sum()"
   ]
  },
  {
   "cell_type": "markdown",
   "id": "9e59c83b",
   "metadata": {
    "papermill": {
     "duration": 0.034039,
     "end_time": "2023-12-14T22:15:50.931754",
     "exception": false,
     "start_time": "2023-12-14T22:15:50.897715",
     "status": "completed"
    },
    "tags": []
   },
   "source": [
    "Здесь рассуждения и наблюдения схожи с теми, что были проведены с параметром HomePlanet."
   ]
  },
  {
   "cell_type": "markdown",
   "id": "4258e17d",
   "metadata": {
    "papermill": {
     "duration": 0.030568,
     "end_time": "2023-12-14T22:15:50.992237",
     "exception": false,
     "start_time": "2023-12-14T22:15:50.961669",
     "status": "completed"
    },
    "tags": []
   },
   "source": [
    "---"
   ]
  },
  {
   "cell_type": "markdown",
   "id": "fb1def4e",
   "metadata": {
    "papermill": {
     "duration": 0.029377,
     "end_time": "2023-12-14T22:15:51.056792",
     "exception": false,
     "start_time": "2023-12-14T22:15:51.027415",
     "status": "completed"
    },
    "tags": []
   },
   "source": [
    "## Age"
   ]
  },
  {
   "cell_type": "code",
   "execution_count": null,
   "id": "bb50df42",
   "metadata": {
    "execution": {
     "iopub.execute_input": "2023-12-14T22:15:51.131888Z",
     "iopub.status.busy": "2023-12-14T22:15:51.131888Z",
     "iopub.status.idle": "2023-12-14T22:15:51.146010Z",
     "shell.execute_reply": "2023-12-14T22:15:51.146010Z"
    },
    "papermill": {
     "duration": 0.047887,
     "end_time": "2023-12-14T22:15:51.146010",
     "exception": false,
     "start_time": "2023-12-14T22:15:51.098123",
     "status": "completed"
    },
    "tags": []
   },
   "outputs": [],
   "source": [
    "df_train.Age.isna().sum()"
   ]
  },
  {
   "cell_type": "code",
   "execution_count": null,
   "id": "79bd5492",
   "metadata": {
    "execution": {
     "iopub.execute_input": "2023-12-14T22:15:51.211684Z",
     "iopub.status.busy": "2023-12-14T22:15:51.211684Z",
     "iopub.status.idle": "2023-12-14T22:15:51.225343Z",
     "shell.execute_reply": "2023-12-14T22:15:51.225343Z"
    },
    "papermill": {
     "duration": 0.05789,
     "end_time": "2023-12-14T22:15:51.239837",
     "exception": false,
     "start_time": "2023-12-14T22:15:51.181947",
     "status": "completed"
    },
    "tags": []
   },
   "outputs": [],
   "source": [
    "df_train.Age.describe().to_frame()"
   ]
  },
  {
   "cell_type": "code",
   "execution_count": null,
   "id": "dbf73dda",
   "metadata": {
    "execution": {
     "iopub.execute_input": "2023-12-14T22:15:51.302135Z",
     "iopub.status.busy": "2023-12-14T22:15:51.302135Z",
     "iopub.status.idle": "2023-12-14T22:15:51.756942Z",
     "shell.execute_reply": "2023-12-14T22:15:51.756942Z"
    },
    "papermill": {
     "duration": 0.488532,
     "end_time": "2023-12-14T22:15:51.756942",
     "exception": false,
     "start_time": "2023-12-14T22:15:51.268410",
     "status": "completed"
    },
    "tags": []
   },
   "outputs": [],
   "source": [
    "with sns.axes_style(\"darkgrid\"):\n",
    "    fig, axs = plt.subplots(figsize=(8, 6), tight_layout=True)\n",
    "    \n",
    "    sns.histplot(data=df_train, x=df_train.Age, bins=20, kde=True, ax=axs)\n",
    "    axs.set_title('Clients ages frequency', fontsize=16)\n",
    "    axs.set_xlabel('Age', fontsize='14')\n",
    "    axs.set_ylabel('Count', fontsize='14')\n",
    "    axs.tick_params(axis='x', labelsize=11)\n",
    "    axs.tick_params(axis='y', labelsize=11)"
   ]
  },
  {
   "cell_type": "code",
   "execution_count": null,
   "id": "ccf59aa9",
   "metadata": {
    "execution": {
     "iopub.execute_input": "2023-12-14T22:15:51.823901Z",
     "iopub.status.busy": "2023-12-14T22:15:51.823901Z",
     "iopub.status.idle": "2023-12-14T22:15:51.929497Z",
     "shell.execute_reply": "2023-12-14T22:15:51.929497Z"
    },
    "papermill": {
     "duration": 0.14307,
     "end_time": "2023-12-14T22:15:51.932085",
     "exception": false,
     "start_time": "2023-12-14T22:15:51.789015",
     "status": "completed"
    },
    "tags": []
   },
   "outputs": [],
   "source": [
    "plt.figure(figsize=(8, 6))\n",
    "plt.boxplot(df_train.Age.dropna(), vert=False)\n",
    "plt.title('Distribution of age among clients')\n",
    "plt.xlabel('Age', fontsize=14)\n",
    "plt.show()"
   ]
  },
  {
   "cell_type": "code",
   "execution_count": null,
   "id": "62cb56b3",
   "metadata": {
    "execution": {
     "iopub.execute_input": "2023-12-14T22:15:51.996852Z",
     "iopub.status.busy": "2023-12-14T22:15:51.996852Z",
     "iopub.status.idle": "2023-12-14T22:15:52.008600Z",
     "shell.execute_reply": "2023-12-14T22:15:52.008600Z"
    },
    "papermill": {
     "duration": 0.049765,
     "end_time": "2023-12-14T22:15:52.011587",
     "exception": false,
     "start_time": "2023-12-14T22:15:51.961822",
     "status": "completed"
    },
    "tags": []
   },
   "outputs": [],
   "source": [
    "df_train.loc[df_train.Age.isna(), 'Age'] = df_train.Age.mean()\n",
    "df_train.Age.isna().sum()"
   ]
  },
  {
   "cell_type": "markdown",
   "id": "65435092",
   "metadata": {
    "papermill": {
     "duration": 0.037465,
     "end_time": "2023-12-14T22:15:52.079499",
     "exception": false,
     "start_time": "2023-12-14T22:15:52.042034",
     "status": "completed"
    },
    "tags": []
   },
   "source": [
    "Средний возраст пассажиров - около 27-30 лет, при этом более молодых клиентов (до 30) больше, чем более возростных (старше 30), что видно на гистограмме выше. Имеется два пика - в районе 20-25 лет и, что интересно, в самом начале графика распределения - в районе 0-4 лет. Т.е. имеется значительное число пассажиров-детей. редкостью являются пассажиры старше 66 лет.\n",
    "\n",
    "Заполняем пропуски в возрасте пассажиров средним значением, т.к. это проще всего, а количество пропусков мало."
   ]
  },
  {
   "cell_type": "markdown",
   "id": "06fc6eb6",
   "metadata": {
    "papermill": {
     "duration": 0.029842,
     "end_time": "2023-12-14T22:15:52.141948",
     "exception": false,
     "start_time": "2023-12-14T22:15:52.112106",
     "status": "completed"
    },
    "tags": []
   },
   "source": [
    "---"
   ]
  },
  {
   "cell_type": "markdown",
   "id": "7c4898a9",
   "metadata": {
    "papermill": {
     "duration": 0.039866,
     "end_time": "2023-12-14T22:15:52.211957",
     "exception": false,
     "start_time": "2023-12-14T22:15:52.172091",
     "status": "completed"
    },
    "tags": []
   },
   "source": [
    "## VIP"
   ]
  },
  {
   "cell_type": "code",
   "execution_count": null,
   "id": "895d1c5b",
   "metadata": {
    "execution": {
     "iopub.execute_input": "2023-12-14T22:15:52.292127Z",
     "iopub.status.busy": "2023-12-14T22:15:52.292127Z",
     "iopub.status.idle": "2023-12-14T22:15:52.312801Z",
     "shell.execute_reply": "2023-12-14T22:15:52.312801Z"
    },
    "papermill": {
     "duration": 0.055865,
     "end_time": "2023-12-14T22:15:52.312801",
     "exception": false,
     "start_time": "2023-12-14T22:15:52.256936",
     "status": "completed"
    },
    "tags": []
   },
   "outputs": [],
   "source": [
    "df_train['VIP'].value_counts(dropna=False)"
   ]
  },
  {
   "cell_type": "code",
   "execution_count": null,
   "id": "cd8823c5",
   "metadata": {
    "execution": {
     "iopub.execute_input": "2023-12-14T22:15:52.381871Z",
     "iopub.status.busy": "2023-12-14T22:15:52.381871Z",
     "iopub.status.idle": "2023-12-14T22:15:52.393494Z",
     "shell.execute_reply": "2023-12-14T22:15:52.393238Z"
    },
    "papermill": {
     "duration": 0.051115,
     "end_time": "2023-12-14T22:15:52.395646",
     "exception": false,
     "start_time": "2023-12-14T22:15:52.344531",
     "status": "completed"
    },
    "tags": []
   },
   "outputs": [],
   "source": [
    "df_train['VIP'].isna().sum()"
   ]
  },
  {
   "cell_type": "code",
   "execution_count": null,
   "id": "897cdba6",
   "metadata": {
    "execution": {
     "iopub.execute_input": "2023-12-14T22:15:52.464398Z",
     "iopub.status.busy": "2023-12-14T22:15:52.464398Z",
     "iopub.status.idle": "2023-12-14T22:15:52.607920Z",
     "shell.execute_reply": "2023-12-14T22:15:52.607920Z"
    },
    "papermill": {
     "duration": 0.183358,
     "end_time": "2023-12-14T22:15:52.607920",
     "exception": false,
     "start_time": "2023-12-14T22:15:52.424562",
     "status": "completed"
    },
    "tags": []
   },
   "outputs": [],
   "source": [
    "plot_tab('VIP', True)"
   ]
  },
  {
   "cell_type": "code",
   "execution_count": null,
   "id": "2812fe6a",
   "metadata": {
    "execution": {
     "iopub.execute_input": "2023-12-14T22:15:52.682007Z",
     "iopub.status.busy": "2023-12-14T22:15:52.682007Z",
     "iopub.status.idle": "2023-12-14T22:15:52.688501Z",
     "shell.execute_reply": "2023-12-14T22:15:52.687993Z"
    },
    "papermill": {
     "duration": 0.046747,
     "end_time": "2023-12-14T22:15:52.688501",
     "exception": false,
     "start_time": "2023-12-14T22:15:52.641754",
     "status": "completed"
    },
    "tags": []
   },
   "outputs": [],
   "source": [
    "df_train['VIP'].fillna(value=False, inplace=True)"
   ]
  },
  {
   "cell_type": "markdown",
   "id": "7ce148ae",
   "metadata": {
    "papermill": {
     "duration": 0.039724,
     "end_time": "2023-12-14T22:15:52.771789",
     "exception": false,
     "start_time": "2023-12-14T22:15:52.732065",
     "status": "completed"
    },
    "tags": []
   },
   "source": [
    "Во-первых, VIP-клиентов крайне мало - всего 199 человек на более чем 8000. Во-вторых, замечается некоторая закономерность, что VIP-клиенты на 10% менее вероятно успешно заканчивают перелет. Однако стоит учитывать малые размеры выборки данной категории клиентов, поэтому проверка наличия данной закономерности требует отдельных исследований и стат. экспериментов.\n",
    "\n",
    "Пропуски было решено заполнить значением False, т.е. отсутствием VIP-статуса у пассажира. Данная категория пассажирова намного крупнее и будет менее подвержена стат. изменениям при добавлении новых значений, в отличае от группы VIP-клиентов. Кроме того, данный подход интуитивно логичнее."
   ]
  },
  {
   "cell_type": "markdown",
   "id": "49cad0d5",
   "metadata": {
    "papermill": {
     "duration": 0.034749,
     "end_time": "2023-12-14T22:15:52.846884",
     "exception": false,
     "start_time": "2023-12-14T22:15:52.812135",
     "status": "completed"
    },
    "tags": []
   },
   "source": [
    "---"
   ]
  },
  {
   "cell_type": "markdown",
   "id": "97639fc0",
   "metadata": {
    "papermill": {
     "duration": 0.035253,
     "end_time": "2023-12-14T22:15:52.917134",
     "exception": false,
     "start_time": "2023-12-14T22:15:52.881881",
     "status": "completed"
    },
    "tags": []
   },
   "source": [
    "## RoomService, FoodCourt, ShoppingMall, Spa, VRDeck"
   ]
  },
  {
   "cell_type": "code",
   "execution_count": null,
   "id": "5651f18f",
   "metadata": {
    "execution": {
     "iopub.execute_input": "2023-12-14T22:15:52.981740Z",
     "iopub.status.busy": "2023-12-14T22:15:52.981740Z",
     "iopub.status.idle": "2023-12-14T22:15:52.991472Z",
     "shell.execute_reply": "2023-12-14T22:15:52.990966Z"
    },
    "papermill": {
     "duration": 0.047566,
     "end_time": "2023-12-14T22:15:52.991976",
     "exception": false,
     "start_time": "2023-12-14T22:15:52.944410",
     "status": "completed"
    },
    "tags": []
   },
   "outputs": [],
   "source": [
    "columns = ['RoomService', 'FoodCourt', 'ShoppingMall', 'Spa', 'VRDeck']"
   ]
  },
  {
   "cell_type": "code",
   "execution_count": null,
   "id": "ef11ce19",
   "metadata": {
    "execution": {
     "iopub.execute_input": "2023-12-14T22:15:53.056727Z",
     "iopub.status.busy": "2023-12-14T22:15:53.056727Z",
     "iopub.status.idle": "2023-12-14T22:15:53.070775Z",
     "shell.execute_reply": "2023-12-14T22:15:53.070775Z"
    },
    "papermill": {
     "duration": 0.048734,
     "end_time": "2023-12-14T22:15:53.073567",
     "exception": false,
     "start_time": "2023-12-14T22:15:53.024833",
     "status": "completed"
    },
    "tags": []
   },
   "outputs": [],
   "source": [
    "df_train[columns].isna().sum().to_frame().rename(columns={0: 'nans'})"
   ]
  },
  {
   "cell_type": "code",
   "execution_count": null,
   "id": "12f301eb",
   "metadata": {
    "execution": {
     "iopub.execute_input": "2023-12-14T22:15:53.148895Z",
     "iopub.status.busy": "2023-12-14T22:15:53.148895Z",
     "iopub.status.idle": "2023-12-14T22:15:53.180570Z",
     "shell.execute_reply": "2023-12-14T22:15:53.180570Z"
    },
    "papermill": {
     "duration": 0.081579,
     "end_time": "2023-12-14T22:15:53.183409",
     "exception": false,
     "start_time": "2023-12-14T22:15:53.101830",
     "status": "completed"
    },
    "tags": []
   },
   "outputs": [],
   "source": [
    "df_train[columns].describe()"
   ]
  },
  {
   "cell_type": "code",
   "execution_count": null,
   "id": "265d1e74",
   "metadata": {
    "execution": {
     "iopub.execute_input": "2023-12-14T22:15:53.264521Z",
     "iopub.status.busy": "2023-12-14T22:15:53.264521Z",
     "iopub.status.idle": "2023-12-14T22:15:53.292037Z",
     "shell.execute_reply": "2023-12-14T22:15:53.291029Z"
    },
    "papermill": {
     "duration": 0.061403,
     "end_time": "2023-12-14T22:15:53.293401",
     "exception": false,
     "start_time": "2023-12-14T22:15:53.231998",
     "status": "completed"
    },
    "tags": []
   },
   "outputs": [],
   "source": [
    "df_train[df_train[columns] > 0][columns].describe()"
   ]
  },
  {
   "cell_type": "code",
   "execution_count": null,
   "id": "d5c06003",
   "metadata": {
    "execution": {
     "iopub.execute_input": "2023-12-14T22:15:53.362182Z",
     "iopub.status.busy": "2023-12-14T22:15:53.362182Z",
     "iopub.status.idle": "2023-12-14T22:15:54.015218Z",
     "shell.execute_reply": "2023-12-14T22:15:54.015218Z"
    },
    "papermill": {
     "duration": 0.692237,
     "end_time": "2023-12-14T22:15:54.015218",
     "exception": false,
     "start_time": "2023-12-14T22:15:53.322981",
     "status": "completed"
    },
    "tags": []
   },
   "outputs": [],
   "source": [
    "fig, axs = plt.subplots(3, 2, figsize=(16, 12), tight_layout=True)\n",
    "\n",
    "i, j = 0, 0\n",
    "for index, column in enumerate(columns):\n",
    "    i, j = index // 2, index % 2\n",
    "    rows = df_train[df_train[column] > 0][column]\n",
    "    axs[i, j].boxplot(rows.dropna(), vert=False)\n",
    "    axs[i, j].set_title(column)\n",
    "    iqr = np.percentile(rows, 75) - np.percentile(rows, 25)\n",
    "    axs[i, j].set_xlim(0, np.percentile(rows, 75) + 2 * iqr)\n",
    "    \n",
    "axs[i, j+1].set_visible(False)"
   ]
  },
  {
   "cell_type": "code",
   "execution_count": null,
   "id": "1f6fdb67",
   "metadata": {
    "execution": {
     "iopub.execute_input": "2023-12-14T22:15:54.087271Z",
     "iopub.status.busy": "2023-12-14T22:15:54.086239Z",
     "iopub.status.idle": "2023-12-14T22:15:54.102150Z",
     "shell.execute_reply": "2023-12-14T22:15:54.102022Z"
    },
    "papermill": {
     "duration": 0.050239,
     "end_time": "2023-12-14T22:15:54.102150",
     "exception": false,
     "start_time": "2023-12-14T22:15:54.051911",
     "status": "completed"
    },
    "tags": []
   },
   "outputs": [],
   "source": [
    "df_train.fillna({col: 0.0 for col in columns}, inplace=True)\n",
    "df_train[columns].isna().sum().to_frame().rename(columns={0: 'nans'})"
   ]
  },
  {
   "cell_type": "markdown",
   "id": "0ed5884c",
   "metadata": {
    "papermill": {
     "duration": 0.038016,
     "end_time": "2023-12-14T22:15:54.172068",
     "exception": false,
     "start_time": "2023-12-14T22:15:54.134052",
     "status": "completed"
    },
    "tags": []
   },
   "source": [
    "Платил - не платил, как выживаемость?"
   ]
  },
  {
   "cell_type": "code",
   "execution_count": null,
   "id": "48ea4a2b",
   "metadata": {
    "execution": {
     "iopub.execute_input": "2023-12-14T22:15:54.252200Z",
     "iopub.status.busy": "2023-12-14T22:15:54.252200Z",
     "iopub.status.idle": "2023-12-14T22:15:54.278007Z",
     "shell.execute_reply": "2023-12-14T22:15:54.278007Z"
    },
    "papermill": {
     "duration": 0.063322,
     "end_time": "2023-12-14T22:15:54.280482",
     "exception": false,
     "start_time": "2023-12-14T22:15:54.217160",
     "status": "completed"
    },
    "tags": []
   },
   "outputs": [],
   "source": [
    "all_inclusive_df = df_train.loc[(df_train[columns] > 0).all(axis=1)]\n",
    "print(all_inclusive_df.shape[0], 'пассажира оплатило все возможные услуги.')"
   ]
  },
  {
   "cell_type": "code",
   "execution_count": null,
   "id": "9e0992df",
   "metadata": {
    "execution": {
     "iopub.execute_input": "2023-12-14T22:15:54.352083Z",
     "iopub.status.busy": "2023-12-14T22:15:54.352083Z",
     "iopub.status.idle": "2023-12-14T22:15:54.367215Z",
     "shell.execute_reply": "2023-12-14T22:15:54.366046Z"
    },
    "papermill": {
     "duration": 0.056111,
     "end_time": "2023-12-14T22:15:54.368222",
     "exception": false,
     "start_time": "2023-12-14T22:15:54.312111",
     "status": "completed"
    },
    "tags": []
   },
   "outputs": [],
   "source": [
    "all_inclusive_df[all_inclusive_df['VIP'] == True].shape[0]"
   ]
  },
  {
   "cell_type": "code",
   "execution_count": null,
   "id": "b94edfb9",
   "metadata": {
    "execution": {
     "iopub.execute_input": "2023-12-14T22:15:54.463051Z",
     "iopub.status.busy": "2023-12-14T22:15:54.461772Z",
     "iopub.status.idle": "2023-12-14T22:15:54.485246Z",
     "shell.execute_reply": "2023-12-14T22:15:54.484144Z"
    },
    "papermill": {
     "duration": 0.085199,
     "end_time": "2023-12-14T22:15:54.487263",
     "exception": false,
     "start_time": "2023-12-14T22:15:54.402064",
     "status": "completed"
    },
    "tags": []
   },
   "outputs": [],
   "source": [
    "has_money_df = df_train.loc[(df_train[columns] > 0).any(axis=1)]\n",
    "print(has_money_df.shape[0], 'пассажиров оплатило хотя бы одну из предоставляемых на борту услуг.')"
   ]
  },
  {
   "cell_type": "code",
   "execution_count": null,
   "id": "3d5a98e6",
   "metadata": {
    "execution": {
     "iopub.execute_input": "2023-12-14T22:15:54.557096Z",
     "iopub.status.busy": "2023-12-14T22:15:54.557096Z",
     "iopub.status.idle": "2023-12-14T22:15:54.579547Z",
     "shell.execute_reply": "2023-12-14T22:15:54.579547Z"
    },
    "papermill": {
     "duration": 0.057952,
     "end_time": "2023-12-14T22:15:54.581982",
     "exception": false,
     "start_time": "2023-12-14T22:15:54.524030",
     "status": "completed"
    },
    "tags": []
   },
   "outputs": [],
   "source": [
    "no_money_df = df_train.loc[(df_train[columns] == 0).all(axis=1)]\n",
    "print(no_money_df.shape[0], 'пассажиров не оплатило ни одной из предоставляемых на борту услуг.')\n",
    "print('Из них', no_money_df[no_money_df['CryoSleep'] == True].shape[0], 'пассажира находились в состоянии криосна.')"
   ]
  },
  {
   "cell_type": "code",
   "execution_count": null,
   "id": "ceb9148a",
   "metadata": {
    "execution": {
     "iopub.execute_input": "2023-12-14T22:15:54.652031Z",
     "iopub.status.busy": "2023-12-14T22:15:54.652031Z",
     "iopub.status.idle": "2023-12-14T22:15:54.675061Z",
     "shell.execute_reply": "2023-12-14T22:15:54.675061Z"
    },
    "papermill": {
     "duration": 0.060766,
     "end_time": "2023-12-14T22:15:54.677918",
     "exception": false,
     "start_time": "2023-12-14T22:15:54.617152",
     "status": "completed"
    },
    "tags": []
   },
   "outputs": [],
   "source": [
    "print('Доля успешно закончивших путешествие пассажиров из числа оплативших каждую из доступных услуг:')\n",
    "all_inclusive_df[all_inclusive_df['Transported'] == True].shape[0] / all_inclusive_df.shape[0]"
   ]
  },
  {
   "cell_type": "code",
   "execution_count": null,
   "id": "e0dc72fa",
   "metadata": {
    "execution": {
     "iopub.execute_input": "2023-12-14T22:15:54.746791Z",
     "iopub.status.busy": "2023-12-14T22:15:54.746791Z",
     "iopub.status.idle": "2023-12-14T22:15:54.770280Z",
     "shell.execute_reply": "2023-12-14T22:15:54.770280Z"
    },
    "papermill": {
     "duration": 0.059736,
     "end_time": "2023-12-14T22:15:54.771786",
     "exception": false,
     "start_time": "2023-12-14T22:15:54.712050",
     "status": "completed"
    },
    "tags": []
   },
   "outputs": [],
   "source": [
    "print('Доля успешно закончивших путешествие пассажиров из числа оплативших хотя бы одну из доступных услуг:')\n",
    "has_money_df[has_money_df['Transported'] == True].shape[0] / has_money_df.shape[0]"
   ]
  },
  {
   "cell_type": "code",
   "execution_count": null,
   "id": "0323fec3",
   "metadata": {
    "execution": {
     "iopub.execute_input": "2023-12-14T22:15:54.842072Z",
     "iopub.status.busy": "2023-12-14T22:15:54.842072Z",
     "iopub.status.idle": "2023-12-14T22:15:54.865244Z",
     "shell.execute_reply": "2023-12-14T22:15:54.865244Z"
    },
    "papermill": {
     "duration": 0.065951,
     "end_time": "2023-12-14T22:15:54.867999",
     "exception": false,
     "start_time": "2023-12-14T22:15:54.802048",
     "status": "completed"
    },
    "tags": []
   },
   "outputs": [],
   "source": [
    "print('Доля успешно закончивших путешествие пассажиров из числа не оплативших ни одну из доступных услуг:')\n",
    "no_money_df[no_money_df['Transported'] == True].shape[0] / no_money_df.shape[0]"
   ]
  },
  {
   "cell_type": "code",
   "execution_count": null,
   "id": "da8d4a36",
   "metadata": {
    "execution": {
     "iopub.execute_input": "2023-12-14T22:15:54.962830Z",
     "iopub.status.busy": "2023-12-14T22:15:54.962830Z",
     "iopub.status.idle": "2023-12-14T22:15:54.993499Z",
     "shell.execute_reply": "2023-12-14T22:15:54.992609Z"
    },
    "papermill": {
     "duration": 0.090875,
     "end_time": "2023-12-14T22:15:54.995478",
     "exception": false,
     "start_time": "2023-12-14T22:15:54.904603",
     "status": "completed"
    },
    "tags": []
   },
   "outputs": [],
   "source": [
    "df_train['has_services'] = ~(df_train[columns] == 0).all(axis=1)\n",
    "df_train.head()"
   ]
  },
  {
   "cell_type": "markdown",
   "id": "27481013",
   "metadata": {
    "papermill": {
     "duration": 0.034683,
     "end_time": "2023-12-14T22:15:55.066817",
     "exception": false,
     "start_time": "2023-12-14T22:15:55.032134",
     "status": "completed"
    },
    "tags": []
   },
   "source": [
    "Пропуски в любой из рассматриваемых пяти категорий заполнены нулями по тому принципу, что раз уж никакой информации нет, то логичнее предположить, что заполнять было нечего, и вместо нуля оставили пустое значение.\n",
    "\n",
    "Пассажиры были разделены по степени заинтересованности в услугах, а скорее по степени трат на эти услуги. Выделено три категории: пассажиры, оплатившие хотя бы одну услугу, все услуги или ни одной. Пассажиров из последней категории оказалось больше всего - порядка 57% (5040/8693). Пассажиров из первой категории тоже оказалось достаточно много - 42% от всей выборки (3653/8693). Клиентов, оплативших каждую из услуг - всего 252 человека или около 6% от размеров предыдущей категории.\n",
    "\n",
    "После такого разделения была изучен процент успешно завершенных путешествий внутри каждой из категорий. Было замечено, что, как ни странно, пассажиры, имеющие оплаченные услуги, реже заканчивают путешествие - доля успехов составляет около 30%. В то же время пассажиры без оплаченных услуг в почти 80% случаев завершают перелет без проблем. Однако, было также замечено, что более 80% пассажиров без услуг во время перелета находились в состоянии криосна, а как было замечено в соответствующем пункте анализа, имеется некоторя корреляция между этим показателем и успешностью перелета. Поэтому можно предположить, что признак наличия оплаченных услуг является косвенным признаком успешности путешествия. \n",
    "\n",
    "А раз важно само наличие оплаченных услуг, решено упростить 5 категорий в одну - имелись ли хоть какие-то оплаченные услуги у пассажира. Именно в такой формулировке принято обобщить рассматриваемые категории."
   ]
  },
  {
   "cell_type": "markdown",
   "id": "56e1b18a",
   "metadata": {
    "papermill": {
     "duration": 0.037094,
     "end_time": "2023-12-14T22:15:55.139313",
     "exception": false,
     "start_time": "2023-12-14T22:15:55.102219",
     "status": "completed"
    },
    "tags": []
   },
   "source": [
    "---"
   ]
  },
  {
   "cell_type": "markdown",
   "id": "d3b164f5",
   "metadata": {
    "papermill": {
     "duration": 0.04805,
     "end_time": "2023-12-14T22:15:55.221862",
     "exception": false,
     "start_time": "2023-12-14T22:15:55.173812",
     "status": "completed"
    },
    "tags": []
   },
   "source": [
    "## Name"
   ]
  },
  {
   "cell_type": "code",
   "execution_count": null,
   "id": "1261b29d",
   "metadata": {
    "execution": {
     "iopub.execute_input": "2023-12-14T22:15:55.304355Z",
     "iopub.status.busy": "2023-12-14T22:15:55.303128Z",
     "iopub.status.idle": "2023-12-14T22:15:55.313919Z",
     "shell.execute_reply": "2023-12-14T22:15:55.312753Z"
    },
    "papermill": {
     "duration": 0.064807,
     "end_time": "2023-12-14T22:15:55.316646",
     "exception": false,
     "start_time": "2023-12-14T22:15:55.251839",
     "status": "completed"
    },
    "tags": []
   },
   "outputs": [],
   "source": [
    "df_train.Name.isna().sum()"
   ]
  },
  {
   "cell_type": "code",
   "execution_count": null,
   "id": "6e9f6d32",
   "metadata": {
    "execution": {
     "iopub.execute_input": "2023-12-14T22:15:55.407826Z",
     "iopub.status.busy": "2023-12-14T22:15:55.407826Z",
     "iopub.status.idle": "2023-12-14T22:15:55.417126Z",
     "shell.execute_reply": "2023-12-14T22:15:55.416395Z"
    },
    "papermill": {
     "duration": 0.050455,
     "end_time": "2023-12-14T22:15:55.418134",
     "exception": false,
     "start_time": "2023-12-14T22:15:55.367679",
     "status": "completed"
    },
    "tags": []
   },
   "outputs": [],
   "source": [
    "mask = df_train['Name'].isna()\n",
    "l = df_train[mask].shape[0]\n",
    "df_train.loc[mask, 'Name'] = ['noname_' + str(i) for i in range(0, l)]\n",
    "df_train.Name.isna().sum()"
   ]
  },
  {
   "cell_type": "code",
   "execution_count": null,
   "id": "79f8a59c",
   "metadata": {
    "execution": {
     "iopub.execute_input": "2023-12-14T22:15:55.523184Z",
     "iopub.status.busy": "2023-12-14T22:15:55.523184Z",
     "iopub.status.idle": "2023-12-14T22:15:55.543774Z",
     "shell.execute_reply": "2023-12-14T22:15:55.542866Z"
    },
    "papermill": {
     "duration": 0.083058,
     "end_time": "2023-12-14T22:15:55.545979",
     "exception": false,
     "start_time": "2023-12-14T22:15:55.462921",
     "status": "completed"
    },
    "tags": []
   },
   "outputs": [],
   "source": [
    "df_train['Name'].duplicated(keep=False).sum()"
   ]
  },
  {
   "cell_type": "code",
   "execution_count": null,
   "id": "73185743",
   "metadata": {
    "execution": {
     "iopub.execute_input": "2023-12-14T22:15:55.614505Z",
     "iopub.status.busy": "2023-12-14T22:15:55.614505Z",
     "iopub.status.idle": "2023-12-14T22:15:55.654864Z",
     "shell.execute_reply": "2023-12-14T22:15:55.654864Z"
    },
    "papermill": {
     "duration": 0.076643,
     "end_time": "2023-12-14T22:15:55.658147",
     "exception": false,
     "start_time": "2023-12-14T22:15:55.581504",
     "status": "completed"
    },
    "tags": []
   },
   "outputs": [],
   "source": [
    "df_train[df_train['Name'].duplicated(keep=False)].sort_values(by='Name')"
   ]
  },
  {
   "cell_type": "code",
   "execution_count": null,
   "id": "09dbad5d",
   "metadata": {
    "execution": {
     "iopub.execute_input": "2023-12-14T22:15:55.744846Z",
     "iopub.status.busy": "2023-12-14T22:15:55.744846Z",
     "iopub.status.idle": "2023-12-14T22:15:55.760590Z",
     "shell.execute_reply": "2023-12-14T22:15:55.759584Z"
    },
    "papermill": {
     "duration": 0.05373,
     "end_time": "2023-12-14T22:15:55.762096",
     "exception": false,
     "start_time": "2023-12-14T22:15:55.708366",
     "status": "completed"
    },
    "tags": []
   },
   "outputs": [],
   "source": [
    "df_train.drop_duplicates(subset=['Name'], keep='last', inplace=True)\n",
    "df_train['Name'].duplicated().sum()"
   ]
  },
  {
   "cell_type": "markdown",
   "id": "f3563a5c",
   "metadata": {
    "papermill": {
     "duration": 0.043268,
     "end_time": "2023-12-14T22:15:55.847215",
     "exception": false,
     "start_time": "2023-12-14T22:15:55.803947",
     "status": "completed"
    },
    "tags": []
   },
   "source": [
    "Имя - почти как уникальный идентификатор, логично предположить, что особой ценности для предсказания целевого параметра оно не имеет. Поэтому в дальнейшем от данного параметра мы избавимся, а сейчас удалим все строчки, в которых повторяется имя одного и того же пассажира, оставив последнюю запись. Последнюю в предположении, что у записей имеется какой-нибудь хронологический порядок, тогда последняя запись о пассажире - самая актуальная. Строк с дубликатами имен оказалось незначительно мало, поэтому даже если идея неверна, она вряд ли повлияет на конечное качество данных.\n",
    "\n",
    "Пропуски имен были заполнены значениями по умолчанию."
   ]
  },
  {
   "cell_type": "markdown",
   "id": "a3d22ac4",
   "metadata": {
    "papermill": {
     "duration": 0.045601,
     "end_time": "2023-12-14T22:15:55.952498",
     "exception": false,
     "start_time": "2023-12-14T22:15:55.906897",
     "status": "completed"
    },
    "tags": []
   },
   "source": [
    "---"
   ]
  },
  {
   "cell_type": "markdown",
   "id": "93be5b69",
   "metadata": {
    "papermill": {
     "duration": 0.041674,
     "end_time": "2023-12-14T22:15:56.035114",
     "exception": false,
     "start_time": "2023-12-14T22:15:55.993440",
     "status": "completed"
    },
    "tags": []
   },
   "source": [
    "# Оставшиеся пропуски"
   ]
  },
  {
   "cell_type": "code",
   "execution_count": null,
   "id": "df68a709",
   "metadata": {
    "execution": {
     "iopub.execute_input": "2023-12-14T22:15:56.117412Z",
     "iopub.status.busy": "2023-12-14T22:15:56.117412Z",
     "iopub.status.idle": "2023-12-14T22:15:56.133334Z",
     "shell.execute_reply": "2023-12-14T22:15:56.132180Z"
    },
    "papermill": {
     "duration": 0.062867,
     "end_time": "2023-12-14T22:15:56.135058",
     "exception": false,
     "start_time": "2023-12-14T22:15:56.072191",
     "status": "completed"
    },
    "tags": []
   },
   "outputs": [],
   "source": [
    "df_train.isna().sum()\n",
    "df_test.isna().sum()"
   ]
  },
  {
   "cell_type": "markdown",
   "id": "15bd5c04",
   "metadata": {
    "papermill": {
     "duration": 0.050701,
     "end_time": "2023-12-14T22:15:56.224027",
     "exception": false,
     "start_time": "2023-12-14T22:15:56.173326",
     "status": "completed"
    },
    "tags": []
   },
   "source": [
    "---"
   ]
  },
  {
   "cell_type": "markdown",
   "id": "949d4173",
   "metadata": {
    "papermill": {
     "duration": 0.036839,
     "end_time": "2023-12-14T22:15:56.301020",
     "exception": false,
     "start_time": "2023-12-14T22:15:56.264181",
     "status": "completed"
    },
    "tags": []
   },
   "source": [
    "## Correlation matrix"
   ]
  },
  {
   "cell_type": "code",
   "execution_count": null,
   "id": "ae9397d7",
   "metadata": {
    "execution": {
     "iopub.execute_input": "2023-12-14T22:15:56.376446Z",
     "iopub.status.busy": "2023-12-14T22:15:56.376446Z",
     "iopub.status.idle": "2023-12-14T22:15:56.394989Z",
     "shell.execute_reply": "2023-12-14T22:15:56.394989Z"
    },
    "papermill": {
     "duration": 0.058572,
     "end_time": "2023-12-14T22:15:56.397236",
     "exception": false,
     "start_time": "2023-12-14T22:15:56.338664",
     "status": "completed"
    },
    "tags": []
   },
   "outputs": [],
   "source": [
    "df_train.reset_index(drop=True, inplace=True)\n",
    "df_train.drop(columns=['PassengerId', 'Name'], inplace=True)\n",
    "df_train['Transported'] = df_train['Transported'].astype(object)\n",
    "df_train['VIP'] = df_train['VIP'].astype(object)\n",
    "df_train['CryoSleep'] = df_train['CryoSleep'].astype(object)\n",
    "df_train['has_services'] = df_train['has_services'].astype(object)\n",
    "df_train.info()"
   ]
  },
  {
   "cell_type": "code",
   "execution_count": null,
   "id": "858ef539",
   "metadata": {
    "execution": {
     "iopub.execute_input": "2023-12-14T22:15:56.476692Z",
     "iopub.status.busy": "2023-12-14T22:15:56.475813Z",
     "iopub.status.idle": "2023-12-14T22:15:59.136724Z",
     "shell.execute_reply": "2023-12-14T22:15:59.136724Z"
    },
    "papermill": {
     "duration": 2.704408,
     "end_time": "2023-12-14T22:15:59.138801",
     "exception": false,
     "start_time": "2023-12-14T22:15:56.434393",
     "status": "completed"
    },
    "tags": []
   },
   "outputs": [],
   "source": [
    "interval_cols = ['Age', 'RoomService', 'FoodCourt', 'ShoppingMall', 'Spa', 'VRDeck']\n",
    "\n",
    "correlation_matrix_train = df_train.phik_matrix(interval_cols=interval_cols)"
   ]
  },
  {
   "cell_type": "code",
   "execution_count": null,
   "id": "ed9f9946",
   "metadata": {
    "execution": {
     "iopub.execute_input": "2023-12-14T22:15:59.222138Z",
     "iopub.status.busy": "2023-12-14T22:15:59.222138Z",
     "iopub.status.idle": "2023-12-14T22:15:59.657975Z",
     "shell.execute_reply": "2023-12-14T22:15:59.657975Z"
    },
    "papermill": {
     "duration": 0.482298,
     "end_time": "2023-12-14T22:15:59.657975",
     "exception": false,
     "start_time": "2023-12-14T22:15:59.175677",
     "status": "completed"
    },
    "tags": []
   },
   "outputs": [],
   "source": [
    "plt.figure(figsize=(10, 8))\n",
    "\n",
    "sns.heatmap(correlation_matrix_train, annot=True, cmap='coolwarm', fmt='.2f', cbar_kws={\"shrink\": 0.75})\n",
    "\n",
    "plt.title('Phi-K корреляционная матрица')\n",
    "plt.tick_params(axis='x', labelsize=12)\n",
    "plt.tick_params(axis='y', labelsize=12)\n",
    "plt.show()"
   ]
  },
  {
   "cell_type": "markdown",
   "id": "890d8457",
   "metadata": {
    "papermill": {
     "duration": 0.038146,
     "end_time": "2023-12-14T22:15:59.739171",
     "exception": false,
     "start_time": "2023-12-14T22:15:59.701025",
     "status": "completed"
    },
    "tags": []
   },
   "source": [
    "Корреляционная матрица показывает наличие слабой корреляции между параметром \"CryoSleep\" и целевым значением, как и предполагалось ранее. Также видна слабая обратная корреляция между параметров \"has_services\" и целевым значением, что тоже было ожидаемо, т.к. \"CryoSleep\" и \"has_services\" в свою очередь имеют сильную обратную корреляцию. Остальные параметры с целевым признаком имеют незначительную, почти незаметную связь.\n",
    "\n",
    "В конце анализа данных и их подготовки решено удалить столбцы с ID и именами пассажиров и все колонки с услугами, т.к. мы их упростли до одного значения. Все категориальные параметры были приведены к числовым значениям с помощью label-encoding и one-hot-encoding. Label-encoding применен на колонках HomePlanet, Cabin, Destination, has_services и VIP, т.к. эти параметры имеют слабую связь с целевым параметром. One-hot-encoding был использован на колонке CryoSleep, т.к. данный параметр имеет заметную корреляцию с целевым параметром. Значения параметра Age не изменены. (Наверное можно избавиться и от параметра has_services, т.к. он коррелирует с CryoSleep, а это, как я помню, приводит к проблеме multicollinearity.)\n",
    "\n",
    "Итого остается 8 параметров, из которых показательными могут быть has_services и CryoSleep. Остальные колонки оставлены по остаточному принципу, т.к. вкупе могут составить связь, коррелирующую с целевым параметром. "
   ]
  },
  {
   "cell_type": "markdown",
   "id": "aa5c6a53",
   "metadata": {
    "papermill": {
     "duration": 0.043315,
     "end_time": "2023-12-14T22:15:59.818176",
     "exception": false,
     "start_time": "2023-12-14T22:15:59.774861",
     "status": "completed"
    },
    "tags": []
   },
   "source": [
    "---"
   ]
  },
  {
   "cell_type": "markdown",
   "id": "c0a75dc7",
   "metadata": {
    "papermill": {
     "duration": 0.038055,
     "end_time": "2023-12-14T22:15:59.897809",
     "exception": false,
     "start_time": "2023-12-14T22:15:59.859754",
     "status": "completed"
    },
    "tags": []
   },
   "source": [
    "# Test set"
   ]
  },
  {
   "cell_type": "code",
   "execution_count": null,
   "id": "02accad4",
   "metadata": {
    "execution": {
     "iopub.execute_input": "2023-12-14T22:15:59.974640Z",
     "iopub.status.busy": "2023-12-14T22:15:59.974640Z",
     "iopub.status.idle": "2023-12-14T22:16:00.015965Z",
     "shell.execute_reply": "2023-12-14T22:16:00.014517Z"
    },
    "papermill": {
     "duration": 0.084371,
     "end_time": "2023-12-14T22:16:00.016479",
     "exception": false,
     "start_time": "2023-12-14T22:15:59.932108",
     "status": "completed"
    },
    "tags": []
   },
   "outputs": [],
   "source": [
    "df_test[df_test.columns].isna().sum().to_frame().rename(columns={0: 'count'})"
   ]
  },
  {
   "cell_type": "code",
   "execution_count": null,
   "id": "acafe3ab",
   "metadata": {
    "execution": {
     "iopub.execute_input": "2023-12-14T22:16:00.094189Z",
     "iopub.status.busy": "2023-12-14T22:16:00.094189Z",
     "iopub.status.idle": "2023-12-14T22:16:00.110140Z",
     "shell.execute_reply": "2023-12-14T22:16:00.110140Z"
    },
    "papermill": {
     "duration": 0.060003,
     "end_time": "2023-12-14T22:16:00.110140",
     "exception": false,
     "start_time": "2023-12-14T22:16:00.050137",
     "status": "completed"
    },
    "tags": []
   },
   "outputs": [],
   "source": [
    "df_test.drop(columns=['Name', 'PassengerId'], inplace=True)\n",
    "df_test.columns"
   ]
  },
  {
   "cell_type": "code",
   "execution_count": null,
   "id": "62211bf0",
   "metadata": {
    "execution": {
     "iopub.execute_input": "2023-12-14T22:16:00.191813Z",
     "iopub.status.busy": "2023-12-14T22:16:00.191813Z",
     "iopub.status.idle": "2023-12-14T22:16:00.221654Z",
     "shell.execute_reply": "2023-12-14T22:16:00.221654Z"
    },
    "papermill": {
     "duration": 0.07997,
     "end_time": "2023-12-14T22:16:00.230154",
     "exception": false,
     "start_time": "2023-12-14T22:16:00.150184",
     "status": "completed"
    },
    "tags": []
   },
   "outputs": [],
   "source": [
    "df_test['has_services'] = (df_test[columns] > 0).any(axis=1)\n",
    "\n",
    "important_columns = ['HomePlanet', 'Cabin', 'Destination', 'Age', 'VIP', 'has_services', 'CryoSleep']\n",
    "df_test[important_columns].isna().any(axis=1).sum()"
   ]
  },
  {
   "cell_type": "code",
   "execution_count": null,
   "id": "18eb9e7c",
   "metadata": {
    "execution": {
     "iopub.execute_input": "2023-12-14T22:16:00.321644Z",
     "iopub.status.busy": "2023-12-14T22:16:00.321644Z",
     "iopub.status.idle": "2023-12-14T22:16:00.339125Z",
     "shell.execute_reply": "2023-12-14T22:16:00.338516Z"
    },
    "papermill": {
     "duration": 0.060989,
     "end_time": "2023-12-14T22:16:00.341140",
     "exception": false,
     "start_time": "2023-12-14T22:16:00.280151",
     "status": "completed"
    },
    "tags": []
   },
   "outputs": [],
   "source": [
    "# df_test.drop(columns=columns, inplace=True)\n",
    "df_test.drop(df_test[df_test[important_columns].isna().any(axis=1)].index, inplace=True)\n",
    "df_test.head()"
   ]
  },
  {
   "cell_type": "code",
   "execution_count": null,
   "id": "0ff4d084",
   "metadata": {
    "execution": {
     "iopub.execute_input": "2023-12-14T22:16:00.439108Z",
     "iopub.status.busy": "2023-12-14T22:16:00.439108Z",
     "iopub.status.idle": "2023-12-14T22:16:00.449099Z",
     "shell.execute_reply": "2023-12-14T22:16:00.448016Z"
    },
    "papermill": {
     "duration": 0.056617,
     "end_time": "2023-12-14T22:16:00.450106",
     "exception": false,
     "start_time": "2023-12-14T22:16:00.393489",
     "status": "completed"
    },
    "tags": []
   },
   "outputs": [],
   "source": [
    "df_test['Cabin'] = df_test['Cabin'].apply(lambda x: x[-1] if pd.notna(x) else x)"
   ]
  },
  {
   "cell_type": "code",
   "execution_count": null,
   "id": "52aa3141",
   "metadata": {
    "execution": {
     "iopub.execute_input": "2023-12-14T22:16:00.590061Z",
     "iopub.status.busy": "2023-12-14T22:16:00.589018Z",
     "iopub.status.idle": "2023-12-14T22:16:00.600328Z",
     "shell.execute_reply": "2023-12-14T22:16:00.600328Z"
    },
    "papermill": {
     "duration": 0.110176,
     "end_time": "2023-12-14T22:16:00.601834",
     "exception": false,
     "start_time": "2023-12-14T22:16:00.491658",
     "status": "completed"
    },
    "tags": []
   },
   "outputs": [],
   "source": [
    "print('Total number of rows:', df_test.shape[0])\n",
    "print('Number of rows without any gaps:', df_test[df_test.columns].notna().all(axis=1).sum())\n",
    "print('Number of rows with gap in any column:', df_test[df_test.columns].isna().any(axis=1).sum())\n",
    "print('Percentage of rows without any gaps:', df_test[df_test.columns].notna().all(axis=1).mean())"
   ]
  },
  {
   "cell_type": "code",
   "execution_count": null,
   "id": "e0e7ddfe",
   "metadata": {
    "execution": {
     "iopub.execute_input": "2023-12-14T22:16:00.681673Z",
     "iopub.status.busy": "2023-12-14T22:16:00.681673Z",
     "iopub.status.idle": "2023-12-14T22:16:00.690865Z",
     "shell.execute_reply": "2023-12-14T22:16:00.690865Z"
    },
    "papermill": {
     "duration": 0.051249,
     "end_time": "2023-12-14T22:16:00.691872",
     "exception": false,
     "start_time": "2023-12-14T22:16:00.640623",
     "status": "completed"
    },
    "tags": []
   },
   "outputs": [],
   "source": [
    "df_test.drop(df_test[df_test[df_test.columns].isna().any(axis=1)].index, inplace=True)\n",
    "df_test.shape[0]"
   ]
  },
  {
   "cell_type": "code",
   "execution_count": null,
   "id": "69c1ae18",
   "metadata": {
    "execution": {
     "iopub.execute_input": "2023-12-14T22:16:00.777864Z",
     "iopub.status.busy": "2023-12-14T22:16:00.777864Z",
     "iopub.status.idle": "2023-12-14T22:16:00.796953Z",
     "shell.execute_reply": "2023-12-14T22:16:00.794296Z"
    },
    "papermill": {
     "duration": 0.069191,
     "end_time": "2023-12-14T22:16:00.799256",
     "exception": false,
     "start_time": "2023-12-14T22:16:00.730065",
     "status": "completed"
    },
    "tags": []
   },
   "outputs": [],
   "source": [
    "display(df_train.dtypes.to_frame(), df_test.dtypes.to_frame())"
   ]
  },
  {
   "cell_type": "markdown",
   "id": "80cb5403",
   "metadata": {
    "papermill": {
     "duration": 0.041355,
     "end_time": "2023-12-14T22:16:00.897876",
     "exception": false,
     "start_time": "2023-12-14T22:16:00.856521",
     "status": "completed"
    },
    "tags": []
   },
   "source": [
    "Над test датасетом были проведены аналогичные с train манипуляции, дабы привести их к одному виду.\n",
    "\n",
    "Т.к. train set является валидационным инструментом нашей будущей модели, изменять значения в нем или добавлять их было бы скорее неправильно, т.к. тогда мы бы могли испортить реальную картину, которую показывают эти данные. Т.к. пропуски в train составляют чуть более 10% от более чем 4000 записей, удаление всех строк с пропуском в хотя бы одной из интересующих нас колонкок не приведет к значительным потерям."
   ]
  },
  {
   "cell_type": "markdown",
   "id": "211862aa",
   "metadata": {
    "papermill": {
     "duration": 0.040035,
     "end_time": "2023-12-14T22:16:00.978205",
     "exception": false,
     "start_time": "2023-12-14T22:16:00.938170",
     "status": "completed"
    },
    "tags": []
   },
   "source": [
    "---"
   ]
  },
  {
   "cell_type": "markdown",
   "id": "6157bb8b",
   "metadata": {
    "papermill": {
     "duration": 0.045978,
     "end_time": "2023-12-14T22:16:01.067463",
     "exception": false,
     "start_time": "2023-12-14T22:16:01.021485",
     "status": "completed"
    },
    "tags": []
   },
   "source": [
    "# Сохранение очищенных данных"
   ]
  },
  {
   "cell_type": "code",
   "execution_count": null,
   "id": "c748b8dd",
   "metadata": {
    "execution": {
     "iopub.execute_input": "2023-12-14T22:16:01.152312Z",
     "iopub.status.busy": "2023-12-14T22:16:01.151867Z",
     "iopub.status.idle": "2023-12-14T22:16:01.201216Z",
     "shell.execute_reply": "2023-12-14T22:16:01.200419Z"
    },
    "papermill": {
     "duration": 0.093715,
     "end_time": "2023-12-14T22:16:01.202259",
     "exception": false,
     "start_time": "2023-12-14T22:16:01.108544",
     "status": "completed"
    },
    "tags": []
   },
   "outputs": [],
   "source": [
    "path1 = 'datasets/train_cleaned.csv'\n",
    "path2 = 'datasets/test_cleaned.csv'\n",
    "\n",
    "df_train.to_csv(path1, index=False)\n",
    "df_test.to_csv(path2, index=False)"
   ]
  },
  {
   "cell_type": "code",
   "execution_count": null,
   "id": "7bf33e13",
   "metadata": {
    "papermill": {
     "duration": 0.041034,
     "end_time": "2023-12-14T22:16:01.301183",
     "exception": false,
     "start_time": "2023-12-14T22:16:01.260149",
     "status": "completed"
    },
    "tags": []
   },
   "outputs": [],
   "source": []
  }
 ],
 "metadata": {
  "kernelspec": {
   "display_name": "yandex",
   "language": "python",
   "name": "yandex"
  },
  "language_info": {
   "codemirror_mode": {
    "name": "ipython",
    "version": 3
   },
   "file_extension": ".py",
   "mimetype": "text/x-python",
   "name": "python",
   "nbconvert_exporter": "python",
   "pygments_lexer": "ipython3",
   "version": "3.10.13"
  },
  "papermill": {
   "default_parameters": {},
   "duration": 32.150302,
   "end_time": "2023-12-14T22:16:02.324692",
   "environment_variables": {},
   "exception": null,
   "input_path": "D:\\Yandex_practicum\\Projects\\Data_Science\\data_cleaning.ipynb",
   "output_path": "D:\\Yandex_practicum\\Projects\\Data_Science\\data_cleaning.ipynb",
   "parameters": {},
   "start_time": "2023-12-14T22:15:30.174390",
   "version": "2.4.0"
  }
 },
 "nbformat": 4,
 "nbformat_minor": 5
}
