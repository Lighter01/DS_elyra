{
 "cells": [
  {
   "cell_type": "code",
   "execution_count": null,
   "id": "1b25765a-27d3-4924-91d0-693f1328221f",
   "metadata": {
    "execution": {
     "iopub.execute_input": "2023-12-14T22:00:59.671216Z",
     "iopub.status.busy": "2023-12-14T22:00:59.670060Z",
     "iopub.status.idle": "2023-12-14T22:01:09.803564Z",
     "shell.execute_reply": "2023-12-14T22:01:09.802572Z"
    },
    "papermill": {
     "duration": 10.149621,
     "end_time": "2023-12-14T22:01:09.805587",
     "exception": false,
     "start_time": "2023-12-14T22:00:59.655966",
     "status": "completed"
    },
    "tags": []
   },
   "outputs": [],
   "source": [
    "!pip3 install -q numpy==1.22.4\n",
    "!pip3 install -q pandas==2.1.0\n",
    "!pip3 install -q matplotlib==3.7.2\n",
    "!pip3 install -q seaborn==0.12.2\n",
    "!pip3 install phik"
   ]
  },
  {
   "cell_type": "code",
   "execution_count": null,
   "id": "5c2cfc7f",
   "metadata": {
    "execution": {
     "iopub.execute_input": "2023-12-14T22:01:09.832773Z",
     "iopub.status.busy": "2023-12-14T22:01:09.832773Z",
     "iopub.status.idle": "2023-12-14T22:01:11.674809Z",
     "shell.execute_reply": "2023-12-14T22:01:11.674070Z"
    },
    "papermill": {
     "duration": 1.858258,
     "end_time": "2023-12-14T22:01:11.676410",
     "exception": false,
     "start_time": "2023-12-14T22:01:09.818152",
     "status": "completed"
    },
    "tags": []
   },
   "outputs": [],
   "source": [
    "import pandas as pd\n",
    "import numpy as np\n",
    "import matplotlib.pyplot as plt\n",
    "import seaborn as sns\n",
    "import phik\n",
    "\n",
    "import sweetviz as sv\n",
    "\n",
    "import os\n",
    "import sys\n",
    "import warnings\n"
   ]
  },
  {
   "cell_type": "code",
   "execution_count": null,
   "id": "7d8334a5",
   "metadata": {
    "execution": {
     "iopub.execute_input": "2023-12-14T22:01:11.705835Z",
     "iopub.status.busy": "2023-12-14T22:01:11.704462Z",
     "iopub.status.idle": "2023-12-14T22:01:11.709512Z",
     "shell.execute_reply": "2023-12-14T22:01:11.709443Z"
    },
    "papermill": {
     "duration": 0.020488,
     "end_time": "2023-12-14T22:01:11.711311",
     "exception": false,
     "start_time": "2023-12-14T22:01:11.690823",
     "status": "completed"
    },
    "tags": []
   },
   "outputs": [],
   "source": [
    "# pd.set_option('display.max_rows', None)\n",
    "pd.set_option('display.max_columns', None)\n",
    "np.set_printoptions(threshold=sys.maxsize)\n",
    "\n",
    "warnings.filterwarnings(action='ignore')"
   ]
  },
  {
   "cell_type": "code",
   "execution_count": null,
   "id": "1ef8a395",
   "metadata": {
    "execution": {
     "iopub.execute_input": "2023-12-14T22:01:11.738331Z",
     "iopub.status.busy": "2023-12-14T22:01:11.738331Z",
     "iopub.status.idle": "2023-12-14T22:01:11.806053Z",
     "shell.execute_reply": "2023-12-14T22:01:11.806053Z"
    },
    "papermill": {
     "duration": 0.083765,
     "end_time": "2023-12-14T22:01:11.808240",
     "exception": false,
     "start_time": "2023-12-14T22:01:11.724475",
     "status": "completed"
    },
    "tags": []
   },
   "outputs": [],
   "source": [
    "palette = sns.color_palette('Set2')\n",
    "sns.palplot(palette)"
   ]
  },
  {
   "cell_type": "markdown",
   "id": "4350df5e",
   "metadata": {
    "papermill": {
     "duration": 0.01299,
     "end_time": "2023-12-14T22:01:11.834487",
     "exception": false,
     "start_time": "2023-12-14T22:01:11.821497",
     "status": "completed"
    },
    "tags": []
   },
   "source": [
    "# Загрузка датасета и первичный осмотр данных"
   ]
  },
  {
   "cell_type": "code",
   "execution_count": null,
   "id": "fbd714da",
   "metadata": {
    "execution": {
     "iopub.execute_input": "2023-12-14T22:01:11.858839Z",
     "iopub.status.busy": "2023-12-14T22:01:11.858839Z",
     "iopub.status.idle": "2023-12-14T22:01:11.902055Z",
     "shell.execute_reply": "2023-12-14T22:01:11.902055Z"
    },
    "papermill": {
     "duration": 0.063129,
     "end_time": "2023-12-14T22:01:11.904071",
     "exception": false,
     "start_time": "2023-12-14T22:01:11.840942",
     "status": "completed"
    },
    "tags": []
   },
   "outputs": [],
   "source": [
    "path1 = '/datasets/train.csv'\n",
    "path2 = '/datasets/test.csv'\n",
    "\n",
    "def read_file(path):\n",
    "    df = pd.DataFrame()\n",
    "    if os.path.exists(path):\n",
    "        df = pd.read_csv(path, sep=',')\n",
    "    elif os.path.exists(path[1:]):\n",
    "        df = pd.read_csv(path[1:], sep=',')\n",
    "    else:\n",
    "        print('No such file or directory') \n",
    "        raise FileNotFoundError('No such file or directory')\n",
    "    return df\n",
    "\n",
    "df_train = read_file(path1)\n",
    "df_test = read_file(path2)"
   ]
  },
  {
   "cell_type": "code",
   "execution_count": null,
   "id": "8d771234",
   "metadata": {
    "execution": {
     "iopub.execute_input": "2023-12-14T22:01:11.928270Z",
     "iopub.status.busy": "2023-12-14T22:01:11.928270Z",
     "iopub.status.idle": "2023-12-14T22:01:11.949279Z",
     "shell.execute_reply": "2023-12-14T22:01:11.949279Z"
    },
    "papermill": {
     "duration": 0.035635,
     "end_time": "2023-12-14T22:01:11.949279",
     "exception": false,
     "start_time": "2023-12-14T22:01:11.913644",
     "status": "completed"
    },
    "tags": []
   },
   "outputs": [],
   "source": [
    "df_train.head(10)"
   ]
  },
  {
   "cell_type": "code",
   "execution_count": null,
   "id": "cb3e4339",
   "metadata": {
    "execution": {
     "iopub.execute_input": "2023-12-14T22:01:11.978485Z",
     "iopub.status.busy": "2023-12-14T22:01:11.978485Z",
     "iopub.status.idle": "2023-12-14T22:01:11.996503Z",
     "shell.execute_reply": "2023-12-14T22:01:11.996503Z"
    },
    "papermill": {
     "duration": 0.033283,
     "end_time": "2023-12-14T22:01:11.998511",
     "exception": false,
     "start_time": "2023-12-14T22:01:11.965228",
     "status": "completed"
    },
    "tags": []
   },
   "outputs": [],
   "source": [
    "df_test.head(10)"
   ]
  },
  {
   "cell_type": "code",
   "execution_count": null,
   "id": "27759f23",
   "metadata": {
    "execution": {
     "iopub.execute_input": "2023-12-14T22:01:12.023355Z",
     "iopub.status.busy": "2023-12-14T22:01:12.023355Z",
     "iopub.status.idle": "2023-12-14T22:01:12.056444Z",
     "shell.execute_reply": "2023-12-14T22:01:12.056444Z"
    },
    "papermill": {
     "duration": 0.046221,
     "end_time": "2023-12-14T22:01:12.058522",
     "exception": false,
     "start_time": "2023-12-14T22:01:12.012301",
     "status": "completed"
    },
    "tags": []
   },
   "outputs": [],
   "source": [
    "display(df_train.describe(), df_test.describe())"
   ]
  },
  {
   "cell_type": "code",
   "execution_count": null,
   "id": "004cc0e0",
   "metadata": {
    "execution": {
     "iopub.execute_input": "2023-12-14T22:01:12.083627Z",
     "iopub.status.busy": "2023-12-14T22:01:12.083627Z",
     "iopub.status.idle": "2023-12-14T22:01:12.123324Z",
     "shell.execute_reply": "2023-12-14T22:01:12.122551Z"
    },
    "papermill": {
     "duration": 0.053503,
     "end_time": "2023-12-14T22:01:12.125110",
     "exception": false,
     "start_time": "2023-12-14T22:01:12.071607",
     "status": "completed"
    },
    "tags": []
   },
   "outputs": [],
   "source": [
    "display(df_train.describe(include=['O']), df_test.describe(include=['O']))"
   ]
  },
  {
   "cell_type": "markdown",
   "id": "b4eb7d0a",
   "metadata": {
    "papermill": {
     "duration": 0.014986,
     "end_time": "2023-12-14T22:01:12.154524",
     "exception": false,
     "start_time": "2023-12-14T22:01:12.139538",
     "status": "completed"
    },
    "tags": []
   },
   "source": [
    "---"
   ]
  },
  {
   "cell_type": "markdown",
   "id": "98c85e3c",
   "metadata": {
    "papermill": {
     "duration": 0.012417,
     "end_time": "2023-12-14T22:01:12.180900",
     "exception": false,
     "start_time": "2023-12-14T22:01:12.168483",
     "status": "completed"
    },
    "tags": []
   },
   "source": [
    "# Анализ имеющихся проблем с данными"
   ]
  },
  {
   "cell_type": "code",
   "execution_count": null,
   "id": "6621ad0e",
   "metadata": {
    "execution": {
     "iopub.execute_input": "2023-12-14T22:01:12.215033Z",
     "iopub.status.busy": "2023-12-14T22:01:12.215033Z",
     "iopub.status.idle": "2023-12-14T22:01:12.233333Z",
     "shell.execute_reply": "2023-12-14T22:01:12.233333Z"
    },
    "papermill": {
     "duration": 0.034668,
     "end_time": "2023-12-14T22:01:12.233333",
     "exception": false,
     "start_time": "2023-12-14T22:01:12.198665",
     "status": "completed"
    },
    "tags": []
   },
   "outputs": [],
   "source": [
    "df_train.info()"
   ]
  },
  {
   "cell_type": "code",
   "execution_count": null,
   "id": "4caea4af",
   "metadata": {
    "execution": {
     "iopub.execute_input": "2023-12-14T22:01:12.266768Z",
     "iopub.status.busy": "2023-12-14T22:01:12.266768Z",
     "iopub.status.idle": "2023-12-14T22:01:12.280862Z",
     "shell.execute_reply": "2023-12-14T22:01:12.279841Z"
    },
    "papermill": {
     "duration": 0.031017,
     "end_time": "2023-12-14T22:01:12.281646",
     "exception": false,
     "start_time": "2023-12-14T22:01:12.250629",
     "status": "completed"
    },
    "tags": []
   },
   "outputs": [],
   "source": [
    "df_test.info()"
   ]
  },
  {
   "cell_type": "code",
   "execution_count": null,
   "id": "f0d8a7e4",
   "metadata": {
    "execution": {
     "iopub.execute_input": "2023-12-14T22:01:12.317593Z",
     "iopub.status.busy": "2023-12-14T22:01:12.317190Z",
     "iopub.status.idle": "2023-12-14T22:01:12.329705Z",
     "shell.execute_reply": "2023-12-14T22:01:12.329705Z"
    },
    "papermill": {
     "duration": 0.034299,
     "end_time": "2023-12-14T22:01:12.330880",
     "exception": false,
     "start_time": "2023-12-14T22:01:12.296581",
     "status": "completed"
    },
    "tags": []
   },
   "outputs": [],
   "source": [
    "df_train.isna().sum()"
   ]
  },
  {
   "cell_type": "code",
   "execution_count": null,
   "id": "d88cb163",
   "metadata": {
    "execution": {
     "iopub.execute_input": "2023-12-14T22:01:12.364236Z",
     "iopub.status.busy": "2023-12-14T22:01:12.364236Z",
     "iopub.status.idle": "2023-12-14T22:01:12.381822Z",
     "shell.execute_reply": "2023-12-14T22:01:12.380927Z"
    },
    "papermill": {
     "duration": 0.035665,
     "end_time": "2023-12-14T22:01:12.382847",
     "exception": false,
     "start_time": "2023-12-14T22:01:12.347182",
     "status": "completed"
    },
    "tags": []
   },
   "outputs": [],
   "source": [
    "df_test.isna().sum()"
   ]
  },
  {
   "cell_type": "code",
   "execution_count": null,
   "id": "8e78d315",
   "metadata": {
    "execution": {
     "iopub.execute_input": "2023-12-14T22:01:12.440383Z",
     "iopub.status.busy": "2023-12-14T22:01:12.440383Z",
     "iopub.status.idle": "2023-12-14T22:01:12.448474Z",
     "shell.execute_reply": "2023-12-14T22:01:12.448474Z"
    },
    "papermill": {
     "duration": 0.037472,
     "end_time": "2023-12-14T22:01:12.450414",
     "exception": false,
     "start_time": "2023-12-14T22:01:12.412942",
     "status": "completed"
    },
    "tags": []
   },
   "outputs": [],
   "source": [
    "def pass_value_barh(dfg, set_name, color='#1f77b4'):\n",
    "    try:\n",
    "        ax = (\n",
    "            (dfg.isna().mean()*100)\n",
    "            .to_frame()\n",
    "            .rename(columns = {0:'space'})\n",
    "            .query('space > 0')\n",
    "            .sort_values(by = 'space', ascending = True)\n",
    "            .plot(kind = 'barh', figsize = (19,6), rot = 0, legend = False, fontsize = 12, color=color)\n",
    "        )\n",
    "        ax.set_title(f'Percentage of Missing Values in {set_name} Columns\\n', fontsize=20, color='steelblue')\n",
    "        ax.set_xlabel('Percentage Missing', fontsize = 16)\n",
    "        ax.set_ylabel('Columns', fontsize = 16)\n",
    "        ax.grid(axis='x', linestyle='--', alpha=0.5)\n",
    "        ax.bar_label(ax.containers[0], label_type='edge', fmt='%.2f%%')\n",
    "    except:\n",
    "        print('пропусков не осталось :) или произошла ошибка в первой части функции ')"
   ]
  },
  {
   "cell_type": "code",
   "execution_count": null,
   "id": "d187ecb2",
   "metadata": {
    "execution": {
     "iopub.execute_input": "2023-12-14T22:01:12.488681Z",
     "iopub.status.busy": "2023-12-14T22:01:12.488681Z",
     "iopub.status.idle": "2023-12-14T22:01:12.773232Z",
     "shell.execute_reply": "2023-12-14T22:01:12.772876Z"
    },
    "papermill": {
     "duration": 0.301751,
     "end_time": "2023-12-14T22:01:12.775331",
     "exception": false,
     "start_time": "2023-12-14T22:01:12.473580",
     "status": "completed"
    },
    "tags": []
   },
   "outputs": [],
   "source": [
    "pass_value_barh(df_train, 'Train Set')"
   ]
  },
  {
   "cell_type": "code",
   "execution_count": null,
   "id": "61ee4468",
   "metadata": {
    "execution": {
     "iopub.execute_input": "2023-12-14T22:01:12.810222Z",
     "iopub.status.busy": "2023-12-14T22:01:12.809540Z",
     "iopub.status.idle": "2023-12-14T22:01:13.050444Z",
     "shell.execute_reply": "2023-12-14T22:01:13.050444Z"
    },
    "papermill": {
     "duration": 0.259638,
     "end_time": "2023-12-14T22:01:13.051673",
     "exception": false,
     "start_time": "2023-12-14T22:01:12.792035",
     "status": "completed"
    },
    "tags": []
   },
   "outputs": [],
   "source": [
    "pass_value_barh(df_test, 'Test Set', color='#2ca02c')"
   ]
  },
  {
   "cell_type": "code",
   "execution_count": null,
   "id": "18887b82",
   "metadata": {
    "execution": {
     "iopub.execute_input": "2023-12-14T22:01:13.088287Z",
     "iopub.status.busy": "2023-12-14T22:01:13.088287Z",
     "iopub.status.idle": "2023-12-14T22:01:13.118814Z",
     "shell.execute_reply": "2023-12-14T22:01:13.118814Z"
    },
    "papermill": {
     "duration": 0.050372,
     "end_time": "2023-12-14T22:01:13.118814",
     "exception": false,
     "start_time": "2023-12-14T22:01:13.068442",
     "status": "completed"
    },
    "tags": []
   },
   "outputs": [],
   "source": [
    "print(df_train.duplicated().sum(), df_test.duplicated().sum())"
   ]
  },
  {
   "cell_type": "markdown",
   "id": "a58b9969",
   "metadata": {
    "papermill": {
     "duration": 0.014075,
     "end_time": "2023-12-14T22:01:13.152451",
     "exception": false,
     "start_time": "2023-12-14T22:01:13.138376",
     "status": "completed"
    },
    "tags": []
   },
   "source": [
    "---"
   ]
  },
  {
   "cell_type": "markdown",
   "id": "08e25092",
   "metadata": {
    "papermill": {
     "duration": 0.018173,
     "end_time": "2023-12-14T22:01:13.188603",
     "exception": false,
     "start_time": "2023-12-14T22:01:13.170430",
     "status": "completed"
    },
    "tags": []
   },
   "source": [
    "# Предобработка тренировочного датасета и первичный анализ"
   ]
  },
  {
   "cell_type": "code",
   "execution_count": null,
   "id": "df7e2f5b",
   "metadata": {
    "execution": {
     "iopub.execute_input": "2023-12-14T22:01:13.225178Z",
     "iopub.status.busy": "2023-12-14T22:01:13.225178Z",
     "iopub.status.idle": "2023-12-14T22:01:13.240835Z",
     "shell.execute_reply": "2023-12-14T22:01:13.240473Z"
    },
    "papermill": {
     "duration": 0.03595,
     "end_time": "2023-12-14T22:01:13.242214",
     "exception": false,
     "start_time": "2023-12-14T22:01:13.206264",
     "status": "completed"
    },
    "tags": []
   },
   "outputs": [],
   "source": [
    "def plot_size(column, labels, explode, palette):\n",
    "    values = df_train[column].value_counts()\n",
    "    \n",
    "    lb = ''\n",
    "    if labels == '':\n",
    "        lb = values.index\n",
    "    else:\n",
    "        lb = labels\n",
    "    \n",
    "    fig, ax = plt.subplots(2, 1, figsize=(12, 12), tight_layout=True)\n",
    "\n",
    "    ax[0].bar(lb, values, color=palette)\n",
    "    ax[0].grid(True, color='grey', axis='y', linestyle='-.', linewidth=0.5, alpha=0.6)\n",
    "    ax[0].set_xlabel('Home Planet', fontsize=16)\n",
    "    ax[0].set_ylabel('Number of transported clients', fontsize=14)\n",
    "    ax[0].set_title(f'Total number of transported clients over {column}', fontsize=14)\n",
    "    ax[0].bar_label(ax[0].containers[0], \\\n",
    "                 label_type='center', fmt='%.2f', fontsize=14, color='white')\n",
    "    ax[0].tick_params(axis='x', labelsize=11)\n",
    "    ax[0].tick_params(axis='y', labelsize=11)\n",
    "    \n",
    "    ax[1].pie(values, labels=lb, autopct='%1.2f%%', explode=explode, textprops={'fontsize':14}, startangle=100, colors=palette)\n",
    "    ax[1].set_title(f'Percentage of {column} by the number of flights', fontsize=16)\n",
    "\n",
    "    plt.show()\n",
    "    \n",
    "    return"
   ]
  },
  {
   "cell_type": "code",
   "execution_count": null,
   "id": "579f9fd1",
   "metadata": {
    "execution": {
     "iopub.execute_input": "2023-12-14T22:01:13.279106Z",
     "iopub.status.busy": "2023-12-14T22:01:13.278710Z",
     "iopub.status.idle": "2023-12-14T22:01:13.295235Z",
     "shell.execute_reply": "2023-12-14T22:01:13.293822Z"
    },
    "papermill": {
     "duration": 0.036222,
     "end_time": "2023-12-14T22:01:13.296244",
     "exception": false,
     "start_time": "2023-12-14T22:01:13.260022",
     "status": "completed"
    },
    "tags": []
   },
   "outputs": [],
   "source": [
    "def plot_size_multiple(dfs, column, labels, explode, palette, width=15, height=6):\n",
    "    df_number = len(dfs)\n",
    "    fig, axs = plt.subplots(df_number, 2, figsize=(width, height * df_number), tight_layout=True)\n",
    "\n",
    "    for i, df in enumerate(dfs):\n",
    "        values = df[column].value_counts()\n",
    "        \n",
    "        lb = ''\n",
    "        if labels == '':\n",
    "            lb = values.index\n",
    "        else:\n",
    "            lb = labels\n",
    "\n",
    "        axs[0][i].bar(lb, values, color=palette)\n",
    "        axs[0][i].grid(True, color='grey', axis='y', linestyle='-.', linewidth=0.5, alpha=0.6)\n",
    "        axs[0][i].set_xlabel('Home Planet', fontsize=14)\n",
    "        axs[0][i].set_ylabel('Number of transported clients', fontsize=12)\n",
    "        axs[0][i].set_title(f'Total number of transported clients over {column}', fontsize=12)\n",
    "        axs[0][i].bar_label(axs[0][i].containers[0], \\\n",
    "                    label_type='center', fmt='%.2f', fontsize=12, color='white')\n",
    "        axs[0][i].tick_params(axis='x', labelsize=11)\n",
    "        axs[0][i].tick_params(axis='y', labelsize=11)\n",
    "        \n",
    "        axs[1][i].pie(values, labels=lb, autopct='%1.2f%%', explode=explode, textprops={'fontsize':12}, startangle=100, colors=palette)\n",
    "        axs[1][i].set_title(f'Percentage of {column} by the number of flights', fontsize=16)\n",
    "\n",
    "    plt.show()\n",
    "    \n",
    "    return"
   ]
  },
  {
   "cell_type": "code",
   "execution_count": null,
   "id": "83b6d2d9",
   "metadata": {
    "execution": {
     "iopub.execute_input": "2023-12-14T22:01:13.333615Z",
     "iopub.status.busy": "2023-12-14T22:01:13.333615Z",
     "iopub.status.idle": "2023-12-14T22:01:13.348355Z",
     "shell.execute_reply": "2023-12-14T22:01:13.348355Z"
    },
    "papermill": {
     "duration": 0.039762,
     "end_time": "2023-12-14T22:01:13.348355",
     "exception": false,
     "start_time": "2023-12-14T22:01:13.308593",
     "status": "completed"
    },
    "tags": []
   },
   "outputs": [],
   "source": [
    "def plot_tab(column, horizontal=False):\n",
    "    fig, ax = plt.subplots(figsize=(6, 5))\n",
    "    tab = pd.crosstab(df_train[column], df_train['Transported'])\n",
    "    display(tab)\n",
    "    \n",
    "    if horizontal:\n",
    "        tab.div(tab.sum(axis=1), axis=0).plot(kind=\"barh\", stacked=True, color=[palette[1], palette[2]], ax=ax)\n",
    "        ax.set_xlabel('Proportion', fontsize=12)\n",
    "        ax.set_ylabel(column, fontsize=12)\n",
    "        ax.grid(True, color='grey', axis='x', linestyle='-.', linewidth=0.5, alpha=0.6)\n",
    "        ax.set_xlim(0, 1)\n",
    "        ax.set_xticks([0.0, 0.2, 0.4, 0.5, 0.6, 0.8, 1.0])\n",
    "        ax.legend(title='Transported', loc='upper left', labels=['False', 'True'], bbox_to_anchor=(1, 1))\n",
    "        ax.axvline(x=0.5, color='green', linestyle='--', alpha=0.7)\n",
    "    else:\n",
    "        tab.div(tab.sum(axis=1), axis=0).plot(kind=\"bar\", stacked=True, color=[palette[1], palette[2]], ax=ax)\n",
    "        ax.set_xlabel(column)\n",
    "        ax.set_ylabel('Proportion')\n",
    "        ax.grid(True, color='grey', axis='y', linestyle='-.', linewidth=0.5, alpha=0.6)\n",
    "        ax.legend(title='Transported', loc='upper left', labels=['False', 'True'], bbox_to_anchor=(1, 1))\n",
    "        \n",
    "    plt.xticks(rotation=0)\n",
    "    ax.bar_label(ax.containers[0], label_type='center', fmt='%.2f')\n",
    "    ax.bar_label(ax.containers[1], label_type='center', fmt='%.2f')\n",
    "    ax.set_title(f'Stacked Bar Chart of {column} vs. Transported')\n",
    "    \n",
    "    plt.show()\n",
    "    \n",
    "    return"
   ]
  },
  {
   "cell_type": "markdown",
   "id": "d162b63f",
   "metadata": {
    "papermill": {
     "duration": 0.019947,
     "end_time": "2023-12-14T22:01:13.388464",
     "exception": false,
     "start_time": "2023-12-14T22:01:13.368517",
     "status": "completed"
    },
    "tags": []
   },
   "source": [
    "---"
   ]
  },
  {
   "cell_type": "markdown",
   "id": "0e016212",
   "metadata": {
    "papermill": {
     "duration": 0.019356,
     "end_time": "2023-12-14T22:01:13.431097",
     "exception": false,
     "start_time": "2023-12-14T22:01:13.411741",
     "status": "completed"
    },
    "tags": []
   },
   "source": [
    "## Transported"
   ]
  },
  {
   "cell_type": "code",
   "execution_count": null,
   "id": "d37e1c84",
   "metadata": {
    "execution": {
     "iopub.execute_input": "2023-12-14T22:01:13.468361Z",
     "iopub.status.busy": "2023-12-14T22:01:13.468361Z",
     "iopub.status.idle": "2023-12-14T22:01:13.484015Z",
     "shell.execute_reply": "2023-12-14T22:01:13.482867Z"
    },
    "papermill": {
     "duration": 0.035489,
     "end_time": "2023-12-14T22:01:13.485527",
     "exception": false,
     "start_time": "2023-12-14T22:01:13.450038",
     "status": "completed"
    },
    "tags": []
   },
   "outputs": [],
   "source": [
    "df_train['Transported'].value_counts(dropna=False)"
   ]
  },
  {
   "cell_type": "code",
   "execution_count": null,
   "id": "d50e24e1",
   "metadata": {
    "execution": {
     "iopub.execute_input": "2023-12-14T22:01:13.528653Z",
     "iopub.status.busy": "2023-12-14T22:01:13.527647Z",
     "iopub.status.idle": "2023-12-14T22:01:13.548109Z",
     "shell.execute_reply": "2023-12-14T22:01:13.548109Z"
    },
    "papermill": {
     "duration": 0.043374,
     "end_time": "2023-12-14T22:01:13.550494",
     "exception": false,
     "start_time": "2023-12-14T22:01:13.507120",
     "status": "completed"
    },
    "tags": []
   },
   "outputs": [],
   "source": [
    "df_train['Transported'].dtype"
   ]
  },
  {
   "cell_type": "code",
   "execution_count": null,
   "id": "d9e56647",
   "metadata": {
    "execution": {
     "iopub.execute_input": "2023-12-14T22:01:13.613319Z",
     "iopub.status.busy": "2023-12-14T22:01:13.611749Z",
     "iopub.status.idle": "2023-12-14T22:01:13.690392Z",
     "shell.execute_reply": "2023-12-14T22:01:13.690392Z"
    },
    "papermill": {
     "duration": 0.099468,
     "end_time": "2023-12-14T22:01:13.690392",
     "exception": false,
     "start_time": "2023-12-14T22:01:13.590924",
     "status": "completed"
    },
    "tags": []
   },
   "outputs": [],
   "source": [
    "passanger_transported = df_train['Transported'].value_counts()\n",
    "\n",
    "plt.figure(figsize=(8, 6))\n",
    "\n",
    "plt.pie(passanger_transported, labels=['Yes', 'No'],\n",
    "                                    autopct='%1.2f%%', explode=(0.01, 0), textprops={'fontsize':14},\n",
    "                                    startangle=100, colors=sns.color_palette('Set2'))\n",
    "plt.title('Rate of (not) transported passangers', fontsize=16)\n",
    "\n",
    "display(passanger_transported.to_frame())\n",
    "plt.show()"
   ]
  },
  {
   "cell_type": "markdown",
   "id": "09bfe3b2",
   "metadata": {
    "papermill": {
     "duration": 0.019802,
     "end_time": "2023-12-14T22:01:13.728281",
     "exception": false,
     "start_time": "2023-12-14T22:01:13.708479",
     "status": "completed"
    },
    "tags": []
   },
   "source": [
    "Видно, что данные разделены практически идеально поровну на две категории. Лишний раз стратифицировать данные, скорее всего, не придется при составлении train, val и test датасетов (хотя test сет уже есть). Да и в общем с классами равного размера проще работать."
   ]
  },
  {
   "cell_type": "markdown",
   "id": "590c1fcb",
   "metadata": {
    "papermill": {
     "duration": 0.021289,
     "end_time": "2023-12-14T22:01:13.769824",
     "exception": false,
     "start_time": "2023-12-14T22:01:13.748535",
     "status": "completed"
    },
    "tags": []
   },
   "source": [
    "---"
   ]
  },
  {
   "cell_type": "markdown",
   "id": "d81a8690",
   "metadata": {
    "papermill": {
     "duration": 0.026898,
     "end_time": "2023-12-14T22:01:13.822235",
     "exception": false,
     "start_time": "2023-12-14T22:01:13.795337",
     "status": "completed"
    },
    "tags": []
   },
   "source": [
    "## HomePlanet"
   ]
  },
  {
   "cell_type": "code",
   "execution_count": null,
   "id": "01e5d588",
   "metadata": {
    "execution": {
     "iopub.execute_input": "2023-12-14T22:01:13.867005Z",
     "iopub.status.busy": "2023-12-14T22:01:13.867005Z",
     "iopub.status.idle": "2023-12-14T22:01:13.885030Z",
     "shell.execute_reply": "2023-12-14T22:01:13.883947Z"
    },
    "papermill": {
     "duration": 0.040297,
     "end_time": "2023-12-14T22:01:13.886113",
     "exception": false,
     "start_time": "2023-12-14T22:01:13.845816",
     "status": "completed"
    },
    "tags": []
   },
   "outputs": [],
   "source": [
    "df_train['HomePlanet'].value_counts(dropna=False)"
   ]
  },
  {
   "cell_type": "code",
   "execution_count": null,
   "id": "ea77478e",
   "metadata": {
    "execution": {
     "iopub.execute_input": "2023-12-14T22:01:13.925208Z",
     "iopub.status.busy": "2023-12-14T22:01:13.923715Z",
     "iopub.status.idle": "2023-12-14T22:01:13.931495Z",
     "shell.execute_reply": "2023-12-14T22:01:13.931495Z"
    },
    "papermill": {
     "duration": 0.028356,
     "end_time": "2023-12-14T22:01:13.933643",
     "exception": false,
     "start_time": "2023-12-14T22:01:13.905287",
     "status": "completed"
    },
    "tags": []
   },
   "outputs": [],
   "source": [
    "# как работает crosstab\n",
    "# (df_train.groupby('HomePlanet')['Transported']\n",
    "#  .value_counts()\n",
    "#  .sort_index(level=[0, 1])\n",
    "#  .to_frame()\n",
    "#  .rename(columns={'Transported': 'count'})\n",
    "# )"
   ]
  },
  {
   "cell_type": "code",
   "execution_count": null,
   "id": "32eed44e",
   "metadata": {
    "execution": {
     "iopub.execute_input": "2023-12-14T22:01:13.968501Z",
     "iopub.status.busy": "2023-12-14T22:01:13.968501Z",
     "iopub.status.idle": "2023-12-14T22:01:14.391387Z",
     "shell.execute_reply": "2023-12-14T22:01:14.391387Z"
    },
    "papermill": {
     "duration": 0.4436,
     "end_time": "2023-12-14T22:01:14.394011",
     "exception": false,
     "start_time": "2023-12-14T22:01:13.950411",
     "status": "completed"
    },
    "tags": []
   },
   "outputs": [],
   "source": [
    "plot_size_multiple([df_train, df_test], 'HomePlanet', '', (0.01, 0.01, 0.01), [palette[0], palette[2], palette[1]])"
   ]
  },
  {
   "cell_type": "code",
   "execution_count": null,
   "id": "e40c5073",
   "metadata": {
    "execution": {
     "iopub.execute_input": "2023-12-14T22:01:14.436534Z",
     "iopub.status.busy": "2023-12-14T22:01:14.436534Z",
     "iopub.status.idle": "2023-12-14T22:01:14.588333Z",
     "shell.execute_reply": "2023-12-14T22:01:14.587931Z"
    },
    "papermill": {
     "duration": 0.174447,
     "end_time": "2023-12-14T22:01:14.589340",
     "exception": false,
     "start_time": "2023-12-14T22:01:14.414893",
     "status": "completed"
    },
    "tags": []
   },
   "outputs": [],
   "source": [
    "plot_tab('HomePlanet', True)"
   ]
  },
  {
   "cell_type": "code",
   "execution_count": null,
   "id": "e4c11f1e",
   "metadata": {
    "execution": {
     "iopub.execute_input": "2023-12-14T22:01:14.638619Z",
     "iopub.status.busy": "2023-12-14T22:01:14.638619Z",
     "iopub.status.idle": "2023-12-14T22:01:14.650611Z",
     "shell.execute_reply": "2023-12-14T22:01:14.650522Z"
    },
    "papermill": {
     "duration": 0.044265,
     "end_time": "2023-12-14T22:01:14.652686",
     "exception": false,
     "start_time": "2023-12-14T22:01:14.608421",
     "status": "completed"
    },
    "tags": []
   },
   "outputs": [],
   "source": [
    "df_survived_homeplanet = (df_train.groupby('HomePlanet')['Transported']\n",
    " .mean()\n",
    " .to_frame()\n",
    " .rename(columns={'Transported': 'transported_rate'})\n",
    " .sort_values(by=['transported_rate'])\n",
    ")\n",
    "df_survived_homeplanet"
   ]
  },
  {
   "cell_type": "code",
   "execution_count": null,
   "id": "f26059a8",
   "metadata": {
    "execution": {
     "iopub.execute_input": "2023-12-14T22:01:14.711189Z",
     "iopub.status.busy": "2023-12-14T22:01:14.711189Z",
     "iopub.status.idle": "2023-12-14T22:01:14.918625Z",
     "shell.execute_reply": "2023-12-14T22:01:14.918625Z"
    },
    "papermill": {
     "duration": 0.239355,
     "end_time": "2023-12-14T22:01:14.918625",
     "exception": false,
     "start_time": "2023-12-14T22:01:14.679270",
     "status": "completed"
    },
    "tags": []
   },
   "outputs": [],
   "source": [
    "fig, ax = plt.subplots(figsize=(10, 6))\n",
    "tab = pd.crosstab(df_train['HomePlanet'], df_train['Transported'])\n",
    "\n",
    "bars = ax.bar(df_survived_homeplanet.index, df_survived_homeplanet.transported_rate, color=sns.color_palette('Set2'))\n",
    "ax.grid(True, color='grey', axis='y', linestyle='-.', linewidth=0.5, alpha=0.6)\n",
    "ax.set_xlabel('Home Planet', fontsize=12)\n",
    "ax.set_ylabel('Rate of transported clients', fontsize=12)\n",
    "ax.set_title('Rate of transported over home planets', fontsize=14)\n",
    "ax.bar_label(bars, labels=[f'{y}/{x+y}' for x, y in tab[:].values], \\\n",
    "             label_type='center', fmt='%.2f', fontsize=14, color='white')\n",
    "\n",
    "plt.show()"
   ]
  },
  {
   "cell_type": "code",
   "execution_count": null,
   "id": "30f32d37",
   "metadata": {
    "execution": {
     "iopub.execute_input": "2023-12-14T22:01:14.988429Z",
     "iopub.status.busy": "2023-12-14T22:01:14.988429Z",
     "iopub.status.idle": "2023-12-14T22:01:15.014119Z",
     "shell.execute_reply": "2023-12-14T22:01:15.012491Z"
    },
    "papermill": {
     "duration": 0.059817,
     "end_time": "2023-12-14T22:01:15.016268",
     "exception": false,
     "start_time": "2023-12-14T22:01:14.956451",
     "status": "completed"
    },
    "tags": []
   },
   "outputs": [],
   "source": [
    "df_train[df_train['HomePlanet'].isna()]['Transported'].mean()"
   ]
  },
  {
   "cell_type": "code",
   "execution_count": null,
   "id": "836e0a92",
   "metadata": {
    "execution": {
     "iopub.execute_input": "2023-12-14T22:01:15.083035Z",
     "iopub.status.busy": "2023-12-14T22:01:15.082027Z",
     "iopub.status.idle": "2023-12-14T22:01:15.094796Z",
     "shell.execute_reply": "2023-12-14T22:01:15.093701Z"
    },
    "papermill": {
     "duration": 0.047378,
     "end_time": "2023-12-14T22:01:15.095937",
     "exception": false,
     "start_time": "2023-12-14T22:01:15.048559",
     "status": "completed"
    },
    "tags": []
   },
   "outputs": [],
   "source": [
    "df_train.loc[df_train['HomePlanet'].isna(), 'HomePlanet'] = 'Mars'"
   ]
  },
  {
   "cell_type": "code",
   "execution_count": null,
   "id": "a58a9adf",
   "metadata": {
    "execution": {
     "iopub.execute_input": "2023-12-14T22:01:15.170867Z",
     "iopub.status.busy": "2023-12-14T22:01:15.170867Z",
     "iopub.status.idle": "2023-12-14T22:01:15.178747Z",
     "shell.execute_reply": "2023-12-14T22:01:15.178747Z"
    },
    "papermill": {
     "duration": 0.041307,
     "end_time": "2023-12-14T22:01:15.178747",
     "exception": false,
     "start_time": "2023-12-14T22:01:15.137440",
     "status": "completed"
    },
    "tags": []
   },
   "outputs": [],
   "source": [
    "df_train['HomePlanet'].value_counts(dropna=False)"
   ]
  },
  {
   "cell_type": "markdown",
   "id": "59d69dca",
   "metadata": {
    "papermill": {
     "duration": 0.02462,
     "end_time": "2023-12-14T22:01:15.228695",
     "exception": false,
     "start_time": "2023-12-14T22:01:15.204075",
     "status": "completed"
    },
    "tags": []
   },
   "source": [
    "По графикам выше можно сделать несколько наблюдений:\n",
    "* кол-во перелетов с Европы и с Марса довольно близко - $2131$ и $1759$ соответственно;\n",
    "* больше всего путеществий наичанется с Земли - $4602$ перелета;\n",
    "* чаще всего пассажиры успешно добирались до цели, стартуя с Европы - доля успехов около $2/3$;\n",
    "* с Марса добираются до пунктов назначения примерно $50$% пассажиров (или скорее, что половина путешествий заканчивается успехом);\n",
    "* чуть больше $40$% перелетов с Земли завершаются успешо.\n",
    "\n",
    "Для всех имеющихся строк с пропуском в графе \"HomePlanet\" была посчитана средняя доля успешных перелетов, после чего все пропуски были добавлены к той их трех известных категорий, чей показатель среднего процента успешных перелетов был схожим. В данном случае это оказалась категория \"Mars\"."
   ]
  },
  {
   "cell_type": "markdown",
   "id": "17d9db69",
   "metadata": {
    "papermill": {
     "duration": 0.029406,
     "end_time": "2023-12-14T22:01:15.289693",
     "exception": false,
     "start_time": "2023-12-14T22:01:15.260287",
     "status": "completed"
    },
    "tags": []
   },
   "source": [
    "---"
   ]
  },
  {
   "cell_type": "markdown",
   "id": "86dfe5d4",
   "metadata": {
    "papermill": {
     "duration": 0.031377,
     "end_time": "2023-12-14T22:01:15.361485",
     "exception": false,
     "start_time": "2023-12-14T22:01:15.330108",
     "status": "completed"
    },
    "tags": []
   },
   "source": [
    "## CryoSleep"
   ]
  },
  {
   "cell_type": "code",
   "execution_count": null,
   "id": "0747e4c7",
   "metadata": {
    "execution": {
     "iopub.execute_input": "2023-12-14T22:01:15.421608Z",
     "iopub.status.busy": "2023-12-14T22:01:15.420132Z",
     "iopub.status.idle": "2023-12-14T22:01:15.442973Z",
     "shell.execute_reply": "2023-12-14T22:01:15.441974Z"
    },
    "papermill": {
     "duration": 0.058323,
     "end_time": "2023-12-14T22:01:15.444441",
     "exception": false,
     "start_time": "2023-12-14T22:01:15.386118",
     "status": "completed"
    },
    "tags": []
   },
   "outputs": [],
   "source": [
    "df_train['CryoSleep'].value_counts(dropna=False)"
   ]
  },
  {
   "cell_type": "code",
   "execution_count": null,
   "id": "0b4b5a40",
   "metadata": {
    "execution": {
     "iopub.execute_input": "2023-12-14T22:01:15.494141Z",
     "iopub.status.busy": "2023-12-14T22:01:15.494141Z",
     "iopub.status.idle": "2023-12-14T22:01:15.971857Z",
     "shell.execute_reply": "2023-12-14T22:01:15.971857Z"
    },
    "papermill": {
     "duration": 0.504186,
     "end_time": "2023-12-14T22:01:15.972891",
     "exception": false,
     "start_time": "2023-12-14T22:01:15.468705",
     "status": "completed"
    },
    "tags": []
   },
   "outputs": [],
   "source": [
    "plot_size_multiple([df_train, df_test], 'CryoSleep', ['No CryoSleep', 'CryoSleep'], (0.01, 0), palette)"
   ]
  },
  {
   "cell_type": "code",
   "execution_count": null,
   "id": "38cccf83",
   "metadata": {
    "execution": {
     "iopub.execute_input": "2023-12-14T22:01:16.026520Z",
     "iopub.status.busy": "2023-12-14T22:01:16.026520Z",
     "iopub.status.idle": "2023-12-14T22:01:16.042829Z",
     "shell.execute_reply": "2023-12-14T22:01:16.042829Z"
    },
    "papermill": {
     "duration": 0.048114,
     "end_time": "2023-12-14T22:01:16.045253",
     "exception": false,
     "start_time": "2023-12-14T22:01:15.997139",
     "status": "completed"
    },
    "tags": []
   },
   "outputs": [],
   "source": [
    "# df_cryo_transp = (df_train.groupby('CryoSleep')['Transported']\n",
    "#  .value_counts()\n",
    "#  .sort_index(level=[0, 1])\n",
    "#  .unstack(level=1)\n",
    "# )\n",
    "# df_cryo_transp\n",
    "\n",
    "tab = pd.crosstab(df_train['CryoSleep'], df_train['Transported'])\n",
    "tab"
   ]
  },
  {
   "cell_type": "code",
   "execution_count": null,
   "id": "2588dd63",
   "metadata": {
    "execution": {
     "iopub.execute_input": "2023-12-14T22:01:16.106549Z",
     "iopub.status.busy": "2023-12-14T22:01:16.106549Z",
     "iopub.status.idle": "2023-12-14T22:01:16.283981Z",
     "shell.execute_reply": "2023-12-14T22:01:16.283981Z"
    },
    "papermill": {
     "duration": 0.212961,
     "end_time": "2023-12-14T22:01:16.285405",
     "exception": false,
     "start_time": "2023-12-14T22:01:16.072444",
     "status": "completed"
    },
    "tags": []
   },
   "outputs": [],
   "source": [
    "plot_tab('CryoSleep')"
   ]
  },
  {
   "cell_type": "code",
   "execution_count": null,
   "id": "c41c7c33",
   "metadata": {
    "execution": {
     "iopub.execute_input": "2023-12-14T22:01:16.338369Z",
     "iopub.status.busy": "2023-12-14T22:01:16.338369Z",
     "iopub.status.idle": "2023-12-14T22:01:16.356732Z",
     "shell.execute_reply": "2023-12-14T22:01:16.355631Z"
    },
    "papermill": {
     "duration": 0.046166,
     "end_time": "2023-12-14T22:01:16.358514",
     "exception": false,
     "start_time": "2023-12-14T22:01:16.312348",
     "status": "completed"
    },
    "tags": []
   },
   "outputs": [],
   "source": [
    "condition = df_train['CryoSleep'].isna()\n",
    "selected_rows = df_train.loc[condition]\n",
    "\n",
    "df_train.loc[condition, 'CryoSleep'] = \\\n",
    "    [True if tr else False for tr in selected_rows['Transported']]"
   ]
  },
  {
   "cell_type": "code",
   "execution_count": null,
   "id": "c4897903",
   "metadata": {
    "execution": {
     "iopub.execute_input": "2023-12-14T22:01:16.417510Z",
     "iopub.status.busy": "2023-12-14T22:01:16.417510Z",
     "iopub.status.idle": "2023-12-14T22:01:16.433523Z",
     "shell.execute_reply": "2023-12-14T22:01:16.433523Z"
    },
    "papermill": {
     "duration": 0.050543,
     "end_time": "2023-12-14T22:01:16.433523",
     "exception": false,
     "start_time": "2023-12-14T22:01:16.382980",
     "status": "completed"
    },
    "tags": []
   },
   "outputs": [],
   "source": [
    "df_train['CryoSleep'].value_counts(dropna=False)"
   ]
  },
  {
   "cell_type": "code",
   "execution_count": null,
   "id": "dc084adc",
   "metadata": {
    "execution": {
     "iopub.execute_input": "2023-12-14T22:01:16.489233Z",
     "iopub.status.busy": "2023-12-14T22:01:16.488213Z",
     "iopub.status.idle": "2023-12-14T22:01:16.494432Z",
     "shell.execute_reply": "2023-12-14T22:01:16.494432Z"
    },
    "papermill": {
     "duration": 0.037815,
     "end_time": "2023-12-14T22:01:16.496615",
     "exception": false,
     "start_time": "2023-12-14T22:01:16.458800",
     "status": "completed"
    },
    "tags": []
   },
   "outputs": [],
   "source": [
    "df_train['CryoSleep'] = df_train['CryoSleep'].astype(bool)\n",
    "df_train['CryoSleep'].dtype"
   ]
  },
  {
   "cell_type": "markdown",
   "id": "a14e2539",
   "metadata": {
    "papermill": {
     "duration": 0.027368,
     "end_time": "2023-12-14T22:01:16.552105",
     "exception": false,
     "start_time": "2023-12-14T22:01:16.524737",
     "status": "completed"
    },
    "tags": []
   },
   "source": [
    "Судя по графикам выше, можно предположить, что данный параметр является довольно важным для дальнейшей классификации полетов и определения таргета. Явно имеется некая закономерность, что перелеты, совершаемые в состоянии криосна, заканчиваются успехами намного чаще, чем перелеты не в криосне."
   ]
  },
  {
   "cell_type": "markdown",
   "id": "e36bdc4d",
   "metadata": {
    "papermill": {
     "duration": 0.026031,
     "end_time": "2023-12-14T22:01:16.605794",
     "exception": false,
     "start_time": "2023-12-14T22:01:16.579763",
     "status": "completed"
    },
    "tags": []
   },
   "source": [
    "---"
   ]
  },
  {
   "cell_type": "markdown",
   "id": "fa681eae",
   "metadata": {
    "papermill": {
     "duration": 0.023508,
     "end_time": "2023-12-14T22:01:16.654501",
     "exception": false,
     "start_time": "2023-12-14T22:01:16.630993",
     "status": "completed"
    },
    "tags": []
   },
   "source": [
    "## Cabin"
   ]
  },
  {
   "cell_type": "code",
   "execution_count": null,
   "id": "fd90e740",
   "metadata": {
    "execution": {
     "iopub.execute_input": "2023-12-14T22:01:16.705915Z",
     "iopub.status.busy": "2023-12-14T22:01:16.704910Z",
     "iopub.status.idle": "2023-12-14T22:01:16.725082Z",
     "shell.execute_reply": "2023-12-14T22:01:16.725082Z"
    },
    "papermill": {
     "duration": 0.046081,
     "end_time": "2023-12-14T22:01:16.725082",
     "exception": false,
     "start_time": "2023-12-14T22:01:16.679001",
     "status": "completed"
    },
    "tags": []
   },
   "outputs": [],
   "source": [
    "df_train['Cabin'].isna().sum()"
   ]
  },
  {
   "cell_type": "code",
   "execution_count": null,
   "id": "b7f7a174",
   "metadata": {
    "execution": {
     "iopub.execute_input": "2023-12-14T22:01:16.777560Z",
     "iopub.status.busy": "2023-12-14T22:01:16.777560Z",
     "iopub.status.idle": "2023-12-14T22:01:16.801605Z",
     "shell.execute_reply": "2023-12-14T22:01:16.800605Z"
    },
    "papermill": {
     "duration": 0.051417,
     "end_time": "2023-12-14T22:01:16.803057",
     "exception": false,
     "start_time": "2023-12-14T22:01:16.751640",
     "status": "completed"
    },
    "tags": []
   },
   "outputs": [],
   "source": [
    "df_train['Cabin'] = df_train['Cabin'].apply(lambda x: x[-1] if pd.notna(x) else x)\n",
    "df_train['Cabin'].head()"
   ]
  },
  {
   "cell_type": "code",
   "execution_count": null,
   "id": "0841598e",
   "metadata": {
    "execution": {
     "iopub.execute_input": "2023-12-14T22:01:16.857564Z",
     "iopub.status.busy": "2023-12-14T22:01:16.857564Z",
     "iopub.status.idle": "2023-12-14T22:01:16.866645Z",
     "shell.execute_reply": "2023-12-14T22:01:16.866645Z"
    },
    "papermill": {
     "duration": 0.037389,
     "end_time": "2023-12-14T22:01:16.868161",
     "exception": false,
     "start_time": "2023-12-14T22:01:16.830772",
     "status": "completed"
    },
    "tags": []
   },
   "outputs": [],
   "source": [
    "df_train['Cabin'].value_counts()"
   ]
  },
  {
   "cell_type": "code",
   "execution_count": null,
   "id": "c2a49760",
   "metadata": {
    "execution": {
     "iopub.execute_input": "2023-12-14T22:01:16.919494Z",
     "iopub.status.busy": "2023-12-14T22:01:16.919494Z",
     "iopub.status.idle": "2023-12-14T22:01:17.246179Z",
     "shell.execute_reply": "2023-12-14T22:01:17.245180Z"
    },
    "papermill": {
     "duration": 0.354882,
     "end_time": "2023-12-14T22:01:17.247933",
     "exception": false,
     "start_time": "2023-12-14T22:01:16.893051",
     "status": "completed"
    },
    "tags": []
   },
   "outputs": [],
   "source": [
    "plot_size('Cabin', ['Starboard', 'Port'], (0.01, 0), palette)"
   ]
  },
  {
   "cell_type": "code",
   "execution_count": null,
   "id": "cd9fbd7b",
   "metadata": {
    "execution": {
     "iopub.execute_input": "2023-12-14T22:01:17.300773Z",
     "iopub.status.busy": "2023-12-14T22:01:17.300773Z",
     "iopub.status.idle": "2023-12-14T22:01:17.444748Z",
     "shell.execute_reply": "2023-12-14T22:01:17.444748Z"
    },
    "papermill": {
     "duration": 0.175665,
     "end_time": "2023-12-14T22:01:17.447491",
     "exception": false,
     "start_time": "2023-12-14T22:01:17.271826",
     "status": "completed"
    },
    "tags": []
   },
   "outputs": [],
   "source": [
    "plot_tab('Cabin')"
   ]
  },
  {
   "cell_type": "code",
   "execution_count": null,
   "id": "add00595",
   "metadata": {
    "execution": {
     "iopub.execute_input": "2023-12-14T22:01:17.519374Z",
     "iopub.status.busy": "2023-12-14T22:01:17.518131Z",
     "iopub.status.idle": "2023-12-14T22:01:17.543073Z",
     "shell.execute_reply": "2023-12-14T22:01:17.542072Z"
    },
    "papermill": {
     "duration": 0.061162,
     "end_time": "2023-12-14T22:01:17.545060",
     "exception": false,
     "start_time": "2023-12-14T22:01:17.483898",
     "status": "completed"
    },
    "tags": []
   },
   "outputs": [],
   "source": [
    "mask = df_train['Cabin'].isna()\n",
    "nan_rows = df_train[mask]\n",
    "split_point = len(nan_rows) // 2\n",
    "nan_rows.loc[:, 'Cabin'] = ['P'] * split_point + ['S'] * (len(nan_rows) - split_point)\n",
    "\n",
    "# df_train.update(nan_rows) # Почему-то когда я использую этот метод, теряются преобразования типов, сделанные ранее\n",
    "df_train.loc[mask, 'Cabin'] = nan_rows\n",
    "df_train['Cabin'].isna().sum()"
   ]
  },
  {
   "cell_type": "markdown",
   "id": "3cc5e357",
   "metadata": {
    "papermill": {
     "duration": 0.027821,
     "end_time": "2023-12-14T22:01:17.599253",
     "exception": false,
     "start_time": "2023-12-14T22:01:17.571432",
     "status": "completed"
    },
    "tags": []
   },
   "source": [
    "Основная информация, несущая смысловую нагрузку данного параметра, потенциально полезная для будущей модели - это последняя буква в deck/num/side-коде кабины пассажира. Она говорит, с какой стороны расположена кабина (или место) пассажира. Решено оставить только эту букву, а всё до нее удалить.\n",
    "\n",
    "Т.к. в датасете пассажиры равномерно распределены по двум возможным категориям (S и P), было решено разделить все пропуски поровну между этими двумя категориями."
   ]
  },
  {
   "cell_type": "markdown",
   "id": "99336c44",
   "metadata": {
    "papermill": {
     "duration": 0.026469,
     "end_time": "2023-12-14T22:01:17.652490",
     "exception": false,
     "start_time": "2023-12-14T22:01:17.626021",
     "status": "completed"
    },
    "tags": []
   },
   "source": [
    "---"
   ]
  },
  {
   "cell_type": "markdown",
   "id": "02afad5a",
   "metadata": {
    "papermill": {
     "duration": 0.029385,
     "end_time": "2023-12-14T22:01:17.706892",
     "exception": false,
     "start_time": "2023-12-14T22:01:17.677507",
     "status": "completed"
    },
    "tags": []
   },
   "source": [
    "## Destination"
   ]
  },
  {
   "cell_type": "code",
   "execution_count": null,
   "id": "2f3f18be",
   "metadata": {
    "execution": {
     "iopub.execute_input": "2023-12-14T22:01:17.759024Z",
     "iopub.status.busy": "2023-12-14T22:01:17.759024Z",
     "iopub.status.idle": "2023-12-14T22:01:17.771124Z",
     "shell.execute_reply": "2023-12-14T22:01:17.771124Z"
    },
    "papermill": {
     "duration": 0.038416,
     "end_time": "2023-12-14T22:01:17.771124",
     "exception": false,
     "start_time": "2023-12-14T22:01:17.732708",
     "status": "completed"
    },
    "tags": []
   },
   "outputs": [],
   "source": [
    "df_train['Destination'].value_counts(dropna=False).to_frame()"
   ]
  },
  {
   "cell_type": "code",
   "execution_count": null,
   "id": "9835c728",
   "metadata": {
    "execution": {
     "iopub.execute_input": "2023-12-14T22:01:17.829639Z",
     "iopub.status.busy": "2023-12-14T22:01:17.829639Z",
     "iopub.status.idle": "2023-12-14T22:01:18.261262Z",
     "shell.execute_reply": "2023-12-14T22:01:18.261262Z"
    },
    "papermill": {
     "duration": 0.461271,
     "end_time": "2023-12-14T22:01:18.261262",
     "exception": false,
     "start_time": "2023-12-14T22:01:17.799991",
     "status": "completed"
    },
    "tags": []
   },
   "outputs": [],
   "source": [
    "plot_size_multiple([df_train, df_test], 'Destination', '', (0.01, 0.01, 0.05), palette)"
   ]
  },
  {
   "cell_type": "code",
   "execution_count": null,
   "id": "fe47882a",
   "metadata": {
    "execution": {
     "iopub.execute_input": "2023-12-14T22:01:18.324916Z",
     "iopub.status.busy": "2023-12-14T22:01:18.324916Z",
     "iopub.status.idle": "2023-12-14T22:01:18.339799Z",
     "shell.execute_reply": "2023-12-14T22:01:18.338781Z"
    },
    "papermill": {
     "duration": 0.04721,
     "end_time": "2023-12-14T22:01:18.340805",
     "exception": false,
     "start_time": "2023-12-14T22:01:18.293595",
     "status": "completed"
    },
    "tags": []
   },
   "outputs": [],
   "source": [
    "df_train[df_train['Destination'].isna()]['Transported'].mean()"
   ]
  },
  {
   "cell_type": "code",
   "execution_count": null,
   "id": "8b98cac8",
   "metadata": {
    "execution": {
     "iopub.execute_input": "2023-12-14T22:01:18.414701Z",
     "iopub.status.busy": "2023-12-14T22:01:18.413689Z",
     "iopub.status.idle": "2023-12-14T22:01:18.596721Z",
     "shell.execute_reply": "2023-12-14T22:01:18.596721Z"
    },
    "papermill": {
     "duration": 0.225885,
     "end_time": "2023-12-14T22:01:18.598733",
     "exception": false,
     "start_time": "2023-12-14T22:01:18.372848",
     "status": "completed"
    },
    "tags": []
   },
   "outputs": [],
   "source": [
    "plot_tab('Destination')"
   ]
  },
  {
   "cell_type": "code",
   "execution_count": null,
   "id": "14274721",
   "metadata": {
    "execution": {
     "iopub.execute_input": "2023-12-14T22:01:18.659567Z",
     "iopub.status.busy": "2023-12-14T22:01:18.659567Z",
     "iopub.status.idle": "2023-12-14T22:01:18.675234Z",
     "shell.execute_reply": "2023-12-14T22:01:18.674726Z"
    },
    "papermill": {
     "duration": 0.04802,
     "end_time": "2023-12-14T22:01:18.677241",
     "exception": false,
     "start_time": "2023-12-14T22:01:18.629221",
     "status": "completed"
    },
    "tags": []
   },
   "outputs": [],
   "source": [
    "df_survived_destination = (df_train.groupby('Destination')['Transported']\n",
    " .mean()\n",
    " .to_frame()\n",
    " .rename(columns={'Transported': 'transported_rate'})\n",
    " .sort_values(by=['transported_rate'])\n",
    ")\n",
    "df_survived_destination"
   ]
  },
  {
   "cell_type": "markdown",
   "id": "722a401d",
   "metadata": {
    "papermill": {
     "duration": 0.030373,
     "end_time": "2023-12-14T22:01:18.737713",
     "exception": false,
     "start_time": "2023-12-14T22:01:18.707340",
     "status": "completed"
    },
    "tags": []
   },
   "source": [
    "Хоть средние показатели больше похожи на группу \"PSO J318.5-22\", но размеры группы не имеют порядковой разницы с количеством строк с пропуском. Поэтому присвоим всем пропускам значение самой крупной группы."
   ]
  },
  {
   "cell_type": "code",
   "execution_count": null,
   "id": "2e8a96fa",
   "metadata": {
    "execution": {
     "iopub.execute_input": "2023-12-14T22:01:18.797129Z",
     "iopub.status.busy": "2023-12-14T22:01:18.797129Z",
     "iopub.status.idle": "2023-12-14T22:01:18.806621Z",
     "shell.execute_reply": "2023-12-14T22:01:18.806113Z"
    },
    "papermill": {
     "duration": 0.039849,
     "end_time": "2023-12-14T22:01:18.808207",
     "exception": false,
     "start_time": "2023-12-14T22:01:18.768358",
     "status": "completed"
    },
    "tags": []
   },
   "outputs": [],
   "source": [
    "df_train.loc[df_train['Destination'].isna(), 'Destination'] = 'TRAPPIST-1e'\n",
    "df_train['Destination'].isna().sum()"
   ]
  },
  {
   "cell_type": "markdown",
   "id": "9e59c83b",
   "metadata": {
    "papermill": {
     "duration": 0.030031,
     "end_time": "2023-12-14T22:01:18.866767",
     "exception": false,
     "start_time": "2023-12-14T22:01:18.836736",
     "status": "completed"
    },
    "tags": []
   },
   "source": [
    "Здесь рассуждения и наблюдения схожи с теми, что были проведены с параметром HomePlanet."
   ]
  },
  {
   "cell_type": "markdown",
   "id": "4258e17d",
   "metadata": {
    "papermill": {
     "duration": 0.027768,
     "end_time": "2023-12-14T22:01:18.929328",
     "exception": false,
     "start_time": "2023-12-14T22:01:18.901560",
     "status": "completed"
    },
    "tags": []
   },
   "source": [
    "---"
   ]
  },
  {
   "cell_type": "markdown",
   "id": "fb1def4e",
   "metadata": {
    "papermill": {
     "duration": 0.034433,
     "end_time": "2023-12-14T22:01:19.109919",
     "exception": false,
     "start_time": "2023-12-14T22:01:19.075486",
     "status": "completed"
    },
    "tags": []
   },
   "source": [
    "## Age"
   ]
  },
  {
   "cell_type": "code",
   "execution_count": null,
   "id": "bb50df42",
   "metadata": {
    "execution": {
     "iopub.execute_input": "2023-12-14T22:01:19.179288Z",
     "iopub.status.busy": "2023-12-14T22:01:19.179288Z",
     "iopub.status.idle": "2023-12-14T22:01:19.195036Z",
     "shell.execute_reply": "2023-12-14T22:01:19.193930Z"
    },
    "papermill": {
     "duration": 0.050866,
     "end_time": "2023-12-14T22:01:19.196554",
     "exception": false,
     "start_time": "2023-12-14T22:01:19.145688",
     "status": "completed"
    },
    "tags": []
   },
   "outputs": [],
   "source": [
    "df_train.Age.isna().sum()"
   ]
  },
  {
   "cell_type": "code",
   "execution_count": null,
   "id": "79bd5492",
   "metadata": {
    "execution": {
     "iopub.execute_input": "2023-12-14T22:01:19.260994Z",
     "iopub.status.busy": "2023-12-14T22:01:19.260994Z",
     "iopub.status.idle": "2023-12-14T22:01:19.273865Z",
     "shell.execute_reply": "2023-12-14T22:01:19.273865Z"
    },
    "papermill": {
     "duration": 0.048898,
     "end_time": "2023-12-14T22:01:19.276386",
     "exception": false,
     "start_time": "2023-12-14T22:01:19.227488",
     "status": "completed"
    },
    "tags": []
   },
   "outputs": [],
   "source": [
    "df_train.Age.describe().to_frame()"
   ]
  },
  {
   "cell_type": "code",
   "execution_count": null,
   "id": "dbf73dda",
   "metadata": {
    "execution": {
     "iopub.execute_input": "2023-12-14T22:01:19.341908Z",
     "iopub.status.busy": "2023-12-14T22:01:19.341908Z",
     "iopub.status.idle": "2023-12-14T22:01:19.991113Z",
     "shell.execute_reply": "2023-12-14T22:01:19.991113Z"
    },
    "papermill": {
     "duration": 0.683046,
     "end_time": "2023-12-14T22:01:19.991113",
     "exception": false,
     "start_time": "2023-12-14T22:01:19.308067",
     "status": "completed"
    },
    "tags": []
   },
   "outputs": [],
   "source": [
    "with sns.axes_style(\"darkgrid\"):\n",
    "    fig, axs = plt.subplots(figsize=(8, 6), tight_layout=True)\n",
    "    \n",
    "    sns.histplot(data=df_train, x=df_train.Age, bins=20, kde=True, ax=axs)\n",
    "    axs.set_title('Clients ages frequency', fontsize=16)\n",
    "    axs.set_xlabel('Age', fontsize='14')\n",
    "    axs.set_ylabel('Count', fontsize='14')\n",
    "    axs.tick_params(axis='x', labelsize=11)\n",
    "    axs.tick_params(axis='y', labelsize=11)"
   ]
  },
  {
   "cell_type": "code",
   "execution_count": null,
   "id": "ccf59aa9",
   "metadata": {
    "execution": {
     "iopub.execute_input": "2023-12-14T22:01:20.056436Z",
     "iopub.status.busy": "2023-12-14T22:01:20.056436Z",
     "iopub.status.idle": "2023-12-14T22:01:20.189469Z",
     "shell.execute_reply": "2023-12-14T22:01:20.188469Z"
    },
    "papermill": {
     "duration": 0.168768,
     "end_time": "2023-12-14T22:01:20.192035",
     "exception": false,
     "start_time": "2023-12-14T22:01:20.023267",
     "status": "completed"
    },
    "tags": []
   },
   "outputs": [],
   "source": [
    "plt.figure(figsize=(8, 6))\n",
    "plt.boxplot(df_train.Age.dropna(), vert=False)\n",
    "plt.title('Distribution of age among clients')\n",
    "plt.xlabel('Age', fontsize=14)\n",
    "plt.show()"
   ]
  },
  {
   "cell_type": "code",
   "execution_count": null,
   "id": "62cb56b3",
   "metadata": {
    "execution": {
     "iopub.execute_input": "2023-12-14T22:01:20.280526Z",
     "iopub.status.busy": "2023-12-14T22:01:20.279530Z",
     "iopub.status.idle": "2023-12-14T22:01:20.293155Z",
     "shell.execute_reply": "2023-12-14T22:01:20.292645Z"
    },
    "papermill": {
     "duration": 0.055059,
     "end_time": "2023-12-14T22:01:20.295255",
     "exception": false,
     "start_time": "2023-12-14T22:01:20.240196",
     "status": "completed"
    },
    "tags": []
   },
   "outputs": [],
   "source": [
    "df_train.loc[df_train.Age.isna(), 'Age'] = df_train.Age.mean()\n",
    "df_train.Age.isna().sum()"
   ]
  },
  {
   "cell_type": "markdown",
   "id": "65435092",
   "metadata": {
    "papermill": {
     "duration": 0.054826,
     "end_time": "2023-12-14T22:01:20.393958",
     "exception": false,
     "start_time": "2023-12-14T22:01:20.339132",
     "status": "completed"
    },
    "tags": []
   },
   "source": [
    "Средний возраст пассажиров - около 27-30 лет, при этом более молодых клиентов (до 30) больше, чем более возростных (старше 30), что видно на гистограмме выше. Имеется два пика - в районе 20-25 лет и, что интересно, в самом начале графика распределения - в районе 0-4 лет. Т.е. имеется значительное число пассажиров-детей. редкостью являются пассажиры старше 66 лет.\n",
    "\n",
    "Заполняем пропуски в возрасте пассажиров средним значением, т.к. это проще всего, а количество пропусков мало."
   ]
  },
  {
   "cell_type": "markdown",
   "id": "06fc6eb6",
   "metadata": {
    "papermill": {
     "duration": 0.033419,
     "end_time": "2023-12-14T22:01:20.476459",
     "exception": false,
     "start_time": "2023-12-14T22:01:20.443040",
     "status": "completed"
    },
    "tags": []
   },
   "source": [
    "---"
   ]
  },
  {
   "cell_type": "markdown",
   "id": "7c4898a9",
   "metadata": {
    "papermill": {
     "duration": 0.033475,
     "end_time": "2023-12-14T22:01:20.545151",
     "exception": false,
     "start_time": "2023-12-14T22:01:20.511676",
     "status": "completed"
    },
    "tags": []
   },
   "source": [
    "## VIP"
   ]
  },
  {
   "cell_type": "code",
   "execution_count": null,
   "id": "895d1c5b",
   "metadata": {
    "execution": {
     "iopub.execute_input": "2023-12-14T22:01:20.611308Z",
     "iopub.status.busy": "2023-12-14T22:01:20.611308Z",
     "iopub.status.idle": "2023-12-14T22:01:20.616822Z",
     "shell.execute_reply": "2023-12-14T22:01:20.616822Z"
    },
    "papermill": {
     "duration": 0.042209,
     "end_time": "2023-12-14T22:01:20.618829",
     "exception": false,
     "start_time": "2023-12-14T22:01:20.576620",
     "status": "completed"
    },
    "tags": []
   },
   "outputs": [],
   "source": [
    "df_train['VIP'].value_counts(dropna=False)"
   ]
  },
  {
   "cell_type": "code",
   "execution_count": null,
   "id": "cd8823c5",
   "metadata": {
    "execution": {
     "iopub.execute_input": "2023-12-14T22:01:20.685143Z",
     "iopub.status.busy": "2023-12-14T22:01:20.685143Z",
     "iopub.status.idle": "2023-12-14T22:01:20.694804Z",
     "shell.execute_reply": "2023-12-14T22:01:20.693794Z"
    },
    "papermill": {
     "duration": 0.046496,
     "end_time": "2023-12-14T22:01:20.695803",
     "exception": false,
     "start_time": "2023-12-14T22:01:20.649307",
     "status": "completed"
    },
    "tags": []
   },
   "outputs": [],
   "source": [
    "df_train['VIP'].isna().sum()"
   ]
  },
  {
   "cell_type": "code",
   "execution_count": null,
   "id": "897cdba6",
   "metadata": {
    "execution": {
     "iopub.execute_input": "2023-12-14T22:01:20.761544Z",
     "iopub.status.busy": "2023-12-14T22:01:20.761544Z",
     "iopub.status.idle": "2023-12-14T22:01:20.906302Z",
     "shell.execute_reply": "2023-12-14T22:01:20.905052Z"
    },
    "papermill": {
     "duration": 0.179951,
     "end_time": "2023-12-14T22:01:20.907894",
     "exception": false,
     "start_time": "2023-12-14T22:01:20.727943",
     "status": "completed"
    },
    "tags": []
   },
   "outputs": [],
   "source": [
    "plot_tab('VIP', True)"
   ]
  },
  {
   "cell_type": "code",
   "execution_count": null,
   "id": "2812fe6a",
   "metadata": {
    "execution": {
     "iopub.execute_input": "2023-12-14T22:01:20.998827Z",
     "iopub.status.busy": "2023-12-14T22:01:20.998827Z",
     "iopub.status.idle": "2023-12-14T22:01:21.003531Z",
     "shell.execute_reply": "2023-12-14T22:01:21.003409Z"
    },
    "papermill": {
     "duration": 0.063202,
     "end_time": "2023-12-14T22:01:21.005954",
     "exception": false,
     "start_time": "2023-12-14T22:01:20.942752",
     "status": "completed"
    },
    "tags": []
   },
   "outputs": [],
   "source": [
    "df_train['VIP'].fillna(value=False, inplace=True)"
   ]
  },
  {
   "cell_type": "markdown",
   "id": "7ce148ae",
   "metadata": {
    "papermill": {
     "duration": 0.034937,
     "end_time": "2023-12-14T22:01:21.071514",
     "exception": false,
     "start_time": "2023-12-14T22:01:21.036577",
     "status": "completed"
    },
    "tags": []
   },
   "source": [
    "Во-первых, VIP-клиентов крайне мало - всего 199 человек на более чем 8000. Во-вторых, замечается некоторая закономерность, что VIP-клиенты на 10% менее вероятно успешно заканчивают перелет. Однако стоит учитывать малые размеры выборки данной категории клиентов, поэтому проверка наличия данной закономерности требует отдельных исследований и стат. экспериментов.\n",
    "\n",
    "Пропуски было решено заполнить значением False, т.е. отсутствием VIP-статуса у пассажира. Данная категория пассажирова намного крупнее и будет менее подвержена стат. изменениям при добавлении новых значений, в отличае от группы VIP-клиентов. Кроме того, данный подход интуитивно логичнее."
   ]
  },
  {
   "cell_type": "markdown",
   "id": "49cad0d5",
   "metadata": {
    "papermill": {
     "duration": 0.031936,
     "end_time": "2023-12-14T22:01:21.136808",
     "exception": false,
     "start_time": "2023-12-14T22:01:21.104872",
     "status": "completed"
    },
    "tags": []
   },
   "source": [
    "---"
   ]
  },
  {
   "cell_type": "markdown",
   "id": "97639fc0",
   "metadata": {
    "papermill": {
     "duration": 0.034331,
     "end_time": "2023-12-14T22:01:21.201016",
     "exception": false,
     "start_time": "2023-12-14T22:01:21.166685",
     "status": "completed"
    },
    "tags": []
   },
   "source": [
    "## RoomService, FoodCourt, ShoppingMall, Spa, VRDeck"
   ]
  },
  {
   "cell_type": "code",
   "execution_count": null,
   "id": "5651f18f",
   "metadata": {
    "execution": {
     "iopub.execute_input": "2023-12-14T22:01:21.265749Z",
     "iopub.status.busy": "2023-12-14T22:01:21.264304Z",
     "iopub.status.idle": "2023-12-14T22:01:21.271786Z",
     "shell.execute_reply": "2023-12-14T22:01:21.271786Z"
    },
    "papermill": {
     "duration": 0.044741,
     "end_time": "2023-12-14T22:01:21.271786",
     "exception": false,
     "start_time": "2023-12-14T22:01:21.227045",
     "status": "completed"
    },
    "tags": []
   },
   "outputs": [],
   "source": [
    "columns = ['RoomService', 'FoodCourt', 'ShoppingMall', 'Spa', 'VRDeck']"
   ]
  },
  {
   "cell_type": "code",
   "execution_count": null,
   "id": "ef11ce19",
   "metadata": {
    "execution": {
     "iopub.execute_input": "2023-12-14T22:01:21.349267Z",
     "iopub.status.busy": "2023-12-14T22:01:21.348932Z",
     "iopub.status.idle": "2023-12-14T22:01:21.362289Z",
     "shell.execute_reply": "2023-12-14T22:01:21.362289Z"
    },
    "papermill": {
     "duration": 0.05489,
     "end_time": "2023-12-14T22:01:21.363688",
     "exception": false,
     "start_time": "2023-12-14T22:01:21.308798",
     "status": "completed"
    },
    "tags": []
   },
   "outputs": [],
   "source": [
    "df_train[columns].isna().sum().to_frame().rename(columns={0: 'nans'})"
   ]
  },
  {
   "cell_type": "code",
   "execution_count": null,
   "id": "12f301eb",
   "metadata": {
    "execution": {
     "iopub.execute_input": "2023-12-14T22:01:21.443984Z",
     "iopub.status.busy": "2023-12-14T22:01:21.443984Z",
     "iopub.status.idle": "2023-12-14T22:01:21.463179Z",
     "shell.execute_reply": "2023-12-14T22:01:21.463179Z"
    },
    "papermill": {
     "duration": 0.059368,
     "end_time": "2023-12-14T22:01:21.466196",
     "exception": false,
     "start_time": "2023-12-14T22:01:21.406828",
     "status": "completed"
    },
    "tags": []
   },
   "outputs": [],
   "source": [
    "df_train[columns].describe()"
   ]
  },
  {
   "cell_type": "code",
   "execution_count": null,
   "id": "265d1e74",
   "metadata": {
    "execution": {
     "iopub.execute_input": "2023-12-14T22:01:21.537517Z",
     "iopub.status.busy": "2023-12-14T22:01:21.536817Z",
     "iopub.status.idle": "2023-12-14T22:01:21.570983Z",
     "shell.execute_reply": "2023-12-14T22:01:21.570983Z"
    },
    "papermill": {
     "duration": 0.074001,
     "end_time": "2023-12-14T22:01:21.573919",
     "exception": false,
     "start_time": "2023-12-14T22:01:21.499918",
     "status": "completed"
    },
    "tags": []
   },
   "outputs": [],
   "source": [
    "df_train[df_train[columns] > 0][columns].describe()"
   ]
  },
  {
   "cell_type": "code",
   "execution_count": null,
   "id": "d5c06003",
   "metadata": {
    "execution": {
     "iopub.execute_input": "2023-12-14T22:01:21.661027Z",
     "iopub.status.busy": "2023-12-14T22:01:21.661027Z",
     "iopub.status.idle": "2023-12-14T22:01:22.283334Z",
     "shell.execute_reply": "2023-12-14T22:01:22.282333Z"
    },
    "papermill": {
     "duration": 0.675103,
     "end_time": "2023-12-14T22:01:22.285334",
     "exception": false,
     "start_time": "2023-12-14T22:01:21.610231",
     "status": "completed"
    },
    "tags": []
   },
   "outputs": [],
   "source": [
    "fig, axs = plt.subplots(3, 2, figsize=(16, 12), tight_layout=True)\n",
    "\n",
    "i, j = 0, 0\n",
    "for index, column in enumerate(columns):\n",
    "    i, j = index // 2, index % 2\n",
    "    rows = df_train[df_train[column] > 0][column]\n",
    "    axs[i, j].boxplot(rows.dropna(), vert=False)\n",
    "    axs[i, j].set_title(column)\n",
    "    iqr = np.percentile(rows, 75) - np.percentile(rows, 25)\n",
    "    axs[i, j].set_xlim(0, np.percentile(rows, 75) + 2 * iqr)\n",
    "    \n",
    "axs[i, j+1].set_visible(False)"
   ]
  },
  {
   "cell_type": "code",
   "execution_count": null,
   "id": "1f6fdb67",
   "metadata": {
    "execution": {
     "iopub.execute_input": "2023-12-14T22:01:22.367588Z",
     "iopub.status.busy": "2023-12-14T22:01:22.367588Z",
     "iopub.status.idle": "2023-12-14T22:01:22.394031Z",
     "shell.execute_reply": "2023-12-14T22:01:22.394031Z"
    },
    "papermill": {
     "duration": 0.073863,
     "end_time": "2023-12-14T22:01:22.402863",
     "exception": false,
     "start_time": "2023-12-14T22:01:22.329000",
     "status": "completed"
    },
    "tags": []
   },
   "outputs": [],
   "source": [
    "df_train.fillna({col: 0.0 for col in columns}, inplace=True)\n",
    "df_train[columns].isna().sum().to_frame().rename(columns={0: 'nans'})"
   ]
  },
  {
   "cell_type": "markdown",
   "id": "0ed5884c",
   "metadata": {
    "papermill": {
     "duration": 0.043335,
     "end_time": "2023-12-14T22:01:22.480746",
     "exception": false,
     "start_time": "2023-12-14T22:01:22.437411",
     "status": "completed"
    },
    "tags": []
   },
   "source": [
    "Платил - не платил, как выживаемость?"
   ]
  },
  {
   "cell_type": "code",
   "execution_count": null,
   "id": "48ea4a2b",
   "metadata": {
    "execution": {
     "iopub.execute_input": "2023-12-14T22:01:22.563879Z",
     "iopub.status.busy": "2023-12-14T22:01:22.563879Z",
     "iopub.status.idle": "2023-12-14T22:01:22.570842Z",
     "shell.execute_reply": "2023-12-14T22:01:22.570239Z"
    },
    "papermill": {
     "duration": 0.048323,
     "end_time": "2023-12-14T22:01:22.572637",
     "exception": false,
     "start_time": "2023-12-14T22:01:22.524314",
     "status": "completed"
    },
    "tags": []
   },
   "outputs": [],
   "source": [
    "all_inclusive_df = df_train.loc[(df_train[columns] > 0).all(axis=1)]\n",
    "print(all_inclusive_df.shape[0], 'пассажира оплатило все возможные услуги.')"
   ]
  },
  {
   "cell_type": "code",
   "execution_count": null,
   "id": "9e0992df",
   "metadata": {
    "execution": {
     "iopub.execute_input": "2023-12-14T22:01:22.646462Z",
     "iopub.status.busy": "2023-12-14T22:01:22.646462Z",
     "iopub.status.idle": "2023-12-14T22:01:22.654993Z",
     "shell.execute_reply": "2023-12-14T22:01:22.654993Z"
    },
    "papermill": {
     "duration": 0.048741,
     "end_time": "2023-12-14T22:01:22.657515",
     "exception": false,
     "start_time": "2023-12-14T22:01:22.608774",
     "status": "completed"
    },
    "tags": []
   },
   "outputs": [],
   "source": [
    "all_inclusive_df[all_inclusive_df['VIP'] == True].shape[0]"
   ]
  },
  {
   "cell_type": "code",
   "execution_count": null,
   "id": "b94edfb9",
   "metadata": {
    "execution": {
     "iopub.execute_input": "2023-12-14T22:01:22.726787Z",
     "iopub.status.busy": "2023-12-14T22:01:22.723282Z",
     "iopub.status.idle": "2023-12-14T22:01:22.734009Z",
     "shell.execute_reply": "2023-12-14T22:01:22.734009Z"
    },
    "papermill": {
     "duration": 0.045023,
     "end_time": "2023-12-14T22:01:22.736567",
     "exception": false,
     "start_time": "2023-12-14T22:01:22.691544",
     "status": "completed"
    },
    "tags": []
   },
   "outputs": [],
   "source": [
    "has_money_df = df_train.loc[(df_train[columns] > 0).any(axis=1)]\n",
    "print(has_money_df.shape[0], 'пассажиров оплатило хотя бы одну из предоставляемых на борту услуг.')"
   ]
  },
  {
   "cell_type": "code",
   "execution_count": null,
   "id": "3d5a98e6",
   "metadata": {
    "execution": {
     "iopub.execute_input": "2023-12-14T22:01:22.806092Z",
     "iopub.status.busy": "2023-12-14T22:01:22.806092Z",
     "iopub.status.idle": "2023-12-14T22:01:22.821552Z",
     "shell.execute_reply": "2023-12-14T22:01:22.821552Z"
    },
    "papermill": {
     "duration": 0.053869,
     "end_time": "2023-12-14T22:01:22.824239",
     "exception": false,
     "start_time": "2023-12-14T22:01:22.770370",
     "status": "completed"
    },
    "tags": []
   },
   "outputs": [],
   "source": [
    "no_money_df = df_train.loc[(df_train[columns] == 0).all(axis=1)]\n",
    "print(no_money_df.shape[0], 'пассажиров не оплатило ни одной из предоставляемых на борту услуг.')\n",
    "print('Из них', no_money_df[no_money_df['CryoSleep'] == True].shape[0], 'пассажира находились в состоянии криосна.')"
   ]
  },
  {
   "cell_type": "code",
   "execution_count": null,
   "id": "ceb9148a",
   "metadata": {
    "execution": {
     "iopub.execute_input": "2023-12-14T22:01:22.898131Z",
     "iopub.status.busy": "2023-12-14T22:01:22.897126Z",
     "iopub.status.idle": "2023-12-14T22:01:22.904895Z",
     "shell.execute_reply": "2023-12-14T22:01:22.904895Z"
    },
    "papermill": {
     "duration": 0.050027,
     "end_time": "2023-12-14T22:01:22.906611",
     "exception": false,
     "start_time": "2023-12-14T22:01:22.856584",
     "status": "completed"
    },
    "tags": []
   },
   "outputs": [],
   "source": [
    "print('Доля успешно закончивших путешествие пассажиров из числа оплативших каждую из доступных услуг:')\n",
    "all_inclusive_df[all_inclusive_df['Transported'] == True].shape[0] / all_inclusive_df.shape[0]"
   ]
  },
  {
   "cell_type": "code",
   "execution_count": null,
   "id": "e0dc72fa",
   "metadata": {
    "execution": {
     "iopub.execute_input": "2023-12-14T22:01:22.991166Z",
     "iopub.status.busy": "2023-12-14T22:01:22.991166Z",
     "iopub.status.idle": "2023-12-14T22:01:23.004962Z",
     "shell.execute_reply": "2023-12-14T22:01:23.003786Z"
    },
    "papermill": {
     "duration": 0.058845,
     "end_time": "2023-12-14T22:01:23.006903",
     "exception": false,
     "start_time": "2023-12-14T22:01:22.948058",
     "status": "completed"
    },
    "tags": []
   },
   "outputs": [],
   "source": [
    "print('Доля успешно закончивших путешествие пассажиров из числа оплативших хотя бы одну из доступных услуг:')\n",
    "has_money_df[has_money_df['Transported'] == True].shape[0] / has_money_df.shape[0]"
   ]
  },
  {
   "cell_type": "code",
   "execution_count": null,
   "id": "0323fec3",
   "metadata": {
    "execution": {
     "iopub.execute_input": "2023-12-14T22:01:23.099482Z",
     "iopub.status.busy": "2023-12-14T22:01:23.098482Z",
     "iopub.status.idle": "2023-12-14T22:01:23.122546Z",
     "shell.execute_reply": "2023-12-14T22:01:23.121682Z"
    },
    "papermill": {
     "duration": 0.071644,
     "end_time": "2023-12-14T22:01:23.123562",
     "exception": false,
     "start_time": "2023-12-14T22:01:23.051918",
     "status": "completed"
    },
    "tags": []
   },
   "outputs": [],
   "source": [
    "print('Доля успешно закончивших путешествие пассажиров из числа не оплативших ни одну из доступных услуг:')\n",
    "no_money_df[no_money_df['Transported'] == True].shape[0] / no_money_df.shape[0]"
   ]
  },
  {
   "cell_type": "code",
   "execution_count": null,
   "id": "da8d4a36",
   "metadata": {
    "execution": {
     "iopub.execute_input": "2023-12-14T22:01:23.214916Z",
     "iopub.status.busy": "2023-12-14T22:01:23.213862Z",
     "iopub.status.idle": "2023-12-14T22:01:23.247829Z",
     "shell.execute_reply": "2023-12-14T22:01:23.246793Z"
    },
    "papermill": {
     "duration": 0.089428,
     "end_time": "2023-12-14T22:01:23.249979",
     "exception": false,
     "start_time": "2023-12-14T22:01:23.160551",
     "status": "completed"
    },
    "tags": []
   },
   "outputs": [],
   "source": [
    "df_train['has_services'] = ~(df_train[columns] == 0).all(axis=1)\n",
    "df_train.head()"
   ]
  },
  {
   "cell_type": "markdown",
   "id": "27481013",
   "metadata": {
    "papermill": {
     "duration": 0.050847,
     "end_time": "2023-12-14T22:01:23.343503",
     "exception": false,
     "start_time": "2023-12-14T22:01:23.292656",
     "status": "completed"
    },
    "tags": []
   },
   "source": [
    "Пропуски в любой из рассматриваемых пяти категорий заполнены нулями по тому принципу, что раз уж никакой информации нет, то логичнее предположить, что заполнять было нечего, и вместо нуля оставили пустое значение.\n",
    "\n",
    "Пассажиры были разделены по степени заинтересованности в услугах, а скорее по степени трат на эти услуги. Выделено три категории: пассажиры, оплатившие хотя бы одну услугу, все услуги или ни одной. Пассажиров из последней категории оказалось больше всего - порядка 57% (5040/8693). Пассажиров из первой категории тоже оказалось достаточно много - 42% от всей выборки (3653/8693). Клиентов, оплативших каждую из услуг - всего 252 человека или около 6% от размеров предыдущей категории.\n",
    "\n",
    "После такого разделения была изучен процент успешно завершенных путешествий внутри каждой из категорий. Было замечено, что, как ни странно, пассажиры, имеющие оплаченные услуги, реже заканчивают путешествие - доля успехов составляет около 30%. В то же время пассажиры без оплаченных услуг в почти 80% случаев завершают перелет без проблем. Однако, было также замечено, что более 80% пассажиров без услуг во время перелета находились в состоянии криосна, а как было замечено в соответствующем пункте анализа, имеется некоторя корреляция между этим показателем и успешностью перелета. Поэтому можно предположить, что признак наличия оплаченных услуг является косвенным признаком успешности путешествия. \n",
    "\n",
    "А раз важно само наличие оплаченных услуг, решено упростить 5 категорий в одну - имелись ли хоть какие-то оплаченные услуги у пассажира. Именно в такой формулировке принято обобщить рассматриваемые категории."
   ]
  },
  {
   "cell_type": "markdown",
   "id": "56e1b18a",
   "metadata": {
    "papermill": {
     "duration": 0.038782,
     "end_time": "2023-12-14T22:01:23.446949",
     "exception": false,
     "start_time": "2023-12-14T22:01:23.408167",
     "status": "completed"
    },
    "tags": []
   },
   "source": [
    "---"
   ]
  },
  {
   "cell_type": "markdown",
   "id": "d3b164f5",
   "metadata": {
    "papermill": {
     "duration": 0.036871,
     "end_time": "2023-12-14T22:01:23.522708",
     "exception": false,
     "start_time": "2023-12-14T22:01:23.485837",
     "status": "completed"
    },
    "tags": []
   },
   "source": [
    "## Name"
   ]
  },
  {
   "cell_type": "code",
   "execution_count": null,
   "id": "1261b29d",
   "metadata": {
    "execution": {
     "iopub.execute_input": "2023-12-14T22:01:23.593094Z",
     "iopub.status.busy": "2023-12-14T22:01:23.593094Z",
     "iopub.status.idle": "2023-12-14T22:01:23.601288Z",
     "shell.execute_reply": "2023-12-14T22:01:23.601288Z"
    },
    "papermill": {
     "duration": 0.044181,
     "end_time": "2023-12-14T22:01:23.601288",
     "exception": false,
     "start_time": "2023-12-14T22:01:23.557107",
     "status": "completed"
    },
    "tags": []
   },
   "outputs": [],
   "source": [
    "df_train.Name.isna().sum()"
   ]
  },
  {
   "cell_type": "code",
   "execution_count": null,
   "id": "6e9f6d32",
   "metadata": {
    "execution": {
     "iopub.execute_input": "2023-12-14T22:01:23.671044Z",
     "iopub.status.busy": "2023-12-14T22:01:23.671044Z",
     "iopub.status.idle": "2023-12-14T22:01:23.686706Z",
     "shell.execute_reply": "2023-12-14T22:01:23.686617Z"
    },
    "papermill": {
     "duration": 0.051179,
     "end_time": "2023-12-14T22:01:23.688114",
     "exception": false,
     "start_time": "2023-12-14T22:01:23.636935",
     "status": "completed"
    },
    "tags": []
   },
   "outputs": [],
   "source": [
    "mask = df_train['Name'].isna()\n",
    "l = df_train[mask].shape[0]\n",
    "df_train.loc[mask, 'Name'] = ['noname_' + str(i) for i in range(0, l)]\n",
    "df_train.Name.isna().sum()"
   ]
  },
  {
   "cell_type": "code",
   "execution_count": null,
   "id": "79f8a59c",
   "metadata": {
    "execution": {
     "iopub.execute_input": "2023-12-14T22:01:23.761908Z",
     "iopub.status.busy": "2023-12-14T22:01:23.761908Z",
     "iopub.status.idle": "2023-12-14T22:01:23.768824Z",
     "shell.execute_reply": "2023-12-14T22:01:23.768824Z"
    },
    "papermill": {
     "duration": 0.051053,
     "end_time": "2023-12-14T22:01:23.771245",
     "exception": false,
     "start_time": "2023-12-14T22:01:23.720192",
     "status": "completed"
    },
    "tags": []
   },
   "outputs": [],
   "source": [
    "df_train['Name'].duplicated(keep=False).sum()"
   ]
  },
  {
   "cell_type": "code",
   "execution_count": null,
   "id": "73185743",
   "metadata": {
    "execution": {
     "iopub.execute_input": "2023-12-14T22:01:23.843558Z",
     "iopub.status.busy": "2023-12-14T22:01:23.843558Z",
     "iopub.status.idle": "2023-12-14T22:01:23.875410Z",
     "shell.execute_reply": "2023-12-14T22:01:23.875410Z"
    },
    "papermill": {
     "duration": 0.071258,
     "end_time": "2023-12-14T22:01:23.877925",
     "exception": false,
     "start_time": "2023-12-14T22:01:23.806667",
     "status": "completed"
    },
    "tags": []
   },
   "outputs": [],
   "source": [
    "df_train[df_train['Name'].duplicated(keep=False)].sort_values(by='Name')"
   ]
  },
  {
   "cell_type": "code",
   "execution_count": null,
   "id": "09dbad5d",
   "metadata": {
    "execution": {
     "iopub.execute_input": "2023-12-14T22:01:23.951095Z",
     "iopub.status.busy": "2023-12-14T22:01:23.951095Z",
     "iopub.status.idle": "2023-12-14T22:01:23.959280Z",
     "shell.execute_reply": "2023-12-14T22:01:23.959280Z"
    },
    "papermill": {
     "duration": 0.047348,
     "end_time": "2023-12-14T22:01:23.960368",
     "exception": false,
     "start_time": "2023-12-14T22:01:23.913020",
     "status": "completed"
    },
    "tags": []
   },
   "outputs": [],
   "source": [
    "df_train.drop_duplicates(subset=['Name'], keep='last', inplace=True)\n",
    "df_train['Name'].duplicated().sum()"
   ]
  },
  {
   "cell_type": "markdown",
   "id": "f3563a5c",
   "metadata": {
    "papermill": {
     "duration": 0.04099,
     "end_time": "2023-12-14T22:01:24.063452",
     "exception": false,
     "start_time": "2023-12-14T22:01:24.022462",
     "status": "completed"
    },
    "tags": []
   },
   "source": [
    "Имя - почти как уникальный идентификатор, логично предположить, что особой ценности для предсказания целевого параметра оно не имеет. Поэтому в дальнейшем от данного параметра мы избавимся, а сейчас удалим все строчки, в которых повторяется имя одного и того же пассажира, оставив последнюю запись. Последнюю в предположении, что у записей имеется какой-нибудь хронологический порядок, тогда последняя запись о пассажире - самая актуальная. Строк с дубликатами имен оказалось незначительно мало, поэтому даже если идея неверна, она вряд ли повлияет на конечное качество данных.\n",
    "\n",
    "Пропуски имен были заполнены значениями по умолчанию."
   ]
  },
  {
   "cell_type": "markdown",
   "id": "a3d22ac4",
   "metadata": {
    "papermill": {
     "duration": 0.046075,
     "end_time": "2023-12-14T22:01:24.152631",
     "exception": false,
     "start_time": "2023-12-14T22:01:24.106556",
     "status": "completed"
    },
    "tags": []
   },
   "source": [
    "---"
   ]
  },
  {
   "cell_type": "markdown",
   "id": "93be5b69",
   "metadata": {
    "papermill": {
     "duration": 0.040883,
     "end_time": "2023-12-14T22:01:24.235734",
     "exception": false,
     "start_time": "2023-12-14T22:01:24.194851",
     "status": "completed"
    },
    "tags": []
   },
   "source": [
    "# Оставшиеся пропуски"
   ]
  },
  {
   "cell_type": "code",
   "execution_count": null,
   "id": "df68a709",
   "metadata": {
    "execution": {
     "iopub.execute_input": "2023-12-14T22:01:24.320189Z",
     "iopub.status.busy": "2023-12-14T22:01:24.319180Z",
     "iopub.status.idle": "2023-12-14T22:01:24.329411Z",
     "shell.execute_reply": "2023-12-14T22:01:24.328721Z"
    },
    "papermill": {
     "duration": 0.054042,
     "end_time": "2023-12-14T22:01:24.331931",
     "exception": false,
     "start_time": "2023-12-14T22:01:24.277889",
     "status": "completed"
    },
    "tags": []
   },
   "outputs": [],
   "source": [
    "df_train.isna().sum()\n",
    "df_test.isna().sum()"
   ]
  },
  {
   "cell_type": "markdown",
   "id": "15bd5c04",
   "metadata": {
    "papermill": {
     "duration": 0.039408,
     "end_time": "2023-12-14T22:01:24.412336",
     "exception": false,
     "start_time": "2023-12-14T22:01:24.372928",
     "status": "completed"
    },
    "tags": []
   },
   "source": [
    "---"
   ]
  },
  {
   "cell_type": "markdown",
   "id": "949d4173",
   "metadata": {
    "papermill": {
     "duration": 0.038753,
     "end_time": "2023-12-14T22:01:24.498342",
     "exception": false,
     "start_time": "2023-12-14T22:01:24.459589",
     "status": "completed"
    },
    "tags": []
   },
   "source": [
    "## Correlation matrix"
   ]
  },
  {
   "cell_type": "code",
   "execution_count": null,
   "id": "ae9397d7",
   "metadata": {
    "execution": {
     "iopub.execute_input": "2023-12-14T22:01:24.611156Z",
     "iopub.status.busy": "2023-12-14T22:01:24.606634Z",
     "iopub.status.idle": "2023-12-14T22:01:24.621764Z",
     "shell.execute_reply": "2023-12-14T22:01:24.621764Z"
    },
    "papermill": {
     "duration": 0.061733,
     "end_time": "2023-12-14T22:01:24.621764",
     "exception": false,
     "start_time": "2023-12-14T22:01:24.560031",
     "status": "completed"
    },
    "tags": []
   },
   "outputs": [],
   "source": [
    "df_train.reset_index(drop=True, inplace=True)\n",
    "df_train.drop(columns=['PassengerId', 'Name'], inplace=True)\n",
    "df_train['Transported'] = df_train['Transported'].astype(object)\n",
    "df_train['VIP'] = df_train['VIP'].astype(object)\n",
    "df_train['CryoSleep'] = df_train['CryoSleep'].astype(object)\n",
    "df_train['has_services'] = df_train['has_services'].astype(object)\n",
    "df_train.info()"
   ]
  },
  {
   "cell_type": "code",
   "execution_count": null,
   "id": "858ef539",
   "metadata": {
    "papermill": {
     "duration": null,
     "end_time": null,
     "exception": false,
     "start_time": "2023-12-14T22:01:24.656904",
     "status": "running"
    },
    "tags": []
   },
   "outputs": [],
   "source": [
    "interval_cols = ['Age', 'RoomService', 'FoodCourt', 'ShoppingMall', 'Spa', 'VRDeck']\n",
    "\n",
    "correlation_matrix_train = df_train.phik_matrix(interval_cols=interval_cols)"
   ]
  },
  {
   "cell_type": "code",
   "execution_count": null,
   "id": "ed9f9946",
   "metadata": {
    "papermill": {
     "duration": null,
     "end_time": null,
     "exception": null,
     "start_time": null,
     "status": "pending"
    },
    "tags": []
   },
   "outputs": [],
   "source": [
    "plt.figure(figsize=(10, 8))\n",
    "\n",
    "sns.heatmap(correlation_matrix_train, annot=True, cmap='coolwarm', fmt='.2f', cbar_kws={\"shrink\": 0.75})\n",
    "\n",
    "plt.title('Phi-K корреляционная матрица')\n",
    "plt.tick_params(axis='x', labelsize=12)\n",
    "plt.tick_params(axis='y', labelsize=12)\n",
    "plt.show()"
   ]
  },
  {
   "cell_type": "markdown",
   "id": "890d8457",
   "metadata": {
    "papermill": {
     "duration": null,
     "end_time": null,
     "exception": null,
     "start_time": null,
     "status": "pending"
    },
    "tags": []
   },
   "source": [
    "Корреляционная матрица показывает наличие слабой корреляции между параметром \"CryoSleep\" и целевым значением, как и предполагалось ранее. Также видна слабая обратная корреляция между параметров \"has_services\" и целевым значением, что тоже было ожидаемо, т.к. \"CryoSleep\" и \"has_services\" в свою очередь имеют сильную обратную корреляцию. Остальные параметры с целевым признаком имеют незначительную, почти незаметную связь.\n",
    "\n",
    "В конце анализа данных и их подготовки решено удалить столбцы с ID и именами пассажиров и все колонки с услугами, т.к. мы их упростли до одного значения. Все категориальные параметры были приведены к числовым значениям с помощью label-encoding и one-hot-encoding. Label-encoding применен на колонках HomePlanet, Cabin, Destination, has_services и VIP, т.к. эти параметры имеют слабую связь с целевым параметром. One-hot-encoding был использован на колонке CryoSleep, т.к. данный параметр имеет заметную корреляцию с целевым параметром. Значения параметра Age не изменены. (Наверное можно избавиться и от параметра has_services, т.к. он коррелирует с CryoSleep, а это, как я помню, приводит к проблеме multicollinearity.)\n",
    "\n",
    "Итого остается 8 параметров, из которых показательными могут быть has_services и CryoSleep. Остальные колонки оставлены по остаточному принципу, т.к. вкупе могут составить связь, коррелирующую с целевым параметром. "
   ]
  },
  {
   "cell_type": "markdown",
   "id": "aa5c6a53",
   "metadata": {
    "papermill": {
     "duration": null,
     "end_time": null,
     "exception": null,
     "start_time": null,
     "status": "pending"
    },
    "tags": []
   },
   "source": [
    "---"
   ]
  },
  {
   "cell_type": "markdown",
   "id": "c0a75dc7",
   "metadata": {
    "papermill": {
     "duration": null,
     "end_time": null,
     "exception": null,
     "start_time": null,
     "status": "pending"
    },
    "tags": []
   },
   "source": [
    "# Test set"
   ]
  },
  {
   "cell_type": "code",
   "execution_count": null,
   "id": "02accad4",
   "metadata": {
    "papermill": {
     "duration": null,
     "end_time": null,
     "exception": null,
     "start_time": null,
     "status": "pending"
    },
    "tags": []
   },
   "outputs": [],
   "source": [
    "df_test[df_test.columns].isna().sum().to_frame().rename(columns={0: 'count'})"
   ]
  },
  {
   "cell_type": "code",
   "execution_count": null,
   "id": "acafe3ab",
   "metadata": {
    "papermill": {
     "duration": null,
     "end_time": null,
     "exception": null,
     "start_time": null,
     "status": "pending"
    },
    "tags": []
   },
   "outputs": [],
   "source": [
    "df_test.drop(columns=['Name', 'PassengerId'], inplace=True)\n",
    "df_test.columns"
   ]
  },
  {
   "cell_type": "code",
   "execution_count": null,
   "id": "62211bf0",
   "metadata": {
    "papermill": {
     "duration": null,
     "end_time": null,
     "exception": null,
     "start_time": null,
     "status": "pending"
    },
    "tags": []
   },
   "outputs": [],
   "source": [
    "df_test['has_services'] = (df_test[columns] > 0).any(axis=1)\n",
    "\n",
    "important_columns = ['HomePlanet', 'Cabin', 'Destination', 'Age', 'VIP', 'has_services', 'CryoSleep']\n",
    "df_test[important_columns].isna().any(axis=1).sum()"
   ]
  },
  {
   "cell_type": "code",
   "execution_count": null,
   "id": "18eb9e7c",
   "metadata": {
    "papermill": {
     "duration": null,
     "end_time": null,
     "exception": null,
     "start_time": null,
     "status": "pending"
    },
    "tags": []
   },
   "outputs": [],
   "source": [
    "# df_test.drop(columns=columns, inplace=True)\n",
    "df_test.drop(df_test[df_test[important_columns].isna().any(axis=1)].index, inplace=True)\n",
    "df_test.head()"
   ]
  },
  {
   "cell_type": "code",
   "execution_count": null,
   "id": "0ff4d084",
   "metadata": {
    "papermill": {
     "duration": null,
     "end_time": null,
     "exception": null,
     "start_time": null,
     "status": "pending"
    },
    "tags": []
   },
   "outputs": [],
   "source": [
    "df_test['Cabin'] = df_test['Cabin'].apply(lambda x: x[-1] if pd.notna(x) else x)"
   ]
  },
  {
   "cell_type": "code",
   "execution_count": null,
   "id": "52aa3141",
   "metadata": {
    "papermill": {
     "duration": null,
     "end_time": null,
     "exception": null,
     "start_time": null,
     "status": "pending"
    },
    "tags": []
   },
   "outputs": [],
   "source": [
    "print('Total number of rows:', df_test.shape[0])\n",
    "print('Number of rows without any gaps:', df_test[df_test.columns].notna().all(axis=1).sum())\n",
    "print('Number of rows with gap in any column:', df_test[df_test.columns].isna().any(axis=1).sum())\n",
    "print('Percentage of rows without any gaps:', df_test[df_test.columns].notna().all(axis=1).mean())"
   ]
  },
  {
   "cell_type": "code",
   "execution_count": null,
   "id": "e0e7ddfe",
   "metadata": {
    "papermill": {
     "duration": null,
     "end_time": null,
     "exception": null,
     "start_time": null,
     "status": "pending"
    },
    "tags": []
   },
   "outputs": [],
   "source": [
    "df_test.drop(df_test[df_test[df_test.columns].isna().any(axis=1)].index, inplace=True)\n",
    "df_test.shape[0]"
   ]
  },
  {
   "cell_type": "code",
   "execution_count": null,
   "id": "69c1ae18",
   "metadata": {
    "papermill": {
     "duration": null,
     "end_time": null,
     "exception": null,
     "start_time": null,
     "status": "pending"
    },
    "tags": []
   },
   "outputs": [],
   "source": [
    "display(df_train.dtypes.to_frame(), df_test.dtypes.to_frame())"
   ]
  },
  {
   "cell_type": "markdown",
   "id": "80cb5403",
   "metadata": {
    "papermill": {
     "duration": null,
     "end_time": null,
     "exception": null,
     "start_time": null,
     "status": "pending"
    },
    "tags": []
   },
   "source": [
    "Над test датасетом были проведены аналогичные с train манипуляции, дабы привести их к одному виду.\n",
    "\n",
    "Т.к. train set является валидационным инструментом нашей будущей модели, изменять значения в нем или добавлять их было бы скорее неправильно, т.к. тогда мы бы могли испортить реальную картину, которую показывают эти данные. Т.к. пропуски в train составляют чуть более 10% от более чем 4000 записей, удаление всех строк с пропуском в хотя бы одной из интересующих нас колонкок не приведет к значительным потерям."
   ]
  },
  {
   "cell_type": "markdown",
   "id": "211862aa",
   "metadata": {
    "papermill": {
     "duration": null,
     "end_time": null,
     "exception": null,
     "start_time": null,
     "status": "pending"
    },
    "tags": []
   },
   "source": [
    "---"
   ]
  },
  {
   "cell_type": "markdown",
   "id": "6157bb8b",
   "metadata": {
    "papermill": {
     "duration": null,
     "end_time": null,
     "exception": null,
     "start_time": null,
     "status": "pending"
    },
    "tags": []
   },
   "source": [
    "# Сохранение очищенных данных"
   ]
  },
  {
   "cell_type": "code",
   "execution_count": null,
   "id": "c748b8dd",
   "metadata": {
    "papermill": {
     "duration": null,
     "end_time": null,
     "exception": null,
     "start_time": null,
     "status": "pending"
    },
    "tags": []
   },
   "outputs": [],
   "source": [
    "path1 = 'datasets/train_cleaned.csv'\n",
    "path2 = 'datasets/test_cleaned.csv'\n",
    "\n",
    "df_train.to_csv(path1, index=False)\n",
    "df_test.to_csv(path2, index=False)"
   ]
  },
  {
   "cell_type": "code",
   "execution_count": null,
   "id": "7bf33e13",
   "metadata": {
    "papermill": {
     "duration": null,
     "end_time": null,
     "exception": null,
     "start_time": null,
     "status": "pending"
    },
    "tags": []
   },
   "outputs": [],
   "source": []
  }
 ],
 "metadata": {
  "kernelspec": {
   "display_name": "yandex",
   "language": "python",
   "name": "yandex"
  },
  "language_info": {
   "codemirror_mode": {
    "name": "ipython",
    "version": 3
   },
   "file_extension": ".py",
   "mimetype": "text/x-python",
   "name": "python",
   "nbconvert_exporter": "python",
   "pygments_lexer": "ipython3",
   "version": "3.10.13"
  },
  "papermill": {
   "default_parameters": {},
   "duration": null,
   "end_time": null,
   "environment_variables": {},
   "exception": null,
   "input_path": "D:\\Yandex_practicum\\Projects\\Data_Science\\data_cleaning.ipynb",
   "output_path": "D:\\Yandex_practicum\\Projects\\Data_Science\\data_cleaning.ipynb",
   "parameters": {},
   "start_time": "2023-12-14T22:00:57.882260",
   "version": "2.4.0"
  }
 },
 "nbformat": 4,
 "nbformat_minor": 5
}
